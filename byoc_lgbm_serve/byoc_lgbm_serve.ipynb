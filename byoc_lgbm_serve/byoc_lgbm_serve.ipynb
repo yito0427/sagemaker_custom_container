{
 "cells": [
  {
   "cell_type": "markdown",
   "id": "93465166",
   "metadata": {},
   "source": [
    "# LightGBMの推論用カスタムコンテナを構築し、SageMakerによる推論の仕組みを深く理解する\n",
    "\n",
    "このノートブックでは、LightGBMがインストールされたカスタムコンテナ構築し、SageMaker Trainingジョブで学習後、推論を行います。\n",
    "カスタムコンテナの挙動を観察し、SageMakerの推論動作について理解を深めます。\n",
    "\n",
    "ノートブックはXX分程度で実行できます。"
   ]
  },
  {
   "cell_type": "markdown",
   "id": "8bf00e6b",
   "metadata": {},
   "source": [
    "# 0.実行環境確認\n",
    "本ノートブックは、SageMakerノートブックインスタンス上で動作確認しています。\n",
    "* インスタンスタイプ：ml.t3.medium\n",
    "* カーネル：conda_python3"
   ]
  },
  {
   "cell_type": "markdown",
   "id": "6b44bf2c",
   "metadata": {},
   "source": [
    "## 0-1.pythonバージョン確認"
   ]
  },
  {
   "cell_type": "code",
   "execution_count": 2,
   "id": "d08ca894",
   "metadata": {},
   "outputs": [
    {
     "data": {
      "text/plain": [
       "'3.8.12 | packaged by conda-forge | (default, Oct 12 2021, 21:59:51) \\n[GCC 9.4.0]'"
      ]
     },
     "execution_count": 2,
     "metadata": {},
     "output_type": "execute_result"
    }
   ],
   "source": [
    "#Pythonのバージョン情報\n",
    "import sys\n",
    "sys.version # 3.8.12"
   ]
  },
  {
   "cell_type": "code",
   "execution_count": 3,
   "id": "342983a3",
   "metadata": {},
   "outputs": [
    {
     "name": "stdout",
     "output_type": "stream",
     "text": [
      "Python 3.8.12\n"
     ]
    }
   ],
   "source": [
    "# Pythonのバージョン確認 (システムコマンド使用）\n",
    "!python -V # 3.8.12"
   ]
  },
  {
   "cell_type": "markdown",
   "id": "5d9ced5c",
   "metadata": {},
   "source": [
    "## 0-2.SageMakerSDKバージョン確認\n",
    "\n",
    "Amazon SageMaker Python SDKは、Amazon SageMaker上で機械学習されたモデルをトレーニングおよびデプロイするためのオープンソースライブラリです。\n",
    "\n",
    "このSDKを使用すると、一般的な深層学習フレームワーク、Amazonが提供するアルゴリズム、またはSageMaker互換のDockerイメージに組み込まれた独自のアルゴリズムを使ってモデルをトレーニングおよびデプロイすることができます。\n",
    "\n",
    "* ドキュメント : https://sagemaker.readthedocs.io/en/stable/\n",
    "* GitHub : https://github.com/aws/sagemaker-python-sdk"
   ]
  },
  {
   "cell_type": "markdown",
   "id": "e36ef5b2",
   "metadata": {},
   "source": [
    "SageMakerSDK をインポートすると、バケットが作成されます。  \n",
    "sagemaker-＜region＞-＜account＞"
   ]
  },
  {
   "cell_type": "code",
   "execution_count": 4,
   "id": "faac7ab5",
   "metadata": {},
   "outputs": [
    {
     "name": "stdout",
     "output_type": "stream",
     "text": [
      "Current SageMaker Python SDK Version =2.112.2\n"
     ]
    }
   ],
   "source": [
    "# SageMakerSDK のバージョン確認\n",
    "import sagemaker\n",
    "print('Current SageMaker Python SDK Version ={0}'.format(sagemaker.__version__)) # 2.110.0"
   ]
  },
  {
   "cell_type": "markdown",
   "id": "d3102b90",
   "metadata": {},
   "source": [
    "# 1.データ準備\n",
    "\n",
    "学習、推論で利用するデータを準備します。\n",
    "\n",
    "scikit-learn付属の、ボストン住宅価格データセットを利用します。(注：バージョン1.2から除外されます）  \n",
    "https://scikit-learn.org/stable/modules/generated/sklearn.datasets.load_boston.html\n",
    "\n",
    "以下のスクリプトを参考にしています。\n",
    "\n",
    "https://github.com/aws-samples/amazon-sagemaker-local-mode/blob/main/lightgbm_bring_your_own_container_local_training_and_serving/lightgbm_bring_your_own_container_local_training_and_serving.py"
   ]
  },
  {
   "cell_type": "code",
   "execution_count": 5,
   "id": "6be0d77b",
   "metadata": {},
   "outputs": [
    {
     "data": {
      "text/plain": [
       "'1.0.1'"
      ]
     },
     "execution_count": 5,
     "metadata": {},
     "output_type": "execute_result"
    }
   ],
   "source": [
    "import sklearn\n",
    "sklearn.__version__ # 1.0.1"
   ]
  },
  {
   "cell_type": "code",
   "execution_count": 6,
   "id": "4d8ba416",
   "metadata": {},
   "outputs": [
    {
     "data": {
      "text/plain": [
       "'1.3.4'"
      ]
     },
     "execution_count": 6,
     "metadata": {},
     "output_type": "execute_result"
    }
   ],
   "source": [
    "import pandas as pd\n",
    "pd.__version__ # 1.3.4"
   ]
  },
  {
   "cell_type": "markdown",
   "id": "4a3e2368",
   "metadata": {},
   "source": [
    "## 1-1. データロード"
   ]
  },
  {
   "cell_type": "code",
   "execution_count": 7,
   "id": "22815e2e",
   "metadata": {},
   "outputs": [],
   "source": [
    "from sklearn.datasets import load_boston\n",
    "from sklearn.model_selection import train_test_split"
   ]
  },
  {
   "cell_type": "code",
   "execution_count": 8,
   "id": "a0351c61",
   "metadata": {},
   "outputs": [
    {
     "name": "stderr",
     "output_type": "stream",
     "text": [
      "/home/ec2-user/anaconda3/envs/python3/lib/python3.8/site-packages/sklearn/utils/deprecation.py:87: FutureWarning: Function load_boston is deprecated; `load_boston` is deprecated in 1.0 and will be removed in 1.2.\n",
      "\n",
      "    The Boston housing prices dataset has an ethical problem. You can refer to\n",
      "    the documentation of this function for further details.\n",
      "\n",
      "    The scikit-learn maintainers therefore strongly discourage the use of this\n",
      "    dataset unless the purpose of the code is to study and educate about\n",
      "    ethical issues in data science and machine learning.\n",
      "\n",
      "    In this special case, you can fetch the dataset from the original\n",
      "    source::\n",
      "\n",
      "        import pandas as pd\n",
      "        import numpy as np\n",
      "\n",
      "\n",
      "        data_url = \"http://lib.stat.cmu.edu/datasets/boston\"\n",
      "        raw_df = pd.read_csv(data_url, sep=\"\\s+\", skiprows=22, header=None)\n",
      "        data = np.hstack([raw_df.values[::2, :], raw_df.values[1::2, :2]])\n",
      "        target = raw_df.values[1::2, 2]\n",
      "\n",
      "    Alternative datasets include the California housing dataset (i.e.\n",
      "    :func:`~sklearn.datasets.fetch_california_housing`) and the Ames housing\n",
      "    dataset. You can load the datasets as follows::\n",
      "\n",
      "        from sklearn.datasets import fetch_california_housing\n",
      "        housing = fetch_california_housing()\n",
      "\n",
      "    for the California housing dataset and::\n",
      "\n",
      "        from sklearn.datasets import fetch_openml\n",
      "        housing = fetch_openml(name=\"house_prices\", as_frame=True)\n",
      "\n",
      "    for the Ames housing dataset.\n",
      "    \n",
      "  warnings.warn(msg, category=FutureWarning)\n"
     ]
    }
   ],
   "source": [
    "data = load_boston() # 1.2でデータセットがなくすという警告が出ますが動作に影響ありません"
   ]
  },
  {
   "cell_type": "markdown",
   "id": "5a083548",
   "metadata": {},
   "source": [
    "## 1-2. 特徴量生成（Feature Engineering）\n",
    "本ノートブックでは実施しません。そのままデータを利用します。"
   ]
  },
  {
   "cell_type": "markdown",
   "id": "b4faaee8",
   "metadata": {},
   "source": [
    "## 1-3. データ分割\n",
    "学習用（train）、評価用（validation）、テスト用（test）にデータを分割します。  \n",
    "train:val:test = 3(60%):1(20%):1(20%)に分割します。  "
   ]
  },
  {
   "cell_type": "code",
   "execution_count": 9,
   "id": "d1a6cacd",
   "metadata": {},
   "outputs": [],
   "source": [
    "X_train, X_test, y_train, y_test = train_test_split(data.data, data.target, test_size=0.2, random_state=45)\n",
    "X_train, X_val, y_train, y_val = train_test_split(X_train, y_train, test_size=0.25, random_state=45)\n",
    "\n",
    "trainX = pd.DataFrame(X_train, columns=data.feature_names)\n",
    "trainX['target'] = y_train\n",
    "\n",
    "valX = pd.DataFrame(X_val, columns=data.feature_names)\n",
    "valX['target'] = y_val\n",
    "\n",
    "testX = pd.DataFrame(X_test, columns=data.feature_names)"
   ]
  },
  {
   "cell_type": "code",
   "execution_count": 73,
   "id": "7669c40e",
   "metadata": {},
   "outputs": [
    {
     "data": {
      "text/html": [
       "<div>\n",
       "<style scoped>\n",
       "    .dataframe tbody tr th:only-of-type {\n",
       "        vertical-align: middle;\n",
       "    }\n",
       "\n",
       "    .dataframe tbody tr th {\n",
       "        vertical-align: top;\n",
       "    }\n",
       "\n",
       "    .dataframe thead th {\n",
       "        text-align: right;\n",
       "    }\n",
       "</style>\n",
       "<table border=\"1\" class=\"dataframe\">\n",
       "  <thead>\n",
       "    <tr style=\"text-align: right;\">\n",
       "      <th></th>\n",
       "      <th>CRIM</th>\n",
       "      <th>ZN</th>\n",
       "      <th>INDUS</th>\n",
       "      <th>CHAS</th>\n",
       "      <th>NOX</th>\n",
       "      <th>RM</th>\n",
       "      <th>AGE</th>\n",
       "      <th>DIS</th>\n",
       "      <th>RAD</th>\n",
       "      <th>TAX</th>\n",
       "      <th>PTRATIO</th>\n",
       "      <th>B</th>\n",
       "      <th>LSTAT</th>\n",
       "      <th>target</th>\n",
       "    </tr>\n",
       "  </thead>\n",
       "  <tbody>\n",
       "    <tr>\n",
       "      <th>0</th>\n",
       "      <td>0.08829</td>\n",
       "      <td>12.5</td>\n",
       "      <td>7.87</td>\n",
       "      <td>0.0</td>\n",
       "      <td>0.524</td>\n",
       "      <td>6.012</td>\n",
       "      <td>66.6</td>\n",
       "      <td>5.5605</td>\n",
       "      <td>5.0</td>\n",
       "      <td>311.0</td>\n",
       "      <td>15.2</td>\n",
       "      <td>395.60</td>\n",
       "      <td>12.43</td>\n",
       "      <td>22.9</td>\n",
       "    </tr>\n",
       "    <tr>\n",
       "      <th>1</th>\n",
       "      <td>0.33983</td>\n",
       "      <td>22.0</td>\n",
       "      <td>5.86</td>\n",
       "      <td>0.0</td>\n",
       "      <td>0.431</td>\n",
       "      <td>6.108</td>\n",
       "      <td>34.9</td>\n",
       "      <td>8.0555</td>\n",
       "      <td>7.0</td>\n",
       "      <td>330.0</td>\n",
       "      <td>19.1</td>\n",
       "      <td>390.18</td>\n",
       "      <td>9.16</td>\n",
       "      <td>24.3</td>\n",
       "    </tr>\n",
       "    <tr>\n",
       "      <th>2</th>\n",
       "      <td>0.10469</td>\n",
       "      <td>40.0</td>\n",
       "      <td>6.41</td>\n",
       "      <td>1.0</td>\n",
       "      <td>0.447</td>\n",
       "      <td>7.267</td>\n",
       "      <td>49.0</td>\n",
       "      <td>4.7872</td>\n",
       "      <td>4.0</td>\n",
       "      <td>254.0</td>\n",
       "      <td>17.6</td>\n",
       "      <td>389.25</td>\n",
       "      <td>6.05</td>\n",
       "      <td>33.2</td>\n",
       "    </tr>\n",
       "    <tr>\n",
       "      <th>3</th>\n",
       "      <td>6.80117</td>\n",
       "      <td>0.0</td>\n",
       "      <td>18.10</td>\n",
       "      <td>0.0</td>\n",
       "      <td>0.713</td>\n",
       "      <td>6.081</td>\n",
       "      <td>84.4</td>\n",
       "      <td>2.7175</td>\n",
       "      <td>24.0</td>\n",
       "      <td>666.0</td>\n",
       "      <td>20.2</td>\n",
       "      <td>396.90</td>\n",
       "      <td>14.70</td>\n",
       "      <td>20.0</td>\n",
       "    </tr>\n",
       "    <tr>\n",
       "      <th>4</th>\n",
       "      <td>1.35472</td>\n",
       "      <td>0.0</td>\n",
       "      <td>8.14</td>\n",
       "      <td>0.0</td>\n",
       "      <td>0.538</td>\n",
       "      <td>6.072</td>\n",
       "      <td>100.0</td>\n",
       "      <td>4.1750</td>\n",
       "      <td>4.0</td>\n",
       "      <td>307.0</td>\n",
       "      <td>21.0</td>\n",
       "      <td>376.73</td>\n",
       "      <td>13.04</td>\n",
       "      <td>14.5</td>\n",
       "    </tr>\n",
       "  </tbody>\n",
       "</table>\n",
       "</div>"
      ],
      "text/plain": [
       "      CRIM    ZN  INDUS  CHAS    NOX     RM    AGE     DIS   RAD    TAX  \\\n",
       "0  0.08829  12.5   7.87   0.0  0.524  6.012   66.6  5.5605   5.0  311.0   \n",
       "1  0.33983  22.0   5.86   0.0  0.431  6.108   34.9  8.0555   7.0  330.0   \n",
       "2  0.10469  40.0   6.41   1.0  0.447  7.267   49.0  4.7872   4.0  254.0   \n",
       "3  6.80117   0.0  18.10   0.0  0.713  6.081   84.4  2.7175  24.0  666.0   \n",
       "4  1.35472   0.0   8.14   0.0  0.538  6.072  100.0  4.1750   4.0  307.0   \n",
       "\n",
       "   PTRATIO       B  LSTAT  target  \n",
       "0     15.2  395.60  12.43    22.9  \n",
       "1     19.1  390.18   9.16    24.3  \n",
       "2     17.6  389.25   6.05    33.2  \n",
       "3     20.2  396.90  14.70    20.0  \n",
       "4     21.0  376.73  13.04    14.5  "
      ]
     },
     "execution_count": 73,
     "metadata": {},
     "output_type": "execute_result"
    }
   ],
   "source": [
    "# 確認\n",
    "print(trainX.shape)\n",
    "trainX.head()"
   ]
  },
  {
   "cell_type": "code",
   "execution_count": 11,
   "id": "74b6fd8d",
   "metadata": {},
   "outputs": [
    {
     "data": {
      "text/html": [
       "<div>\n",
       "<style scoped>\n",
       "    .dataframe tbody tr th:only-of-type {\n",
       "        vertical-align: middle;\n",
       "    }\n",
       "\n",
       "    .dataframe tbody tr th {\n",
       "        vertical-align: top;\n",
       "    }\n",
       "\n",
       "    .dataframe thead th {\n",
       "        text-align: right;\n",
       "    }\n",
       "</style>\n",
       "<table border=\"1\" class=\"dataframe\">\n",
       "  <thead>\n",
       "    <tr style=\"text-align: right;\">\n",
       "      <th></th>\n",
       "      <th>CRIM</th>\n",
       "      <th>ZN</th>\n",
       "      <th>INDUS</th>\n",
       "      <th>CHAS</th>\n",
       "      <th>NOX</th>\n",
       "      <th>RM</th>\n",
       "      <th>AGE</th>\n",
       "      <th>DIS</th>\n",
       "      <th>RAD</th>\n",
       "      <th>TAX</th>\n",
       "      <th>PTRATIO</th>\n",
       "      <th>B</th>\n",
       "      <th>LSTAT</th>\n",
       "      <th>target</th>\n",
       "    </tr>\n",
       "  </thead>\n",
       "  <tbody>\n",
       "    <tr>\n",
       "      <th>0</th>\n",
       "      <td>0.03150</td>\n",
       "      <td>95.0</td>\n",
       "      <td>1.47</td>\n",
       "      <td>0.0</td>\n",
       "      <td>0.403</td>\n",
       "      <td>6.975</td>\n",
       "      <td>15.3</td>\n",
       "      <td>7.6534</td>\n",
       "      <td>3.0</td>\n",
       "      <td>402.0</td>\n",
       "      <td>17.0</td>\n",
       "      <td>396.90</td>\n",
       "      <td>4.56</td>\n",
       "      <td>34.9</td>\n",
       "    </tr>\n",
       "    <tr>\n",
       "      <th>1</th>\n",
       "      <td>0.51183</td>\n",
       "      <td>0.0</td>\n",
       "      <td>6.20</td>\n",
       "      <td>0.0</td>\n",
       "      <td>0.507</td>\n",
       "      <td>7.358</td>\n",
       "      <td>71.6</td>\n",
       "      <td>4.1480</td>\n",
       "      <td>8.0</td>\n",
       "      <td>307.0</td>\n",
       "      <td>17.4</td>\n",
       "      <td>390.07</td>\n",
       "      <td>4.73</td>\n",
       "      <td>31.5</td>\n",
       "    </tr>\n",
       "    <tr>\n",
       "      <th>2</th>\n",
       "      <td>19.60910</td>\n",
       "      <td>0.0</td>\n",
       "      <td>18.10</td>\n",
       "      <td>0.0</td>\n",
       "      <td>0.671</td>\n",
       "      <td>7.313</td>\n",
       "      <td>97.9</td>\n",
       "      <td>1.3163</td>\n",
       "      <td>24.0</td>\n",
       "      <td>666.0</td>\n",
       "      <td>20.2</td>\n",
       "      <td>396.90</td>\n",
       "      <td>13.44</td>\n",
       "      <td>15.0</td>\n",
       "    </tr>\n",
       "    <tr>\n",
       "      <th>3</th>\n",
       "      <td>0.95577</td>\n",
       "      <td>0.0</td>\n",
       "      <td>8.14</td>\n",
       "      <td>0.0</td>\n",
       "      <td>0.538</td>\n",
       "      <td>6.047</td>\n",
       "      <td>88.8</td>\n",
       "      <td>4.4534</td>\n",
       "      <td>4.0</td>\n",
       "      <td>307.0</td>\n",
       "      <td>21.0</td>\n",
       "      <td>306.38</td>\n",
       "      <td>17.28</td>\n",
       "      <td>14.8</td>\n",
       "    </tr>\n",
       "    <tr>\n",
       "      <th>4</th>\n",
       "      <td>0.09604</td>\n",
       "      <td>40.0</td>\n",
       "      <td>6.41</td>\n",
       "      <td>0.0</td>\n",
       "      <td>0.447</td>\n",
       "      <td>6.854</td>\n",
       "      <td>42.8</td>\n",
       "      <td>4.2673</td>\n",
       "      <td>4.0</td>\n",
       "      <td>254.0</td>\n",
       "      <td>17.6</td>\n",
       "      <td>396.90</td>\n",
       "      <td>2.98</td>\n",
       "      <td>32.0</td>\n",
       "    </tr>\n",
       "  </tbody>\n",
       "</table>\n",
       "</div>"
      ],
      "text/plain": [
       "       CRIM    ZN  INDUS  CHAS    NOX     RM   AGE     DIS   RAD    TAX  \\\n",
       "0   0.03150  95.0   1.47   0.0  0.403  6.975  15.3  7.6534   3.0  402.0   \n",
       "1   0.51183   0.0   6.20   0.0  0.507  7.358  71.6  4.1480   8.0  307.0   \n",
       "2  19.60910   0.0  18.10   0.0  0.671  7.313  97.9  1.3163  24.0  666.0   \n",
       "3   0.95577   0.0   8.14   0.0  0.538  6.047  88.8  4.4534   4.0  307.0   \n",
       "4   0.09604  40.0   6.41   0.0  0.447  6.854  42.8  4.2673   4.0  254.0   \n",
       "\n",
       "   PTRATIO       B  LSTAT  target  \n",
       "0     17.0  396.90   4.56    34.9  \n",
       "1     17.4  390.07   4.73    31.5  \n",
       "2     20.2  396.90  13.44    15.0  \n",
       "3     21.0  306.38  17.28    14.8  \n",
       "4     17.6  396.90   2.98    32.0  "
      ]
     },
     "execution_count": 11,
     "metadata": {},
     "output_type": "execute_result"
    }
   ],
   "source": [
    "# 確認\n",
    "print(valX.shape)\n",
    "valX.head()"
   ]
  },
  {
   "cell_type": "code",
   "execution_count": 12,
   "id": "e8e8b72c",
   "metadata": {},
   "outputs": [
    {
     "data": {
      "text/html": [
       "<div>\n",
       "<style scoped>\n",
       "    .dataframe tbody tr th:only-of-type {\n",
       "        vertical-align: middle;\n",
       "    }\n",
       "\n",
       "    .dataframe tbody tr th {\n",
       "        vertical-align: top;\n",
       "    }\n",
       "\n",
       "    .dataframe thead th {\n",
       "        text-align: right;\n",
       "    }\n",
       "</style>\n",
       "<table border=\"1\" class=\"dataframe\">\n",
       "  <thead>\n",
       "    <tr style=\"text-align: right;\">\n",
       "      <th></th>\n",
       "      <th>CRIM</th>\n",
       "      <th>ZN</th>\n",
       "      <th>INDUS</th>\n",
       "      <th>CHAS</th>\n",
       "      <th>NOX</th>\n",
       "      <th>RM</th>\n",
       "      <th>AGE</th>\n",
       "      <th>DIS</th>\n",
       "      <th>RAD</th>\n",
       "      <th>TAX</th>\n",
       "      <th>PTRATIO</th>\n",
       "      <th>B</th>\n",
       "      <th>LSTAT</th>\n",
       "    </tr>\n",
       "  </thead>\n",
       "  <tbody>\n",
       "    <tr>\n",
       "      <th>0</th>\n",
       "      <td>0.25387</td>\n",
       "      <td>0.0</td>\n",
       "      <td>6.91</td>\n",
       "      <td>0.0</td>\n",
       "      <td>0.4480</td>\n",
       "      <td>5.399</td>\n",
       "      <td>95.3</td>\n",
       "      <td>5.8700</td>\n",
       "      <td>3.0</td>\n",
       "      <td>233.0</td>\n",
       "      <td>17.9</td>\n",
       "      <td>396.90</td>\n",
       "      <td>30.81</td>\n",
       "    </tr>\n",
       "    <tr>\n",
       "      <th>1</th>\n",
       "      <td>0.01951</td>\n",
       "      <td>17.5</td>\n",
       "      <td>1.38</td>\n",
       "      <td>0.0</td>\n",
       "      <td>0.4161</td>\n",
       "      <td>7.104</td>\n",
       "      <td>59.5</td>\n",
       "      <td>9.2229</td>\n",
       "      <td>3.0</td>\n",
       "      <td>216.0</td>\n",
       "      <td>18.6</td>\n",
       "      <td>393.24</td>\n",
       "      <td>8.05</td>\n",
       "    </tr>\n",
       "    <tr>\n",
       "      <th>2</th>\n",
       "      <td>4.64689</td>\n",
       "      <td>0.0</td>\n",
       "      <td>18.10</td>\n",
       "      <td>0.0</td>\n",
       "      <td>0.6140</td>\n",
       "      <td>6.980</td>\n",
       "      <td>67.6</td>\n",
       "      <td>2.5329</td>\n",
       "      <td>24.0</td>\n",
       "      <td>666.0</td>\n",
       "      <td>20.2</td>\n",
       "      <td>374.68</td>\n",
       "      <td>11.66</td>\n",
       "    </tr>\n",
       "    <tr>\n",
       "      <th>3</th>\n",
       "      <td>3.67367</td>\n",
       "      <td>0.0</td>\n",
       "      <td>18.10</td>\n",
       "      <td>0.0</td>\n",
       "      <td>0.5830</td>\n",
       "      <td>6.312</td>\n",
       "      <td>51.9</td>\n",
       "      <td>3.9917</td>\n",
       "      <td>24.0</td>\n",
       "      <td>666.0</td>\n",
       "      <td>20.2</td>\n",
       "      <td>388.62</td>\n",
       "      <td>10.58</td>\n",
       "    </tr>\n",
       "    <tr>\n",
       "      <th>4</th>\n",
       "      <td>0.29819</td>\n",
       "      <td>0.0</td>\n",
       "      <td>6.20</td>\n",
       "      <td>0.0</td>\n",
       "      <td>0.5040</td>\n",
       "      <td>7.686</td>\n",
       "      <td>17.0</td>\n",
       "      <td>3.3751</td>\n",
       "      <td>8.0</td>\n",
       "      <td>307.0</td>\n",
       "      <td>17.4</td>\n",
       "      <td>377.51</td>\n",
       "      <td>3.92</td>\n",
       "    </tr>\n",
       "  </tbody>\n",
       "</table>\n",
       "</div>"
      ],
      "text/plain": [
       "      CRIM    ZN  INDUS  CHAS     NOX     RM   AGE     DIS   RAD    TAX  \\\n",
       "0  0.25387   0.0   6.91   0.0  0.4480  5.399  95.3  5.8700   3.0  233.0   \n",
       "1  0.01951  17.5   1.38   0.0  0.4161  7.104  59.5  9.2229   3.0  216.0   \n",
       "2  4.64689   0.0  18.10   0.0  0.6140  6.980  67.6  2.5329  24.0  666.0   \n",
       "3  3.67367   0.0  18.10   0.0  0.5830  6.312  51.9  3.9917  24.0  666.0   \n",
       "4  0.29819   0.0   6.20   0.0  0.5040  7.686  17.0  3.3751   8.0  307.0   \n",
       "\n",
       "   PTRATIO       B  LSTAT  \n",
       "0     17.9  396.90  30.81  \n",
       "1     18.6  393.24   8.05  \n",
       "2     20.2  374.68  11.66  \n",
       "3     20.2  388.62  10.58  \n",
       "4     17.4  377.51   3.92  "
      ]
     },
     "execution_count": 12,
     "metadata": {},
     "output_type": "execute_result"
    }
   ],
   "source": [
    "# 確認\n",
    "print(testX.shape)\n",
    "testX.head()"
   ]
  },
  {
   "cell_type": "code",
   "execution_count": 13,
   "id": "dfc7743a",
   "metadata": {},
   "outputs": [
    {
     "data": {
      "text/plain": [
       "array([14.4, 33. , 29.8, 21.2, 46.7])"
      ]
     },
     "execution_count": 13,
     "metadata": {},
     "output_type": "execute_result"
    }
   ],
   "source": [
    "# 確認\n",
    "y_test[0:5]"
   ]
  },
  {
   "cell_type": "markdown",
   "id": "9028d036",
   "metadata": {},
   "source": [
    "## 1-4.データ保存\n",
    "ローカル、S3それぞれにデータを保存します。"
   ]
  },
  {
   "cell_type": "markdown",
   "id": "56d37cf6",
   "metadata": {},
   "source": [
    "### 1-4-1.ローカルへ保存"
   ]
  },
  {
   "cell_type": "code",
   "execution_count": 14,
   "id": "1db9c09f",
   "metadata": {},
   "outputs": [],
   "source": [
    "# ディレクトリ作成\n",
    "from pathlib import Path\n",
    "\n",
    "Path('./data/train').mkdir(parents=True, exist_ok=True)\n",
    "Path('./data/valid').mkdir(parents=True, exist_ok=True)\n",
    "Path('./data/test').mkdir(parents=True, exist_ok=True)"
   ]
  },
  {
   "cell_type": "code",
   "execution_count": 15,
   "id": "62a87a9e",
   "metadata": {},
   "outputs": [],
   "source": [
    "# ローカルへ保存\n",
    "local_train = './data/train/boston_train.csv'\n",
    "local_valid = './data/valid/boston_valid.csv'\n",
    "local_test = './data/test/boston_test.csv'\n",
    "\n",
    "trainX.to_csv(local_train, header=None, index=False)\n",
    "valX.to_csv(local_valid, header=None, index=False)\n",
    "testX.to_csv(local_test, header=None, index=False)"
   ]
  },
  {
   "cell_type": "markdown",
   "id": "0434959d",
   "metadata": {},
   "source": [
    "### 1-4-2.S3へ保存\n",
    "\n",
    "一意のバケット作成のために、sgemaker.Session().default_bucket()を利用します。\n",
    "\n",
    "https://sagemaker.readthedocs.io/en/stable/api/utility/session.html#sagemaker.session.Session\n",
    "\n",
    "sagemaker-＜region＞-＜accoutid＞　を取得することができます。"
   ]
  },
  {
   "cell_type": "code",
   "execution_count": 16,
   "id": "a23480d4",
   "metadata": {},
   "outputs": [],
   "source": [
    "bucket_name = sagemaker.Session().default_bucket()\n",
    "region_name = sagemaker.Session().boto_region_name\n",
    "account_id =  sagemaker.Session().account_id()"
   ]
  },
  {
   "cell_type": "code",
   "execution_count": 17,
   "id": "74fc6e1b",
   "metadata": {},
   "outputs": [
    {
     "name": "stdout",
     "output_type": "stream",
     "text": [
      "sagemaker-ap-northeast-1-390731033655\n",
      "ap-northeast-1\n",
      "390731033655\n"
     ]
    }
   ],
   "source": [
    "# 確認\n",
    "print(bucket_name)\n",
    "print(region_name)\n",
    "print(account_id)"
   ]
  },
  {
   "cell_type": "code",
   "execution_count": 18,
   "id": "960b4818",
   "metadata": {},
   "outputs": [],
   "source": [
    "# バケット作成(SageMakerSDKのインポート時作成されています。他のバケット作成時に利用ください)\n",
    "#import boto3\n",
    "\n",
    "#s3_resource = boto3.resource('s3')\n",
    "#s3_resource.create_bucket(Bucket=bucket_name, CreateBucketConfiguration={'LocationConstraint': region_name})"
   ]
  },
  {
   "cell_type": "code",
   "execution_count": 19,
   "id": "afa47278",
   "metadata": {},
   "outputs": [],
   "source": [
    "# S3へ保存\n",
    "train_s3 = sagemaker.s3.S3Uploader.upload('./data/train/boston_train.csv', f's3://{bucket_name}/demo_lightgbm/train')\n",
    "valid_s3 = sagemaker.s3.S3Uploader.upload('./data/valid/boston_valid.csv', f's3://{bucket_name}/demo_lightgbm/valid')"
   ]
  },
  {
   "cell_type": "code",
   "execution_count": 74,
   "id": "effe6aeb",
   "metadata": {},
   "outputs": [
    {
     "name": "stdout",
     "output_type": "stream",
     "text": [
      "s3://sagemaker-ap-northeast-1-390731033655/demo_lightgbm/train/boston_train.csv\n",
      "s3://sagemaker-ap-northeast-1-390731033655/demo_lightgbm/valid/boston_valid.csv\n"
     ]
    }
   ],
   "source": [
    "# 確認:格納したS3のURIが返されています\n",
    "print(train_s3)\n",
    "print(valid_s3)"
   ]
  },
  {
   "cell_type": "markdown",
   "id": "d087aae9",
   "metadata": {},
   "source": [
    "# 2.LightGBMカスタムコンテナの構築\n",
    "\n",
    "\n",
    "学習用のカスタムコンテナの作成には大きく分けて3つのパターンがあります。詳細は以下のブログを参考ください。\n",
    "\n",
    "https://aws.amazon.com/jp/blogs/news/sagemaker-custom-containers-pattern-training/\n",
    "\n",
    "まずはSageMakerの動作を理解するためにベースイメージ(ubuntu:16.04) + カスタムレイヤー方式を採用します。"
   ]
  },
  {
   "cell_type": "markdown",
   "id": "8bc7e306",
   "metadata": {},
   "source": [
    "## 2-1. Dockerfileの確認\n",
    "\n",
    "資材はこちらのノートブックを参考に準備しています。\n",
    "\n",
    "https://github.com/aws-samples/amazon-sagemaker-local-mode/tree/main/lightgbm_bring_your_own_container_local_training_and_serving/container"
   ]
  },
  {
   "cell_type": "markdown",
   "id": "ce828374",
   "metadata": {},
   "source": [
    "まずは、Dockerfileを確認します。"
   ]
  },
  {
   "cell_type": "code",
   "execution_count": 20,
   "id": "567f18e5",
   "metadata": {},
   "outputs": [
    {
     "name": "stdout",
     "output_type": "stream",
     "text": [
      "\u001b[37m# Build an image that can do training and inference in SageMaker\u001b[39;49;00m\n",
      "\u001b[37m# This is a Python 2 image that uses the nginx, gunicorn, flask stack\u001b[39;49;00m\n",
      "\u001b[37m# for serving inferences in a stable way.\u001b[39;49;00m\n",
      "\n",
      "\u001b[34mFROM\u001b[39;49;00m \u001b[33mubuntu:16.04\u001b[39;49;00m\n",
      "\n",
      "\u001b[34mMAINTAINER\u001b[39;49;00m\u001b[33m Amazon AI <sage-learner@amazon.com>\u001b[39;49;00m\n",
      "\n",
      "\u001b[34mARG\u001b[39;49;00m \u001b[31mCONDA_DIR\u001b[39;49;00m=/opt/conda\n",
      "\u001b[34mENV\u001b[39;49;00m PATH \u001b[31m$CONDA_DIR\u001b[39;49;00m/bin:\u001b[31m$PATH\u001b[39;49;00m\n",
      "\n",
      "\u001b[34mRUN\u001b[39;49;00m apt-get update && \u001b[33m\\\u001b[39;49;00m\n",
      "    apt-get install -y --no-install-recommends \u001b[33m\\\u001b[39;49;00m\n",
      "        ca-certificates \u001b[33m\\\u001b[39;49;00m\n",
      "        cmake \u001b[33m\\\u001b[39;49;00m\n",
      "        build-essential \u001b[33m\\\u001b[39;49;00m\n",
      "        gcc \u001b[33m\\\u001b[39;49;00m\n",
      "        g++ \u001b[33m\\\u001b[39;49;00m\n",
      "        git \u001b[33m\\\u001b[39;49;00m\n",
      "        nginx \u001b[33m\\\u001b[39;49;00m\n",
      "        wget && \u001b[33m\\\u001b[39;49;00m\n",
      "    # python environment\n",
      "    wget https://repo.anaconda.com/miniconda/Miniconda3-latest-Linux-x86_64.sh && \u001b[33m\\\u001b[39;49;00m\n",
      "    /bin/bash Miniconda3-latest-Linux-x86_64.sh -f -b -p \u001b[31m$CONDA_DIR\u001b[39;49;00m && \u001b[33m\\\u001b[39;49;00m\n",
      "    \u001b[36mexport\u001b[39;49;00m \u001b[31mPATH\u001b[39;49;00m=\u001b[33m\"\u001b[39;49;00m\u001b[31m$CONDA_DIR\u001b[39;49;00m\u001b[33m/bin:\u001b[39;49;00m\u001b[31m$PATH\u001b[39;49;00m\u001b[33m\"\u001b[39;49;00m && \u001b[33m\\\u001b[39;49;00m\n",
      "    conda config --set always_yes yes --set changeps1 no && \u001b[33m\\\u001b[39;49;00m\n",
      "    # lightgbm\n",
      "    conda install -q -y numpy scipy scikit-learn pandas flask gevent gunicorn && \u001b[33m\\\u001b[39;49;00m\n",
      "    git clone --recursive --branch stable --depth \u001b[34m1\u001b[39;49;00m https://github.com/Microsoft/LightGBM && \u001b[33m\\\u001b[39;49;00m\n",
      "    \u001b[36mcd\u001b[39;49;00m LightGBM/python-package && python setup.py install && \u001b[33m\\\u001b[39;49;00m\n",
      "    # clean\n",
      "    apt-get autoremove -y && apt-get clean && \u001b[33m\\\u001b[39;49;00m\n",
      "    conda clean -a -y && \u001b[33m\\\u001b[39;49;00m\n",
      "    rm -rf /usr/local/src/*\n",
      "\n",
      "\n",
      "\u001b[34mENV\u001b[39;49;00m \u001b[31mPYTHONUNBUFFERED\u001b[39;49;00m=TRUE\n",
      "\u001b[34mENV\u001b[39;49;00m \u001b[31mPYTHONDONTWRITEBYTECODE\u001b[39;49;00m=TRUE\n",
      "\u001b[34mENV\u001b[39;49;00m \u001b[31mPATH\u001b[39;49;00m=\u001b[33m\"\u001b[39;49;00m\u001b[33m/opt/program:\u001b[39;49;00m\u001b[33m${\u001b[39;49;00m\u001b[31mPATH\u001b[39;49;00m\u001b[33m}\u001b[39;49;00m\u001b[33m\"\u001b[39;49;00m\n",
      "\n",
      "\u001b[37m# Set up the program in the image\u001b[39;49;00m\n",
      "\u001b[34mCOPY\u001b[39;49;00m lightgbm_regression /opt/program\n",
      "\u001b[34mWORKDIR\u001b[39;49;00m\u001b[33m /opt/program\u001b[39;49;00m\n"
     ]
    }
   ],
   "source": [
    "!pygmentize ./container/Dockerfile"
   ]
  },
  {
   "cell_type": "markdown",
   "id": "99f83647",
   "metadata": {},
   "source": [
    "### 解説：推論エンドポイント構築時のSageMakerの動作\n",
    "SageMakerの推論エンドポイントのデプロイは、SageMaker SDKでは、deploy()メソッドで実行します。\n",
    "\n",
    "https://docs.aws.amazon.com/sagemaker/latest/dg/your-algorithms-inference-code.html\n",
    "\n",
    "その際に、SageMakerは以下のコマンドを実行します。\n",
    "\n",
    "docker run < Docker image > server\n",
    "\n",
    "今回のカスタムコンテナでは、 /opt/program に配置した serve スクリプトが実行されます。\n",
    "\n",
    "serveスクリプトを確認してみましょう。"
   ]
  },
  {
   "cell_type": "code",
   "execution_count": 75,
   "id": "8b57ca08",
   "metadata": {},
   "outputs": [
    {
     "name": "stdout",
     "output_type": "stream",
     "text": [
      "\u001b[37m#!/usr/bin/env python\u001b[39;49;00m\n",
      "\n",
      "\u001b[37m# This file implements the scoring service shell. You don't necessarily need to modify it for various\u001b[39;49;00m\n",
      "\u001b[37m# algorithms. It starts nginx and gunicorn with the correct configurations and then simply waits until\u001b[39;49;00m\n",
      "\u001b[37m# gunicorn exits.\u001b[39;49;00m\n",
      "\u001b[37m#\u001b[39;49;00m\n",
      "\u001b[37m# The flask server is specified to be the app object in wsgi.py\u001b[39;49;00m\n",
      "\u001b[37m#\u001b[39;49;00m\n",
      "\u001b[37m# We set the following parameters:\u001b[39;49;00m\n",
      "\u001b[37m#\u001b[39;49;00m\n",
      "\u001b[37m# Parameter                Environment Variable              Default Value\u001b[39;49;00m\n",
      "\u001b[37m# ---------                --------------------              -------------\u001b[39;49;00m\n",
      "\u001b[37m# number of workers        MODEL_SERVER_WORKERS              the number of CPU cores\u001b[39;49;00m\n",
      "\u001b[37m# timeout                  MODEL_SERVER_TIMEOUT              60 seconds\u001b[39;49;00m\n",
      "\n",
      "\u001b[34mfrom\u001b[39;49;00m \u001b[04m\u001b[36m__future__\u001b[39;49;00m \u001b[34mimport\u001b[39;49;00m print_function\n",
      "\u001b[34mimport\u001b[39;49;00m \u001b[04m\u001b[36mmultiprocessing\u001b[39;49;00m\n",
      "\u001b[34mimport\u001b[39;49;00m \u001b[04m\u001b[36mos\u001b[39;49;00m\n",
      "\u001b[34mimport\u001b[39;49;00m \u001b[04m\u001b[36msignal\u001b[39;49;00m\n",
      "\u001b[34mimport\u001b[39;49;00m \u001b[04m\u001b[36msubprocess\u001b[39;49;00m\n",
      "\u001b[34mimport\u001b[39;49;00m \u001b[04m\u001b[36msys\u001b[39;49;00m\n",
      "\n",
      "cpu_count = multiprocessing.cpu_count()\n",
      "\n",
      "model_server_timeout = os.environ.get(\u001b[33m'\u001b[39;49;00m\u001b[33mMODEL_SERVER_TIMEOUT\u001b[39;49;00m\u001b[33m'\u001b[39;49;00m, \u001b[34m60\u001b[39;49;00m)\n",
      "model_server_workers = \u001b[36mint\u001b[39;49;00m(os.environ.get(\u001b[33m'\u001b[39;49;00m\u001b[33mMODEL_SERVER_WORKERS\u001b[39;49;00m\u001b[33m'\u001b[39;49;00m, cpu_count))\n",
      "\n",
      "\u001b[34mdef\u001b[39;49;00m \u001b[32msigterm_handler\u001b[39;49;00m(nginx_pid, gunicorn_pid):\n",
      "    \u001b[34mtry\u001b[39;49;00m:\n",
      "        os.kill(nginx_pid, signal.SIGQUIT)\n",
      "    \u001b[34mexcept\u001b[39;49;00m \u001b[36mOSError\u001b[39;49;00m:\n",
      "        \u001b[34mpass\u001b[39;49;00m\n",
      "    \u001b[34mtry\u001b[39;49;00m:\n",
      "        os.kill(gunicorn_pid, signal.SIGTERM)\n",
      "    \u001b[34mexcept\u001b[39;49;00m \u001b[36mOSError\u001b[39;49;00m:\n",
      "        \u001b[34mpass\u001b[39;49;00m\n",
      "\n",
      "    sys.exit(\u001b[34m0\u001b[39;49;00m)\n",
      "\n",
      "\u001b[34mdef\u001b[39;49;00m \u001b[32mstart_server\u001b[39;49;00m():\n",
      "    \u001b[36mprint\u001b[39;49;00m(\u001b[33m'\u001b[39;49;00m\u001b[33mStarting the inference server with \u001b[39;49;00m\u001b[33m{}\u001b[39;49;00m\u001b[33m workers.\u001b[39;49;00m\u001b[33m'\u001b[39;49;00m.format(model_server_workers))\n",
      "\n",
      "\n",
      "    \u001b[37m# link the log streams to stdout/err so they will be logged to the container logs\u001b[39;49;00m\n",
      "    subprocess.check_call([\u001b[33m'\u001b[39;49;00m\u001b[33mln\u001b[39;49;00m\u001b[33m'\u001b[39;49;00m, \u001b[33m'\u001b[39;49;00m\u001b[33m-sf\u001b[39;49;00m\u001b[33m'\u001b[39;49;00m, \u001b[33m'\u001b[39;49;00m\u001b[33m/dev/stdout\u001b[39;49;00m\u001b[33m'\u001b[39;49;00m, \u001b[33m'\u001b[39;49;00m\u001b[33m/var/log/nginx/access.log\u001b[39;49;00m\u001b[33m'\u001b[39;49;00m])\n",
      "    subprocess.check_call([\u001b[33m'\u001b[39;49;00m\u001b[33mln\u001b[39;49;00m\u001b[33m'\u001b[39;49;00m, \u001b[33m'\u001b[39;49;00m\u001b[33m-sf\u001b[39;49;00m\u001b[33m'\u001b[39;49;00m, \u001b[33m'\u001b[39;49;00m\u001b[33m/dev/stderr\u001b[39;49;00m\u001b[33m'\u001b[39;49;00m, \u001b[33m'\u001b[39;49;00m\u001b[33m/var/log/nginx/error.log\u001b[39;49;00m\u001b[33m'\u001b[39;49;00m])\n",
      "\n",
      "    nginx = subprocess.Popen([\u001b[33m'\u001b[39;49;00m\u001b[33mnginx\u001b[39;49;00m\u001b[33m'\u001b[39;49;00m, \u001b[33m'\u001b[39;49;00m\u001b[33m-c\u001b[39;49;00m\u001b[33m'\u001b[39;49;00m, \u001b[33m'\u001b[39;49;00m\u001b[33m/opt/program/nginx.conf\u001b[39;49;00m\u001b[33m'\u001b[39;49;00m])\n",
      "    gunicorn = subprocess.Popen([\u001b[33m'\u001b[39;49;00m\u001b[33mgunicorn\u001b[39;49;00m\u001b[33m'\u001b[39;49;00m,\n",
      "                                 \u001b[33m'\u001b[39;49;00m\u001b[33m--timeout\u001b[39;49;00m\u001b[33m'\u001b[39;49;00m, \u001b[36mstr\u001b[39;49;00m(model_server_timeout),\n",
      "                                 \u001b[33m'\u001b[39;49;00m\u001b[33m-k\u001b[39;49;00m\u001b[33m'\u001b[39;49;00m, \u001b[33m'\u001b[39;49;00m\u001b[33mgevent\u001b[39;49;00m\u001b[33m'\u001b[39;49;00m,\n",
      "                                 \u001b[33m'\u001b[39;49;00m\u001b[33m-b\u001b[39;49;00m\u001b[33m'\u001b[39;49;00m, \u001b[33m'\u001b[39;49;00m\u001b[33munix:/tmp/gunicorn.sock\u001b[39;49;00m\u001b[33m'\u001b[39;49;00m,\n",
      "                                 \u001b[33m'\u001b[39;49;00m\u001b[33m-w\u001b[39;49;00m\u001b[33m'\u001b[39;49;00m, \u001b[36mstr\u001b[39;49;00m(model_server_workers),\n",
      "                                 \u001b[33m'\u001b[39;49;00m\u001b[33mwsgi:app\u001b[39;49;00m\u001b[33m'\u001b[39;49;00m])\n",
      "\n",
      "    signal.signal(signal.SIGTERM, \u001b[34mlambda\u001b[39;49;00m a, b: sigterm_handler(nginx.pid, gunicorn.pid))\n",
      "\n",
      "    \u001b[37m# If either subprocess exits, so do we.\u001b[39;49;00m\n",
      "    pids = \u001b[36mset\u001b[39;49;00m([nginx.pid, gunicorn.pid])\n",
      "    \u001b[34mwhile\u001b[39;49;00m \u001b[34mTrue\u001b[39;49;00m:\n",
      "        pid, _ = os.wait()\n",
      "        \u001b[34mif\u001b[39;49;00m pid \u001b[35min\u001b[39;49;00m pids:\n",
      "            \u001b[34mbreak\u001b[39;49;00m\n",
      "\n",
      "    sigterm_handler(nginx.pid, gunicorn.pid)\n",
      "    \u001b[36mprint\u001b[39;49;00m(\u001b[33m'\u001b[39;49;00m\u001b[33mInference server exiting\u001b[39;49;00m\u001b[33m'\u001b[39;49;00m)\n",
      "\n",
      "\u001b[37m# The main routine just invokes the start function.\u001b[39;49;00m\n",
      "\n",
      "\u001b[34mif\u001b[39;49;00m \u001b[31m__name__\u001b[39;49;00m == \u001b[33m'\u001b[39;49;00m\u001b[33m__main__\u001b[39;49;00m\u001b[33m'\u001b[39;49;00m:\n",
      "    start_server()\n"
     ]
    }
   ],
   "source": [
    "!pygmentize -l py ./container/lightgbm_regression/serve"
   ]
  },
  {
   "cell_type": "markdown",
   "id": "2745197e",
   "metadata": {},
   "source": [
    "末尾の start_server() を実行しており、start_server()では以下が行われます。\n",
    "\n",
    "* nginxの起動（Webサーバ/リバースプロキシの役割）\n",
    "    * nginx.confを読み込みます。\n",
    "* gunicornの起動（Applicationサーバの役割）\n",
    "    * gunicornの起動コマンド引数に'wsgi:app'とあるように、wsgiモジュールwsgi.pyの、appアプリケーションを読み込みます。"
   ]
  },
  {
   "cell_type": "markdown",
   "id": "d65a7e3d",
   "metadata": {},
   "source": [
    "nginx.confを確認します。"
   ]
  },
  {
   "cell_type": "code",
   "execution_count": 76,
   "id": "097225fe",
   "metadata": {},
   "outputs": [
    {
     "name": "stdout",
     "output_type": "stream",
     "text": [
      "\u001b[34mworker_processes\u001b[39;49;00m \u001b[34m1\u001b[39;49;00m;\n",
      "\u001b[34mdaemon\u001b[39;49;00m \u001b[31moff\u001b[39;49;00m; \u001b[37m# Prevent forking\u001b[39;49;00m\n",
      "\n",
      "\n",
      "\u001b[34mpid\u001b[39;49;00m \u001b[33m/tmp/nginx.pid\u001b[39;49;00m;\n",
      "\u001b[34merror_log\u001b[39;49;00m \u001b[33m/var/log/nginx/error.log\u001b[39;49;00m;\n",
      "\n",
      "\u001b[34mevents\u001b[39;49;00m {\n",
      "  \u001b[37m# defaults\u001b[39;49;00m\n",
      "}\n",
      "\n",
      "\u001b[34mhttp\u001b[39;49;00m {\n",
      "  \u001b[34minclude\u001b[39;49;00m \u001b[33m/etc/nginx/mime.types\u001b[39;49;00m;\n",
      "  \u001b[34mdefault_type\u001b[39;49;00m \u001b[33mapplication/octet-stream\u001b[39;49;00m;\n",
      "  \u001b[34maccess_log\u001b[39;49;00m \u001b[33m/var/log/nginx/access.log\u001b[39;49;00m \u001b[33mcombined\u001b[39;49;00m;\n",
      "\n",
      "  \u001b[34mupstream\u001b[39;49;00m \u001b[33mgunicorn\u001b[39;49;00m {\n",
      "    \u001b[34mserver\u001b[39;49;00m \u001b[33munix:/tmp/gunicorn.sock\u001b[39;49;00m;\n",
      "  }\n",
      "\n",
      "  \u001b[34mserver\u001b[39;49;00m {\n",
      "    \u001b[34mlisten\u001b[39;49;00m \u001b[34m8080\u001b[39;49;00m \u001b[33mdeferred\u001b[39;49;00m;\n",
      "    \u001b[34mclient_max_body_size\u001b[39;49;00m \u001b[34m5m\u001b[39;49;00m;\n",
      "\n",
      "    \u001b[34mkeepalive_timeout\u001b[39;49;00m \u001b[34m5\u001b[39;49;00m;\n",
      "    \u001b[34mproxy_read_timeout\u001b[39;49;00m \u001b[33m1200s\u001b[39;49;00m;\n",
      "\n",
      "    \u001b[34mlocation\u001b[39;49;00m ~ \u001b[33m^/(ping|invocations)\u001b[39;49;00m {\n",
      "      \u001b[34mproxy_set_header\u001b[39;49;00m \u001b[33mX-Forwarded-For\u001b[39;49;00m \u001b[31m$proxy_add_x_forwarded_for\u001b[39;49;00m;\n",
      "      \u001b[34mproxy_set_header\u001b[39;49;00m \u001b[33mHost\u001b[39;49;00m \u001b[31m$http_host\u001b[39;49;00m;\n",
      "      \u001b[34mproxy_redirect\u001b[39;49;00m \u001b[31moff\u001b[39;49;00m;\n",
      "      \u001b[34mproxy_pass\u001b[39;49;00m \u001b[33mhttp://gunicorn\u001b[39;49;00m;\n",
      "    }\n",
      "\n",
      "    \u001b[34mlocation\u001b[39;49;00m \u001b[33m/\u001b[39;49;00m {\n",
      "      \u001b[34mreturn\u001b[39;49;00m \u001b[34m404\u001b[39;49;00m \u001b[33m\"\u001b[39;49;00m{}\u001b[34m\"\u001b[39;49;00m;\n",
      "    }\n",
      "  }\n",
      "}\n"
     ]
    }
   ],
   "source": [
    "!pygmentize ./container/lightgbm_regression/nginx.conf"
   ]
  },
  {
   "cell_type": "markdown",
   "id": "6c47061b",
   "metadata": {},
   "source": [
    "SageMakerから受け取った /ping と /invocations リクエストを上記で設定したgunicornに渡します。\n",
    "以下に記載があるように、ポート8080を利用する必要があります。\n",
    "\n",
    "https://docs.aws.amazon.com/sagemaker/latest/dg/your-algorithms-inference-code.html\n",
    "\n",
    "How Containers Serve Requests  \n",
    "Containers need to implement a web server that responds to /invocations and /ping on port 8080."
   ]
  },
  {
   "cell_type": "markdown",
   "id": "1daa6d0b",
   "metadata": {},
   "source": [
    "次に、gunicornへのアプリケーションのキック用に使われるファイル wsgi.pyを確認します。\n",
    "\n",
    "predictor.py の、appを読み込んでいることがわかります。"
   ]
  },
  {
   "cell_type": "code",
   "execution_count": 77,
   "id": "9e14622c",
   "metadata": {},
   "outputs": [
    {
     "name": "stdout",
     "output_type": "stream",
     "text": [
      "\u001b[34mimport\u001b[39;49;00m \u001b[04m\u001b[36mpredictor\u001b[39;49;00m \u001b[34mas\u001b[39;49;00m \u001b[04m\u001b[36mmyapp\u001b[39;49;00m\n",
      "\n",
      "\u001b[37m# This is just a simple wrapper for gunicorn to find your app.\u001b[39;49;00m\n",
      "\u001b[37m# If you want to change the algorithm file, simply change \"predictor\" above to the\u001b[39;49;00m\n",
      "\u001b[37m# new file.\u001b[39;49;00m\n",
      "\n",
      "app = myapp.app\n"
     ]
    }
   ],
   "source": [
    "!pygmentize ./container/lightgbm_regression/wsgi.py"
   ]
  },
  {
   "cell_type": "markdown",
   "id": "2c8ff6d6",
   "metadata": {},
   "source": [
    "predictor.py を確認します。\n",
    "\n",
    "flaskフレームワークを用いて、/ping, /invocations に対する処理を実装していることがわかります。"
   ]
  },
  {
   "cell_type": "code",
   "execution_count": 24,
   "id": "8acffee4",
   "metadata": {},
   "outputs": [
    {
     "name": "stdout",
     "output_type": "stream",
     "text": [
      "\u001b[37m# This is the file that implements a flask server to do inferences. It's the file that you will modify to\u001b[39;49;00m\n",
      "\u001b[37m# implement the scoring for your own algorithm.\u001b[39;49;00m\n",
      "\n",
      "\u001b[34mfrom\u001b[39;49;00m \u001b[04m\u001b[36m__future__\u001b[39;49;00m \u001b[34mimport\u001b[39;49;00m print_function\n",
      "\n",
      "\u001b[34mimport\u001b[39;49;00m \u001b[04m\u001b[36mos\u001b[39;49;00m\n",
      "\u001b[34mimport\u001b[39;49;00m \u001b[04m\u001b[36mjson\u001b[39;49;00m\n",
      "\u001b[34mimport\u001b[39;49;00m \u001b[04m\u001b[36mpickle\u001b[39;49;00m\n",
      "\u001b[34mimport\u001b[39;49;00m \u001b[04m\u001b[36msys\u001b[39;49;00m\n",
      "\u001b[34mimport\u001b[39;49;00m \u001b[04m\u001b[36msignal\u001b[39;49;00m\n",
      "\u001b[34mimport\u001b[39;49;00m \u001b[04m\u001b[36mtraceback\u001b[39;49;00m\n",
      "\u001b[34mimport\u001b[39;49;00m \u001b[04m\u001b[36mio\u001b[39;49;00m\n",
      "\u001b[34mimport\u001b[39;49;00m \u001b[04m\u001b[36mflask\u001b[39;49;00m\n",
      "\n",
      "\u001b[34mimport\u001b[39;49;00m \u001b[04m\u001b[36mpandas\u001b[39;49;00m \u001b[34mas\u001b[39;49;00m \u001b[04m\u001b[36mpd\u001b[39;49;00m\n",
      "\u001b[34mimport\u001b[39;49;00m \u001b[04m\u001b[36mlightgbm\u001b[39;49;00m \u001b[34mas\u001b[39;49;00m \u001b[04m\u001b[36mlgb\u001b[39;49;00m\n",
      "\n",
      "prefix = \u001b[33m'\u001b[39;49;00m\u001b[33m/opt/ml/\u001b[39;49;00m\u001b[33m'\u001b[39;49;00m\n",
      "model_path = os.path.join(prefix, \u001b[33m'\u001b[39;49;00m\u001b[33mmodel\u001b[39;49;00m\u001b[33m'\u001b[39;49;00m)\n",
      "\n",
      "\n",
      "\u001b[37m# A singleton for holding the model. This simply loads the model and holds it.\u001b[39;49;00m\n",
      "\u001b[37m# It has a predict function that does a prediction based on the model and the input data.\u001b[39;49;00m\n",
      "\n",
      "\u001b[34mclass\u001b[39;49;00m \u001b[04m\u001b[32mScoringService\u001b[39;49;00m(\u001b[36mobject\u001b[39;49;00m):\n",
      "    model = \u001b[34mNone\u001b[39;49;00m  \u001b[37m# Where we keep the model when it's loaded\u001b[39;49;00m\n",
      "\n",
      "    \u001b[90m@classmethod\u001b[39;49;00m\n",
      "    \u001b[34mdef\u001b[39;49;00m \u001b[32mget_model\u001b[39;49;00m(\u001b[36mcls\u001b[39;49;00m):\n",
      "        \u001b[33m\"\"\"Get the model object for this instance, loading it if it's not already loaded.\"\"\"\u001b[39;49;00m\n",
      "        \u001b[34mif\u001b[39;49;00m \u001b[36mcls\u001b[39;49;00m.model == \u001b[34mNone\u001b[39;49;00m:\n",
      "            \u001b[36mcls\u001b[39;49;00m.model = lgb.Booster(model_file=os.path.join(model_path, \u001b[33m'\u001b[39;49;00m\u001b[33mlightgbm-regression-model.txt\u001b[39;49;00m\u001b[33m'\u001b[39;49;00m))\n",
      "        \u001b[34mreturn\u001b[39;49;00m \u001b[36mcls\u001b[39;49;00m.model\n",
      "\n",
      "    \u001b[90m@classmethod\u001b[39;49;00m\n",
      "    \u001b[34mdef\u001b[39;49;00m \u001b[32mpredict\u001b[39;49;00m(\u001b[36mcls\u001b[39;49;00m, \u001b[36minput\u001b[39;49;00m):\n",
      "        \u001b[33m\"\"\"For the input, do the predictions and return them.\u001b[39;49;00m\n",
      "\u001b[33m\u001b[39;49;00m\n",
      "\u001b[33m        Args:\u001b[39;49;00m\n",
      "\u001b[33m            input (a pandas dataframe): The data on which to do the predictions. There will be\u001b[39;49;00m\n",
      "\u001b[33m                one prediction per row in the dataframe\"\"\"\u001b[39;49;00m\n",
      "        clf = \u001b[36mcls\u001b[39;49;00m.get_model()\n",
      "        \u001b[34mreturn\u001b[39;49;00m clf.predict(\u001b[36minput\u001b[39;49;00m)\n",
      "\n",
      "\n",
      "\u001b[37m# The flask app for serving predictions\u001b[39;49;00m\n",
      "app = flask.Flask(\u001b[31m__name__\u001b[39;49;00m)\n",
      "\n",
      "\n",
      "\u001b[90m@app\u001b[39;49;00m.route(\u001b[33m'\u001b[39;49;00m\u001b[33m/ping\u001b[39;49;00m\u001b[33m'\u001b[39;49;00m, methods=[\u001b[33m'\u001b[39;49;00m\u001b[33mGET\u001b[39;49;00m\u001b[33m'\u001b[39;49;00m])\n",
      "\u001b[34mdef\u001b[39;49;00m \u001b[32mping\u001b[39;49;00m():\n",
      "    \u001b[33m\"\"\"Determine if the container is working and healthy. In this sample container, we declare\u001b[39;49;00m\n",
      "\u001b[33m    it healthy if we can load the model successfully.\"\"\"\u001b[39;49;00m\n",
      "    health = ScoringService.get_model() \u001b[35mis\u001b[39;49;00m \u001b[35mnot\u001b[39;49;00m \u001b[34mNone\u001b[39;49;00m  \u001b[37m# You can insert a health check here\u001b[39;49;00m\n",
      "\n",
      "    status = \u001b[34m200\u001b[39;49;00m \u001b[34mif\u001b[39;49;00m health \u001b[34melse\u001b[39;49;00m \u001b[34m404\u001b[39;49;00m\n",
      "    \u001b[34mreturn\u001b[39;49;00m flask.Response(response=\u001b[33m'\u001b[39;49;00m\u001b[33m\\n\u001b[39;49;00m\u001b[33m'\u001b[39;49;00m, status=status, mimetype=\u001b[33m'\u001b[39;49;00m\u001b[33mapplication/json\u001b[39;49;00m\u001b[33m'\u001b[39;49;00m)\n",
      "\n",
      "\n",
      "\u001b[90m@app\u001b[39;49;00m.route(\u001b[33m'\u001b[39;49;00m\u001b[33m/invocations\u001b[39;49;00m\u001b[33m'\u001b[39;49;00m, methods=[\u001b[33m'\u001b[39;49;00m\u001b[33mPOST\u001b[39;49;00m\u001b[33m'\u001b[39;49;00m])\n",
      "\u001b[34mdef\u001b[39;49;00m \u001b[32mtransformation\u001b[39;49;00m():\n",
      "    \u001b[33m\"\"\"Do an inference on a single batch of data. In this sample server, we take data as CSV, convert\u001b[39;49;00m\n",
      "\u001b[33m    it to a pandas data frame for internal use and then convert the predictions back to CSV (which really\u001b[39;49;00m\n",
      "\u001b[33m    just means one prediction per line, since there's a single column.\u001b[39;49;00m\n",
      "\u001b[33m    \"\"\"\u001b[39;49;00m\n",
      "    data = \u001b[34mNone\u001b[39;49;00m\n",
      "\n",
      "    \u001b[37m# Convert from CSV to pandas\u001b[39;49;00m\n",
      "    \u001b[34mif\u001b[39;49;00m flask.request.content_type == \u001b[33m'\u001b[39;49;00m\u001b[33mtext/csv\u001b[39;49;00m\u001b[33m'\u001b[39;49;00m:\n",
      "        data = flask.request.data.decode(\u001b[33m'\u001b[39;49;00m\u001b[33mutf-8\u001b[39;49;00m\u001b[33m'\u001b[39;49;00m)\n",
      "        s = io.StringIO(data)\n",
      "        data = pd.read_csv(s, header=\u001b[34mNone\u001b[39;49;00m)\n",
      "    \u001b[34melse\u001b[39;49;00m:\n",
      "        \u001b[34mreturn\u001b[39;49;00m flask.Response(response=\u001b[33m'\u001b[39;49;00m\u001b[33mThis predictor only supports CSV data\u001b[39;49;00m\u001b[33m'\u001b[39;49;00m, status=\u001b[34m415\u001b[39;49;00m, mimetype=\u001b[33m'\u001b[39;49;00m\u001b[33mtext/plain\u001b[39;49;00m\u001b[33m'\u001b[39;49;00m)\n",
      "\n",
      "    \u001b[36mprint\u001b[39;49;00m(\u001b[33m'\u001b[39;49;00m\u001b[33mInvoked with \u001b[39;49;00m\u001b[33m{}\u001b[39;49;00m\u001b[33m records\u001b[39;49;00m\u001b[33m'\u001b[39;49;00m.format(data.shape[\u001b[34m0\u001b[39;49;00m]))\n",
      "\n",
      "    \u001b[37m# Do the prediction\u001b[39;49;00m\n",
      "    predictions = ScoringService.predict(data)\n",
      "\n",
      "    \u001b[37m# Convert from numpy back to CSV\u001b[39;49;00m\n",
      "    out = io.StringIO()\n",
      "    pd.DataFrame({\u001b[33m'\u001b[39;49;00m\u001b[33mresults\u001b[39;49;00m\u001b[33m'\u001b[39;49;00m: predictions}).to_csv(out, header=\u001b[34mFalse\u001b[39;49;00m, index=\u001b[34mFalse\u001b[39;49;00m)\n",
      "    result = out.getvalue()\n",
      "\n",
      "    \u001b[34mreturn\u001b[39;49;00m flask.Response(response=result, status=\u001b[34m200\u001b[39;49;00m, mimetype=\u001b[33m'\u001b[39;49;00m\u001b[33mtext/csv\u001b[39;49;00m\u001b[33m'\u001b[39;49;00m)\n"
     ]
    }
   ],
   "source": [
    "!pygmentize ./container/lightgbm_regression/predictor.py"
   ]
  },
  {
   "cell_type": "markdown",
   "id": "7cc54e73",
   "metadata": {},
   "source": [
    "## 2-2. dockerイメージの build & push\n",
    "上記で確認したカスタムコンテナをビルドします。\n",
    "\n",
    "ビルド&pushには7分ほどかかります。"
   ]
  },
  {
   "cell_type": "code",
   "execution_count": 25,
   "id": "eef2c584",
   "metadata": {},
   "outputs": [
    {
     "name": "stdout",
     "output_type": "stream",
     "text": [
      "Login Succeeded\n",
      "Sending build context to Docker daemon   25.6kB\n",
      "Step 1/10 : FROM ubuntu:16.04\n",
      " ---> b6f507652425\n",
      "Step 2/10 : MAINTAINER Amazon AI <sage-learner@amazon.com>\n",
      " ---> Using cache\n",
      " ---> dd27a6b39b57\n",
      "Step 3/10 : ARG CONDA_DIR=/opt/conda\n",
      " ---> Using cache\n",
      " ---> 3961c7f42f57\n",
      "Step 4/10 : ENV PATH $CONDA_DIR/bin:$PATH\n",
      " ---> Using cache\n",
      " ---> ccc4779db86e\n",
      "Step 5/10 : RUN apt-get update &&     apt-get install -y --no-install-recommends         ca-certificates         cmake         build-essential         gcc         g++         git         nginx         wget &&     wget https://repo.anaconda.com/miniconda/Miniconda3-latest-Linux-x86_64.sh &&     /bin/bash Miniconda3-latest-Linux-x86_64.sh -f -b -p $CONDA_DIR &&     export PATH=\"$CONDA_DIR/bin:$PATH\" &&     conda config --set always_yes yes --set changeps1 no &&     conda install -q -y numpy scipy scikit-learn pandas flask gevent gunicorn &&     git clone --recursive --branch stable --depth 1 https://github.com/Microsoft/LightGBM &&     cd LightGBM/python-package && python setup.py install &&     apt-get autoremove -y && apt-get clean &&     conda clean -a -y &&     rm -rf /usr/local/src/*\n",
      " ---> Using cache\n",
      " ---> 2bff50a48a53\n",
      "Step 6/10 : ENV PYTHONUNBUFFERED=TRUE\n",
      " ---> Using cache\n",
      " ---> 6fb9928e619d\n",
      "Step 7/10 : ENV PYTHONDONTWRITEBYTECODE=TRUE\n",
      " ---> Using cache\n",
      " ---> c744bc670281\n",
      "Step 8/10 : ENV PATH=\"/opt/program:${PATH}\"\n",
      " ---> Using cache\n",
      " ---> 6b0fa84456be\n",
      "Step 9/10 : COPY lightgbm_regression /opt/program\n",
      " ---> Using cache\n",
      " ---> a34aa81a0d40\n",
      "Step 10/10 : WORKDIR /opt/program\n",
      " ---> Using cache\n",
      " ---> 010a6aab1ec7\n",
      "Successfully built 010a6aab1ec7\n",
      "Successfully tagged sagemaker-lightgbm-regression:latest\n",
      "The push refers to repository [390731033655.dkr.ecr.ap-northeast-1.amazonaws.com/sagemaker-lightgbm-regression]\n",
      "d7395fe3b3fe: Preparing\n",
      "220226798f52: Preparing\n",
      "1251204ef8fc: Preparing\n",
      "47ef83afae74: Preparing\n",
      "df54c846128d: Preparing\n",
      "be96a3f634de: Preparing\n",
      "47ef83afae74: Layer already exists\n",
      "1251204ef8fc: Layer already exists\n",
      "d7395fe3b3fe: Layer already exists\n",
      "df54c846128d: Layer already exists\n",
      "220226798f52: Layer already exists\n",
      "be96a3f634de: Layer already exists\n",
      "latest: digest: sha256:d952df250164f21e6f0dad821f9b4474cb00de10a7b3370d69bca2de5aa9f1a1 size: 1571\n"
     ]
    },
    {
     "name": "stderr",
     "output_type": "stream",
     "text": [
      "WARNING! Your password will be stored unencrypted in /home/ec2-user/.docker/config.json.\n",
      "Configure a credential helper to remove this warning. See\n",
      "https://docs.docker.com/engine/reference/commandline/login/#credentials-store\n",
      "\n"
     ]
    }
   ],
   "source": [
    "%%sh\n",
    "\n",
    "# The name of our algorithm\n",
    "algorithm_name=sagemaker-lightgbm-regression\n",
    "\n",
    "cd container\n",
    "\n",
    "chmod +x lightgbm_regression/train\n",
    "chmod +x lightgbm_regression/serve\n",
    "\n",
    "account=$(aws sts get-caller-identity --query Account --output text)\n",
    "\n",
    "# Get the region defined in the current configuration (default to ap-northeast-1 if none defined)\n",
    "region=$(aws configure get region)\n",
    "region=${region:-ap-northeast-1}\n",
    "\n",
    "fullname=\"${account}.dkr.ecr.${region}.amazonaws.com/${algorithm_name}:latest\"\n",
    "\n",
    "# If the repository doesn't exist in ECR, create it.\n",
    "aws ecr describe-repositories --repository-names \"${algorithm_name}\" > /dev/null 2>&1\n",
    "\n",
    "if [ $? -ne 0 ]\n",
    "then\n",
    "    aws ecr create-repository --repository-name \"${algorithm_name}\" > /dev/null\n",
    "fi\n",
    "\n",
    "# Get the login command from ECR and execute it directly\n",
    "aws ecr get-login-password --region ${region}|docker login --username AWS --password-stdin ${fullname}\n",
    "\n",
    "# Build the docker image locally with the image name and then push it to ECR\n",
    "# with the full name.\n",
    "\n",
    "docker build -t ${algorithm_name} .\n",
    "docker tag ${algorithm_name} ${fullname}\n",
    "\n",
    "docker push ${fullname}"
   ]
  },
  {
   "cell_type": "markdown",
   "id": "84a57172",
   "metadata": {},
   "source": [
    "## 2-3. 学習前設定\n",
    "AWSコンソールでECRに移動し、作成したコンテナがあることを確認します。\n",
    "\n",
    "image URIを設定します。"
   ]
  },
  {
   "cell_type": "code",
   "execution_count": 78,
   "id": "e9689e2d",
   "metadata": {},
   "outputs": [
    {
     "name": "stdout",
     "output_type": "stream",
     "text": [
      "sagemaker-ap-northeast-1-390731033655\n",
      "ap-northeast-1\n",
      "390731033655\n"
     ]
    }
   ],
   "source": [
    "# 確認\n",
    "print(bucket_name)\n",
    "print(region_name)\n",
    "print(account_id)"
   ]
  },
  {
   "cell_type": "code",
   "execution_count": 79,
   "id": "44cd82e1",
   "metadata": {},
   "outputs": [],
   "source": [
    "# imageURLの設定\n",
    "image_uri = f'{account_id}.dkr.ecr.{region_name}.amazonaws.com/sagemaker-lightgbm-regression'"
   ]
  },
  {
   "cell_type": "code",
   "execution_count": 80,
   "id": "b741f38c",
   "metadata": {},
   "outputs": [
    {
     "data": {
      "text/plain": [
       "'390731033655.dkr.ecr.ap-northeast-1.amazonaws.com/sagemaker-lightgbm-regression'"
      ]
     },
     "execution_count": 80,
     "metadata": {},
     "output_type": "execute_result"
    }
   ],
   "source": [
    "# 確認\n",
    "image_uri"
   ]
  },
  {
   "cell_type": "code",
   "execution_count": 81,
   "id": "5aad1bcc",
   "metadata": {},
   "outputs": [],
   "source": [
    "# 学習で指定するLightGBMのハイパーパラメータを設定します。\n",
    "hyperparameters={'boosting_type': 'gbdt',\n",
    "            'objective': 'regression',\n",
    "            'num_leaves': 31,\n",
    "            'learning_rate': 0.05,\n",
    "            'feature_fraction': 0.9,\n",
    "            'bagging_fraction': 0.8,\n",
    "            'bagging_freq': 5,\n",
    "            'verbose': 0}"
   ]
  },
  {
   "cell_type": "markdown",
   "id": "986ce195",
   "metadata": {},
   "source": [
    "## 2-4.ローカル学習の実行\n",
    "まずはローカルモードでモデルの学習を行います。\n",
    "ローカルモードを利用することで、コンテナイメージのダウンロードや展開の手間を省くことができるため、コードのデバッグを行う場合に便利です。\n",
    "\n",
    "ECRからビルドしたイメージを持ってきて、ローカルのdockerでビルドして、実行する"
   ]
  },
  {
   "cell_type": "code",
   "execution_count": 83,
   "id": "1d78ad8b",
   "metadata": {},
   "outputs": [
    {
     "name": "stdout",
     "output_type": "stream",
     "text": [
      "file://./data/train/boston_train.csv\n",
      "file://./data/valid/boston_valid.csv\n"
     ]
    }
   ],
   "source": [
    "# ローカルファイルのパスを設定（S3パス指定も可）\n",
    "train_location = 'file://'+local_train\n",
    "valid_location = 'file://'+local_valid\n",
    "\n",
    "print(train_location)\n",
    "print(valid_location)"
   ]
  },
  {
   "cell_type": "code",
   "execution_count": 84,
   "id": "6d98469f",
   "metadata": {},
   "outputs": [],
   "source": [
    "from sagemaker.estimator import Estimator"
   ]
  },
  {
   "cell_type": "code",
   "execution_count": 85,
   "id": "95d25dff",
   "metadata": {},
   "outputs": [],
   "source": [
    "from sagemaker import get_execution_role\n",
    "\n",
    "role = get_execution_role()"
   ]
  },
  {
   "cell_type": "code",
   "execution_count": 86,
   "id": "40553e40",
   "metadata": {},
   "outputs": [
    {
     "data": {
      "text/plain": [
       "'arn:aws:iam::390731033655:role/TeamRole'"
      ]
     },
     "execution_count": 86,
     "metadata": {},
     "output_type": "execute_result"
    }
   ],
   "source": [
    "# 確認\n",
    "role"
   ]
  },
  {
   "cell_type": "markdown",
   "id": "323d604c",
   "metadata": {},
   "source": [
    "SageMakerのEstimatorを作成します。\n",
    "\n",
    "https://sagemaker.readthedocs.io/en/stable/api/training/estimators.html"
   ]
  },
  {
   "cell_type": "code",
   "execution_count": 87,
   "id": "8e9631d7",
   "metadata": {},
   "outputs": [],
   "source": [
    "local_lightgbm = Estimator(\n",
    "    image_uri,\n",
    "    role,\n",
    "    instance_count=1,\n",
    "    instance_type=\"local\",\n",
    "    hyperparameters=hyperparameters\n",
    "    )"
   ]
  },
  {
   "cell_type": "markdown",
   "id": "2ff27956",
   "metadata": {},
   "source": [
    "fitメソッドで学習ジョブを発行します\n",
    "\n",
    "https://sagemaker.readthedocs.io/en/stable/api/training/estimators.html#sagemaker.estimator.EstimatorBase.fit"
   ]
  },
  {
   "cell_type": "code",
   "execution_count": 88,
   "id": "92d3967e",
   "metadata": {},
   "outputs": [
    {
     "name": "stdout",
     "output_type": "stream",
     "text": [
      "Creating wwx3yxyitg-algo-1-wftc2 ... \n",
      "Creating wwx3yxyitg-algo-1-wftc2 ... done\n",
      "Attaching to wwx3yxyitg-algo-1-wftc2\n",
      "\u001b[36mwwx3yxyitg-algo-1-wftc2 |\u001b[0m Starting the training.\n",
      "\u001b[36mwwx3yxyitg-algo-1-wftc2 |\u001b[0m Reading hyperparameters data: /opt/ml/input/config/hyperparameters.json\n",
      "\u001b[36mwwx3yxyitg-algo-1-wftc2 |\u001b[0m hyperparameters_data: {'boosting_type': 'gbdt', 'objective': 'regression', 'num_leaves': '31', 'learning_rate': '0.05', 'feature_fraction': '0.9', 'bagging_fraction': '0.8', 'bagging_freq': '5', 'verbose': '0'}\n",
      "\u001b[36mwwx3yxyitg-algo-1-wftc2 |\u001b[0m Found train files: ['/opt/ml/input/data/train/boston_train.csv']\n",
      "\u001b[36mwwx3yxyitg-algo-1-wftc2 |\u001b[0m Found validation files: ['/opt/ml/input/data/validation/boston_valid.csv']\n",
      "\u001b[36mwwx3yxyitg-algo-1-wftc2 |\u001b[0m building training and validation datasets\n",
      "\u001b[36mwwx3yxyitg-algo-1-wftc2 |\u001b[0m Starting training...\n",
      "\u001b[36mwwx3yxyitg-algo-1-wftc2 |\u001b[0m /opt/conda/lib/python3.9/site-packages/lightgbm/engine.py:181: UserWarning: 'early_stopping_rounds' argument is deprecated and will be removed in a future release of LightGBM. Pass 'early_stopping()' callback via 'callbacks' argument instead.\n",
      "\u001b[36mwwx3yxyitg-algo-1-wftc2 |\u001b[0m   _log_warning(\"'early_stopping_rounds' argument is deprecated and will be removed in a future release of LightGBM. \"\n",
      "\u001b[36mwwx3yxyitg-algo-1-wftc2 |\u001b[0m [LightGBM] [Warning] Auto-choosing row-wise multi-threading, the overhead of testing was 0.000066 seconds.\n",
      "\u001b[36mwwx3yxyitg-algo-1-wftc2 |\u001b[0m You can set `force_row_wise=true` to remove the overhead.\n",
      "\u001b[36mwwx3yxyitg-algo-1-wftc2 |\u001b[0m And if memory is not enough, you can set `force_col_wise=true`.\n",
      "\u001b[36mwwx3yxyitg-algo-1-wftc2 |\u001b[0m [LightGBM] [Warning] No further splits with positive gain, best gain: -inf\n",
      "\u001b[36mwwx3yxyitg-algo-1-wftc2 |\u001b[0m [1]\tvalid_0's l2: 84.4849\n",
      "\u001b[36mwwx3yxyitg-algo-1-wftc2 |\u001b[0m Training until validation scores don't improve for 5 rounds\n",
      "\u001b[36mwwx3yxyitg-algo-1-wftc2 |\u001b[0m [LightGBM] [Warning] No further splits with positive gain, best gain: -inf\n",
      "\u001b[36mwwx3yxyitg-algo-1-wftc2 |\u001b[0m [2]\tvalid_0's l2: 78.6995\n",
      "\u001b[36mwwx3yxyitg-algo-1-wftc2 |\u001b[0m [LightGBM] [Warning] No further splits with positive gain, best gain: -inf\n",
      "\u001b[36mwwx3yxyitg-algo-1-wftc2 |\u001b[0m [3]\tvalid_0's l2: 73.3733\n",
      "\u001b[36mwwx3yxyitg-algo-1-wftc2 |\u001b[0m [LightGBM] [Warning] No further splits with positive gain, best gain: -inf\n",
      "\u001b[36mwwx3yxyitg-algo-1-wftc2 |\u001b[0m [4]\tvalid_0's l2: 68.4066\n",
      "\u001b[36mwwx3yxyitg-algo-1-wftc2 |\u001b[0m [LightGBM] [Warning] No further splits with positive gain, best gain: -inf\n",
      "\u001b[36mwwx3yxyitg-algo-1-wftc2 |\u001b[0m [5]\tvalid_0's l2: 63.9675\n",
      "\u001b[36mwwx3yxyitg-algo-1-wftc2 |\u001b[0m [LightGBM] [Warning] No further splits with positive gain, best gain: -inf\n",
      "\u001b[36mwwx3yxyitg-algo-1-wftc2 |\u001b[0m [6]\tvalid_0's l2: 60.4495\n",
      "\u001b[36mwwx3yxyitg-algo-1-wftc2 |\u001b[0m [LightGBM] [Warning] No further splits with positive gain, best gain: -inf\n",
      "\u001b[36mwwx3yxyitg-algo-1-wftc2 |\u001b[0m [7]\tvalid_0's l2: 57.2702\n",
      "\u001b[36mwwx3yxyitg-algo-1-wftc2 |\u001b[0m [LightGBM] [Warning] No further splits with positive gain, best gain: -inf\n",
      "\u001b[36mwwx3yxyitg-algo-1-wftc2 |\u001b[0m [8]\tvalid_0's l2: 54.3096\n",
      "\u001b[36mwwx3yxyitg-algo-1-wftc2 |\u001b[0m [LightGBM] [Warning] No further splits with positive gain, best gain: -inf\n",
      "\u001b[36mwwx3yxyitg-algo-1-wftc2 |\u001b[0m [9]\tvalid_0's l2: 51.6438\n",
      "\u001b[36mwwx3yxyitg-algo-1-wftc2 |\u001b[0m [LightGBM] [Warning] No further splits with positive gain, best gain: -inf\n",
      "\u001b[36mwwx3yxyitg-algo-1-wftc2 |\u001b[0m [10]\tvalid_0's l2: 49.4106\n",
      "\u001b[36mwwx3yxyitg-algo-1-wftc2 |\u001b[0m [LightGBM] [Warning] No further splits with positive gain, best gain: -inf\n",
      "\u001b[36mwwx3yxyitg-algo-1-wftc2 |\u001b[0m [11]\tvalid_0's l2: 46.871\n",
      "\u001b[36mwwx3yxyitg-algo-1-wftc2 |\u001b[0m [LightGBM] [Warning] No further splits with positive gain, best gain: -inf\n",
      "\u001b[36mwwx3yxyitg-algo-1-wftc2 |\u001b[0m [12]\tvalid_0's l2: 44.4878\n",
      "\u001b[36mwwx3yxyitg-algo-1-wftc2 |\u001b[0m [LightGBM] [Warning] No further splits with positive gain, best gain: -inf\n",
      "\u001b[36mwwx3yxyitg-algo-1-wftc2 |\u001b[0m [13]\tvalid_0's l2: 42.2348\n",
      "\u001b[36mwwx3yxyitg-algo-1-wftc2 |\u001b[0m [LightGBM] [Warning] No further splits with positive gain, best gain: -inf\n",
      "\u001b[36mwwx3yxyitg-algo-1-wftc2 |\u001b[0m [14]\tvalid_0's l2: 40.2703\n",
      "\u001b[36mwwx3yxyitg-algo-1-wftc2 |\u001b[0m [LightGBM] [Warning] No further splits with positive gain, best gain: -inf\n",
      "\u001b[36mwwx3yxyitg-algo-1-wftc2 |\u001b[0m [15]\tvalid_0's l2: 38.4195\n",
      "\u001b[36mwwx3yxyitg-algo-1-wftc2 |\u001b[0m [LightGBM] [Warning] No further splits with positive gain, best gain: -inf\n",
      "\u001b[36mwwx3yxyitg-algo-1-wftc2 |\u001b[0m [16]\tvalid_0's l2: 36.6089\n",
      "\u001b[36mwwx3yxyitg-algo-1-wftc2 |\u001b[0m [LightGBM] [Warning] No further splits with positive gain, best gain: -inf\n",
      "\u001b[36mwwx3yxyitg-algo-1-wftc2 |\u001b[0m [17]\tvalid_0's l2: 34.9745\n",
      "\u001b[36mwwx3yxyitg-algo-1-wftc2 |\u001b[0m [LightGBM] [Warning] No further splits with positive gain, best gain: -inf\n",
      "\u001b[36mwwx3yxyitg-algo-1-wftc2 |\u001b[0m [18]\tvalid_0's l2: 33.5774\n",
      "\u001b[36mwwx3yxyitg-algo-1-wftc2 |\u001b[0m [LightGBM] [Warning] No further splits with positive gain, best gain: -inf\n",
      "\u001b[36mwwx3yxyitg-algo-1-wftc2 |\u001b[0m [19]\tvalid_0's l2: 32.1331\n",
      "\u001b[36mwwx3yxyitg-algo-1-wftc2 |\u001b[0m [LightGBM] [Warning] No further splits with positive gain, best gain: -inf\n",
      "\u001b[36mwwx3yxyitg-algo-1-wftc2 |\u001b[0m [20]\tvalid_0's l2: 30.8945\n",
      "\u001b[36mwwx3yxyitg-algo-1-wftc2 |\u001b[0m Did not meet early stopping. Best iteration is:\n",
      "\u001b[36mwwx3yxyitg-algo-1-wftc2 |\u001b[0m [20]\tvalid_0's l2: 30.8945\n",
      "\u001b[36mwwx3yxyitg-algo-1-wftc2 |\u001b[0m saving model file to /opt/ml/model/lightgbm-regression-model.txt\n",
      "\u001b[36mwwx3yxyitg-algo-1-wftc2 |\u001b[0m Training complete.\n",
      "\u001b[36mwwx3yxyitg-algo-1-wftc2 exited with code 0\n",
      "\u001b[0mAborting on container exit...\n",
      "===== Job Complete =====\n"
     ]
    }
   ],
   "source": [
    "local_lightgbm.fit({'train':train_location, 'validation': valid_location})"
   ]
  },
  {
   "cell_type": "markdown",
   "id": "c18a177b",
   "metadata": {},
   "source": [
    "ローカルモードの学習結果についてもS3に保管されます。\n",
    "\n",
    "s3://sagemaker-< リージョン名 >-< アカウントID >/sagemaker-lightgbm-regression-yyyy-MM-dd-HH-mm-ss-fff/\n",
    "\n",
    "* model.tar.gz\n",
    "* output.tar.gz\n",
    "\n",
    "Trainingジョブの詳細について学びたい場合は、BlackBeltの解説もご参照ください。\n",
    "https://www.youtube.com/watch?v=byEawTm4O4E"
   ]
  },
  {
   "cell_type": "markdown",
   "id": "60ce09c0",
   "metadata": {},
   "source": [
    "## 2-5.ローカルデプロイ\n",
    "\n",
    "serializer : インプットデータの形式を指定します。\n",
    "https://sagemaker.readthedocs.io/en/stable/v2.html"
   ]
  },
  {
   "cell_type": "code",
   "execution_count": 89,
   "id": "683abb5d",
   "metadata": {},
   "outputs": [
    {
     "name": "stdout",
     "output_type": "stream",
     "text": [
      "\u001b[36mt8bj7uf19d-algo-1-vmubs |\u001b[0m [2022-10-25 05:42:07 +0000] [27] [INFO] Handling signal: term\n",
      "\u001b[36mt8bj7uf19d-algo-1-vmubs exited with code 0\n",
      "4c284ba0ab8b\n",
      "\u001b[0mAborting on container exit...\n"
     ]
    }
   ],
   "source": [
    "# 事前準備：全コンテナ停止\n",
    "!docker stop $(docker ps -q)"
   ]
  },
  {
   "cell_type": "code",
   "execution_count": 90,
   "id": "ac8427ad",
   "metadata": {},
   "outputs": [
    {
     "name": "stdout",
     "output_type": "stream",
     "text": [
      "CONTAINER ID   IMAGE     COMMAND   CREATED   STATUS    PORTS     NAMES\n"
     ]
    }
   ],
   "source": [
    "# 確認\n",
    "!docker ps"
   ]
  },
  {
   "cell_type": "markdown",
   "id": "12acc1e8",
   "metadata": {},
   "source": [
    "起動中のコンテナイメージがないことを確認し、ローカルデプロイを行います。"
   ]
  },
  {
   "cell_type": "code",
   "execution_count": 91,
   "id": "c3d1b6af",
   "metadata": {},
   "outputs": [
    {
     "name": "stdout",
     "output_type": "stream",
     "text": [
      "Attaching to czk28afd58-algo-1-tu1u5\n",
      "\u001b[36mczk28afd58-algo-1-tu1u5 |\u001b[0m Starting the inference server with 2 workers.\n",
      "\u001b[36mczk28afd58-algo-1-tu1u5 |\u001b[0m [2022-10-25 05:43:02 +0000] [10] [INFO] Starting gunicorn 20.1.0\n",
      "\u001b[36mczk28afd58-algo-1-tu1u5 |\u001b[0m [2022-10-25 05:43:02 +0000] [10] [INFO] Listening at: unix:/tmp/gunicorn.sock (10)\n",
      "\u001b[36mczk28afd58-algo-1-tu1u5 |\u001b[0m [2022-10-25 05:43:02 +0000] [10] [INFO] Using worker: gevent\n",
      "\u001b[36mczk28afd58-algo-1-tu1u5 |\u001b[0m [2022-10-25 05:43:02 +0000] [12] [INFO] Booting worker with pid: 12\n",
      "\u001b[36mczk28afd58-algo-1-tu1u5 |\u001b[0m [2022-10-25 05:43:02 +0000] [13] [INFO] Booting worker with pid: 13\n",
      "!\u001b[36mczk28afd58-algo-1-tu1u5 |\u001b[0m 172.18.0.1 - - [25/Oct/2022:05:43:04 +0000] \"GET /ping HTTP/1.1\" 200 1 \"-\" \"python-urllib3/1.26.8\"\n"
     ]
    }
   ],
   "source": [
    "local_predictor = local_lightgbm.deploy(1, 'local', serializer=sagemaker.serializers.CSVSerializer()) "
   ]
  },
  {
   "cell_type": "code",
   "execution_count": 92,
   "id": "72c32f2c",
   "metadata": {},
   "outputs": [
    {
     "name": "stdout",
     "output_type": "stream",
     "text": [
      "CONTAINER ID   IMAGE                                                                             COMMAND   CREATED          STATUS          PORTS                                       NAMES\n",
      "b39ccd0a7006   390731033655.dkr.ecr.ap-northeast-1.amazonaws.com/sagemaker-lightgbm-regression   \"serve\"   13 seconds ago   Up 12 seconds   0.0.0.0:8080->8080/tcp, :::8080->8080/tcp   czk28afd58-algo-1-tu1u5\n"
     ]
    }
   ],
   "source": [
    "# 確認\n",
    "!docker ps"
   ]
  },
  {
   "cell_type": "markdown",
   "id": "5cc2bbe4",
   "metadata": {},
   "source": [
    "ローカルにコンテナイメージが展開されていることが確認できました。"
   ]
  },
  {
   "cell_type": "markdown",
   "id": "2423a8fb",
   "metadata": {},
   "source": [
    "## 2-6.ローカルエンドポイントで推論実施"
   ]
  },
  {
   "cell_type": "code",
   "execution_count": 93,
   "id": "9c0ca84d",
   "metadata": {},
   "outputs": [
    {
     "name": "stdout",
     "output_type": "stream",
     "text": [
      "\u001b[36mczk28afd58-algo-1-tu1u5 |\u001b[0m Invoked with 102 records\n",
      "====================\u001b[36mczk28afd58-algo-1-tu1u5 |\u001b[0m 172.18.0.1 - - [25/Oct/2022:05:43:39 +0000] \"POST /invocations HTTP/1.1\" 200 1894 \"-\" \"python-urllib3/1.26.8\"\n",
      "\n",
      "19.95642073217597\n",
      "27.844891841022335\n",
      "23.747437427003455\n",
      "21.961517177305176\n",
      "33.70952263893306\n",
      "16.546899933876215\n",
      "20.7577247308279\n",
      "21.58941351302627\n",
      "28.44096446328559\n",
      "21.573610198594977\n",
      "16.520022349295115\n",
      "18.56239893242527\n",
      "33.70952263893306\n",
      "21.66404760045202\n",
      "18.839854556333133\n",
      "20.524517944865078\n",
      "23.512192914502315\n",
      "19.720552829648888\n",
      "14.831841119971708\n",
      "25.48273874904075\n",
      "24.232639474441545\n",
      "21.624005932843115\n",
      "24.961489794296718\n",
      "31.737194191676068\n",
      "21.634052928440624\n",
      "28.40721160777621\n",
      "21.408363849719503\n",
      "14.831841119971708\n",
      "22.218594550645975\n",
      "21.174456098551236\n",
      "21.78791955089051\n",
      "14.831841119971708\n",
      "29.996695633096042\n",
      "22.44097524661187\n",
      "33.83316205414468\n",
      "26.41403196992683\n",
      "33.70952263893306\n",
      "17.366188662166092\n",
      "27.56686070285819\n",
      "30.785697489113854\n",
      "19.36938873496206\n",
      "20.70626548555591\n",
      "17.759853567831996\n",
      "27.888269821752413\n",
      "20.521395163186774\n",
      "14.831841119971708\n",
      "24.776417537973362\n",
      "24.965857100129327\n",
      "19.649289821764185\n",
      "21.026797620813866\n",
      "33.70952263893306\n",
      "22.770867837558004\n",
      "25.12436361101226\n",
      "32.04499227317663\n",
      "20.300871717805446\n",
      "25.993751032745912\n",
      "14.831841119971708\n",
      "17.55319877077615\n",
      "21.070286538617665\n",
      "21.122413297289743\n",
      "16.377053075082987\n",
      "15.568373592583868\n",
      "33.70952263893306\n",
      "27.61154020402463\n",
      "19.342761095149218\n",
      "17.9509721146777\n",
      "33.70952263893306\n",
      "33.83316205414468\n",
      "25.48273874904075\n",
      "20.660796015624964\n",
      "30.699461095863427\n",
      "21.035390723179418\n",
      "22.185819485247606\n",
      "19.29909952861762\n",
      "16.5747000607082\n",
      "23.912684065447934\n",
      "28.57571329880843\n",
      "16.236339853147257\n",
      "27.50109599287484\n",
      "15.753943396426372\n",
      "17.4887323059089\n",
      "16.546899933876215\n",
      "27.601367949672184\n",
      "27.83102844560462\n",
      "23.566264337152624\n",
      "27.50109599287484\n",
      "21.643847857886936\n",
      "18.787237415866525\n",
      "17.9186752451325\n",
      "14.831841119971708\n",
      "22.735042390270507\n",
      "18.93446150698524\n",
      "20.78281339932023\n",
      "15.124660622321342\n",
      "26.580072090826267\n",
      "33.83316205414468\n",
      "22.241689637239144\n",
      "18.003487732270226\n",
      "26.120941030113585\n",
      "21.857620352091608\n",
      "23.067030809188566\n",
      "31.381458114994132\n",
      "\n"
     ]
    }
   ],
   "source": [
    "# 推論実行\n",
    "with open(local_test, 'r') as f:\n",
    "    payload = f.read().strip()\n",
    "\n",
    "predicted = local_predictor.predict(payload).decode('utf-8')\n",
    "print('=' * 20)\n",
    "print(predicted)"
   ]
  },
  {
   "cell_type": "markdown",
   "id": "1976cddd",
   "metadata": {},
   "source": [
    "## 2-7.学習ジョブを発行\n",
    "次は、ローカルモードではなく、\n",
    "同じカスタムコンテナで、学習ジョブを実行します。\n",
    "\n",
    "Estimatorの引数instance_typeにインスタンスタイプを指定することで、学習ジョブが発行されます。"
   ]
  },
  {
   "cell_type": "code",
   "execution_count": 95,
   "id": "4b0dcf25",
   "metadata": {},
   "outputs": [
    {
     "name": "stdout",
     "output_type": "stream",
     "text": [
      "s3://sagemaker-ap-northeast-1-390731033655/demo_lightgbm/train/boston_train.csv\n",
      "s3://sagemaker-ap-northeast-1-390731033655/demo_lightgbm/valid/boston_valid.csv\n"
     ]
    }
   ],
   "source": [
    "# 確認\n",
    "print(train_s3)\n",
    "print(valid_s3)"
   ]
  },
  {
   "cell_type": "code",
   "execution_count": 96,
   "id": "0fea9afa",
   "metadata": {},
   "outputs": [],
   "source": [
    "est_lightgbm = Estimator(\n",
    "    image_uri,\n",
    "    role,\n",
    "    instance_count=1,\n",
    "    instance_type=\"ml.m4.2xlarge\", # インスタンスタイプを指定\n",
    "    hyperparameters=hyperparameters)"
   ]
  },
  {
   "cell_type": "code",
   "execution_count": 97,
   "id": "9a9bc201",
   "metadata": {},
   "outputs": [
    {
     "name": "stdout",
     "output_type": "stream",
     "text": [
      "2022-10-25 05:44:45 Starting - Starting the training job...\n",
      "2022-10-25 05:45:09 Starting - Preparing the instances for trainingProfilerReport-1666676685: InProgress\n",
      ".........\n",
      "2022-10-25 05:46:32 Downloading - Downloading input data...\n",
      "2022-10-25 05:47:10 Training - Downloading the training image..\u001b[34mStarting the training.\u001b[0m\n",
      "\u001b[34mReading hyperparameters data: /opt/ml/input/config/hyperparameters.json\u001b[0m\n",
      "\u001b[34mhyperparameters_data: {'bagging_fraction': '0.8', 'bagging_freq': '5', 'boosting_type': 'gbdt', 'feature_fraction': '0.9', 'learning_rate': '0.05', 'num_leaves': '31', 'objective': 'regression', 'verbose': '0'}\u001b[0m\n",
      "\u001b[34mFound train files: ['/opt/ml/input/data/train/boston_train.csv']\u001b[0m\n",
      "\u001b[34mFound validation files: ['/opt/ml/input/data/validation/boston_valid.csv']\u001b[0m\n",
      "\u001b[34mbuilding training and validation datasets\u001b[0m\n",
      "\u001b[34mStarting training...\u001b[0m\n",
      "\u001b[34m/opt/conda/lib/python3.9/site-packages/lightgbm/engine.py:181: UserWarning: 'early_stopping_rounds' argument is deprecated and will be removed in a future release of LightGBM. Pass 'early_stopping()' callback via 'callbacks' argument instead.\n",
      "  _log_warning(\"'early_stopping_rounds' argument is deprecated and will be removed in a future release of LightGBM. \"\u001b[0m\n",
      "\u001b[34m[LightGBM] [Warning] Auto-choosing col-wise multi-threading, the overhead of testing was 0.003453 seconds.\u001b[0m\n",
      "\u001b[34mYou can set `force_col_wise=true` to remove the overhead.\u001b[0m\n",
      "\u001b[34m[LightGBM] [Warning] No further splits with positive gain, best gain: -inf\u001b[0m\n",
      "\u001b[34m[1]#011valid_0's l2: 84.4849\u001b[0m\n",
      "\u001b[34mTraining until validation scores don't improve for 5 rounds\u001b[0m\n",
      "\u001b[34m[LightGBM] [Warning] No further splits with positive gain, best gain: -inf\u001b[0m\n",
      "\u001b[34m[2]#011valid_0's l2: 78.6995\u001b[0m\n",
      "\u001b[34m[LightGBM] [Warning] No further splits with positive gain, best gain: -inf\u001b[0m\n",
      "\u001b[34m[3]#011valid_0's l2: 73.3733\u001b[0m\n",
      "\u001b[34m[LightGBM] [Warning] No further splits with positive gain, best gain: -inf\u001b[0m\n",
      "\u001b[34m[4]#011valid_0's l2: 68.4066\u001b[0m\n",
      "\u001b[34m[LightGBM] [Warning] No further splits with positive gain, best gain: -inf\u001b[0m\n",
      "\u001b[34m[5]#011valid_0's l2: 63.9675\u001b[0m\n",
      "\u001b[34m[LightGBM] [Warning] No further splits with positive gain, best gain: -inf\u001b[0m\n",
      "\u001b[34m[6]#011valid_0's l2: 60.4495\u001b[0m\n",
      "\u001b[34m[LightGBM] [Warning] No further splits with positive gain, best gain: -inf\u001b[0m\n",
      "\u001b[34m[7]#011valid_0's l2: 57.2702\u001b[0m\n",
      "\u001b[34m[LightGBM] [Warning] No further splits with positive gain, best gain: -inf\u001b[0m\n",
      "\u001b[34m[8]#011valid_0's l2: 54.3096\u001b[0m\n",
      "\u001b[34m[LightGBM] [Warning] No further splits with positive gain, best gain: -inf\u001b[0m\n",
      "\u001b[34m[9]#011valid_0's l2: 51.6438\u001b[0m\n",
      "\u001b[34m[LightGBM] [Warning] No further splits with positive gain, best gain: -inf\u001b[0m\n",
      "\u001b[34m[10]#011valid_0's l2: 49.4106\u001b[0m\n",
      "\u001b[34m[LightGBM] [Warning] No further splits with positive gain, best gain: -inf\u001b[0m\n",
      "\u001b[34m[11]#011valid_0's l2: 46.871\u001b[0m\n",
      "\u001b[34m[LightGBM] [Warning] No further splits with positive gain, best gain: -inf\u001b[0m\n",
      "\u001b[34m[12]#011valid_0's l2: 44.4878\u001b[0m\n",
      "\u001b[34m[LightGBM] [Warning] No further splits with positive gain, best gain: -inf\u001b[0m\n",
      "\u001b[34m[13]#011valid_0's l2: 42.2348\u001b[0m\n",
      "\u001b[34m[LightGBM] [Warning] No further splits with positive gain, best gain: -inf\u001b[0m\n",
      "\u001b[34m[14]#011valid_0's l2: 40.2703\u001b[0m\n",
      "\u001b[34m[LightGBM] [Warning] No further splits with positive gain, best gain: -inf\u001b[0m\n",
      "\u001b[34m[15]#011valid_0's l2: 38.4195\u001b[0m\n",
      "\u001b[34m[LightGBM] [Warning] No further splits with positive gain, best gain: -inf\u001b[0m\n",
      "\u001b[34m[16]#011valid_0's l2: 36.6089\u001b[0m\n",
      "\u001b[34m[LightGBM] [Warning] No further splits with positive gain, best gain: -inf\u001b[0m\n",
      "\u001b[34m[17]#011valid_0's l2: 34.9745\u001b[0m\n",
      "\u001b[34m[LightGBM] [Warning] No further splits with positive gain, best gain: -inf\u001b[0m\n",
      "\u001b[34m[18]#011valid_0's l2: 33.5774\u001b[0m\n",
      "\u001b[34m[LightGBM] [Warning] No further splits with positive gain, best gain: -inf\u001b[0m\n",
      "\u001b[34m[19]#011valid_0's l2: 32.1331\u001b[0m\n",
      "\u001b[34m[LightGBM] [Warning] No further splits with positive gain, best gain: -inf\u001b[0m\n",
      "\u001b[34m[20]#011valid_0's l2: 30.8945\u001b[0m\n",
      "\u001b[34mDid not meet early stopping. Best iteration is:\u001b[0m\n",
      "\u001b[34m[20]#011valid_0's l2: 30.8945\u001b[0m\n",
      "\u001b[34msaving model file to /opt/ml/model/lightgbm-regression-model.txt\u001b[0m\n",
      "\u001b[34mTraining complete.\u001b[0m\n",
      "\n",
      "2022-10-25 05:47:30 Training - Training image download completed. Training in progress.\n",
      "2022-10-25 05:48:11 Uploading - Uploading generated training model\n",
      "2022-10-25 05:48:47 Completed - Training job completed\n",
      "Training seconds: 135\n",
      "Billable seconds: 135\n"
     ]
    }
   ],
   "source": [
    "est_lightgbm.fit({'train':train_s3, 'validation': valid_s3})"
   ]
  },
  {
   "cell_type": "markdown",
   "id": "1e0e71a6",
   "metadata": {},
   "source": [
    "学習には3分ほど時間がかかります。\n",
    "\n",
    "課金されるのは75秒ほどです。"
   ]
  },
  {
   "cell_type": "markdown",
   "id": "e8441690",
   "metadata": {},
   "source": [
    "## 2-8.エンドポイントにデプロイ\n",
    "\n",
    "デプロイすると、\n",
    "SageMaker は docker run <image> serveを実行します。\n",
    "\n",
    "    \n",
    "デプロイには3分ほどかかります。"
   ]
  },
  {
   "cell_type": "code",
   "execution_count": 43,
   "id": "5b230c6b",
   "metadata": {},
   "outputs": [],
   "source": [
    "from sagemaker.predictor import csv_serializer"
   ]
  },
  {
   "cell_type": "markdown",
   "id": "e740078e",
   "metadata": {},
   "source": [
    "deployメソッドで、推論エンドポイントをデプロイします。\n",
    "\n",
    "https://sagemaker.readthedocs.io/en/stable/api/training/estimators.html#sagemaker.estimator.EstimatorBase.deploy"
   ]
  },
  {
   "cell_type": "code",
   "execution_count": 44,
   "id": "837715a5",
   "metadata": {},
   "outputs": [
    {
     "name": "stdout",
     "output_type": "stream",
     "text": [
      "-----!"
     ]
    }
   ],
   "source": [
    "predictor = est_lightgbm.deploy(1, 'ml.m4.xlarge', serializer=csv_serializer, wait=True)"
   ]
  },
  {
   "cell_type": "code",
   "execution_count": 45,
   "id": "ec5e03be",
   "metadata": {},
   "outputs": [
    {
     "name": "stderr",
     "output_type": "stream",
     "text": [
      "The csv_serializer has been renamed in sagemaker>=2.\n",
      "See: https://sagemaker.readthedocs.io/en/stable/v2.html for details.\n"
     ]
    },
    {
     "name": "stdout",
     "output_type": "stream",
     "text": [
      "19.95642073217597\n",
      "27.844891841022335\n",
      "23.747437427003455\n",
      "21.961517177305176\n",
      "33.70952263893306\n",
      "16.546899933876215\n",
      "20.7577247308279\n",
      "21.58941351302627\n",
      "28.44096446328559\n",
      "21.573610198594977\n",
      "16.520022349295115\n",
      "18.56239893242527\n",
      "33.70952263893306\n",
      "21.66404760045202\n",
      "18.839854556333133\n",
      "20.524517944865078\n",
      "23.512192914502315\n",
      "19.720552829648888\n",
      "14.831841119971708\n",
      "25.48273874904075\n",
      "24.232639474441545\n",
      "21.624005932843115\n",
      "24.961489794296718\n",
      "31.737194191676068\n",
      "21.634052928440624\n",
      "28.40721160777621\n",
      "21.408363849719503\n",
      "14.831841119971708\n",
      "22.218594550645975\n",
      "21.174456098551236\n",
      "21.78791955089051\n",
      "14.831841119971708\n",
      "29.996695633096042\n",
      "22.44097524661187\n",
      "33.83316205414468\n",
      "26.41403196992683\n",
      "33.70952263893306\n",
      "17.366188662166092\n",
      "27.56686070285819\n",
      "30.785697489113854\n",
      "19.36938873496206\n",
      "20.70626548555591\n",
      "17.759853567831996\n",
      "27.888269821752413\n",
      "20.521395163186774\n",
      "14.831841119971708\n",
      "24.776417537973362\n",
      "24.965857100129327\n",
      "19.649289821764185\n",
      "21.026797620813866\n",
      "33.70952263893306\n",
      "22.770867837558004\n",
      "25.12436361101226\n",
      "32.04499227317663\n",
      "20.300871717805446\n",
      "25.993751032745912\n",
      "14.831841119971708\n",
      "17.55319877077615\n",
      "21.070286538617665\n",
      "21.122413297289743\n",
      "16.377053075082987\n",
      "15.568373592583868\n",
      "33.70952263893306\n",
      "27.61154020402463\n",
      "19.342761095149218\n",
      "17.9509721146777\n",
      "33.70952263893306\n",
      "33.83316205414468\n",
      "25.48273874904075\n",
      "20.660796015624964\n",
      "30.699461095863427\n",
      "21.035390723179418\n",
      "22.185819485247606\n",
      "19.29909952861762\n",
      "16.5747000607082\n",
      "23.912684065447934\n",
      "28.57571329880843\n",
      "16.236339853147257\n",
      "27.50109599287484\n",
      "15.753943396426372\n",
      "17.4887323059089\n",
      "16.546899933876215\n",
      "27.601367949672184\n",
      "27.83102844560462\n",
      "23.566264337152624\n",
      "27.50109599287484\n",
      "21.643847857886936\n",
      "18.787237415866525\n",
      "17.9186752451325\n",
      "14.831841119971708\n",
      "22.735042390270507\n",
      "18.93446150698524\n",
      "20.78281339932023\n",
      "15.124660622321342\n",
      "26.580072090826267\n",
      "33.83316205414468\n",
      "22.241689637239144\n",
      "18.003487732270226\n",
      "26.120941030113585\n",
      "21.857620352091608\n",
      "23.067030809188566\n",
      "31.381458114994132\n",
      "\n"
     ]
    }
   ],
   "source": [
    "### 推論実行\n",
    "with open(local_test, 'r') as f:\n",
    "    payload = f.read().strip()\n",
    "\n",
    "predicted = predictor.predict(payload).decode('utf-8')\n",
    "print(predicted)"
   ]
  },
  {
   "cell_type": "markdown",
   "id": "902537e1",
   "metadata": {},
   "source": [
    "# 3.推論コードの外部指定、フロントエンドはSageMakerが準備した仕組みを利用する。\n",
    "推論コードを外部から指定するために、SageMaker Inference Toolkitを導入します。\n",
    "\n",
    "https://github.com/aws/sagemaker-inference-toolkit\n",
    "\n",
    "また、前セクションnginx, gunicorn, flaskを用いて実装したモデルサービングの仕組みはSageMaker側で準備されたものを流用します。\n",
    "これは、MMS(Multi Model Server)というライブラリを導入します。\n",
    "\n",
    "https://github.com/awslabs/multi-model-server/tree/master/docker\n",
    "\n",
    "* SageMaker-Inference-Toolkitと、Multi Model Serverを導入する\n",
    "* ビルトインコンテナ + requirements.txt, inference.pyを利用する\n",
    "\n",
    "MMSの利用については、以下のサンプルコードも参照ください。\n",
    "\n",
    "https://github.com/aws/amazon-sagemaker-examples/tree/main/advanced_functionality/multi_model_bring_your_own\n"
   ]
  },
  {
   "cell_type": "markdown",
   "id": "593a2b47",
   "metadata": {},
   "source": [
    "## 3-1.Dockerfileの確認"
   ]
  },
  {
   "cell_type": "markdown",
   "id": "91eb121a",
   "metadata": {},
   "source": [
    "まずは、利用するDockerfileを確認します。\n",
    "MMSに必要なJavaをインストールし、MMSとinference-toolkitをインストールしています。\n",
    "\n",
    "lightgbmはrequirements.txtでインストールを試みるため、Dockerfileには記載していません。（記載することも可能）"
   ]
  },
  {
   "cell_type": "code",
   "execution_count": 98,
   "id": "d28e0890",
   "metadata": {},
   "outputs": [
    {
     "name": "stdout",
     "output_type": "stream",
     "text": [
      "\u001b[34mFROM\u001b[39;49;00m \u001b[33mpython:3.8\u001b[39;49;00m\n",
      "\u001b[34mWORKDIR\u001b[39;49;00m\u001b[33m /usr/src/app\u001b[39;49;00m\n",
      "\u001b[34mRUN\u001b[39;49;00m apt-get update && apt-get upgrade -y && apt-get install -y openjdk-11-jdk-headless\n",
      "\u001b[34mRUN\u001b[39;49;00m pip install --no-cache-dir multi-model-server sagemaker-inference\n",
      "\u001b[34mCOPY\u001b[39;49;00m dockerd-entrypoint.py ./\n",
      "\u001b[34mENTRYPOINT\u001b[39;49;00m [\u001b[33m\"python\"\u001b[39;49;00m, \u001b[33m\"/usr/src/app/dockerd-entrypoint.py\"\u001b[39;49;00m]\n"
     ]
    }
   ],
   "source": [
    "!pygmentize ./container_sminftoolkit/Dockerfile"
   ]
  },
  {
   "cell_type": "markdown",
   "id": "3b47e2ef",
   "metadata": {},
   "source": [
    "## 3-2.エントリポイントを確認\n",
    "\n",
    "SageMakerSDKにてdeploy()を実行した際の\n",
    "\n",
    "docker run \\<image> server\n",
    "\n",
    "で実行される、ENTRYPOINTを確認します。\n",
    "\n",
    "dockerfile"
   ]
  },
  {
   "cell_type": "markdown",
   "id": "59c0b8ed",
   "metadata": {},
   "source": [
    "これは、以下に該当する。\n",
    "\n",
    "3.Implement a serving entrypoint, which starts the model server.\n",
    "\n",
    "\n",
    "https://github.com/aws/sagemaker-inference-toolkit/blob/master/src/sagemaker_inference/model_server.py\n",
    "\n",
    "start_model_server()は、引数指定しない場合、\n",
    "\n",
    "DEFAULT_HANDLER_SERVICE = default_handler_service.__name__\n",
    "\n",
    "を指定。これは、inference-toolkitのハンドラサービスである。\n",
    "\n",
    "https://github.com/aws/sagemaker-inference-toolkit/blob/master/src/sagemaker_inference/default_handler_service.py\n",
    "\n",
    "\n",
    "\n",
    "ハンドラサービスが、Transformer()を作り、そのなかで、推論ハンドラが作られている。\n",
    "\n",
    "DefaultHandlerService -> Transformer -> DefaultInferenceHandler\n",
    "\n",
    "https://github.com/aws/sagemaker-inference-toolkit/blob/3774c1a0fb4408cfa95333b75d6e30a376bffa52/src/sagemaker_inference/transformer.py\n"
   ]
  },
  {
   "cell_type": "code",
   "execution_count": 47,
   "id": "5f633504",
   "metadata": {},
   "outputs": [
    {
     "name": "stdout",
     "output_type": "stream",
     "text": [
      "\u001b[34mfrom\u001b[39;49;00m \u001b[04m\u001b[36msagemaker_inference\u001b[39;49;00m \u001b[34mimport\u001b[39;49;00m model_server\n",
      "\u001b[36mprint\u001b[39;49;00m(\u001b[33m'\u001b[39;49;00m\u001b[33m========== This is START of dockerd-entrypoint.py =============\u001b[39;49;00m\u001b[33m'\u001b[39;49;00m)\n",
      "model_server.start_model_server()\n",
      "\u001b[36mprint\u001b[39;49;00m(\u001b[33m'\u001b[39;49;00m\u001b[33m========== This is END of dockerd-entrypoint.py =============\u001b[39;49;00m\u001b[33m'\u001b[39;49;00m)\n"
     ]
    }
   ],
   "source": [
    "!pygmentize ./container_sminftoolkit/dockerd-entrypoint.py"
   ]
  },
  {
   "cell_type": "markdown",
   "id": "e35d0b39",
   "metadata": {},
   "source": [
    "start_model_server()は引数指定しない場合、\n",
    "inference-toolkitのTransform()が作られる。\n",
    "\n",
    "https://github.com/aws/sagemaker-inference-toolkit/blob/master/src/sagemaker_inference/model_server.py\n",
    "\n",
    "DEFAULT_HANDLER_SERVICE = default_handler_service.__name__\n",
    "\n",
    "より、\n",
    "\n",
    "https://github.com/aws/sagemaker-inference-toolkit/blob/master/src/sagemaker_inference/default_handler_service.py\n",
    "\n",
    "__init__にて、Trransformer()が実行\n",
    "\n",
    "https://github.com/aws/sagemaker-inference-toolkit/blob/master/src/sagemaker_inference/transformer.py\n",
    "\n",
    "Transform()において、inference-toolkitのDefaultInferenceHandlerが利用される。\n",
    "\n",
    "https://github.com/aws/sagemaker-inference-toolkit/blob/master/src/sagemaker_inference/default_inference_handler.py\n",
    "\n",
    "よって、このdockerd-entrypoint.pyが最小構成となる。"
   ]
  },
  {
   "cell_type": "markdown",
   "id": "3d3e342d",
   "metadata": {},
   "source": [
    "## 解説\n",
    "ハンドラサービスと推論ハンドラがある。\n",
    "\n",
    "ハンドラサービスは、以下に該当する。\n",
    "\n",
    "2.Implement a handler service that is executed by the model server.\n",
    "\n",
    "モデルの推論ハンドラは、以下に該当する。\n",
    "\n",
    "1.Implement an inference handler, which is responsible for loading the model and providing input, predict, and output functions. \n",
    "\n",
    "\n",
    "2.のハンドラサービスから、1.の推論ハンドラがロードされる。推論ハンドラはinference-toolkitで用意したものを使ってもよい。"
   ]
  },
  {
   "cell_type": "code",
   "execution_count": 48,
   "id": "7969bec3",
   "metadata": {},
   "outputs": [],
   "source": [
    "#!pygmentize ./container_sminftoolkit/model_handler.py ### 最小構成には不要"
   ]
  },
  {
   "cell_type": "code",
   "execution_count": 49,
   "id": "a56cd317",
   "metadata": {},
   "outputs": [
    {
     "name": "stdout",
     "output_type": "stream",
     "text": [
      "Login Succeeded\n",
      "sha256:a88b9da80bae3eaf6df922c948a07855886e0bd667b17878b717497ec98ee02b\n",
      "The push refers to repository [390731033655.dkr.ecr.ap-northeast-1.amazonaws.com/demo-sagemaker-inftoolkit]\n",
      "98e1c540fc48: Preparing\n",
      "5bc8538c2aef: Preparing\n",
      "c9ceeb472b7a: Preparing\n",
      "96b22d555b0b: Preparing\n",
      "08f7737fec66: Preparing\n",
      "dee03037c4fc: Preparing\n",
      "17517a754285: Preparing\n",
      "0c7daf9a72c8: Preparing\n",
      "75ba02937496: Preparing\n",
      "288cf3a46e32: Preparing\n",
      "186da837555d: Preparing\n",
      "955c9335e041: Preparing\n",
      "8e079fee2186: Preparing\n",
      "0c7daf9a72c8: Waiting\n",
      "75ba02937496: Waiting\n",
      "288cf3a46e32: Waiting\n",
      "186da837555d: Waiting\n",
      "955c9335e041: Waiting\n",
      "8e079fee2186: Waiting\n",
      "dee03037c4fc: Waiting\n",
      "17517a754285: Waiting\n",
      "5bc8538c2aef: Layer already exists\n",
      "08f7737fec66: Layer already exists\n",
      "98e1c540fc48: Layer already exists\n",
      "96b22d555b0b: Layer already exists\n",
      "c9ceeb472b7a: Layer already exists\n",
      "dee03037c4fc: Layer already exists\n",
      "17517a754285: Layer already exists\n",
      "75ba02937496: Layer already exists\n",
      "186da837555d: Layer already exists\n",
      "288cf3a46e32: Layer already exists\n",
      "0c7daf9a72c8: Layer already exists\n",
      "955c9335e041: Layer already exists\n",
      "8e079fee2186: Layer already exists\n",
      "latest: digest: sha256:a686e1582d412a317e259d3c1feaebdaa5fea278b67b10c02443603df6206beb size: 3057\n"
     ]
    },
    {
     "name": "stderr",
     "output_type": "stream",
     "text": [
      "WARNING! Using --password via the CLI is insecure. Use --password-stdin.\n",
      "WARNING! Your password will be stored unencrypted in /home/ec2-user/.docker/config.json.\n",
      "Configure a credential helper to remove this warning. See\n",
      "https://docs.docker.com/engine/reference/commandline/login/#credentials-store\n",
      "\n"
     ]
    }
   ],
   "source": [
    "%%sh\n",
    "\n",
    "# The name of our algorithm\n",
    "#algorithm_name=demo-sagemaker-multimodel\n",
    "algorithm_name=demo-sagemaker-inftoolkit\n",
    "\n",
    "#cd container\n",
    "cd container_sminftoolkit\n",
    "\n",
    "account=$(aws sts get-caller-identity --query Account --output text)\n",
    "\n",
    "# Get the region defined in the current configuration (default to us-west-2 if none defined)\n",
    "region=$(aws configure get region)\n",
    "region=${region:-us-west-2}\n",
    "\n",
    "fullname=\"${account}.dkr.ecr.${region}.amazonaws.com/${algorithm_name}:latest\"\n",
    "\n",
    "# If the repository doesn't exist in ECR, create it.\n",
    "aws ecr describe-repositories --repository-names \"${algorithm_name}\" > /dev/null 2>&1\n",
    "\n",
    "if [ $? -ne 0 ]\n",
    "then\n",
    "    aws ecr create-repository --repository-name \"${algorithm_name}\" > /dev/null\n",
    "fi\n",
    "\n",
    "# Get the login command from ECR and execute it directly\n",
    "$(aws ecr get-login --region ${region} --no-include-email)\n",
    "\n",
    "# Build the docker image locally with the image name and then push it to ECR\n",
    "# with the full name.\n",
    "\n",
    "docker build -q -t ${algorithm_name} .\n",
    "docker tag ${algorithm_name} ${fullname}\n",
    "\n",
    "docker push ${fullname}"
   ]
  },
  {
   "cell_type": "markdown",
   "id": "9b6f4f1a",
   "metadata": {},
   "source": [
    "* dockerd-entrypoint.py が実行され、サーバーの起動を試みる。\n",
    "    * サーバー起動の際に必要はハンドラーは、odel-handler.pyに記載されている。\n",
    "    \n"
   ]
  },
  {
   "cell_type": "markdown",
   "id": "d28aaa6a",
   "metadata": {},
   "source": [
    "## ローカルにエンドポイントをデプロイ\n",
    "モデルは前のセクションで作成したLGBMモデル\n",
    "\n",
    "* ソースも指定する\n",
    "* LGBMはrequirements.txtでインストールする"
   ]
  },
  {
   "cell_type": "code",
   "execution_count": 50,
   "id": "06366437",
   "metadata": {},
   "outputs": [],
   "source": [
    "container_uri = f'{account_id}.dkr.ecr.{region_name}.amazonaws.com/demo-sagemaker-inftoolkit:latest'"
   ]
  },
  {
   "cell_type": "code",
   "execution_count": 51,
   "id": "810f4f39",
   "metadata": {},
   "outputs": [
    {
     "data": {
      "text/plain": [
       "'390731033655.dkr.ecr.ap-northeast-1.amazonaws.com/demo-sagemaker-inftoolkit:latest'"
      ]
     },
     "execution_count": 51,
     "metadata": {},
     "output_type": "execute_result"
    }
   ],
   "source": [
    "container_uri"
   ]
  },
  {
   "cell_type": "code",
   "execution_count": 52,
   "id": "3a9eaaf6",
   "metadata": {},
   "outputs": [
    {
     "data": {
      "text/plain": [
       "'s3://sagemaker-ap-northeast-1-390731033655/sagemaker-lightgbm-regression-2022-10-25-04-37-16-219/output/model.tar.gz'"
      ]
     },
     "execution_count": 52,
     "metadata": {},
     "output_type": "execute_result"
    }
   ],
   "source": [
    "### 2.8の学習ジョブで構築したモデルを利用する\n",
    "est_lightgbm.model_data"
   ]
  },
  {
   "cell_type": "code",
   "execution_count": 53,
   "id": "4a3e6533",
   "metadata": {},
   "outputs": [
    {
     "name": "stdout",
     "output_type": "stream",
     "text": [
      "CONTAINER ID   IMAGE                                                                             COMMAND   CREATED         STATUS         PORTS                                       NAMES\n",
      "2f5a1ac7a5c9   390731033655.dkr.ecr.ap-northeast-1.amazonaws.com/sagemaker-lightgbm-regression   \"serve\"   6 minutes ago   Up 6 minutes   0.0.0.0:8080->8080/tcp, :::8080->8080/tcp   ijko95ia2e-algo-1-x5jwn\n"
     ]
    }
   ],
   "source": [
    "!docker ps"
   ]
  },
  {
   "cell_type": "code",
   "execution_count": 54,
   "id": "5bd0065a",
   "metadata": {},
   "outputs": [
    {
     "name": "stdout",
     "output_type": "stream",
     "text": [
      "\u001b[36mijko95ia2e-algo-1-x5jwn |\u001b[0m [2022-10-25 04:43:36 +0000] [10] [INFO] Handling signal: term\n",
      "\u001b[36mijko95ia2e-algo-1-x5jwn exited with code 0\n",
      "2f5a1ac7a5c9\n",
      "\u001b[0mAborting on container exit...\n"
     ]
    }
   ],
   "source": [
    "#全コンテナ停止\n",
    "!docker stop $(docker ps -q)"
   ]
  },
  {
   "cell_type": "code",
   "execution_count": 55,
   "id": "58bf714b",
   "metadata": {},
   "outputs": [
    {
     "name": "stdout",
     "output_type": "stream",
     "text": [
      "CONTAINER ID   IMAGE     COMMAND   CREATED   STATUS    PORTS     NAMES\n"
     ]
    }
   ],
   "source": [
    "!docker ps"
   ]
  },
  {
   "cell_type": "code",
   "execution_count": 56,
   "id": "2d86298a",
   "metadata": {},
   "outputs": [],
   "source": [
    "from sagemaker.predictor import RealTimePredictor\n",
    "\n",
    "lgb_model = sagemaker.model.Model(#est_xgb.image_uri, # XGBoostビルトインコンテナのURI\n",
    "                                  container_uri,\n",
    "                                  model_data=est_lightgbm.model_data, # ローカル学習で生成したモデルファイル\n",
    "                                  role=role,\n",
    "                                  predictor_cls=RealTimePredictor, # 推論するための識別子を指定\n",
    "                                  source_dir='./src_builtin_container_serve', # requirements.txt必要な場合\n",
    "                                  entry_point='inference.py' # source_dirを指定している場合、.pyファイルを指定する。\n",
    "                                  #entry_point='./src_builtin_container_serve/inference.py'\n",
    "                                 )"
   ]
  },
  {
   "cell_type": "code",
   "execution_count": 57,
   "id": "32d7ec0b",
   "metadata": {},
   "outputs": [
    {
     "name": "stdout",
     "output_type": "stream",
     "text": [
      "Attaching to c8t5d8mv7c-algo-1-eitup\n",
      "\u001b[36mc8t5d8mv7c-algo-1-eitup |\u001b[0m ========== This is START of dockerd-entrypoint.py =============\n",
      "\u001b[36mc8t5d8mv7c-algo-1-eitup |\u001b[0m Collecting lightgbm\n",
      "\u001b[36mc8t5d8mv7c-algo-1-eitup |\u001b[0m   Downloading lightgbm-3.3.3-py3-none-manylinux1_x86_64.whl (2.0 MB)\n",
      "\u001b[2K     \u001b[90m━━━━━━━━━━━━━━━━━━━━━━━━━━━━━━━━━━━━━━━━\u001b[0m \u001b[32m2.0/2.0 MB\u001b[0m \u001b[31m67.2 MB/s\u001b[0m eta \u001b[36m0:00:00\u001b[0m31m?\u001b[0m eta \u001b[36m-:--:--\u001b[0m\n",
      "\u001b[36mc8t5d8mv7c-algo-1-eitup |\u001b[0m \u001b[?25hRequirement already satisfied: numpy in /usr/local/lib/python3.8/site-packages (from lightgbm->-r /opt/ml/model/code/requirements.txt (line 1)) (1.23.4)\n",
      "\u001b[36mc8t5d8mv7c-algo-1-eitup |\u001b[0m Requirement already satisfied: scipy in /usr/local/lib/python3.8/site-packages (from lightgbm->-r /opt/ml/model/code/requirements.txt (line 1)) (1.9.3)\n",
      "\u001b[36mc8t5d8mv7c-algo-1-eitup |\u001b[0m Collecting scikit-learn!=0.22.0\n",
      "\u001b[36mc8t5d8mv7c-algo-1-eitup |\u001b[0m   Downloading scikit_learn-1.1.2-cp38-cp38-manylinux_2_17_x86_64.manylinux2014_x86_64.whl (31.2 MB)\n",
      "\u001b[2K     \u001b[90m━━━━━━━━━━━━━━━━━━━━━━━━━━━━━━━━━━━━━━━━\u001b[0m \u001b[32m31.2/31.2 MB\u001b[0m \u001b[31m15.9 MB/s\u001b[0m eta \u001b[36m0:00:00\u001b[0m00:01\u001b[0m00:01\u001b[0m:--:--\u001b[0m\n",
      "\u001b[36mc8t5d8mv7c-algo-1-eitup |\u001b[0m \u001b[?25hRequirement already satisfied: wheel in /usr/local/lib/python3.8/site-packages (from lightgbm->-r /opt/ml/model/code/requirements.txt (line 1)) (0.37.1)\n",
      "\u001b[36mc8t5d8mv7c-algo-1-eitup |\u001b[0m Collecting joblib>=1.0.0\n",
      "\u001b[36mc8t5d8mv7c-algo-1-eitup |\u001b[0m   Downloading joblib-1.2.0-py3-none-any.whl (297 kB)\n",
      "\u001b[2K     \u001b[90m━━━━━━━━━━━━━━━━━━━━━━━━━━━━━━━━━━━━━━\u001b[0m \u001b[32m298.0/298.0 KB\u001b[0m \u001b[31m42.2 MB/s\u001b[0m eta \u001b[36m0:00:00\u001b[0m31m?\u001b[0m eta \u001b[36m-:--:--\u001b[0m\n",
      "\u001b[36mc8t5d8mv7c-algo-1-eitup |\u001b[0m \u001b[?25hCollecting threadpoolctl>=2.0.0\n",
      "\u001b[36mc8t5d8mv7c-algo-1-eitup |\u001b[0m   Downloading threadpoolctl-3.1.0-py3-none-any.whl (14 kB)\n",
      "\u001b[36mc8t5d8mv7c-algo-1-eitup |\u001b[0m Installing collected packages: threadpoolctl, joblib, scikit-learn, lightgbm\n",
      "\u001b[36mc8t5d8mv7c-algo-1-eitup |\u001b[0m Successfully installed joblib-1.2.0 lightgbm-3.3.3 scikit-learn-1.1.2 threadpoolctl-3.1.0\n",
      "\u001b[36mc8t5d8mv7c-algo-1-eitup |\u001b[0m \u001b[33mWARNING: Running pip as the 'root' user can result in broken permissions and conflicting behaviour with the system package manager. It is recommended to use a virtual environment instead: https://pip.pypa.io/warnings/venv\u001b[0m\u001b[33m\n",
      "\u001b[36mc8t5d8mv7c-algo-1-eitup |\u001b[0m \u001b[0m\u001b[33mWARNING: You are using pip version 22.0.4; however, version 22.3 is available.\n",
      "\u001b[36mc8t5d8mv7c-algo-1-eitup |\u001b[0m You should consider upgrading via the '/usr/local/bin/python -m pip install --upgrade pip' command.\u001b[0m\u001b[33m\n",
      "\u001b[36mc8t5d8mv7c-algo-1-eitup |\u001b[0m \u001b[0mWarning: MMS is using non-default JVM parameters: -XX:-UseContainerSupport\n",
      "\u001b[36mc8t5d8mv7c-algo-1-eitup |\u001b[0m WARNING: sun.reflect.Reflection.getCallerClass is not supported. This will impact performance.\n",
      "\u001b[36mc8t5d8mv7c-algo-1-eitup |\u001b[0m 2022-10-25T04:43:46,979 [INFO ] main com.amazonaws.ml.mms.ModelServer - \n",
      "\u001b[36mc8t5d8mv7c-algo-1-eitup |\u001b[0m MMS Home: /usr/local/lib/python3.8/site-packages\n",
      "\u001b[36mc8t5d8mv7c-algo-1-eitup |\u001b[0m Current directory: /usr/src/app\n",
      "\u001b[36mc8t5d8mv7c-algo-1-eitup |\u001b[0m Temp directory: /tmp\n",
      "\u001b[36mc8t5d8mv7c-algo-1-eitup |\u001b[0m Number of GPUs: 0\n",
      "\u001b[36mc8t5d8mv7c-algo-1-eitup |\u001b[0m Number of CPUs: 2\n",
      "\u001b[36mc8t5d8mv7c-algo-1-eitup |\u001b[0m Max heap size: 966 M\n",
      "\u001b[36mc8t5d8mv7c-algo-1-eitup |\u001b[0m Python executable: /usr/local/bin/python\n",
      "\u001b[36mc8t5d8mv7c-algo-1-eitup |\u001b[0m Config file: /etc/sagemaker-mms.properties\n",
      "\u001b[36mc8t5d8mv7c-algo-1-eitup |\u001b[0m Inference address: http://0.0.0.0:8080\n",
      "\u001b[36mc8t5d8mv7c-algo-1-eitup |\u001b[0m Management address: http://0.0.0.0:8080\n",
      "\u001b[36mc8t5d8mv7c-algo-1-eitup |\u001b[0m Model Store: /\n",
      "\u001b[36mc8t5d8mv7c-algo-1-eitup |\u001b[0m Initial Models: model=/opt/ml/model\n",
      "\u001b[36mc8t5d8mv7c-algo-1-eitup |\u001b[0m Log dir: null\n",
      "\u001b[36mc8t5d8mv7c-algo-1-eitup |\u001b[0m Metrics dir: null\n",
      "\u001b[36mc8t5d8mv7c-algo-1-eitup |\u001b[0m Netty threads: 0\n",
      "\u001b[36mc8t5d8mv7c-algo-1-eitup |\u001b[0m Netty client threads: 0\n",
      "\u001b[36mc8t5d8mv7c-algo-1-eitup |\u001b[0m Default workers per model: 2\n",
      "\u001b[36mc8t5d8mv7c-algo-1-eitup |\u001b[0m Blacklist Regex: N/A\n",
      "\u001b[36mc8t5d8mv7c-algo-1-eitup |\u001b[0m Maximum Response Size: 6553500\n",
      "\u001b[36mc8t5d8mv7c-algo-1-eitup |\u001b[0m Maximum Request Size: 6553500\n",
      "\u001b[36mc8t5d8mv7c-algo-1-eitup |\u001b[0m Preload model: false\n",
      "\u001b[36mc8t5d8mv7c-algo-1-eitup |\u001b[0m Prefer direct buffer: false\n",
      "\u001b[36mc8t5d8mv7c-algo-1-eitup |\u001b[0m 2022-10-25T04:43:46,991 [INFO ] main com.amazonaws.ml.mms.ModelServer - Loading initial models: /opt/ml/model preload_model: false\n",
      "\u001b[36mc8t5d8mv7c-algo-1-eitup |\u001b[0m 2022-10-25T04:43:47,065 [WARN ] W-9000-model com.amazonaws.ml.mms.wlm.WorkerLifeCycle - attachIOStreams() threadName=W-9000-model\n",
      "\u001b[36mc8t5d8mv7c-algo-1-eitup |\u001b[0m 2022-10-25T04:43:47,152 [INFO ] W-9000-model-stdout com.amazonaws.ml.mms.wlm.WorkerLifeCycle - model_service_worker started with args: --sock-type unix --sock-name /tmp/.mms.sock.9000 --handler sagemaker_inference.default_handler_service --model-path /opt/ml/model --model-name model --preload-model false --tmp-dir /tmp\n",
      "\u001b[36mc8t5d8mv7c-algo-1-eitup |\u001b[0m 2022-10-25T04:43:47,155 [INFO ] W-9000-model-stdout com.amazonaws.ml.mms.wlm.WorkerLifeCycle - Listening on port: /tmp/.mms.sock.9000\n",
      "\u001b[36mc8t5d8mv7c-algo-1-eitup |\u001b[0m 2022-10-25T04:43:47,157 [INFO ] W-9000-model-stdout com.amazonaws.ml.mms.wlm.WorkerLifeCycle - [PID] 39\n",
      "\u001b[36mc8t5d8mv7c-algo-1-eitup |\u001b[0m 2022-10-25T04:43:47,157 [INFO ] W-9000-model-stdout com.amazonaws.ml.mms.wlm.WorkerLifeCycle - MMS worker started.\n",
      "\u001b[36mc8t5d8mv7c-algo-1-eitup |\u001b[0m 2022-10-25T04:43:47,158 [INFO ] W-9000-model-stdout com.amazonaws.ml.mms.wlm.WorkerLifeCycle - Python runtime: 3.8.15\n",
      "\u001b[36mc8t5d8mv7c-algo-1-eitup |\u001b[0m 2022-10-25T04:43:47,158 [INFO ] main com.amazonaws.ml.mms.wlm.ModelManager - Model model loaded.\n",
      "\u001b[36mc8t5d8mv7c-algo-1-eitup |\u001b[0m 2022-10-25T04:43:47,164 [INFO ] main com.amazonaws.ml.mms.ModelServer - Initialize Inference server with: EpollServerSocketChannel.\n",
      "\u001b[36mc8t5d8mv7c-algo-1-eitup |\u001b[0m 2022-10-25T04:43:47,203 [INFO ] W-9000-model com.amazonaws.ml.mms.wlm.WorkerThread - Connecting to: /tmp/.mms.sock.9000\n",
      "\u001b[36mc8t5d8mv7c-algo-1-eitup |\u001b[0m 2022-10-25T04:43:47,198 [INFO ] W-9000-model com.amazonaws.ml.mms.wlm.WorkerThread - Connecting to: /tmp/.mms.sock.9000\n",
      "\u001b[36mc8t5d8mv7c-algo-1-eitup |\u001b[0m 2022-10-25T04:43:47,349 [INFO ] main com.amazonaws.ml.mms.ModelServer - Inference API bind to: http://0.0.0.0:8080\n",
      "\u001b[36mc8t5d8mv7c-algo-1-eitup |\u001b[0m 2022-10-25T04:43:47,352 [INFO ] W-9000-model-stdout com.amazonaws.ml.mms.wlm.WorkerLifeCycle - Connection accepted: /tmp/.mms.sock.9000.\n",
      "\u001b[36mc8t5d8mv7c-algo-1-eitup |\u001b[0m Model server started.\n",
      "\u001b[36mc8t5d8mv7c-algo-1-eitup |\u001b[0m 2022-10-25T04:43:47,377 [INFO ] W-9000-model-stdout com.amazonaws.ml.mms.wlm.WorkerLifeCycle - Connection accepted: /tmp/.mms.sock.9000.\n",
      "\u001b[36mc8t5d8mv7c-algo-1-eitup |\u001b[0m 2022-10-25T04:43:47,395 [WARN ] pool-3-thread-1 com.amazonaws.ml.mms.metrics.MetricCollector - worker pid is not available yet.\n",
      "\u001b[36mc8t5d8mv7c-algo-1-eitup |\u001b[0m 2022-10-25T04:43:48,683 [INFO ] pool-2-thread-4 ACCESS_LOG - /172.18.0.1:59948 \"GET /ping HTTP/1.1\" 200 86\n",
      "!"
     ]
    },
    {
     "name": "stderr",
     "output_type": "stream",
     "text": [
      "The class RealTimePredictor has been renamed in sagemaker>=2.\n",
      "See: https://sagemaker.readthedocs.io/en/stable/v2.html for details.\n"
     ]
    }
   ],
   "source": [
    "predictor_lgb_model = lgb_model.deploy(initial_instance_count=1,\n",
    "                                       instance_type='local', \n",
    "                                       serializer=csv_serializer, ### string形式でSageMakerに渡す（認識してもらう）\n",
    "                                      )"
   ]
  },
  {
   "cell_type": "code",
   "execution_count": 58,
   "id": "acf11935",
   "metadata": {},
   "outputs": [
    {
     "name": "stdout",
     "output_type": "stream",
     "text": [
      "CONTAINER ID   IMAGE                                                                                COMMAND                  CREATED         STATUS         PORTS                                       NAMES\n",
      "ac1dd8df0088   390731033655.dkr.ecr.ap-northeast-1.amazonaws.com/demo-sagemaker-inftoolkit:latest   \"python /usr/src/app…\"   9 seconds ago   Up 9 seconds   0.0.0.0:8080->8080/tcp, :::8080->8080/tcp   c8t5d8mv7c-algo-1-eitup\n"
     ]
    }
   ],
   "source": [
    "!docker ps"
   ]
  },
  {
   "cell_type": "code",
   "execution_count": 59,
   "id": "ded53046",
   "metadata": {},
   "outputs": [],
   "source": [
    "#!docker stop f380dc891702"
   ]
  },
  {
   "cell_type": "code",
   "execution_count": 60,
   "id": "7173d75e",
   "metadata": {},
   "outputs": [],
   "source": [
    "#!docker ps"
   ]
  },
  {
   "cell_type": "markdown",
   "id": "ce3fd3a4",
   "metadata": {},
   "source": [
    "## 推論実施"
   ]
  },
  {
   "cell_type": "code",
   "execution_count": 61,
   "id": "fd90a32d",
   "metadata": {},
   "outputs": [
    {
     "name": "stderr",
     "output_type": "stream",
     "text": [
      "The csv_serializer has been renamed in sagemaker>=2.\n",
      "See: https://sagemaker.readthedocs.io/en/stable/v2.html for details.\n"
     ]
    },
    {
     "name": "stdout",
     "output_type": "stream",
     "text": [
      "\u001b[36mc8t5d8mv7c-algo-1-eitup |\u001b[0m 2022-10-25T04:43:49,043 [INFO ] W-9000-model-stdout com.amazonaws.ml.mms.wlm.WorkerLifeCycle - /opt/ml/model\n",
      "\u001b[36mc8t5d8mv7c-algo-1-eitup |\u001b[0m 2022-10-25T04:43:49,044 [INFO ] W-9000-model-stdout com.amazonaws.ml.mms.wlm.WorkerLifeCycle - /opt/ml/model\n",
      "\u001b[36mc8t5d8mv7c-algo-1-eitup |\u001b[0m 2022-10-25T04:43:49,059 [INFO ] W-9000-model-stdout com.amazonaws.ml.mms.wlm.WorkerLifeCycle - code\n",
      "\u001b[36mc8t5d8mv7c-algo-1-eitup |\u001b[0m 2022-10-25T04:43:49,059 [INFO ] W-9000-model-stdout com.amazonaws.ml.mms.wlm.WorkerLifeCycle - lightgbm-regression-model.txt\n",
      "\u001b[36mc8t5d8mv7c-algo-1-eitup |\u001b[0m 2022-10-25T04:43:49,060 [INFO ] W-9000-model-stdout com.amazonaws.ml.mms.wlm.WorkerLifeCycle - model.tar.gz\n",
      "\u001b[36mc8t5d8mv7c-algo-1-eitup |\u001b[0m 2022-10-25T04:43:49,060 [INFO ] W-9000-model-stdout com.amazonaws.ml.mms.wlm.WorkerLifeCycle - code\n",
      "\u001b[36mc8t5d8mv7c-algo-1-eitup |\u001b[0m 2022-10-25T04:43:49,060 [INFO ] W-9000-model-stdout com.amazonaws.ml.mms.wlm.WorkerLifeCycle - lightgbm-regression-model.txt\n",
      "\u001b[36mc8t5d8mv7c-algo-1-eitup |\u001b[0m 2022-10-25T04:43:49,060 [INFO ] W-9000-model-stdout com.amazonaws.ml.mms.wlm.WorkerLifeCycle - model.tar.gz\n",
      "\u001b[36mc8t5d8mv7c-algo-1-eitup |\u001b[0m 2022-10-25T04:43:49,064 [INFO ] W-9000-model-stdout com.amazonaws.ml.mms.wlm.WorkerLifeCycle - code\n",
      "\u001b[36mc8t5d8mv7c-algo-1-eitup |\u001b[0m 2022-10-25T04:43:49,064 [INFO ] W-9000-model-stdout com.amazonaws.ml.mms.wlm.WorkerLifeCycle - lightgbm-regression-model.txt\n",
      "\u001b[36mc8t5d8mv7c-algo-1-eitup |\u001b[0m 2022-10-25T04:43:49,064 [INFO ] W-9000-model-stdout com.amazonaws.ml.mms.wlm.WorkerLifeCycle - model.tar.gz\n",
      "\u001b[36mc8t5d8mv7c-algo-1-eitup |\u001b[0m 2022-10-25T04:43:49,080 [INFO ] W-9000-model-stdout com.amazonaws.ml.mms.wlm.WorkerLifeCycle - code\n",
      "\u001b[36mc8t5d8mv7c-algo-1-eitup |\u001b[0m 2022-10-25T04:43:49,081 [INFO ] W-9000-model-stdout com.amazonaws.ml.mms.wlm.WorkerLifeCycle - lightgbm-regression-model.txt\n",
      "\u001b[36mc8t5d8mv7c-algo-1-eitup |\u001b[0m 2022-10-25T04:43:49,081 [INFO ] W-9000-model-stdout com.amazonaws.ml.mms.wlm.WorkerLifeCycle - model.tar.gz\n",
      "\u001b[36mc8t5d8mv7c-algo-1-eitup |\u001b[0m 2022-10-25T04:43:49,101 [INFO ] W-9000-model-stdout com.amazonaws.ml.mms.wlm.WorkerLifeCycle - =================================\n",
      "\u001b[36mc8t5d8mv7c-algo-1-eitup |\u001b[0m 2022-10-25T04:43:49,102 [INFO ] W-9000-model-stdout com.amazonaws.ml.mms.wlm.WorkerLifeCycle - =================================\n",
      "\u001b[36mc8t5d8mv7c-algo-1-eitup |\u001b[0m 2022-10-25T04:43:49,102 [INFO ] W-9000-model-stdout com.amazonaws.ml.mms.wlm.WorkerLifeCycle - ==========my model_fn==============\n",
      "\u001b[36mc8t5d8mv7c-algo-1-eitup |\u001b[0m 2022-10-25T04:43:49,102 [INFO ] W-9000-model-stdout com.amazonaws.ml.mms.wlm.WorkerLifeCycle - =================================\n",
      "\u001b[36mc8t5d8mv7c-algo-1-eitup |\u001b[0m 2022-10-25T04:43:49,102 [INFO ] W-9000-model-stdout com.amazonaws.ml.mms.wlm.WorkerLifeCycle - =================================\n",
      "\u001b[36mc8t5d8mv7c-algo-1-eitup |\u001b[0m 2022-10-25T04:43:49,105 [INFO ] W-9000-model com.amazonaws.ml.mms.wlm.WorkerThread - Backend response time: 1602\n",
      "\u001b[36mc8t5d8mv7c-algo-1-eitup |\u001b[0m 2022-10-25T04:43:49,107 [WARN ] W-9000-model com.amazonaws.ml.mms.wlm.WorkerLifeCycle - attachIOStreams() threadName=W-model-2\n",
      "\u001b[36mc8t5d8mv7c-algo-1-eitup |\u001b[0m 2022-10-25T04:43:49,103 [INFO ] W-9000-model-stdout com.amazonaws.ml.mms.wlm.WorkerLifeCycle - ==============a===================\n",
      "\u001b[36mc8t5d8mv7c-algo-1-eitup |\u001b[0m 2022-10-25T04:43:49,111 [INFO ] W-9000-model-stdout com.amazonaws.ml.mms.wlm.WorkerLifeCycle - ===============a==================\n",
      "\u001b[36mc8t5d8mv7c-algo-1-eitup |\u001b[0m 2022-10-25T04:43:49,112 [INFO ] W-9000-model-stdout com.amazonaws.ml.mms.wlm.WorkerLifeCycle - ==================================\n",
      "\u001b[36mc8t5d8mv7c-algo-1-eitup |\u001b[0m 2022-10-25T04:43:49,112 [INFO ] W-9000-model-stdout com.amazonaws.ml.mms.wlm.WorkerLifeCycle - ======= Display ENV values =======\n",
      "\u001b[36mc8t5d8mv7c-algo-1-eitup |\u001b[0m 2022-10-25T04:43:49,112 [INFO ] W-9000-model-stdout com.amazonaws.ml.mms.wlm.WorkerLifeCycle - ==================================\n",
      "\u001b[36mc8t5d8mv7c-algo-1-eitup |\u001b[0m 2022-10-25T04:43:49,113 [INFO ] W-9000-model-stdout com.amazonaws.ml.mms.wlm.WorkerLifeCycle - PATH: /usr/local/bin:/usr/local/sbin:/usr/local/bin:/usr/sbin:/usr/bin:/sbin:/bin\n",
      "\u001b[36mc8t5d8mv7c-algo-1-eitup |\u001b[0m 2022-10-25T04:43:49,113 [INFO ] W-9000-model-stdout com.amazonaws.ml.mms.wlm.WorkerLifeCycle - PYTHONPATH: /opt/ml/model/code:sagemaker_inference.default_handler_service:/opt/ml/model/code::/opt/ml/model\n",
      "\u001b[36mc8t5d8mv7c-algo-1-eitup |\u001b[0m 2022-10-25T04:43:49,113 [INFO ] W-9000-model-stdout com.amazonaws.ml.mms.wlm.WorkerLifeCycle - TERM: xterm\n",
      "\u001b[36mc8t5d8mv7c-algo-1-eitup |\u001b[0m 2022-10-25T04:43:49,113 [INFO ] W-9000-model-stdout com.amazonaws.ml.mms.wlm.WorkerLifeCycle - GPG_KEY: E3FF2839C048B25C084DEBE9B26995E310250568\n",
      "\u001b[36mc8t5d8mv7c-algo-1-eitup |\u001b[0m 2022-10-25T04:43:49,113 [INFO ] W-9000-model-stdout com.amazonaws.ml.mms.wlm.WorkerLifeCycle - PYTHON_GET_PIP_URL: https://github.com/pypa/get-pip/raw/5eaac1050023df1f5c98b173b248c260023f2278/public/get-pip.py\n",
      "\u001b[36mc8t5d8mv7c-algo-1-eitup |\u001b[0m 2022-10-25T04:43:49,114 [INFO ] W-9000-model-stdout com.amazonaws.ml.mms.wlm.WorkerLifeCycle - LANG: C.UTF-8\n",
      "\u001b[36mc8t5d8mv7c-algo-1-eitup |\u001b[0m 2022-10-25T04:43:49,114 [INFO ] W-9000-model-stdout com.amazonaws.ml.mms.wlm.WorkerLifeCycle - SAGEMAKER_REGION: ap-northeast-1\n",
      "\u001b[36mc8t5d8mv7c-algo-1-eitup |\u001b[0m 2022-10-25T04:43:49,114 [INFO ] W-9000-model-stdout com.amazonaws.ml.mms.wlm.WorkerLifeCycle - SAGEMAKER_CONTAINER_LOG_LEVEL: 20\n",
      "\u001b[36mc8t5d8mv7c-algo-1-eitup |\u001b[0m 2022-10-25T04:43:49,114 [INFO ] W-9000-model-stdout com.amazonaws.ml.mms.wlm.WorkerLifeCycle - PYTHON_PIP_VERSION: 22.0.4\n",
      "\u001b[36mc8t5d8mv7c-algo-1-eitup |\u001b[0m 2022-10-25T04:43:49,108 [INFO ] W-9000-model com.amazonaws.ml.mms.wlm.WorkerThread - Backend response time: 1623\n",
      "\u001b[36mc8t5d8mv7c-algo-1-eitup |\u001b[0m 2022-10-25T04:43:49,121 [WARN ] W-9000-model com.amazonaws.ml.mms.wlm.WorkerLifeCycle - attachIOStreams() threadName=W-model-1\n",
      "\u001b[36mc8t5d8mv7c-algo-1-eitup |\u001b[0m 2022-10-25T04:43:49,122 [INFO ] W-9000-model-stdout com.amazonaws.ml.mms.wlm.WorkerLifeCycle - HOSTNAME: ac1dd8df0088\n",
      "\u001b[36mc8t5d8mv7c-algo-1-eitup |\u001b[0m 2022-10-25T04:43:49,125 [INFO ] W-9000-model-stdout com.amazonaws.ml.mms.wlm.WorkerLifeCycle - PYTHON_SETUPTOOLS_VERSION: 57.5.0\n",
      "\u001b[36mc8t5d8mv7c-algo-1-eitup |\u001b[0m 2022-10-25T04:43:49,126 [INFO ] W-9000-model-stdout com.amazonaws.ml.mms.wlm.WorkerLifeCycle - PYTHON_VERSION: 3.8.15\n",
      "\u001b[36mc8t5d8mv7c-algo-1-eitup |\u001b[0m 2022-10-25T04:43:49,126 [INFO ] W-9000-model-stdout com.amazonaws.ml.mms.wlm.WorkerLifeCycle - PYTHON_GET_PIP_SHA256: 5aefe6ade911d997af080b315ebcb7f882212d070465df544e1175ac2be519b4\n",
      "\u001b[36mc8t5d8mv7c-algo-1-eitup |\u001b[0m 2022-10-25T04:43:49,127 [INFO ] W-9000-model-stdout com.amazonaws.ml.mms.wlm.WorkerLifeCycle - SAGEMAKER_SUBMIT_DIRECTORY: /opt/ml/model/code\n",
      "\u001b[36mc8t5d8mv7c-algo-1-eitup |\u001b[0m 2022-10-25T04:43:49,127 [INFO ] W-9000-model-stdout com.amazonaws.ml.mms.wlm.WorkerLifeCycle - HOME: /root\n",
      "\u001b[36mc8t5d8mv7c-algo-1-eitup |\u001b[0m 2022-10-25T04:43:49,128 [INFO ] W-9000-model-stdout com.amazonaws.ml.mms.wlm.WorkerLifeCycle - SAGEMAKER_PROGRAM: inference.py\n",
      "\u001b[36mc8t5d8mv7c-algo-1-eitup |\u001b[0m 2022-10-25T04:43:49,128 [INFO ] W-9000-model-stdout com.amazonaws.ml.mms.wlm.WorkerLifeCycle - MMS_DECODE_INPUT_REQUEST: false\n",
      "\u001b[36mc8t5d8mv7c-algo-1-eitup |\u001b[0m 2022-10-25T04:43:49,125 [INFO ] W-9000-model com.amazonaws.ml.mms.wlm.WorkerThread - Backend response time: 13\n",
      "\u001b[36mc8t5d8mv7c-algo-1-eitup |\u001b[0m 2022-10-25T04:43:49,124 [INFO ] W-model-2-stdout com.amazonaws.ml.mms.wlm.WorkerLifeCycle - =================================\n",
      "\u001b[36mc8t5d8mv7c-algo-1-eitup |\u001b[0m 2022-10-25T04:43:49,134 [INFO ] W-model-2-stdout com.amazonaws.ml.mms.wlm.WorkerLifeCycle - =================================\n",
      "\u001b[36mc8t5d8mv7c-algo-1-eitup |\u001b[0m 2022-10-25T04:43:49,134 [INFO ] W-model-2-stdout com.amazonaws.ml.mms.wlm.WorkerLifeCycle - ==========my input_fn =========\n",
      "\u001b[36mc8t5d8mv7c-algo-1-eitup |\u001b[0m 2022-10-25T04:43:49,134 [INFO ] W-model-2-stdout com.amazonaws.ml.mms.wlm.WorkerLifeCycle - =================================\n",
      "\u001b[36mc8t5d8mv7c-algo-1-eitup |\u001b[0m 2022-10-25T04:43:49,134 [INFO ] W-model-2-stdout com.amazonaws.ml.mms.wlm.WorkerLifeCycle - =================================\n",
      "\u001b[36mc8t5d8mv7c-algo-1-eitup |\u001b[0m 2022-10-25T04:43:49,134 [INFO ] W-model-2-stdout com.amazonaws.ml.mms.wlm.WorkerLifeCycle - text/csv\n",
      "\u001b[36mc8t5d8mv7c-algo-1-eitup |\u001b[0m 2022-10-25T04:43:49,135 [INFO ] W-model-2-stdout com.amazonaws.ml.mms.wlm.WorkerLifeCycle - ========== input_data =========\n",
      "\u001b[36mc8t5d8mv7c-algo-1-eitup |\u001b[0m 2022-10-25T04:43:49,135 [INFO ] W-model-2-stdout com.amazonaws.ml.mms.wlm.WorkerLifeCycle - <class 'str'>\n",
      "\u001b[36mc8t5d8mv7c-algo-1-eitup |\u001b[0m 2022-10-25T04:43:49,137 [INFO ] W-model-2-stdout com.amazonaws.ml.mms.wlm.WorkerLifeCycle - 0.25387,0.0,6.91,0.0,0.448,5.399,95.3,5.87,3.0,233.0,17.9,396.9,30.81\n",
      "\u001b[36mc8t5d8mv7c-algo-1-eitup |\u001b[0m 2022-10-25T04:43:49,139 [INFO ] W-model-2-stdout com.amazonaws.ml.mms.wlm.WorkerLifeCycle - 0.01951,17.5,1.38,0.0,0.4161,7.104,59.5,9.2229,3.0,216.0,18.6,393.24,8.05\n",
      "\u001b[36mc8t5d8mv7c-algo-1-eitup |\u001b[0m 2022-10-25T04:43:49,133 [INFO ] W-9000-model-stdout com.amazonaws.ml.mms.wlm.WorkerLifeCycle - OMP_NUM_THREADS: 1\n",
      "\u001b[36mc8t5d8mv7c-algo-1-eitup |\u001b[0m 2022-10-25T04:43:49,140 [INFO ] W-9000-model-stdout com.amazonaws.ml.mms.wlm.WorkerLifeCycle - MXNET_USE_OPERATOR_TUNING: 0\n",
      "\u001b[36mc8t5d8mv7c-algo-1-eitup |\u001b[0m 2022-10-25T04:43:49,140 [INFO ] W-9000-model-stdout com.amazonaws.ml.mms.wlm.WorkerLifeCycle - KMP_DUPLICATE_LIB_OK: True\n",
      "\u001b[36mc8t5d8mv7c-algo-1-eitup |\u001b[0m 2022-10-25T04:43:49,140 [INFO ] W-9000-model-stdout com.amazonaws.ml.mms.wlm.WorkerLifeCycle - KMP_INIT_AT_FORK: FALSE\n",
      "\u001b[36mc8t5d8mv7c-algo-1-eitup |\u001b[0m 2022-10-25T04:43:49,140 [INFO ] W-9000-model-stdout com.amazonaws.ml.mms.wlm.WorkerLifeCycle - =================================\n",
      "\u001b[36mc8t5d8mv7c-algo-1-eitup |\u001b[0m 2022-10-25T04:43:49,133 [INFO ] W-9000-model ACCESS_LOG - /172.18.0.1:59952 \"POST /invocations HTTP/1.1\" 200 37\n",
      "====================\n",
      "[19.95642073217597, 27.844891841022335, 23.747437427003455, 21.961517177305176, 33.70952263893306, 16.546899933876215, 20.7577247308279, 21.58941351302627, 28.44096446328559, 21.573610198594977, 16.520022349295115, 18.56239893242527, 33.70952263893306, 21.66404760045202, 18.839854556333133, 20.524517944865078, 23.512192914502315, 19.720552829648888, 14.831841119971708, 25.48273874904075, 24.232639474441545, 21.624005932843115, 24.961489794296718, 31.737194191676068, 21.634052928440624, 28.40721160777621, 21.408363849719503, 14.831841119971708, 22.218594550645975, 21.174456098551236, 21.78791955089051, 14.831841119971708, 29.996695633096042, 22.44097524661187, 33.83316205414468, 26.41403196992683, 33.70952263893306, 17.366188662166092, 27.56686070285819, 30.785697489113854, 19.36938873496206, 20.70626548555591, 17.759853567831996, 27.888269821752413, 20.521395163186774, 14.831841119971708, 24.776417537973362, 24.965857100129327, 19.649289821764185, 21.026797620813866, 33.70952263893306, 22.770867837558004, 25.12436361101226, 32.04499227317663, 20.300871717805446, 25.993751032745912, 14.831841119971708, 17.55319877077615, 21.070286538617665, 21.122413297289743, 16.377053075082987, 15.568373592583868, 33.70952263893306, 27.61154020402463, 19.342761095149218, 17.9509721146777, 33.70952263893306, 33.83316205414468, 25.48273874904075, 20.660796015624964, 30.699461095863427, 21.035390723179418, 22.185819485247606, 19.29909952861762, 16.5747000607082, 23.912684065447934, 28.57571329880843, 16.236339853147257, 27.50109599287484, 15.753943396426372, 17.4887323059089, 16.546899933876215, 27.601367949672184, 27.83102844560462, 23.566264337152624, 27.50109599287484, 21.643847857886936, 18.787237415866525, 17.9186752451325, 14.831841119971708, 22.735042390270507, 18.93446150698524, 20.78281339932023, 15.124660622321342, 26.580072090826267, 33.83316205414468, 22.241689637239144, 18.003487732270226, 26.120941030113585, 21.857620352091608, 23.067030809188566, 31.381458114994132]\n",
      "\u001b[36mc8t5d8mv7c-algo-1-eitup |\u001b[0m 2022-10-25T04:43:49,139 [INFO ] W-model-2-stdout com.amazonaws.ml.mms.wlm.WorkerLifeCycle - 4.64689,0.0,18.1,0.0,0.614,6.98,67.6,2.5329,24.0,666.0,20.2,374.68,11.66\n",
      "\u001b[36mc8t5d8mv7c-algo-1-eitup |\u001b[0m 2022-10-25T04:43:49,144 [INFO ] W-model-2-stdout com.amazonaws.ml.mms.wlm.WorkerLifeCycle - 3.67367,0.0,18.1,0.0,0.583,6.312,51.9,3.9917,24.0,666.0,20.2,388.62,10.58\n",
      "\u001b[36mc8t5d8mv7c-algo-1-eitup |\u001b[0m 2022-10-25T04:43:49,144 [INFO ] W-model-2-stdout com.amazonaws.ml.mms.wlm.WorkerLifeCycle - 0.29819,0.0,6.2,0.0,0.504,7.686,17.0,3.3751,8.0,307.0,17.4,377.51,3.92\n",
      "\u001b[36mc8t5d8mv7c-algo-1-eitup |\u001b[0m 2022-10-25T04:43:49,150 [INFO ] W-model-2-stdout com.amazonaws.ml.mms.wlm.WorkerLifeCycle - 8.15174,0.0,18.1,0.0,0.7,5.39,98.9,1.7281,24.0,666.0,20.2,396.9,20.85\n",
      "\u001b[36mc8t5d8mv7c-algo-1-eitup |\u001b[0m 2022-10-25T04:43:49,154 [INFO ] W-model-2-stdout com.amazonaws.ml.mms.wlm.WorkerLifeCycle - 6.65492,0.0,18.1,0.0,0.713,6.317,83.0,2.7344,24.0,666.0,20.2,396.9,13.99\n",
      "\u001b[36mc8t5d8mv7c-algo-1-eitup |\u001b[0m 2022-10-25T04:43:49,144 [INFO ] W-9000-model-stdout com.amazonaws.ml.mms.wlm.WorkerLifeCycle - =======START LOAD MODEL===========\n",
      "\u001b[36mc8t5d8mv7c-algo-1-eitup |\u001b[0m 2022-10-25T04:43:49,154 [INFO ] W-9000-model-stdout com.amazonaws.ml.mms.wlm.WorkerLifeCycle - =================================\n",
      "\u001b[36mc8t5d8mv7c-algo-1-eitup |\u001b[0m 2022-10-25T04:43:49,154 [INFO ] W-9000-model-stdout com.amazonaws.ml.mms.wlm.WorkerLifeCycle - =================================\n",
      "\u001b[36mc8t5d8mv7c-algo-1-eitup |\u001b[0m 2022-10-25T04:43:49,155 [INFO ] W-9000-model-stdout com.amazonaws.ml.mms.wlm.WorkerLifeCycle - =======END OF model_fn===========\n",
      "\u001b[36mc8t5d8mv7c-algo-1-eitup |\u001b[0m 2022-10-25T04:43:49,155 [INFO ] W-9000-model-stdout com.amazonaws.ml.mms.wlm.WorkerLifeCycle - =================================\n",
      "\u001b[36mc8t5d8mv7c-algo-1-eitup |\u001b[0m 2022-10-25T04:43:49,155 [INFO ] W-9000-model-stdout com.amazonaws.ml.mms.wlm.WorkerLifeCycle - Model model loaded io_fd=0242acfffe120002-00000012-00000002-293d8d30d4262895-26d1c844\n",
      "\u001b[36mc8t5d8mv7c-algo-1-eitup |\u001b[0m 2022-10-25T04:43:49,155 [INFO ] W-9000-model-stdout com.amazonaws.ml.mms.wlm.WorkerLifeCycle - =================================\n",
      "\u001b[36mc8t5d8mv7c-algo-1-eitup |\u001b[0m 2022-10-25T04:43:49,156 [INFO ] W-model-2-stdout com.amazonaws.ml.mms.wlm.WorkerLifeCycle - 0.17171,25.0,5.13,0.0,0.453,5.966,93.4,6.8185,8.0,284.0,19.7,378.08,14.44\n",
      "\u001b[36mc8t5d8mv7c-algo-1-eitup |\u001b[0m 2022-10-25T04:43:49,156 [INFO ] W-model-2-stdout com.amazonaws.ml.mms.wlm.WorkerLifeCycle - 5.73116,0.0,18.1,0.0,0.532,7.061,77.0,3.4106,24.0,666.0,20.2,395.28,7.01\n",
      "\u001b[36mc8t5d8mv7c-algo-1-eitup |\u001b[0m 2022-10-25T04:43:49,156 [INFO ] W-model-2-stdout com.amazonaws.ml.mms.wlm.WorkerLifeCycle - 3.1636,0.0,18.1,0.0,0.655,5.759,48.2,3.0665,24.0,666.0,20.2,334.4,14.13\n",
      "\u001b[36mc8t5d8mv7c-algo-1-eitup |\u001b[0m 2022-10-25T04:43:49,157 [INFO ] W-model-2-stdout com.amazonaws.ml.mms.wlm.WorkerLifeCycle - 11.8123,0.0,18.1,0.0,0.718,6.824,76.5,1.794,24.0,666.0,20.2,48.45,22.74\n"
     ]
    }
   ],
   "source": [
    "### 推論実行\n",
    "with open(local_test, 'r') as f:\n",
    "    payload = f.read().strip()\n",
    "\n",
    "predicted = predictor_lgb_model.predict(payload).decode('utf-8')\n",
    "print('=' * 20)\n",
    "print(predicted)"
   ]
  },
  {
   "cell_type": "code",
   "execution_count": 62,
   "id": "6a1e2857",
   "metadata": {},
   "outputs": [
    {
     "name": "stdout",
     "output_type": "stream",
     "text": [
      "\u001b[36mc8t5d8mv7c-algo-1-eitup |\u001b[0m 2022-10-25T04:43:49,156 [INFO ] W-9000-model-stdout com.amazonaws.ml.mms.wlm.WorkerLifeCycle - =================================\n",
      "\u001b[36mc8t5d8mv7c-algo-1-eitup |\u001b[0m 2022-10-25T04:43:49,159 [INFO ] W-9000-model-stdout com.amazonaws.ml.mms.wlm.WorkerLifeCycle - ==========my model_fn==============\n",
      "\u001b[36mc8t5d8mv7c-algo-1-eitup |\u001b[0m 2022-10-25T04:43:49,159 [INFO ] W-9000-model-stdout com.amazonaws.ml.mms.wlm.WorkerLifeCycle - =================================\n",
      "\u001b[36mc8t5d8mv7c-algo-1-eitup |\u001b[0m 2022-10-25T04:43:49,160 [INFO ] W-9000-model-stdout com.amazonaws.ml.mms.wlm.WorkerLifeCycle - =================================\n",
      "\u001b[36mc8t5d8mv7c-algo-1-eitup |\u001b[0m 2022-10-25T04:43:49,160 [INFO ] W-9000-model-stdout com.amazonaws.ml.mms.wlm.WorkerLifeCycle - ==============a===================\n",
      "\u001b[36mc8t5d8mv7c-algo-1-eitup |\u001b[0m 2022-10-25T04:43:49,161 [INFO ] W-9000-model-stdout com.amazonaws.ml.mms.wlm.WorkerLifeCycle - ===============a==================\n",
      "\u001b[36mc8t5d8mv7c-algo-1-eitup |\u001b[0m 2022-10-25T04:43:49,161 [INFO ] W-9000-model-stdout com.amazonaws.ml.mms.wlm.WorkerLifeCycle - ==================================\n",
      "\u001b[36mc8t5d8mv7c-algo-1-eitup |\u001b[0m 2022-10-25T04:43:49,161 [INFO ] W-9000-model-stdout com.amazonaws.ml.mms.wlm.WorkerLifeCycle - ======= Display ENV values =======\n",
      "\u001b[36mc8t5d8mv7c-algo-1-eitup |\u001b[0m 2022-10-25T04:43:49,161 [INFO ] W-9000-model-stdout com.amazonaws.ml.mms.wlm.WorkerLifeCycle - ==================================\n",
      "\u001b[36mc8t5d8mv7c-algo-1-eitup |\u001b[0m 2022-10-25T04:43:49,160 [INFO ] W-model-2-stdout com.amazonaws.ml.mms.wlm.WorkerLifeCycle - 8.64476,0.0,18.1,0.0,0.693,6.193,92.6,1.7912,24.0,666.0,20.2,396.9,15.17\n",
      "\u001b[36mc8t5d8mv7c-algo-1-eitup |\u001b[0m 2022-10-25T04:43:49,162 [INFO ] W-model-2-stdout com.amazonaws.ml.mms.wlm.WorkerLifeCycle - 0.02177,82.5,2.03,0.0,0.415,7.61,15.7,6.27,2.0,348.0,14.7,395.38,3.11\n",
      "\u001b[36mc8t5d8mv7c-algo-1-eitup |\u001b[0m 2022-10-25T04:43:49,162 [INFO ] W-model-2-stdout com.amazonaws.ml.mms.wlm.WorkerLifeCycle - 0.13914,0.0,4.05,0.0,0.51,5.572,88.5,2.5961,5.0,296.0,16.6,396.9,14.69\n",
      "\u001b[36mc8t5d8mv7c-algo-1-eitup |\u001b[0m 2022-10-25T04:43:49,162 [INFO ] W-model-2-stdout com.amazonaws.ml.mms.wlm.WorkerLifeCycle - 8.05579,0.0,18.1,0.0,0.584,5.427,95.4,2.4298,24.0,666.0,20.2,352.58,18.14\n",
      "\u001b[36mc8t5d8mv7c-algo-1-eitup |\u001b[0m 2022-10-25T04:43:49,162 [INFO ] W-model-2-stdout com.amazonaws.ml.mms.wlm.WorkerLifeCycle - 0.22876,0.0,8.56,0.0,0.52,6.405,85.4,2.7147,5.0,384.0,20.9,70.8,10.63\n",
      "\u001b[36mc8t5d8mv7c-algo-1-eitup |\u001b[0m 2022-10-25T04:43:49,163 [INFO ] W-model-2-stdout com.amazonaws.ml.mms.wlm.WorkerLifeCycle - 0.07013,0.0,13.89,0.0,0.55,6.642,85.1,3.4211,5.0,276.0,16.4,392.78,9.69\n",
      "\u001b[36mc8t5d8mv7c-algo-1-eitup |\u001b[0m 2022-10-25T04:43:49,163 [INFO ] W-9000-model-stdout com.amazonaws.ml.mms.wlm.WorkerLifeCycle - PATH: /usr/local/bin:/usr/local/sbin:/usr/local/bin:/usr/sbin:/usr/bin:/sbin:/bin\n",
      "\u001b[36mc8t5d8mv7c-algo-1-eitup |\u001b[0m 2022-10-25T04:43:49,163 [INFO ] W-9000-model-stdout com.amazonaws.ml.mms.wlm.WorkerLifeCycle - PYTHONPATH: /opt/ml/model/code:sagemaker_inference.default_handler_service:/opt/ml/model/code::/opt/ml/model\n",
      "\u001b[36mc8t5d8mv7c-algo-1-eitup |\u001b[0m 2022-10-25T04:43:49,167 [INFO ] W-9000-model-stdout com.amazonaws.ml.mms.wlm.WorkerLifeCycle - TERM: xterm\n",
      "\u001b[36mc8t5d8mv7c-algo-1-eitup |\u001b[0m 2022-10-25T04:43:49,169 [INFO ] W-9000-model-stdout com.amazonaws.ml.mms.wlm.WorkerLifeCycle - GPG_KEY: E3FF2839C048B25C084DEBE9B26995E310250568\n",
      "\u001b[36mc8t5d8mv7c-algo-1-eitup |\u001b[0m 2022-10-25T04:43:49,163 [INFO ] W-model-2-stdout com.amazonaws.ml.mms.wlm.WorkerLifeCycle - 0.28955,0.0,10.59,0.0,0.489,5.412,9.8,3.5875,4.0,277.0,18.6,348.93,29.55\n",
      "\u001b[36mc8t5d8mv7c-algo-1-eitup |\u001b[0m 2022-10-25T04:43:49,169 [INFO ] W-model-2-stdout com.amazonaws.ml.mms.wlm.WorkerLifeCycle - 23.6482,0.0,18.1,0.0,0.671,6.38,96.2,1.3861,24.0,666.0,20.2,396.9,23.69\n",
      "\u001b[36mc8t5d8mv7c-algo-1-eitup |\u001b[0m 2022-10-25T04:43:49,170 [INFO ] W-9000-model-stdout com.amazonaws.ml.mms.wlm.WorkerLifeCycle - PYTHON_GET_PIP_URL: https://github.com/pypa/get-pip/raw/5eaac1050023df1f5c98b173b248c260023f2278/public/get-pip.py\n",
      "\u001b[36mc8t5d8mv7c-algo-1-eitup |\u001b[0m 2022-10-25T04:43:49,170 [INFO ] W-model-2-stdout com.amazonaws.ml.mms.wlm.WorkerLifeCycle - 4.54192,0.0,18.1,0.0,0.77,6.398,88.0,2.5182,24.0,666.0,20.2,374.56,7.79\n",
      "\u001b[36mc8t5d8mv7c-algo-1-eitup |\u001b[0m 2022-10-25T04:43:49,170 [INFO ] W-model-2-stdout com.amazonaws.ml.mms.wlm.WorkerLifeCycle - 0.04741,0.0,11.93,0.0,0.573,6.03,80.8,2.505,1.0,273.0,21.0,396.9,7.88\n",
      "\u001b[36mc8t5d8mv7c-algo-1-eitup |\u001b[0m 2022-10-25T04:43:49,170 [INFO ] W-model-2-stdout com.amazonaws.ml.mms.wlm.WorkerLifeCycle - 0.04301,80.0,1.91,0.0,0.413,5.663,21.9,10.5857,4.0,334.0,22.0,382.8,8.05\n",
      "\u001b[36mc8t5d8mv7c-algo-1-eitup |\u001b[0m 2022-10-25T04:43:49,172 [INFO ] W-model-2-stdout com.amazonaws.ml.mms.wlm.WorkerLifeCycle - 0.0795,60.0,1.69,0.0,0.411,6.579,35.9,10.7103,4.0,411.0,18.3,370.78,5.49\n",
      "\u001b[36mc8t5d8mv7c-algo-1-eitup |\u001b[0m 2022-10-25T04:43:49,170 [INFO ] W-9000-model-stdout com.amazonaws.ml.mms.wlm.WorkerLifeCycle - LANG: C.UTF-8\n",
      "\u001b[36mc8t5d8mv7c-algo-1-eitup |\u001b[0m 2022-10-25T04:43:49,172 [INFO ] W-9000-model-stdout com.amazonaws.ml.mms.wlm.WorkerLifeCycle - SAGEMAKER_REGION: ap-northeast-1\n",
      "\u001b[36mc8t5d8mv7c-algo-1-eitup |\u001b[0m 2022-10-25T04:43:49,172 [INFO ] W-9000-model-stdout com.amazonaws.ml.mms.wlm.WorkerLifeCycle - SAGEMAKER_CONTAINER_LOG_LEVEL: 20\n",
      "\u001b[36mc8t5d8mv7c-algo-1-eitup |\u001b[0m 2022-10-25T04:43:49,173 [INFO ] W-model-2-stdout com.amazonaws.ml.mms.wlm.WorkerLifeCycle - 0.0686,0.0,2.89,0.0,0.445,7.416,62.5,3.4952,2.0,276.0,18.0,396.9,6.19\n",
      "\u001b[36mc8t5d8mv7c-algo-1-eitup |\u001b[0m 2022-10-25T04:43:49,173 [INFO ] W-9000-model-stdout com.amazonaws.ml.mms.wlm.WorkerLifeCycle - PYTHON_PIP_VERSION: 22.0.4\n",
      "\u001b[36mc8t5d8mv7c-algo-1-eitup |\u001b[0m 2022-10-25T04:43:49,173 [INFO ] W-9000-model-stdout com.amazonaws.ml.mms.wlm.WorkerLifeCycle - HOSTNAME: ac1dd8df0088\n",
      "\u001b[36mc8t5d8mv7c-algo-1-eitup |\u001b[0m 2022-10-25T04:43:49,174 [INFO ] W-9000-model-stdout com.amazonaws.ml.mms.wlm.WorkerLifeCycle - PYTHON_SETUPTOOLS_VERSION: 57.5.0\n",
      "\u001b[36mc8t5d8mv7c-algo-1-eitup |\u001b[0m 2022-10-25T04:43:49,173 [INFO ] W-model-2-stdout com.amazonaws.ml.mms.wlm.WorkerLifeCycle - 0.10153,0.0,12.83,0.0,0.437,6.279,74.5,4.0522,5.0,398.0,18.7,373.66,11.97\n",
      "\u001b[36mc8t5d8mv7c-algo-1-eitup |\u001b[0m 2022-10-25T04:43:49,174 [INFO ] W-model-2-stdout com.amazonaws.ml.mms.wlm.WorkerLifeCycle - 0.06076,0.0,11.93,0.0,0.573,6.976,91.0,2.1675,1.0,273.0,21.0,396.9,5.64\n",
      "\u001b[36mc8t5d8mv7c-algo-1-eitup |\u001b[0m 2022-10-25T04:43:49,174 [INFO ] W-model-2-stdout com.amazonaws.ml.mms.wlm.WorkerLifeCycle - 0.17505,0.0,5.96,0.0,0.499,5.966,30.2,3.8473,5.0,279.0,19.2,393.43,10.13\n",
      "\u001b[36mc8t5d8mv7c-algo-1-eitup |\u001b[0m 2022-10-25T04:43:49,177 [INFO ] W-model-2-stdout com.amazonaws.ml.mms.wlm.WorkerLifeCycle - 41.5292,0.0,18.1,0.0,0.693,5.531,85.4,1.6074,24.0,666.0,20.2,329.46,27.38\n",
      "\u001b[36mc8t5d8mv7c-algo-1-eitup |\u001b[0m 2022-10-25T04:43:49,175 [INFO ] W-9000-model-stdout com.amazonaws.ml.mms.wlm.WorkerLifeCycle - PYTHON_VERSION: 3.8.15\n",
      "\u001b[36mc8t5d8mv7c-algo-1-eitup |\u001b[0m 2022-10-25T04:43:49,177 [INFO ] W-9000-model-stdout com.amazonaws.ml.mms.wlm.WorkerLifeCycle - PYTHON_GET_PIP_SHA256: 5aefe6ade911d997af080b315ebcb7f882212d070465df544e1175ac2be519b4\n",
      "\u001b[36mc8t5d8mv7c-algo-1-eitup |\u001b[0m 2022-10-25T04:43:49,177 [INFO ] W-model-2-stdout com.amazonaws.ml.mms.wlm.WorkerLifeCycle - 2.44953,0.0,19.58,0.0,0.605,6.402,95.2,2.2625,5.0,403.0,14.7,330.04,11.32\n",
      "[19.95642073217597, 27.844891841022335, 23.747437427003455, 21.961517177305176, 33.70952263893306, 16.546899933876215, 20.7577247308279, 21.58941351302627, 28.44096446328559, 21.573610198594977, 16.520022349295115, 18.56239893242527, 33.70952263893306, 21.66404760045202, 18.839854556333133, 20.524517944865078, 23.512192914502315, 19.720552829648888, 14.831841119971708, 25.48273874904075, 24.232639474441545, 21.624005932843115, 24.961489794296718, 31.737194191676068, 21.634052928440624, 28.40721160777621, 21.408363849719503, 14.831841119971708, 22.218594550645975, 21.174456098551236, 21.78791955089051, 14.831841119971708, 29.996695633096042, 22.44097524661187, 33.83316205414468, 26.41403196992683, 33.70952263893306, 17.366188662166092, 27.56686070285819, 30.785697489113854, 19.36938873496206, 20.70626548555591, 17.759853567831996, 27.888269821752413, 20.521395163186774, 14.831841119971708, 24.776417537973362, 24.965857100129327, 19.649289821764185, 21.026797620813866, 33.70952263893306, 22.770867837558004, 25.12436361101226, 32.04499227317663, 20.300871717805446, 25.993751032745912, 14.831841119971708, 17.55319877077615, 21.070286538617665, 21.122413297289743, 16.377053075082987, 15.568373592583868, 33.70952263893306, 27.61154020402463, 19.342761095149218, 17.9509721146777, 33.70952263893306, 33.83316205414468, 25.48273874904075, 20.660796015624964, 30.699461095863427, 21.035390723179418, 22.185819485247606, 19.29909952861762, 16.5747000607082, 23.912684065447934, 28.57571329880843, 16.236339853147257, 27.50109599287484, 15.753943396426372, 17.4887323059089, 16.546899933876215, 27.601367949672184, 27.83102844560462, 23.566264337152624, 27.50109599287484, 21.643847857886936, 18.787237415866525, 17.9186752451325, 14.831841119971708, 22.735042390270507, 18.93446150698524, 20.78281339932023, 15.124660622321342, 26.580072090826267, 33.83316205414468, 22.241689637239144, 18.003487732270226, 26.120941030113585, 21.857620352091608, 23.067030809188566, 31.381458114994132]\u001b[36mc8t5d8mv7c-algo-1-eitup |\u001b[0m 2022-10-25T04:43:49,178 [INFO ] W-model-2-stdout com.amazonaws.ml.mms.wlm.WorkerLifeCycle - 0.26838,0.0,9.69,0.0,0.585,5.794,70.6,2.8927,6.0,391.0,19.2,396.9,14.1\n",
      "\u001b[36mc8t5d8mv7c-algo-1-eitup |\u001b[0m 2022-10-25T04:43:49,178 [INFO ] W-9000-model-stdout com.amazonaws.ml.mms.wlm.WorkerLifeCycle - SAGEMAKER_SUBMIT_DIRECTORY: /opt/ml/model/code\n",
      "\u001b[36mc8t5d8mv7c-algo-1-eitup |\u001b[0m 2022-10-25T04:43:49,178 [INFO ] W-9000-model-stdout com.amazonaws.ml.mms.wlm.WorkerLifeCycle - HOME: /root\n",
      "\u001b[36mc8t5d8mv7c-algo-1-eitup |\u001b[0m 2022-10-25T04:43:49,178 [INFO ] W-9000-model-stdout com.amazonaws.ml.mms.wlm.WorkerLifeCycle - SAGEMAKER_PROGRAM: inference.py\n",
      "\u001b[36mc8t5d8mv7c-algo-1-eitup |\u001b[0m 2022-10-25T04:43:49,179 [INFO ] W-9000-model-stdout com.amazonaws.ml.mms.wlm.WorkerLifeCycle - MMS_DECODE_INPUT_REQUEST: false\n",
      "\u001b[36mc8t5d8mv7c-algo-1-eitup |\u001b[0m 2022-10-25T04:43:49,179 [INFO ] W-model-2-stdout com.amazonaws.ml.mms.wlm.WorkerLifeCycle - 0.08873,21.0,5.64,0.0,0.439,5.963,45.7,6.8147,4.0,243.0,16.8,395.56,13.45\n",
      "\u001b[36mc8t5d8mv7c-algo-1-eitup |\u001b[0m 2022-10-25T04:43:49,179 [INFO ] W-model-2-stdout com.amazonaws.ml.mms.wlm.WorkerLifeCycle - 16.8118,0.0,18.1,0.0,0.7,5.277,98.1,1.4261,24.0,666.0,20.2,396.9,30.81\n",
      "\u001b[36mc8t5d8mv7c-algo-1-eitup |\u001b[0m 2022-10-25T04:43:49,179 [INFO ] W-model-2-stdout com.amazonaws.ml.mms.wlm.WorkerLifeCycle - 0.06905,0.0,2.18,0.0,0.458,7.147,54.2,6.0622,3.0,222.0,18.7,396.9,5.33\n",
      "\u001b[36mc8t5d8mv7c-algo-1-eitup |\u001b[0m 2022-10-25T04:43:49,180 [INFO ] W-model-2-stdout com.amazonaws.ml.mms.wlm.WorkerLifeCycle - 0.05059,0.0,4.49,0.0,0.449,6.389,48.0,4.7794,3.0,247.0,18.5,396.9,9.62\n",
      "\u001b[36mc8t5d8mv7c-algo-1-eitup |\u001b[0m 2022-10-25T04:43:49,179 [INFO ] W-9000-model-stdout com.amazonaws.ml.mms.wlm.WorkerLifeCycle - OMP_NUM_THREADS: 1\n",
      "\u001b[36mc8t5d8mv7c-algo-1-eitup |\u001b[0m 2022-10-25T04:43:49,180 [INFO ] W-9000-model-stdout com.amazonaws.ml.mms.wlm.WorkerLifeCycle - MXNET_USE_OPERATOR_TUNING: 0\n",
      "\u001b[36mc8t5d8mv7c-algo-1-eitup |\u001b[0m 2022-10-25T04:43:49,180 [INFO ] W-9000-model-stdout com.amazonaws.ml.mms.wlm.WorkerLifeCycle - KMP_DUPLICATE_LIB_OK: True\n",
      "\u001b[36mc8t5d8mv7c-algo-1-eitup |\u001b[0m 2022-10-25T04:43:49,180 [INFO ] W-model-2-stdout com.amazonaws.ml.mms.wlm.WorkerLifeCycle - 1.46336,0.0,19.58,0.0,0.605,7.489,90.8,1.9709,5.0,403.0,14.7,374.43,1.73\n",
      "\n",
      "\u001b[36mc8t5d8mv7c-algo-1-eitup |\u001b[0m 2022-10-25T04:43:49,186 [INFO ] W-model-2-stdout com.amazonaws.ml.mms.wlm.WorkerLifeCycle - 0.11432,0.0,8.56,0.0,0.52,6.781,71.3,2.8561,5.0,384.0,20.9,395.58,7.67\n",
      "\u001b[36mc8t5d8mv7c-algo-1-eitup |\u001b[0m 2022-10-25T04:43:49,183 [INFO ] W-9000-model-stdout com.amazonaws.ml.mms.wlm.WorkerLifeCycle - KMP_INIT_AT_FORK: FALSE\n",
      "\u001b[36mc8t5d8mv7c-algo-1-eitup |\u001b[0m 2022-10-25T04:43:49,187 [INFO ] W-model-2-stdout com.amazonaws.ml.mms.wlm.WorkerLifeCycle - 0.06129,20.0,3.33,1.0,0.4429,7.645,49.7,5.2119,5.0,216.0,14.9,377.07,3.01\n",
      "\u001b[36mc8t5d8mv7c-algo-1-eitup |\u001b[0m 2022-10-25T04:43:49,187 [INFO ] W-model-2-stdout com.amazonaws.ml.mms.wlm.WorkerLifeCycle - 18.811,0.0,18.1,0.0,0.597,4.628,100.0,1.5539,24.0,666.0,20.2,28.79,34.37\n",
      "\u001b[36mc8t5d8mv7c-algo-1-eitup |\u001b[0m 2022-10-25T04:43:49,187 [INFO ] W-9000-model-stdout com.amazonaws.ml.mms.wlm.WorkerLifeCycle - =================================\n",
      "\u001b[36mc8t5d8mv7c-algo-1-eitup |\u001b[0m 2022-10-25T04:43:49,188 [INFO ] W-9000-model-stdout com.amazonaws.ml.mms.wlm.WorkerLifeCycle - =======START LOAD MODEL===========\n",
      "\u001b[36mc8t5d8mv7c-algo-1-eitup |\u001b[0m 2022-10-25T04:43:49,188 [INFO ] W-9000-model-stdout com.amazonaws.ml.mms.wlm.WorkerLifeCycle - =================================\n",
      "\u001b[36mc8t5d8mv7c-algo-1-eitup |\u001b[0m 2022-10-25T04:43:49,188 [INFO ] W-model-2-stdout com.amazonaws.ml.mms.wlm.WorkerLifeCycle - 0.03615,80.0,4.95,0.0,0.411,6.63,23.4,5.1167,4.0,245.0,19.2,396.9,4.7\n",
      "\u001b[36mc8t5d8mv7c-algo-1-eitup |\u001b[0m 2022-10-25T04:43:49,189 [INFO ] W-model-2-stdout com.amazonaws.ml.mms.wlm.WorkerLifeCycle - 0.41238,0.0,6.2,0.0,0.504,7.163,79.9,3.2157,8.0,307.0,17.4,372.08,6.36\n",
      "\u001b[36mc8t5d8mv7c-algo-1-eitup |\u001b[0m 2022-10-25T04:43:49,188 [INFO ] W-9000-model-stdout com.amazonaws.ml.mms.wlm.WorkerLifeCycle - =================================\n",
      "\u001b[36mc8t5d8mv7c-algo-1-eitup |\u001b[0m 2022-10-25T04:43:49,189 [INFO ] W-model-2-stdout com.amazonaws.ml.mms.wlm.WorkerLifeCycle - 4.22239,0.0,18.1,1.0,0.77,5.803,89.0,1.9047,24.0,666.0,20.2,353.04,14.64\n",
      "\u001b[36mc8t5d8mv7c-algo-1-eitup |\u001b[0m 2022-10-25T04:43:49,189 [INFO ] W-9000-model-stdout com.amazonaws.ml.mms.wlm.WorkerLifeCycle - =======END OF model_fn===========\n",
      "\u001b[36mc8t5d8mv7c-algo-1-eitup |\u001b[0m 2022-10-25T04:43:49,190 [INFO ] W-9000-model-stdout com.amazonaws.ml.mms.wlm.WorkerLifeCycle - =================================\n",
      "\u001b[36mc8t5d8mv7c-algo-1-eitup |\u001b[0m 2022-10-25T04:43:49,190 [INFO ] W-9000-model-stdout com.amazonaws.ml.mms.wlm.WorkerLifeCycle - Model model loaded io_fd=0242acfffe120002-00000012-00000001-2cb10d30d4262895-4e2caeef\n",
      "\u001b[36mc8t5d8mv7c-algo-1-eitup |\u001b[0m 2022-10-25T04:43:49,190 [INFO ] W-model-2-stdout com.amazonaws.ml.mms.wlm.WorkerLifeCycle - 0.17446,0.0,10.59,1.0,0.489,5.96,92.1,3.8771,4.0,277.0,18.6,393.25,17.27\n",
      "\u001b[36mc8t5d8mv7c-algo-1-eitup |\u001b[0m 2022-10-25T04:43:49,191 [INFO ] W-model-2-stdout com.amazonaws.ml.mms.wlm.WorkerLifeCycle - 5.29305,0.0,18.1,0.0,0.7,6.051,82.5,2.1678,24.0,666.0,20.2,378.38,18.76\n",
      "\u001b[36mc8t5d8mv7c-algo-1-eitup |\u001b[0m 2022-10-25T04:43:49,191 [INFO ] W-model-2-stdout com.amazonaws.ml.mms.wlm.WorkerLifeCycle - 0.02763,75.0,2.95,0.0,0.428,6.595,21.8,5.4011,3.0,252.0,18.3,395.63,4.32\n",
      "\u001b[36mc8t5d8mv7c-algo-1-eitup |\u001b[0m 2022-10-25T04:43:49,192 [INFO ] W-model-2-stdout com.amazonaws.ml.mms.wlm.WorkerLifeCycle - 0.35233,0.0,21.89,0.0,0.624,6.454,98.4,1.8498,4.0,437.0,21.2,394.08,14.59\n"
     ]
    }
   ],
   "source": [
    "print(predicted)"
   ]
  },
  {
   "cell_type": "code",
   "execution_count": 63,
   "id": "5b59c563",
   "metadata": {},
   "outputs": [
    {
     "name": "stdout",
     "output_type": "stream",
     "text": [
      "\u001b[36mc8t5d8mv7c-algo-1-eitup |\u001b[0m 2022-10-25T04:43:49,192 [INFO ] W-model-2-stdout com.amazonaws.ml.mms.wlm.WorkerLifeCycle - 15.8744,0.0,18.1,0.0,0.671,6.545,99.1,1.5192,24.0,666.0,20.2,396.9,21.08\n",
      "\u001b[36mc8t5d8mv7c-algo-1-eitup |\u001b[0m 2022-10-25T04:43:49,192 [INFO ] W-model-2-stdout com.amazonaws.ml.mms.wlm.WorkerLifeCycle - 0.03537,34.0,6.09,0.0,0.433,6.59,40.4,5.4917,7.0,329.0,16.1,395.75,9.5\n",
      "\u001b[36mc8t5d8mv7c-algo-1-eitup |\u001b[0m 2022-10-25T04:43:49,196 [INFO ] W-model-2-stdout com.amazonaws.ml.mms.wlm.WorkerLifeCycle - 0.09252,30.0,4.93,0.0,0.428,6.606,42.2,6.1899,6.0,300.0,16.6,383.78,7.37\n",
      "\u001b[36mc8t5d8mv7c-algo-1-eitup |\u001b[0m 2022-10-25T04:43:49,196 [INFO ] W-model-2-stdout com.amazonaws.ml.mms.wlm.WorkerLifeCycle - 0.32543,0.0,21.89,0.0,0.624,6.431,98.8,1.8125,4.0,437.0,21.2,396.9,15.39\n",
      "\u001b[36mc8t5d8mv7c-algo-1-eitup |\u001b[0m 2022-10-25T04:43:49,198 [INFO ] W-model-2-stdout com.amazonaws.ml.mms.wlm.WorkerLifeCycle - 0.16902,0.0,25.65,0.0,0.581,5.986,88.4,1.9929,2.0,188.0,19.1,385.02,14.81\n",
      "\u001b[36mc8t5d8mv7c-algo-1-eitup |\u001b[0m 2022-10-25T04:43:49,199 [INFO ] W-model-2-stdout com.amazonaws.ml.mms.wlm.WorkerLifeCycle - 0.02009,95.0,2.68,0.0,0.4161,8.034,31.9,5.118,4.0,224.0,14.7,390.55,2.88\n",
      "\u001b[36mc8t5d8mv7c-algo-1-eitup |\u001b[0m 2022-10-25T04:43:49,199 [INFO ] W-model-2-stdout com.amazonaws.ml.mms.wlm.WorkerLifeCycle - 0.10659,80.0,1.91,0.0,0.413,5.936,19.5,10.5857,4.0,334.0,22.0,376.04,5.57\n",
      "\u001b[36mc8t5d8mv7c-algo-1-eitup |\u001b[0m 2022-10-25T04:43:49,200 [INFO ] W-model-2-stdout com.amazonaws.ml.mms.wlm.WorkerLifeCycle - 0.03932,0.0,3.41,0.0,0.489,6.405,73.9,3.0921,2.0,270.0,17.8,393.55,8.2\n",
      "\u001b[36mc8t5d8mv7c-algo-1-eitup |\u001b[0m 2022-10-25T04:43:49,200 [INFO ] W-model-2-stdout com.amazonaws.ml.mms.wlm.WorkerLifeCycle - 0.06588,0.0,2.46,0.0,0.488,7.765,83.3,2.741,3.0,193.0,17.8,395.56,7.56\n"
     ]
    },
    {
     "data": {
      "text/plain": [
       "str"
      ]
     },
     "execution_count": 63,
     "metadata": {},
     "output_type": "execute_result"
    },
    {
     "name": "stdout",
     "output_type": "stream",
     "text": [
      "\u001b[36mc8t5d8mv7c-algo-1-eitup |\u001b[0m 2022-10-25T04:43:49,203 [INFO ] W-model-2-stdout com.amazonaws.ml.mms.wlm.WorkerLifeCycle - 0.80271,0.0,8.14,0.0,0.538,5.456,36.6,3.7965,4.0,307.0,21.0,288.99,11.69\n",
      "\u001b[36mc8t5d8mv7c-algo-1-eitup |\u001b[0m 2022-10-25T04:43:49,203 [INFO ] W-model-2-stdout com.amazonaws.ml.mms.wlm.WorkerLifeCycle - 0.05479,33.0,2.18,0.0,0.472,6.616,58.1,3.37,7.0,222.0,18.4,393.36,8.93\n",
      "\u001b[36mc8t5d8mv7c-algo-1-eitup |\u001b[0m 2022-10-25T04:43:49,204 [INFO ] W-model-2-stdout com.amazonaws.ml.mms.wlm.WorkerLifeCycle - 22.5971,0.0,18.1,0.0,0.7,5.0,89.5,1.5184,24.0,666.0,20.2,396.9,31.99\n",
      "\u001b[36mc8t5d8mv7c-algo-1-eitup |\u001b[0m 2022-10-25T04:43:49,204 [INFO ] W-model-2-stdout com.amazonaws.ml.mms.wlm.WorkerLifeCycle - 0.2498,0.0,21.89,0.0,0.624,5.857,98.2,1.6686,4.0,437.0,21.2,392.04,21.32\n",
      "\u001b[36mc8t5d8mv7c-algo-1-eitup |\u001b[0m 2022-10-25T04:43:49,204 [INFO ] W-model-2-stdout com.amazonaws.ml.mms.wlm.WorkerLifeCycle - 0.17783,0.0,9.69,0.0,0.585,5.569,73.5,2.3999,6.0,391.0,19.2,395.77,15.1\n",
      "\u001b[36mc8t5d8mv7c-algo-1-eitup |\u001b[0m 2022-10-25T04:43:49,207 [INFO ] W-model-2-stdout com.amazonaws.ml.mms.wlm.WorkerLifeCycle - 0.28392,0.0,7.38,0.0,0.493,5.708,74.3,4.7211,5.0,287.0,19.6,391.13,11.74\n",
      "\u001b[36mc8t5d8mv7c-algo-1-eitup |\u001b[0m 2022-10-25T04:43:49,208 [INFO ] W-model-2-stdout com.amazonaws.ml.mms.wlm.WorkerLifeCycle - 7.36711,0.0,18.1,0.0,0.679,6.193,78.1,1.9356,24.0,666.0,20.2,96.73,21.52\n",
      "\u001b[36mc8t5d8mv7c-algo-1-eitup |\u001b[0m 2022-10-25T04:43:49,209 [INFO ] W-model-2-stdout com.amazonaws.ml.mms.wlm.WorkerLifeCycle - 9.59571,0.0,18.1,0.0,0.693,6.404,100.0,1.639,24.0,666.0,20.2,376.11,20.31\n",
      "\u001b[36mc8t5d8mv7c-algo-1-eitup |\u001b[0m 2022-10-25T04:43:49,209 [INFO ] W-model-2-stdout com.amazonaws.ml.mms.wlm.WorkerLifeCycle - 0.01538,90.0,3.75,0.0,0.394,7.454,34.2,6.3361,3.0,244.0,15.9,386.34,3.11\n",
      "\u001b[36mc8t5d8mv7c-algo-1-eitup |\u001b[0m 2022-10-25T04:43:49,213 [INFO ] W-model-2-stdout com.amazonaws.ml.mms.wlm.WorkerLifeCycle - 0.65665,20.0,3.97,0.0,0.647,6.842,100.0,2.0107,5.0,264.0,13.0,391.93,6.9\n",
      "\u001b[36mc8t5d8mv7c-algo-1-eitup |\u001b[0m 2022-10-25T04:43:49,213 [INFO ] W-model-2-stdout com.amazonaws.ml.mms.wlm.WorkerLifeCycle - 8.49213,0.0,18.1,0.0,0.584,6.348,86.1,2.0527,24.0,666.0,20.2,83.45,17.64\n",
      "\u001b[36mc8t5d8mv7c-algo-1-eitup |\u001b[0m 2022-10-25T04:43:49,214 [INFO ] W-model-2-stdout com.amazonaws.ml.mms.wlm.WorkerLifeCycle - 0.97617,0.0,21.89,0.0,0.624,5.757,98.4,2.346,4.0,437.0,21.2,262.76,17.31\n",
      "\u001b[36mc8t5d8mv7c-algo-1-eitup |\u001b[0m 2022-10-25T04:43:49,214 [INFO ] W-model-2-stdout com.amazonaws.ml.mms.wlm.WorkerLifeCycle - 0.03578,20.0,3.33,0.0,0.4429,7.82,64.5,4.6947,5.0,216.0,14.9,387.31,3.76\n",
      "\u001b[36mc8t5d8mv7c-algo-1-eitup |\u001b[0m 2022-10-25T04:43:49,214 [INFO ] W-model-2-stdout com.amazonaws.ml.mms.wlm.WorkerLifeCycle - 2.01019,0.0,19.58,0.0,0.605,7.929,96.2,2.0459,5.0,403.0,14.7,369.3,3.7\n",
      "\u001b[36mc8t5d8mv7c-algo-1-eitup |\u001b[0m 2022-10-25T04:43:49,215 [INFO ] W-model-2-stdout com.amazonaws.ml.mms.wlm.WorkerLifeCycle - 4.55587,0.0,18.1,0.0,0.718,3.561,87.9,1.6132,24.0,666.0,20.2,354.7,7.12\n",
      "\u001b[36mc8t5d8mv7c-algo-1-eitup |\u001b[0m 2022-10-25T04:43:49,215 [INFO ] W-model-2-stdout com.amazonaws.ml.mms.wlm.WorkerLifeCycle - 0.63796,0.0,8.14,0.0,0.538,6.096,84.5,4.4619,4.0,307.0,21.0,380.02,10.26\n",
      "\u001b[36mc8t5d8mv7c-algo-1-eitup |\u001b[0m 2022-10-25T04:43:49,217 [INFO ] W-model-2-stdout com.amazonaws.ml.mms.wlm.WorkerLifeCycle - 6.53876,0.0,18.1,1.0,0.631,7.016,97.5,1.2024,24.0,666.0,20.2,392.05,2.96\n",
      "\u001b[36mc8t5d8mv7c-algo-1-eitup |\u001b[0m 2022-10-25T04:43:49,218 [INFO ] W-model-2-stdout com.amazonaws.ml.mms.wlm.WorkerLifeCycle - 0.59005,0.0,21.89,0.0,0.624,6.372,97.9,2.3274,4.0,437.0,21.2,385.76,11.12\n",
      "\u001b[36mc8t5d8mv7c-algo-1-eitup |\u001b[0m 2022-10-25T04:43:49,218 [INFO ] W-model-2-stdout com.amazonaws.ml.mms.wlm.WorkerLifeCycle - 0.22969,0.0,10.59,0.0,0.489,6.326,52.5,4.3549,4.0,277.0,18.6,394.87,10.97\n",
      "\u001b[36mc8t5d8mv7c-algo-1-eitup |\u001b[0m 2022-10-25T04:43:49,219 [INFO ] W-model-2-stdout com.amazonaws.ml.mms.wlm.WorkerLifeCycle - 8.79212,0.0,18.1,0.0,0.584,5.565,70.6,2.0635,24.0,666.0,20.2,3.65,17.16\n",
      "\u001b[36mc8t5d8mv7c-algo-1-eitup |\u001b[0m 2022-10-25T04:43:49,219 [INFO ] W-model-2-stdout com.amazonaws.ml.mms.wlm.WorkerLifeCycle - 2.33099,0.0,19.58,0.0,0.871,5.186,93.8,1.5296,5.0,403.0,14.7,356.99,28.32\n",
      "\u001b[36mc8t5d8mv7c-algo-1-eitup |\u001b[0m 2022-10-25T04:43:49,219 [INFO ] W-model-2-stdout com.amazonaws.ml.mms.wlm.WorkerLifeCycle - 0.0536,21.0,5.64,0.0,0.439,6.511,21.1,6.8147,4.0,243.0,16.8,396.9,5.28\n"
     ]
    }
   ],
   "source": [
    "type(predicted)"
   ]
  },
  {
   "cell_type": "markdown",
   "id": "e6ec76c6",
   "metadata": {},
   "source": [
    "## 返り値をstr以外で受け取りには\n",
    "Deserializerの説明"
   ]
  },
  {
   "cell_type": "markdown",
   "id": "1e805aa5",
   "metadata": {},
   "source": [
    "# (optional) XGBoostコンテナで、LGBMの推論を実施する\n",
    "\n",
    "LGBMのカスタムコンテナも存在する\n",
    "< URL >\n",
    "    "
   ]
  },
  {
   "cell_type": "code",
   "execution_count": 64,
   "id": "4ff52d0f",
   "metadata": {},
   "outputs": [
    {
     "name": "stdout",
     "output_type": "stream",
     "text": [
      "\u001b[36mc8t5d8mv7c-algo-1-eitup |\u001b[0m 2022-10-25T04:43:49,219 [INFO ] W-model-2-stdout com.amazonaws.ml.mms.wlm.WorkerLifeCycle - 0.21038,20.0,3.33,0.0,0.4429,6.812,32.2,4.1007,5.0,216.0,14.9,396.9,4.85\n",
      "\u001b[36mc8t5d8mv7c-algo-1-eitup |\u001b[0m 2022-10-25T04:43:49,220 [INFO ] W-model-2-stdout com.amazonaws.ml.mms.wlm.WorkerLifeCycle - 14.4208,0.0,18.1,0.0,0.74,6.461,93.3,2.0026,24.0,666.0,20.2,27.49,18.05\n",
      "\u001b[36mc8t5d8mv7c-algo-1-eitup |\u001b[0m 2022-10-25T04:43:49,224 [INFO ] W-model-2-stdout com.amazonaws.ml.mms.wlm.WorkerLifeCycle - 0.54011,20.0,3.97,0.0,0.647,7.203,81.8,2.1121,5.0,264.0,13.0,392.8,9.59\n",
      "\u001b[36mc8t5d8mv7c-algo-1-eitup |\u001b[0m 2022-10-25T04:43:49,224 [INFO ] W-model-2-stdout com.amazonaws.ml.mms.wlm.WorkerLifeCycle - 9.33889,0.0,18.1,0.0,0.679,6.38,95.6,1.9682,24.0,666.0,20.2,60.72,24.08\n",
      "\u001b[36mc8t5d8mv7c-algo-1-eitup |\u001b[0m 2022-10-25T04:43:49,227 [INFO ] W-model-2-stdout com.amazonaws.ml.mms.wlm.WorkerLifeCycle - 8.20058,0.0,18.1,0.0,0.713,5.936,80.3,2.7792,24.0,666.0,20.2,3.5,16.94\n",
      "\u001b[36mc8t5d8mv7c-algo-1-eitup |\u001b[0m 2022-10-25T04:43:49,227 [INFO ] W-model-2-stdout com.amazonaws.ml.mms.wlm.WorkerLifeCycle - 7.67202,0.0,18.1,0.0,0.693,5.747,98.9,1.6334,24.0,666.0,20.2,393.1,19.92\n",
      "\u001b[36mc8t5d8mv7c-algo-1-eitup |\u001b[0m 2022-10-25T04:43:49,228 [INFO ] W-model-2-stdout com.amazonaws.ml.mms.wlm.WorkerLifeCycle - 0.12579,45.0,3.44,0.0,0.437,6.556,29.1,4.5667,5.0,398.0,15.2,382.84,4.56\n",
      "\u001b[36mc8t5d8mv7c-algo-1-eitup |\u001b[0m 2022-10-25T04:43:49,228 [INFO ] W-model-2-stdout com.amazonaws.ml.mms.wlm.WorkerLifeCycle - 0.04666,80.0,1.52,0.0,0.404,7.107,36.6,7.309,2.0,329.0,12.6,354.31,8.61\n",
      "\u001b[36mc8t5d8mv7c-algo-1-eitup |\u001b[0m 2022-10-25T04:43:49,228 [INFO ] W-model-2-stdout com.amazonaws.ml.mms.wlm.WorkerLifeCycle - 0.1676,0.0,7.38,0.0,0.493,6.426,52.3,4.5404,5.0,287.0,19.6,396.9,7.2\n",
      "\u001b[36mc8t5d8mv7c-algo-1-eitup |\u001b[0m 2022-10-25T04:43:49,228 [INFO ] W-model-2-stdout com.amazonaws.ml.mms.wlm.WorkerLifeCycle - 0.82526,20.0,3.97,0.0,0.647,7.327,94.5,2.0788,5.0,264.0,13.0,393.42,11.25\n",
      "\u001b[36mc8t5d8mv7c-algo-1-eitup |\u001b[0m 2022-10-25T04:43:49,229 [INFO ] W-model-2-stdout com.amazonaws.ml.mms.wlm.WorkerLifeCycle - 0.06417,0.0,5.96,0.0,0.499,5.933,68.2,3.3603,5.0,279.0,19.2,396.9,9.68\n",
      "\u001b[36mc8t5d8mv7c-algo-1-eitup |\u001b[0m 2022-10-25T04:43:49,229 [INFO ] W-model-2-stdout com.amazonaws.ml.mms.wlm.WorkerLifeCycle - 0.84054,0.0,8.14,0.0,0.538,5.599,85.7,4.4546,4.0,307.0,21.0,303.42,16.51\n",
      "\u001b[36mc8t5d8mv7c-algo-1-eitup |\u001b[0m 2022-10-25T04:43:49,229 [INFO ] W-model-2-stdout com.amazonaws.ml.mms.wlm.WorkerLifeCycle - 5.09017,0.0,18.1,0.0,0.713,6.297,91.8,2.3682,24.0,666.0,20.2,385.09,17.27\n",
      "\u001b[36mc8t5d8mv7c-algo-1-eitup |\u001b[0m 2022-10-25T04:43:49,230 [INFO ] W-model-2-stdout com.amazonaws.ml.mms.wlm.WorkerLifeCycle - 14.3337,0.0,18.1,0.0,0.7,4.88,100.0,1.5895,24.0,666.0,20.2,372.92,30.62\n",
      "\u001b[36mc8t5d8mv7c-algo-1-eitup |\u001b[0m 2022-10-25T04:43:49,230 [INFO ] W-model-2-stdout com.amazonaws.ml.mms.wlm.WorkerLifeCycle - 0.02498,0.0,1.89,0.0,0.518,6.54,59.7,6.2669,1.0,422.0,15.9,389.96,8.65\n",
      "\u001b[36mc8t5d8mv7c-algo-1-eitup |\u001b[0m 2022-10-25T04:43:49,230 [INFO ] W-model-2-stdout com.amazonaws.ml.mms.wlm.WorkerLifeCycle - 0.15086,0.0,27.74,0.0,0.609,5.454,92.7,1.8209,4.0,711.0,20.1,395.09,18.06\n",
      "\u001b[36mc8t5d8mv7c-algo-1-eitup |\u001b[0m 2022-10-25T04:43:49,231 [INFO ] W-model-2-stdout com.amazonaws.ml.mms.wlm.WorkerLifeCycle - 0.12802,0.0,8.56,0.0,0.52,6.474,97.1,2.4329,5.0,384.0,20.9,395.24,12.27\n",
      "\u001b[36mc8t5d8mv7c-algo-1-eitup |\u001b[0m 2022-10-25T04:43:49,236 [INFO ] W-model-2-stdout com.amazonaws.ml.mms.wlm.WorkerLifeCycle - 11.1604,0.0,18.1,0.0,0.74,6.629,94.6,2.1247,24.0,666.0,20.2,109.85,23.27\n",
      "\u001b[36mc8t5d8mv7c-algo-1-eitup |\u001b[0m 2022-10-25T04:43:49,244 [INFO ] W-model-2-stdout com.amazonaws.ml.mms.wlm.WorkerLifeCycle - 0.44791,0.0,6.2,1.0,0.507,6.726,66.5,3.6519,8.0,307.0,17.4,360.2,8.05\n",
      "\u001b[36mc8t5d8mv7c-algo-1-eitup |\u001b[0m 2022-10-25T04:43:49,244 [INFO ] W-model-2-stdout com.amazonaws.ml.mms.wlm.WorkerLifeCycle - 0.38214,0.0,6.2,0.0,0.504,8.04,86.5,3.2157,8.0,307.0,17.4,387.38,3.13\n",
      "\u001b[36mc8t5d8mv7c-algo-1-eitup |\u001b[0m 2022-10-25T04:43:49,244 [INFO ] W-model-2-stdout com.amazonaws.ml.mms.wlm.WorkerLifeCycle - 0.08387,0.0,12.83,0.0,0.437,5.874,36.6,4.5026,5.0,398.0,18.7,396.06,9.1\n",
      "\u001b[36mc8t5d8mv7c-algo-1-eitup |\u001b[0m 2022-10-25T04:43:49,245 [INFO ] W-model-2-stdout com.amazonaws.ml.mms.wlm.WorkerLifeCycle - 14.0507,0.0,18.1,0.0,0.597,6.657,100.0,1.5275,24.0,666.0,20.2,35.05,21.22\n",
      "\u001b[36mc8t5d8mv7c-algo-1-eitup |\u001b[0m 2022-10-25T04:43:49,245 [INFO ] W-model-2-stdout com.amazonaws.ml.mms.wlm.WorkerLifeCycle - 0.04417,70.0,2.24,0.0,0.4,6.871,47.4,7.8278,5.0,358.0,14.8,390.86,6.07\n",
      "\u001b[36mc8t5d8mv7c-algo-1-eitup |\u001b[0m 2022-10-25T04:43:49,246 [INFO ] W-model-2-stdout com.amazonaws.ml.mms.wlm.WorkerLifeCycle - 0.12816,12.5,6.07,0.0,0.409,5.885,33.0,6.498,4.0,345.0,18.9,396.9,8.79\n",
      "\u001b[36mc8t5d8mv7c-algo-1-eitup |\u001b[0m 2022-10-25T04:43:49,246 [INFO ] W-model-2-stdout com.amazonaws.ml.mms.wlm.WorkerLifeCycle - 0.19539,0.0,10.81,0.0,0.413,6.245,6.2,5.2873,4.0,305.0,19.2,377.17,7.54\n",
      "\u001b[36mc8t5d8mv7c-algo-1-eitup |\u001b[0m 2022-10-25T04:43:49,246 [INFO ] W-model-2-stdout com.amazonaws.ml.mms.wlm.WorkerLifeCycle - 0.01301,35.0,1.52,0.0,0.442,7.241,49.3,7.0379,1.0,284.0,15.5,394.74,5.49\n",
      "\u001b[36mc8t5d8mv7c-algo-1-eitup |\u001b[0m 2022-10-25T04:43:49,247 [INFO ] W-model-2-stdout com.amazonaws.ml.mms.wlm.WorkerLifeCycle - ========== END: input_data =========\n",
      "\u001b[36mc8t5d8mv7c-algo-1-eitup |\u001b[0m 2022-10-25T04:43:49,247 [INFO ] W-model-2-stdout com.amazonaws.ml.mms.wlm.WorkerLifeCycle - <class 'list'>\n",
      "\u001b[36mc8t5d8mv7c-algo-1-eitup |\u001b[0m 2022-10-25T04:43:49,255 [INFO ] W-model-2-stdout com.amazonaws.ml.mms.wlm.WorkerLifeCycle - ['0.25387,0.0,6.91,0.0,0.448,5.399,95.3,5.87,3.0,233.0,17.9,396.9,30.81', '0.01951,17.5,1.38,0.0,0.4161,7.104,59.5,9.2229,3.0,216.0,18.6,393.24,8.05', '4.64689,0.0,18.1,0.0,0.614,6.98,67.6,2.5329,24.0,666.0,20.2,374.68,11.66', '3.67367,0.0,18.1,0.0,0.583,6.312,51.9,3.9917,24.0,666.0,20.2,388.62,10.58', '0.29819,0.0,6.2,0.0,0.504,7.686,17.0,3.3751,8.0,307.0,17.4,377.51,3.92', '8.15174,0.0,18.1,0.0,0.7,5.39,98.9,1.7281,24.0,666.0,20.2,396.9,20.85', '6.65492,0.0,18.1,0.0,0.713,6.317,83.0,2.7344,24.0,666.0,20.2,396.9,13.99', '0.17171,25.0,5.13,0.0,0.453,5.966,93.4,6.8185,8.0,284.0,19.7,378.08,14.44', '5.73116,0.0,18.1,0.0,0.532,7.061,77.0,3.4106,24.0,666.0,20.2,395.28,7.01', '3.1636,0.0,18.1,0.0,0.655,5.759,48.2,3.0665,24.0,666.0,20.2,334.4,14.13', '11.8123,0.0,18.1,0.0,0.718,6.824,76.5,1.794,24.0,666.0,20.2,48.45,22.74', '8.64476,0.0,18.1,0.0,0.693,6.193,92.6,1.7912,24.0,666.0,20.2,396.9,15.17', '0.02177,82.5,2.03,0.0,0.415,7.61,15.7,6.27,2.0,348.0,14.7,395.38,3.11', '0.13914,0.0,4.05,0.0,0.51,5.572,88.5,2.5961,5.0,296.0,16.6,396.9,14.69', '8.05579,0.0,18.1,0.0,0.584,5.427,95.4,2.4298,24.0,666.0,20.2,352.58,18.14', '0.22876,0.0,8.56,0.0,0.52,6.405,85.4,2.7147,5.0,384.0,20.9,70.8,10.63', '0.07013,0.0,13.89,0.0,0.55,6.642,85.1,3.4211,5.0,276.0,16.4,392.78,9.69', '0.28955,0.0,10.59,0.0,0.489,5.412,9.8,3.5875,4.0,277.0,18.6,348.93,29.55', '23.6482,0.0,18.1,0.0,0.671,6.38,96.2,1.3861,24.0,666.0,20.2,396.9,23.69', '4.54192,0.0,18.1,0.0,0.77,6.398,88.0,2.5182,24.0,666.0,20.2,374.56,7.79', '0.04741,0.0,11.93,0.0,0.573,6.03,80.8,2.505,1.0,273.0,21.0,396.9,7.88', '0.04301,80.0,1.91,0.0,0.413,5.663,21.9,10.5857,4.0,334.0,22.0,382.8,8.05', '0.0795,60.0,1.69,0.0,0.411,6.579,35.9,10.7103,4.0,411.0,18.3,370.78,5.49', '0.0686,0.0,2.89,0.0,0.445,7.416,62.5,3.4952,2.0,276.0,18.0,396.9,6.19', '0.10153,0.0,12.83,0.0,0.437,6.279,74.5,4.0522,5.0,398.0,18.7,373.66,11.97', '0.06076,0.0,11.93,0.0,0.573,6.976,91.0,2.1675,1.0,273.0,21.0,396.9,5.64', '0.17505,0.0,5.96,0.0,0.499,5.966,30.2,3.8473,5.0,279.0,19.2,393.43,10.13', '41.5292,0.0,18.1,0.0,0.693,5.531,85.4,1.6074,24.0,666.0,20.2,329.46,27.38', '2.44953,0.0,19.58,0.0,0.605,6.402,95.2,2.2625,5.0,403.0,14.7,330.04,11.32', '0.26838,0.0,9.69,0.0,0.585,5.794,70.6,2.8927,6.0,391.0,19.2,396.9,14.1', '0.08873,21.0,5.64,0.0,0.439,5.963,45.7,6.8147,4.0,243.0,16.8,395.56,13.45', '16.8118,0.0,18.1,0.0,0.7,5.277,98.1,1.4261,24.0,666.0,20.2,396.9,30.81', '0.06905,0.0,2.18,0.0,0.458,7.147,54.2,6.0622,3.0,222.0,18.7,396.9,5.33', '0.05059,0.0,4.49,0.0,0.449,6.389,48.0,4.7794,3.0,247.0,18.5,396.9,9.62', '1.46336,0.0,19.58,0.0,0.605,7.489,90.8,1.9709,5.0,403.0,14.7,374.43,1.73', '0.11432,0.0,8.56,0.0,0.52,6.781,71.3,2.8561,5.0,384.0,20.9,395.58,7.67', '0.06129,20.0,3.33,1.0,0.4429,7.645,49.7,5.2119,5.0,216.0,14.9,377.07,3.01', '18.811,0.0,18.1,0.0,0.597,4.628,100.0,1.5539,24.0,666.0,20.2,28.79,34.37', '0.03615,80.0,4.95,0.0,0.411,6.63,23.4,5.1167,4.0,245.0,19.2,396.9,4.7', '0.41238,0.0,6.2,0.0,0.504,7.163,79.9,3.2157,8.0,307.0,17.4,372.08,6.36', '4.22239,0.0,18.1,1.0,0.77,5.803,89.0,1.9047,24.0,666.0,20.2,353.04,14.64', '0.17446,0.0,10.59,1.0,0.489,5.96,92.1,3.8771,4.0,277.0,18.6,393.25,17.27', '5.29305,0.0,18.1,0.0,0.7,6.051,82.5,2.1678,24.0,666.0,20.2,378.38,18.76', '0.02763,75.0,2.95,0.0,0.428,6.595,21.8,5.4011,3.0,252.0,18.3,395.63,4.32', '0.35233,0.0,21.89,0.0,0.624,6.454,98.4,1.8498,4.0,437.0,21.2,394.08,14.59', '15.8744,0.0,18.1,0.0,0.671,6.545,99.1,1.5192,24.0,666.0,20.2,396.9,21.08', '0.03537,34.0,6.09,0.0,0.433,6.59,40.4,5.4917,7.0,329.0,16.1,395.75,9.5', '0.09252,30.0,4.93,0.0,0.428,6.606,42.2,6.1899,6.0,300.0,16.6,383.78,7.37', '0.32543,0.0,21.89,0.0,0.624,6.431,98.8,1.8125,4.0,437.0,21.2,396.9,15.39', '0.16902,0.0,25.65,0.0,0.581,5.986,88.4,1.9929,2.0,188.0,19.1,385.02,14.81', '0.02009,95.0,2.68,0.0,0.4161,8.034,31.9,5.118,4.0,224.0,14.7,390.55,2.88', '0.10659,80.0,1.91,0.0,0.413,5.936,19.5,10.5857,4.0,334.0,22.0,376.04,5.57', '0.03932,0.0,3.41,0.0,0.489,6.405,73.9,3.0921,2.0,270.0,17.8,393.55,8.2', '0.06588,0.0,2.46,0.0,0.488,7.765,83.3,2.741,3.0,193.0,17.8,395.56,7.56', '0.80271,0.0,8.14,0.0,0.538,5.456,36.6,3.7965,4.0,307.0,21.0,288.99,11.69', '0.05479,33.0,2.18,0.0,0.472,6.616,58.1,3.37,7.0,222.0,18.4,393.36,8.93', '22.5971,0.0,18.1,0.0,0.7,5.0,89.5,1.5184,24.0,666.0,20.2,396.9,31.99', '0.2498,0.0,21.89,0.0,0.624,5.857,98.2,1.6686,4.0,437.0,21.2,392.04,21.32', '0.17783,0.0,9.69,0.0,0.585,5.569,73.5,2.3999,6.0,391.0,19.2,395.77,15.1', '0.28392,0.0,7.38,0.0,0.493,5.708,74.3,4.7211,5.0,287.0,19.6,391.13,11.74', '7.36711,0.0,18.1,0.0,0.679,6.193,78.1,1.9356,24.0,666.0,20.2,96.73,21.52', '9.59571,0.0,18.1,0.0,0.693,6.404,100.0,1.639,24.0,666.0,20.2,376.11,20.31', '0.01538,90.0,3.75,0.0,0.394,7.454,34.2,6.3361,3.0,244.0,15.9,386.34,3.11', '0.65665,20.0,3.97,0.0,0.647,6.842,100.0,2.0107,5.0,264.0,13.0,391.93,6.9', '8.49213,0.0,18.1,0.0,0.584,6.348,86.1,2.0527,24.0,666.0,20.2,83.45,17.64', '0.97617,0.0,21.89,0.0,0.624,5.757,98.4,2.346,4.0,437.0,21.2,262.76,17.31', '0.03578,20.0,3.33,0.0,0.4429,7.82,64.5,4.6947,5.0,216.0,14.9,387.31,3.76', '2.01019,0.0,19.58,0.0,0.605,7.929,96.2,2.0459,5.0,403.0,14.7,369.3,3.7', '4.55587,0.0,18.1,0.0,0.718,3.561,87.9,1.6132,24.0,666.0,20.2,354.7,7.12', '0.63796,0.0,8.14,0.0,0.538,6.096,84.5,4.4619,4.0,307.0,21.0,380.02,10.26', '6.53876,0.0,18.1,1.0,0.631,7.016,97.5,1.2024,24.0,666.0,20.2,392.05,2.96', '0.59005,0.0,21.89,0.0,0.624,6.372,97.9,2.3274,4.0,437.0,21.2,385.76,11.12', '0.22969,0.0,10.59,0.0,0.489,6.326,52.5,4.3549,4.0,277.0,18.6,394.87,10.97', '8.79212,0.0,18.1,0.0,0.584,5.565,70.6,2.0635,24.0,666.0,20.2,3.65,17.16', '2.33099,0.0,19.58,0.0,0.871,5.186,93.8,1.5296,5.0,403.0,14.7,356.99,28.32', '0.0536,21.0,5.64,0.0,0.439,6.511,21.1,6.8147,4.0,243.0,16.8,396.9,5.28', '0.21038,20.0,3.33,0.0,0.4429,6.812,32.2,4.1007,5.0,216.0,14.9,396.9,4.85', '14.4208,0.0,18.1,0.0,0.74,6.461,93.3,2.0026,24.0,666.0,20.2,27.49,18.05', '0.54011,20.0,3.97,0.0,0.647,7.203,81.8,2.1121,5.0,264.0,13.0,392.8,9.59', '9.33889,0.0,18.1,0.0,0.679,6.38,95.6,1.9682,24.0,666.0,20.2,60.72,24.08', '8.20058,0.0,18.1,0.0,0.713,5.936,80.3,2.7792,24.0,666.0,20.2,3.5,16.94', '7.67202,0.0,18.1,0.0,0.693,5.747,98.9,1.6334,24.0,666.0,20.2,393.1,19.92', '0.12579,45.0,3.44,0.0,0.437,6.556,29.1,4.5667,5.0,398.0,15.2,382.84,4.56', '0.04666,80.0,1.52,0.0,0.404,7.107,36.6,7.309,2.0,329.0,12.6,354.31,8.61', '0.1676,0.0,7.38,0.0,0.493,6.426,52.3,4.5404,5.0,287.0,19.6,396.9,7.2', '0.82526,20.0,3.97,0.0,0.647,7.327,94.5,2.0788,5.0,264.0,13.0,393.42,11.25', '0.06417,0.0,5.96,0.0,0.499,5.933,68.2,3.3603,5.0,279.0,19.2,396.9,9.68', '0.84054,0.0,8.14,0.0,0.538,5.599,85.7,4.4546,4.0,307.0,21.0,303.42,16.51', '5.09017,0.0,18.1,0.0,0.713,6.297,91.8,2.3682,24.0,666.0,20.2,385.09,17.27', '14.3337,0.0,18.1,0.0,0.7,4.88,100.0,1.5895,24.0,666.0,20.2,372.92,30.62', '0.02498,0.0,1.89,0.0,0.518,6.54,59.7,6.2669,1.0,422.0,15.9,389.96,8.65', '0.15086,0.0,27.74,0.0,0.609,5.454,92.7,1.8209,4.0,711.0,20.1,395.09,18.06', '0.12802,0.0,8.56,0.0,0.52,6.474,97.1,2.4329,5.0,384.0,20.9,395.24,12.27', '11.1604,0.0,18.1,0.0,0.74,6.629,94.6,2.1247,24.0,666.0,20.2,109.85,23.27', '0.44791,0.0,6.2,1.0,0.507,6.726,66.5,3.6519,8.0,307.0,17.4,360.2,8.05', '0.38214,0.0,6.2,0.0,0.504,8.04,86.5,3.2157,8.0,307.0,17.4,387.38,3.13', '0.08387,0.0,12.83,0.0,0.437,5.874,36.6,4.5026,5.0,398.0,18.7,396.06,9.1', '14.0507,0.0,18.1,0.0,0.597,6.657,100.0,1.5275,24.0,666.0,20.2,35.05,21.22', '0.04417,70.0,2.24,0.0,0.4,6.871,47.4,7.8278,5.0,358.0,14.8,390.86,6.07', '0.12816,12.5,6.07,0.0,0.409,5.885,33.0,6.498,4.0,345.0,18.9,396.9,8.79', '0.19539,0.0,10.81,0.0,0.413,6.245,6.2,5.2873,4.0,305.0,19.2,377.17,7.54', '0.01301,35.0,1.52,0.0,0.442,7.241,49.3,7.0379,1.0,284.0,15.5,394.74,5.49']\n",
      "\u001b[36mc8t5d8mv7c-algo-1-eitup |\u001b[0m 2022-10-25T04:43:49,264 [INFO ] W-model-2-stdout com.amazonaws.ml.mms.wlm.WorkerLifeCycle - 102\n",
      "\u001b[36mc8t5d8mv7c-algo-1-eitup |\u001b[0m 2022-10-25T04:43:49,266 [INFO ] W-model-2-stdout com.amazonaws.ml.mms.wlm.WorkerLifeCycle - ========== END: transformed_data =========\n",
      "\u001b[36mc8t5d8mv7c-algo-1-eitup |\u001b[0m 2022-10-25T04:43:49,266 [INFO ] W-model-2-stdout com.amazonaws.ml.mms.wlm.WorkerLifeCycle - =================================\n",
      "\u001b[36mc8t5d8mv7c-algo-1-eitup |\u001b[0m 2022-10-25T04:43:49,266 [INFO ] W-model-2-stdout com.amazonaws.ml.mms.wlm.WorkerLifeCycle - =================================\n",
      "\u001b[36mc8t5d8mv7c-algo-1-eitup |\u001b[0m 2022-10-25T04:43:49,267 [INFO ] W-model-2-stdout com.amazonaws.ml.mms.wlm.WorkerLifeCycle - ==========my predict_fn =========\n",
      "\u001b[36mc8t5d8mv7c-algo-1-eitup |\u001b[0m 2022-10-25T04:43:49,267 [INFO ] W-model-2-stdout com.amazonaws.ml.mms.wlm.WorkerLifeCycle - =================================\n",
      "\u001b[36mc8t5d8mv7c-algo-1-eitup |\u001b[0m 2022-10-25T04:43:49,267 [INFO ] W-model-2-stdout com.amazonaws.ml.mms.wlm.WorkerLifeCycle - =================================\n",
      "\u001b[36mc8t5d8mv7c-algo-1-eitup |\u001b[0m 2022-10-25T04:43:49,268 [INFO ] W-model-2-stdout com.amazonaws.ml.mms.wlm.WorkerLifeCycle - =================================\n",
      "\u001b[36mc8t5d8mv7c-algo-1-eitup |\u001b[0m 2022-10-25T04:43:49,268 [INFO ] W-model-2-stdout com.amazonaws.ml.mms.wlm.WorkerLifeCycle - =======transformed_data===========\n",
      "\u001b[36mc8t5d8mv7c-algo-1-eitup |\u001b[0m 2022-10-25T04:43:49,268 [INFO ] W-model-2-stdout com.amazonaws.ml.mms.wlm.WorkerLifeCycle - =================================\n",
      "\u001b[36mc8t5d8mv7c-algo-1-eitup |\u001b[0m 2022-10-25T04:43:49,269 [INFO ] W-model-2-stdout com.amazonaws.ml.mms.wlm.WorkerLifeCycle - <class 'list'>\n",
      "\u001b[36mc8t5d8mv7c-algo-1-eitup |\u001b[0m 2022-10-25T04:43:49,288 [INFO ] W-model-2-stdout com.amazonaws.ml.mms.wlm.WorkerLifeCycle - [['0.25387', '0.0', '6.91', '0.0', '0.448', '5.399', '95.3', '5.87', '3.0', '233.0', '17.9', '396.9', '30.81'], ['0.01951', '17.5', '1.38', '0.0', '0.4161', '7.104', '59.5', '9.2229', '3.0', '216.0', '18.6', '393.24', '8.05'], ['4.64689', '0.0', '18.1', '0.0', '0.614', '6.98', '67.6', '2.5329', '24.0', '666.0', '20.2', '374.68', '11.66'], ['3.67367', '0.0', '18.1', '0.0', '0.583', '6.312', '51.9', '3.9917', '24.0', '666.0', '20.2', '388.62', '10.58'], ['0.29819', '0.0', '6.2', '0.0', '0.504', '7.686', '17.0', '3.3751', '8.0', '307.0', '17.4', '377.51', '3.92'], ['8.15174', '0.0', '18.1', '0.0', '0.7', '5.39', '98.9', '1.7281', '24.0', '666.0', '20.2', '396.9', '20.85'], ['6.65492', '0.0', '18.1', '0.0', '0.713', '6.317', '83.0', '2.7344', '24.0', '666.0', '20.2', '396.9', '13.99'], ['0.17171', '25.0', '5.13', '0.0', '0.453', '5.966', '93.4', '6.8185', '8.0', '284.0', '19.7', '378.08', '14.44'], ['5.73116', '0.0', '18.1', '0.0', '0.532', '7.061', '77.0', '3.4106', '24.0', '666.0', '20.2', '395.28', '7.01'], ['3.1636', '0.0', '18.1', '0.0', '0.655', '5.759', '48.2', '3.0665', '24.0', '666.0', '20.2', '334.4', '14.13'], ['11.8123', '0.0', '18.1', '0.0', '0.718', '6.824', '76.5', '1.794', '24.0', '666.0', '20.2', '48.45', '22.74'], ['8.64476', '0.0', '18.1', '0.0', '0.693', '6.193', '92.6', '1.7912', '24.0', '666.0', '20.2', '396.9', '15.17'], ['0.02177', '82.5', '2.03', '0.0', '0.415', '7.61', '15.7', '6.27', '2.0', '348.0', '14.7', '395.38', '3.11'], ['0.13914', '0.0', '4.05', '0.0', '0.51', '5.572', '88.5', '2.5961', '5.0', '296.0', '16.6', '396.9', '14.69'], ['8.05579', '0.0', '18.1', '0.0', '0.584', '5.427', '95.4', '2.4298', '24.0', '666.0', '20.2', '352.58', '18.14'], ['0.22876', '0.0', '8.56', '0.0', '0.52', '6.405', '85.4', '2.7147', '5.0', '384.0', '20.9', '70.8', '10.63'], ['0.07013', '0.0', '13.89', '0.0', '0.55', '6.642', '85.1', '3.4211', '5.0', '276.0', '16.4', '392.78', '9.69'], ['0.28955', '0.0', '10.59', '0.0', '0.489', '5.412', '9.8', '3.5875', '4.0', '277.0', '18.6', '348.93', '29.55'], ['23.6482', '0.0', '18.1', '0.0', '0.671', '6.38', '96.2', '1.3861', '24.0', '666.0', '20.2', '396.9', '23.69'], ['4.54192', '0.0', '18.1', '0.0', '0.77', '6.398', '88.0', '2.5182', '24.0', '666.0', '20.2', '374.56', '7.79'], ['0.04741', '0.0', '11.93', '0.0', '0.573', '6.03', '80.8', '2.505', '1.0', '273.0', '21.0', '396.9', '7.88'], ['0.04301', '80.0', '1.91', '0.0', '0.413', '5.663', '21.9', '10.5857', '4.0', '334.0', '22.0', '382.8', '8.05'], ['0.0795', '60.0', '1.69', '0.0', '0.411', '6.579', '35.9', '10.7103', '4.0', '411.0', '18.3', '370.78', '5.49'], ['0.0686', '0.0', '2.89', '0.0', '0.445', '7.416', '62.5', '3.4952', '2.0', '276.0', '18.0', '396.9', '6.19'], ['0.10153', '0.0', '12.83', '0.0', '0.437', '6.279', '74.5', '4.0522', '5.0', '398.0', '18.7', '373.66', '11.97'], ['0.06076', '0.0', '11.93', '0.0', '0.573', '6.976', '91.0', '2.1675', '1.0', '273.0', '21.0', '396.9', '5.64'], ['0.17505', '0.0', '5.96', '0.0', '0.499', '5.966', '30.2', '3.8473', '5.0', '279.0', '19.2', '393.43', '10.13'], ['41.5292', '0.0', '18.1', '0.0', '0.693', '5.531', '85.4', '1.6074', '24.0', '666.0', '20.2', '329.46', '27.38'], ['2.44953', '0.0', '19.58', '0.0', '0.605', '6.402', '95.2', '2.2625', '5.0', '403.0', '14.7', '330.04', '11.32'], ['0.26838', '0.0', '9.69', '0.0', '0.585', '5.794', '70.6', '2.8927', '6.0', '391.0', '19.2', '396.9', '14.1'], ['0.08873', '21.0', '5.64', '0.0', '0.439', '5.963', '45.7', '6.8147', '4.0', '243.0', '16.8', '395.56', '13.45'], ['16.8118', '0.0', '18.1', '0.0', '0.7', '5.277', '98.1', '1.4261', '24.0', '666.0', '20.2', '396.9', '30.81'], ['0.06905', '0.0', '2.18', '0.0', '0.458', '7.147', '54.2', '6.0622', '3.0', '222.0', '18.7', '396.9', '5.33'], ['0.05059', '0.0', '4.49', '0.0', '0.449', '6.389', '48.0', '4.7794', '3.0', '247.0', '18.5', '396.9', '9.62'], ['1.46336', '0.0', '19.58', '0.0', '0.605', '7.489', '90.8', '1.9709', '5.0', '403.0', '14.7', '374.43', '1.73'], ['0.11432', '0.0', '8.56', '0.0', '0.52', '6.781', '71.3', '2.8561', '5.0', '384.0', '20.9', '395.58', '7.67'], ['0.06129', '20.0', '3.33', '1.0', '0.4429', '7.645', '49.7', '5.2119', '5.0', '216.0', '14.9', '377.07', '3.01'], ['18.811', '0.0', '18.1', '0.0', '0.597', '4.628', '100.0', '1.5539', '24.0', '666.0', '20.2', '28.79', '34.37'], ['0.03615', '80.0', '4.95', '0.0', '0.411', '6.63', '23.4', '5.1167', '4.0', '245.0', '19.2', '396.9', '4.7'], ['0.41238', '0.0', '6.2', '0.0', '0.504', '7.163', '79.9', '3.2157', '8.0', '307.0', '17.4', '372.08', '6.36'], ['4.22239', '0.0', '18.1', '1.0', '0.77', '5.803', '89.0', '1.9047', '24.0', '666.0', '20.2', '353.04', '14.64'], ['0.17446', '0.0', '10.59', '1.0', '0.489', '5.96', '92.1', '3.8771', '4.0', '277.0', '18.6', '393.25', '17.27'], ['5.29305', '0.0', '18.1', '0.0', '0.7', '6.051', '82.5', '2.1678', '24.0', '666.0', '20.2', '378.38', '18.76'], ['0.02763', '75.0', '2.95', '0.0', '0.428', '6.595', '21.8', '5.4011', '3.0', '252.0', '18.3', '395.63', '4.32'], ['0.35233', '0.0', '21.89', '0.0', '0.624', '6.454', '98.4', '1.8498', '4.0', '437.0', '21.2', '394.08', '14.59'], ['15.8744', '0.0', '18.1', '0.0', '0.671', '6.545', '99.1', '1.5192', '24.0', '666.0', '20.2', '396.9', '21.08'], ['0.03537', '34.0', '6.09', '0.0', '0.433', '6.59', '40.4', '5.4917', '7.0', '329.0', '16.1', '395.75', '9.5'], ['0.09252', '30.0', '4.93', '0.0', '0.428', '6.606', '42.2', '6.1899', '6.0', '300.0', '16.6', '383.78', '7.37'], ['0.32543', '0.0', '21.89', '0.0', '0.624', '6.431', '98.8', '1.8125', '4.0', '437.0', '21.2', '396.9', '15.39'], ['0.16902', '0.0', '25.65', '0.0', '0.581', '5.986', '88.4', '1.9929', '2.0', '188.0', '19.1', '385.02', '14.81'], ['0.02009', '95.0', '2.68', '0.0', '0.4161', '8.034', '31.9', '5.118', '4.0', '224.0', '14.7', '390.55', '2.88'], ['0.10659', '80.0', '1.91', '0.0', '0.413', '5.936', '19.5', '10.5857', '4.0', '334.0', '22.0', '376.04', '5.57'], ['0.03932', '0.0', '3.41', '0.0', '0.489', '6.405', '73.9', '3.0921', '2.0', '270.0', '17.8', '393.55', '8.2'], ['0.06588', '0.0', '2.46', '0.0', '0.488', '7.765', '83.3', '2.741', '3.0', '193.0', '17.8', '395.56', '7.56'], ['0.80271', '0.0', '8.14', '0.0', '0.538', '5.456', '36.6', '3.7965', '4.0', '307.0', '21.0', '288.99', '11.69'], ['0.05479', '33.0', '2.18', '0.0', '0.472', '6.616', '58.1', '3.37', '7.0', '222.0', '18.4', '393.36', '8.93'], ['22.5971', '0.0', '18.1', '0.0', '0.7', '5.0', '89.5', '1.5184', '24.0', '666.0', '20.2', '396.9', '31.99'], ['0.2498', '0.0', '21.89', '0.0', '0.624', '5.857', '98.2', '1.6686', '4.0', '437.0', '21.2', '392.04', '21.32'], ['0.17783', '0.0', '9.69', '0.0', '0.585', '5.569', '73.5', '2.3999', '6.0', '391.0', '19.2', '395.77', '15.1'], ['0.28392', '0.0', '7.38', '0.0', '0.493', '5.708', '74.3', '4.7211', '5.0', '287.0', '19.6', '391.13', '11.74'], ['7.36711', '0.0', '18.1', '0.0', '0.679', '6.193', '78.1', '1.9356', '24.0', '666.0', '20.2', '96.73', '21.52'], ['9.59571', '0.0', '18.1', '0.0', '0.693', '6.404', '100.0', '1.639', '24.0', '666.0', '20.2', '376.11', '20.31'], ['0.01538', '90.0', '3.75', '0.0', '0.394', '7.454', '34.2', '6.3361', '3.0', '244.0', '15.9', '386.34', '3.11'], ['0.65665', '20.0', '3.97', '0.0', '0.647', '6.842', '100.0', '2.0107', '5.0', '264.0', '13.0', '391.93', '6.9'], ['8.49213', '0.0', '18.1', '0.0', '0.584', '6.348', '86.1', '2.0527', '24.0', '666.0', '20.2', '83.45', '17.64'], ['0.97617', '0.0', '21.89', '0.0', '0.624', '5.757', '98.4', '2.346', '4.0', '437.0', '21.2', '262.76', '17.31'], ['0.03578', '20.0', '3.33', '0.0', '0.4429', '7.82', '64.5', '4.6947', '5.0', '216.0', '14.9', '387.31', '3.76'], ['2.01019', '0.0', '19.58', '0.0', '0.605', '7.929', '96.2', '2.0459', '5.0', '403.0', '14.7', '369.3', '3.7'], ['4.55587', '0.0', '18.1', '0.0', '0.718', '3.561', '87.9', '1.6132', '24.0', '666.0', '20.2', '354.7', '7.12'], ['0.63796', '0.0', '8.14', '0.0', '0.538', '6.096', '84.5', '4.4619', '4.0', '307.0', '21.0', '380.02', '10.26'], ['6.53876', '0.0', '18.1', '1.0', '0.631', '7.016', '97.5', '1.2024', '24.0', '666.0', '20.2', '392.05', '2.96'], ['0.59005', '0.0', '21.89', '0.0', '0.624', '6.372', '97.9', '2.3274', '4.0', '437.0', '21.2', '385.76', '11.12'], ['0.22969', '0.0', '10.59', '0.0', '0.489', '6.326', '52.5', '4.3549', '4.0', '277.0', '18.6', '394.87', '10.97'], ['8.79212', '0.0', '18.1', '0.0', '0.584', '5.565', '70.6', '2.0635', '24.0', '666.0', '20.2', '3.65', '17.16'], ['2.33099', '0.0', '19.58', '0.0', '0.871', '5.186', '93.8', '1.5296', '5.0', '403.0', '14.7', '356.99', '28.32'], ['0.0536', '21.0', '5.64', '0.0', '0.439', '6.511', '21.1', '6.8147', '4.0', '243.0', '16.8', '396.9', '5.28'], ['0.21038', '20.0', '3.33', '0.0', '0.4429', '6.812', '32.2', '4.1007', '5.0', '216.0', '14.9', '396.9', '4.85'], ['14.4208', '0.0', '18.1', '0.0', '0.74', '6.461', '93.3', '2.0026', '24.0', '666.0', '20.2', '27.49', '18.05'], ['0.54011', '20.0', '3.97', '0.0', '0.647', '7.203', '81.8', '2.1121', '5.0', '264.0', '13.0', '392.8', '9.59'], ['9.33889', '0.0', '18.1', '0.0', '0.679', '6.38', '95.6', '1.9682', '24.0', '666.0', '20.2', '60.72', '24.08'], ['8.20058', '0.0', '18.1', '0.0', '0.713', '5.936', '80.3', '2.7792', '24.0', '666.0', '20.2', '3.5', '16.94'], ['7.67202', '0.0', '18.1', '0.0', '0.693', '5.747', '98.9', '1.6334', '24.0', '666.0', '20.2', '393.1', '19.92'], ['0.12579', '45.0', '3.44', '0.0', '0.437', '6.556', '29.1', '4.5667', '5.0', '398.0', '15.2', '382.84', '4.56'], ['0.04666', '80.0', '1.52', '0.0', '0.404', '7.107', '36.6', '7.309', '2.0', '329.0', '12.6', '354.31', '8.61'], ['0.1676', '0.0', '7.38', '0.0', '0.493', '6.426', '52.3', '4.5404', '5.0', '287.0', '19.6', '396.9', '7.2'], ['0.82526', '20.0', '3.97', '0.0', '0.647', '7.327', '94.5', '2.0788', '5.0', '264.0', '13.0', '393.42', '11.25'], ['0.06417', '0.0', '5.96', '0.0', '0.499', '5.933', '68.2', '3.3603', '5.0', '279.0', '19.2', '396.9', '9.68'], ['0.84054', '0.0', '8.14', '0.0', '0.538', '5.599', '85.7', '4.4546', '4.0', '307.0', '21.0', '303.42', '16.51'], ['5.09017', '0.0', '18.1', '0.0', '0.713', '6.297', '91.8', '2.3682', '24.0', '666.0', '20.2', '385.09', '17.27'], ['14.3337', '0.0', '18.1', '0.0', '0.7', '4.88', '100.0', '1.5895', '24.0', '666.0', '20.2', '372.92', '30.62'], ['0.02498', '0.0', '1.89', '0.0', '0.518', '6.54', '59.7', '6.2669', '1.0', '422.0', '15.9', '389.96', '8.65'], ['0.15086', '0.0', '27.74', '0.0', '0.609', '5.454', '92.7', '1.8209', '4.0', '711.0', '20.1', '395.09', '18.06'], ['0.12802', '0.0', '8.56', '0.0', '0.52', '6.474', '97.1', '2.4329', '5.0', '384.0', '20.9', '395.24', '12.27'], ['11.1604', '0.0', '18.1', '0.0', '0.74', '6.629', '94.6', '2.1247', '24.0', '666.0', '20.2', '109.85', '23.27'], ['0.44791', '0.0', '6.2', '1.0', '0.507', '6.726', '66.5', '3.6519', '8.0', '307.0', '17.4', '360.2', '8.05'], ['0.38214', '0.0', '6.2', '0.0', '0.504', '8.04', '86.5', '3.2157', '8.0', '307.0', '17.4', '387.38', '3.13'], ['0.08387', '0.0', '12.83', '0.0', '0.437', '5.874', '36.6', '4.5026', '5.0', '398.0', '18.7', '396.06', '9.1'], ['14.0507', '0.0', '18.1', '0.0', '0.597', '6.657', '100.0', '1.5275', '24.0', '666.0', '20.2', '35.05', '21.22'], ['0.04417', '70.0', '2.24', '0.0', '0.4', '6.871', '47.4', '7.8278', '5.0', '358.0', '14.8', '390.86', '6.07'], ['0.12816', '12.5', '6.07', '0.0', '0.409', '5.885', '33.0', '6.498', '4.0', '345.0', '18.9', '396.9', '8.79'], ['0.19539', '0.0', '10.81', '0.0', '0.413', '6.245', '6.2', '5.2873', '4.0', '305.0', '19.2', '377.17', '7.54'], ['0.01301', '35.0', '1.52', '0.0', '0.442', '7.241', '49.3', '7.0379', '1.0', '284.0', '15.5', '394.74', '5.49']]\n",
      "\u001b[36mc8t5d8mv7c-algo-1-eitup |\u001b[0m 2022-10-25T04:43:49,292 [INFO ] W-model-2-stdout com.amazonaws.ml.mms.wlm.WorkerLifeCycle - =================================\n",
      "\u001b[36mc8t5d8mv7c-algo-1-eitup |\u001b[0m 2022-10-25T04:43:49,292 [INFO ] W-model-2-stdout com.amazonaws.ml.mms.wlm.WorkerLifeCycle - ===============================================\n",
      "\u001b[36mc8t5d8mv7c-algo-1-eitup |\u001b[0m 2022-10-25T04:43:49,292 [INFO ] W-model-2-stdout com.amazonaws.ml.mms.wlm.WorkerLifeCycle - ============== result of pred =================\n",
      "\u001b[36mc8t5d8mv7c-algo-1-eitup |\u001b[0m 2022-10-25T04:43:49,292 [INFO ] W-model-2-stdout com.amazonaws.ml.mms.wlm.WorkerLifeCycle - ===============================================\n",
      "\u001b[36mc8t5d8mv7c-algo-1-eitup |\u001b[0m 2022-10-25T04:43:49,292 [INFO ] W-model-2-stdout com.amazonaws.ml.mms.wlm.WorkerLifeCycle - <class 'numpy.ndarray'>\n",
      "\u001b[36mc8t5d8mv7c-algo-1-eitup |\u001b[0m 2022-10-25T04:43:49,292 [INFO ] W-model-2-stdout com.amazonaws.ml.mms.wlm.WorkerLifeCycle - [19.95642073 27.84489184 23.74743743 21.96151718 33.70952264 16.54689993\n",
      "\u001b[36mc8t5d8mv7c-algo-1-eitup |\u001b[0m 2022-10-25T04:43:49,293 [INFO ] W-model-2-stdout com.amazonaws.ml.mms.wlm.WorkerLifeCycle -  20.75772473 21.58941351 28.44096446 21.5736102  16.52002235 18.56239893\n",
      "\u001b[36mc8t5d8mv7c-algo-1-eitup |\u001b[0m 2022-10-25T04:43:49,302 [INFO ] W-model-2-stdout com.amazonaws.ml.mms.wlm.WorkerLifeCycle -  33.70952264 21.6640476  18.83985456 20.52451794 23.51219291 19.72055283\n",
      "\u001b[36mc8t5d8mv7c-algo-1-eitup |\u001b[0m 2022-10-25T04:43:49,302 [INFO ] W-model-2-stdout com.amazonaws.ml.mms.wlm.WorkerLifeCycle -  14.83184112 25.48273875 24.23263947 21.62400593 24.96148979 31.73719419\n",
      "\u001b[36mc8t5d8mv7c-algo-1-eitup |\u001b[0m 2022-10-25T04:43:49,302 [INFO ] W-model-2-stdout com.amazonaws.ml.mms.wlm.WorkerLifeCycle -  21.63405293 28.40721161 21.40836385 14.83184112 22.21859455 21.1744561\n",
      "\u001b[36mc8t5d8mv7c-algo-1-eitup |\u001b[0m 2022-10-25T04:43:49,303 [INFO ] W-model-2-stdout com.amazonaws.ml.mms.wlm.WorkerLifeCycle -  21.78791955 14.83184112 29.99669563 22.44097525 33.83316205 26.41403197\n",
      "\u001b[36mc8t5d8mv7c-algo-1-eitup |\u001b[0m 2022-10-25T04:43:49,303 [INFO ] W-model-2-stdout com.amazonaws.ml.mms.wlm.WorkerLifeCycle -  33.70952264 17.36618866 27.5668607  30.78569749 19.36938873 20.70626549\n"
     ]
    }
   ],
   "source": [
    "xgb_container_uri = sagemaker.image_uris.retrieve(\"xgboost\", region_name, \"1.5-1\")"
   ]
  },
  {
   "cell_type": "code",
   "execution_count": 65,
   "id": "baee7506",
   "metadata": {},
   "outputs": [
    {
     "name": "stdout",
     "output_type": "stream",
     "text": [
      "\u001b[36mc8t5d8mv7c-algo-1-eitup |\u001b[0m 2022-10-25T04:43:49,304 [INFO ] W-model-2-stdout com.amazonaws.ml.mms.wlm.WorkerLifeCycle -  17.75985357 27.88826982 20.52139516 14.83184112 24.77641754 24.9658571\n",
      "\u001b[36mc8t5d8mv7c-algo-1-eitup |\u001b[0m 2022-10-25T04:43:49,306 [INFO ] W-model-2-stdout com.amazonaws.ml.mms.wlm.WorkerLifeCycle -  19.64928982 21.02679762 33.70952264 22.77086784 25.12436361 32.04499227\n",
      "\u001b[36mc8t5d8mv7c-algo-1-eitup |\u001b[0m 2022-10-25T04:43:49,308 [INFO ] W-model-2-stdout com.amazonaws.ml.mms.wlm.WorkerLifeCycle -  20.30087172 25.99375103 14.83184112 17.55319877 21.07028654 21.1224133\n",
      "\u001b[36mc8t5d8mv7c-algo-1-eitup |\u001b[0m 2022-10-25T04:43:49,311 [INFO ] W-model-2-stdout com.amazonaws.ml.mms.wlm.WorkerLifeCycle -  16.37705308 15.56837359 33.70952264 27.6115402  19.3427611  17.95097211\n",
      "\u001b[36mc8t5d8mv7c-algo-1-eitup |\u001b[0m 2022-10-25T04:43:49,312 [INFO ] W-model-2-stdout com.amazonaws.ml.mms.wlm.WorkerLifeCycle -  33.70952264 33.83316205 25.48273875 20.66079602 30.6994611  21.03539072\n"
     ]
    },
    {
     "data": {
      "text/plain": [
       "'354813040037.dkr.ecr.ap-northeast-1.amazonaws.com/sagemaker-xgboost:1.5-1'"
      ]
     },
     "execution_count": 65,
     "metadata": {},
     "output_type": "execute_result"
    },
    {
     "name": "stdout",
     "output_type": "stream",
     "text": [
      "\u001b[36mc8t5d8mv7c-algo-1-eitup |\u001b[0m 2022-10-25T04:43:49,317 [INFO ] W-model-2-stdout com.amazonaws.ml.mms.wlm.WorkerLifeCycle -  22.18581949 19.29909953 16.57470006 23.91268407 28.5757133  16.23633985\n",
      "\u001b[36mc8t5d8mv7c-algo-1-eitup |\u001b[0m 2022-10-25T04:43:49,319 [INFO ] W-model-2-stdout com.amazonaws.ml.mms.wlm.WorkerLifeCycle -  27.50109599 15.7539434  17.48873231 16.54689993 27.60136795 27.83102845\n"
     ]
    }
   ],
   "source": [
    "xgb_container_uri"
   ]
  },
  {
   "cell_type": "code",
   "execution_count": 66,
   "id": "5e406891",
   "metadata": {},
   "outputs": [
    {
     "name": "stdout",
     "output_type": "stream",
     "text": [
      "\u001b[36mc8t5d8mv7c-algo-1-eitup |\u001b[0m 2022-10-25T04:43:49,324 [INFO ] W-model-2-stdout com.amazonaws.ml.mms.wlm.WorkerLifeCycle -  23.56626434 27.50109599 21.64384786 18.78723742 17.91867525 14.83184112\n",
      "\u001b[36mc8t5d8mv7c-algo-1-eitup |\u001b[0m 2022-10-25T04:43:49,325 [INFO ] W-model-2-stdout com.amazonaws.ml.mms.wlm.WorkerLifeCycle -  22.73504239 18.93446151 20.7828134  15.12466062 26.58007209 33.83316205\n",
      "\u001b[36mc8t5d8mv7c-algo-1-eitup |\u001b[0m 2022-10-25T04:43:49,325 [INFO ] W-model-2-stdout com.amazonaws.ml.mms.wlm.WorkerLifeCycle -  22.24168964 18.00348773 26.12094103 21.85762035 23.06703081 31.38145811]\n",
      "\u001b[36mc8t5d8mv7c-algo-1-eitup |\u001b[0m 2022-10-25T04:43:49,325 [INFO ] W-model-2-stdout com.amazonaws.ml.mms.wlm.WorkerLifeCycle - ============== END: result of pred =================\n"
     ]
    }
   ],
   "source": [
    "from sagemaker.predictor import RealTimePredictor\n",
    "\n",
    "lgb_model = sagemaker.model.Model(xgb_container_uri, # XGBoostビルトインコンテナのURI\n",
    "                                  model_data=est_lightgbm.model_data, # ローカル学習で生成したモデルファイル\n",
    "                                  role=role,\n",
    "                                  predictor_cls=RealTimePredictor, # 推論するための識別子を指定\n",
    "                                  source_dir='./src_builtin_container_serve', # requirements.txt必要な場合\n",
    "                                  entry_point='inference.py' # source_dirを指定している場合、.pyファイルを指定する。\n",
    "                                 )"
   ]
  },
  {
   "cell_type": "code",
   "execution_count": 67,
   "id": "9ad230ef",
   "metadata": {},
   "outputs": [
    {
     "name": "stdout",
     "output_type": "stream",
     "text": [
      "CONTAINER ID   IMAGE                                                                                COMMAND                  CREATED          STATUS         PORTS                                       NAMES\n",
      "ac1dd8df0088   390731033655.dkr.ecr.ap-northeast-1.amazonaws.com/demo-sagemaker-inftoolkit:latest   \"python /usr/src/app…\"   10 seconds ago   Up 9 seconds   0.0.0.0:8080->8080/tcp, :::8080->8080/tcp   c8t5d8mv7c-algo-1-eitup\n"
     ]
    }
   ],
   "source": [
    "!docker ps"
   ]
  },
  {
   "cell_type": "code",
   "execution_count": 68,
   "id": "bda8dae4",
   "metadata": {},
   "outputs": [
    {
     "name": "stdout",
     "output_type": "stream",
     "text": [
      "\u001b[36mc8t5d8mv7c-algo-1-eitup |\u001b[0m ========== This is END of dockerd-entrypoint.py =============\n",
      "ac1dd8df0088\n",
      "\u001b[36mc8t5d8mv7c-algo-1-eitup exited with code 0\n",
      "\u001b[0mAborting on container exit...\n"
     ]
    }
   ],
   "source": [
    "!docker stop $(docker ps -q)"
   ]
  },
  {
   "cell_type": "code",
   "execution_count": 69,
   "id": "040cf852",
   "metadata": {},
   "outputs": [
    {
     "name": "stdout",
     "output_type": "stream",
     "text": [
      "CONTAINER ID   IMAGE     COMMAND   CREATED   STATUS    PORTS     NAMES\n"
     ]
    }
   ],
   "source": [
    "!docker ps"
   ]
  },
  {
   "cell_type": "code",
   "execution_count": 70,
   "id": "537e1358",
   "metadata": {},
   "outputs": [
    {
     "name": "stdout",
     "output_type": "stream",
     "text": [
      "Attaching to t8bj7uf19d-algo-1-vmubs\n",
      "\u001b[36mt8bj7uf19d-algo-1-vmubs |\u001b[0m [2022-10-25:04:43:56:INFO] No GPUs detected (normal if no gpus installed)\n",
      "\u001b[36mt8bj7uf19d-algo-1-vmubs |\u001b[0m [2022-10-25:04:43:56:INFO] No GPUs detected (normal if no gpus installed)\n",
      "\u001b[36mt8bj7uf19d-algo-1-vmubs |\u001b[0m [2022-10-25:04:43:56:INFO] nginx config: \n",
      "\u001b[36mt8bj7uf19d-algo-1-vmubs |\u001b[0m worker_processes auto;\n",
      "\u001b[36mt8bj7uf19d-algo-1-vmubs |\u001b[0m daemon off;\n",
      "\u001b[36mt8bj7uf19d-algo-1-vmubs |\u001b[0m pid /tmp/nginx.pid;\n",
      "\u001b[36mt8bj7uf19d-algo-1-vmubs |\u001b[0m error_log  /dev/stderr;\n",
      "\u001b[36mt8bj7uf19d-algo-1-vmubs |\u001b[0m \n",
      "\u001b[36mt8bj7uf19d-algo-1-vmubs |\u001b[0m worker_rlimit_nofile 4096;\n",
      "\u001b[36mt8bj7uf19d-algo-1-vmubs |\u001b[0m \n",
      "\u001b[36mt8bj7uf19d-algo-1-vmubs |\u001b[0m events {\n",
      "\u001b[36mt8bj7uf19d-algo-1-vmubs |\u001b[0m   worker_connections 2048;\n",
      "\u001b[36mt8bj7uf19d-algo-1-vmubs |\u001b[0m }\n",
      "\u001b[36mt8bj7uf19d-algo-1-vmubs |\u001b[0m \n",
      "\u001b[36mt8bj7uf19d-algo-1-vmubs |\u001b[0m http {\n",
      "\u001b[36mt8bj7uf19d-algo-1-vmubs |\u001b[0m   include /etc/nginx/mime.types;\n",
      "\u001b[36mt8bj7uf19d-algo-1-vmubs |\u001b[0m   default_type application/octet-stream;\n",
      "\u001b[36mt8bj7uf19d-algo-1-vmubs |\u001b[0m   access_log /dev/stdout combined;\n",
      "\u001b[36mt8bj7uf19d-algo-1-vmubs |\u001b[0m \n",
      "\u001b[36mt8bj7uf19d-algo-1-vmubs |\u001b[0m   upstream gunicorn {\n",
      "\u001b[36mt8bj7uf19d-algo-1-vmubs |\u001b[0m     server unix:/tmp/gunicorn.sock;\n",
      "\u001b[36mt8bj7uf19d-algo-1-vmubs |\u001b[0m   }\n",
      "\u001b[36mt8bj7uf19d-algo-1-vmubs |\u001b[0m \n",
      "\u001b[36mt8bj7uf19d-algo-1-vmubs |\u001b[0m   server {\n",
      "\u001b[36mt8bj7uf19d-algo-1-vmubs |\u001b[0m     listen 8080 deferred;\n",
      "\u001b[36mt8bj7uf19d-algo-1-vmubs |\u001b[0m     client_max_body_size 0;\n",
      "\u001b[36mt8bj7uf19d-algo-1-vmubs |\u001b[0m \n",
      "\u001b[36mt8bj7uf19d-algo-1-vmubs |\u001b[0m     keepalive_timeout 3;\n",
      "\u001b[36mt8bj7uf19d-algo-1-vmubs |\u001b[0m \n",
      "\u001b[36mt8bj7uf19d-algo-1-vmubs |\u001b[0m     location ~ ^/(ping|invocations|execution-parameters) {\n",
      "\u001b[36mt8bj7uf19d-algo-1-vmubs |\u001b[0m       proxy_set_header X-Forwarded-For $proxy_add_x_forwarded_for;\n",
      "\u001b[36mt8bj7uf19d-algo-1-vmubs |\u001b[0m       proxy_set_header Host $http_host;\n",
      "\u001b[36mt8bj7uf19d-algo-1-vmubs |\u001b[0m       proxy_redirect off;\n",
      "\u001b[36mt8bj7uf19d-algo-1-vmubs |\u001b[0m       proxy_read_timeout 60s;\n",
      "\u001b[36mt8bj7uf19d-algo-1-vmubs |\u001b[0m       proxy_pass http://gunicorn;\n",
      "\u001b[36mt8bj7uf19d-algo-1-vmubs |\u001b[0m     }\n",
      "\u001b[36mt8bj7uf19d-algo-1-vmubs |\u001b[0m \n",
      "\u001b[36mt8bj7uf19d-algo-1-vmubs |\u001b[0m     location / {\n",
      "\u001b[36mt8bj7uf19d-algo-1-vmubs |\u001b[0m       return 404 \"{}\";\n",
      "\u001b[36mt8bj7uf19d-algo-1-vmubs |\u001b[0m     }\n",
      "\u001b[36mt8bj7uf19d-algo-1-vmubs |\u001b[0m \n",
      "\u001b[36mt8bj7uf19d-algo-1-vmubs |\u001b[0m   }\n",
      "\u001b[36mt8bj7uf19d-algo-1-vmubs |\u001b[0m }\n",
      "\u001b[36mt8bj7uf19d-algo-1-vmubs |\u001b[0m \n",
      "\u001b[36mt8bj7uf19d-algo-1-vmubs |\u001b[0m \n",
      "\u001b[36mt8bj7uf19d-algo-1-vmubs |\u001b[0m [2022-10-25:04:43:56:INFO] Module inference does not provide a setup.py. \n",
      "\u001b[36mt8bj7uf19d-algo-1-vmubs |\u001b[0m Generating setup.py\n",
      "\u001b[36mt8bj7uf19d-algo-1-vmubs |\u001b[0m [2022-10-25:04:43:56:INFO] Generating setup.cfg\n",
      "\u001b[36mt8bj7uf19d-algo-1-vmubs |\u001b[0m [2022-10-25:04:43:56:INFO] Generating MANIFEST.in\n",
      "\u001b[36mt8bj7uf19d-algo-1-vmubs |\u001b[0m [2022-10-25:04:43:56:INFO] Installing module with the following command:\n",
      "\u001b[36mt8bj7uf19d-algo-1-vmubs |\u001b[0m /miniconda3/bin/python3 -m pip install . -r requirements.txt\n",
      "\u001b[36mt8bj7uf19d-algo-1-vmubs |\u001b[0m Processing /opt/ml/code\n",
      "\u001b[36mt8bj7uf19d-algo-1-vmubs |\u001b[0m   Preparing metadata (setup.py) ... \u001b[?25ldone\n",
      "\u001b[36mt8bj7uf19d-algo-1-vmubs |\u001b[0m \u001b[?25hCollecting lightgbm\n",
      "\u001b[36mt8bj7uf19d-algo-1-vmubs |\u001b[0m   Downloading lightgbm-3.3.3-py3-none-manylinux1_x86_64.whl (2.0 MB)\n",
      "\u001b[2K     \u001b[90m━━━━━━━━━━━━━━━━━━━━━━━━━━━━━━━━━━━━━━━━\u001b[0m \u001b[32m2.0/2.0 MB\u001b[0m \u001b[31m81.2 MB/s\u001b[0m eta \u001b[36m0:00:00\u001b[0m31m?\u001b[0m eta \u001b[36m-:--:--\u001b[0m\n",
      "\u001b[36mt8bj7uf19d-algo-1-vmubs |\u001b[0m \u001b[?25hRequirement already satisfied: scipy in /miniconda3/lib/python3.8/site-packages (from lightgbm->-r requirements.txt (line 1)) (1.6.2)\n",
      "\u001b[36mt8bj7uf19d-algo-1-vmubs |\u001b[0m Requirement already satisfied: wheel in /miniconda3/lib/python3.8/site-packages (from lightgbm->-r requirements.txt (line 1)) (0.36.2)\n",
      "\u001b[36mt8bj7uf19d-algo-1-vmubs |\u001b[0m Requirement already satisfied: numpy in /miniconda3/lib/python3.8/site-packages (from lightgbm->-r requirements.txt (line 1)) (1.19.2)\n",
      "\u001b[36mt8bj7uf19d-algo-1-vmubs |\u001b[0m Requirement already satisfied: scikit-learn!=0.22.0 in /miniconda3/lib/python3.8/site-packages (from lightgbm->-r requirements.txt (line 1)) (0.24.1)\n",
      "\u001b[36mt8bj7uf19d-algo-1-vmubs |\u001b[0m Requirement already satisfied: threadpoolctl>=2.0.0 in /miniconda3/lib/python3.8/site-packages (from scikit-learn!=0.22.0->lightgbm->-r requirements.txt (line 1)) (3.1.0)\n",
      "\u001b[36mt8bj7uf19d-algo-1-vmubs |\u001b[0m Requirement already satisfied: joblib>=0.11 in /miniconda3/lib/python3.8/site-packages (from scikit-learn!=0.22.0->lightgbm->-r requirements.txt (line 1)) (1.2.0)\n",
      "\u001b[36mt8bj7uf19d-algo-1-vmubs |\u001b[0m Building wheels for collected packages: inference\n",
      "\u001b[36mt8bj7uf19d-algo-1-vmubs |\u001b[0m   Building wheel for inference (setup.py) ... \u001b[?25l2022/10/25 04:43:57 [crit] 17#17: *1 connect() to unix:/tmp/gunicorn.sock failed (2: No such file or directory) while connecting to upstream, client: 172.18.0.1, server: , request: \"GET /ping HTTP/1.1\", upstream: \"http://unix:/tmp/gunicorn.sock:/ping\", host: \"localhost:8080\"\n",
      "\u001b[36mt8bj7uf19d-algo-1-vmubs |\u001b[0m 172.18.0.1 - - [25/Oct/2022:04:43:57 +0000] \"GET /ping HTTP/1.1\" 502 182 \"-\" \"python-urllib3/1.26.8\"\n",
      "\u001b[36mt8bj7uf19d-algo-1-vmubs |\u001b[0m done\n",
      "\u001b[36mt8bj7uf19d-algo-1-vmubs |\u001b[0m \u001b[?25h  Created wheel for inference: filename=inference-1.0.0-py2.py3-none-any.whl size=6005 sha256=537113b0e21007c5fa595be9f26d30dbe7022cd0548132d2755d96149a2443e4\n",
      "\u001b[36mt8bj7uf19d-algo-1-vmubs |\u001b[0m   Stored in directory: /home/model-server/tmp/pip-ephem-wheel-cache-2mwivcdx/wheels/f3/75/57/158162e9eab7af12b5c338c279b3a81f103b89d74eeb911c00\n",
      "\u001b[36mt8bj7uf19d-algo-1-vmubs |\u001b[0m Successfully built inference\n",
      "\u001b[36mt8bj7uf19d-algo-1-vmubs |\u001b[0m Installing collected packages: inference, lightgbm\n",
      "\u001b[36mt8bj7uf19d-algo-1-vmubs |\u001b[0m Successfully installed inference-1.0.0 lightgbm-3.3.3\n",
      "\u001b[36mt8bj7uf19d-algo-1-vmubs |\u001b[0m \u001b[33mWARNING: Running pip as the 'root' user can result in broken permissions and conflicting behaviour with the system package manager. It is recommended to use a virtual environment instead: https://pip.pypa.io/warnings/venv\u001b[0m\u001b[33m\n",
      "\u001b[36mt8bj7uf19d-algo-1-vmubs |\u001b[0m \u001b[0m\n",
      "\u001b[36mt8bj7uf19d-algo-1-vmubs |\u001b[0m \u001b[1m[\u001b[0m\u001b[34;49mnotice\u001b[0m\u001b[1;39;49m]\u001b[0m\u001b[39;49m A new release of pip available: \u001b[0m\u001b[31;49m22.2.2\u001b[0m\u001b[39;49m -> \u001b[0m\u001b[32;49m22.3\u001b[0m\n",
      "\u001b[36mt8bj7uf19d-algo-1-vmubs |\u001b[0m \u001b[1m[\u001b[0m\u001b[34;49mnotice\u001b[0m\u001b[1;39;49m]\u001b[0m\u001b[39;49m To update, run: \u001b[0m\u001b[32;49mpip install --upgrade pip\u001b[0m\n",
      "\u001b[36mt8bj7uf19d-algo-1-vmubs |\u001b[0m [2022-10-25 04:43:59 +0000] [27] [INFO] Starting gunicorn 19.10.0\n",
      "\u001b[36mt8bj7uf19d-algo-1-vmubs |\u001b[0m [2022-10-25 04:43:59 +0000] [27] [INFO] Listening at: unix:/tmp/gunicorn.sock (27)\n",
      "\u001b[36mt8bj7uf19d-algo-1-vmubs |\u001b[0m [2022-10-25 04:43:59 +0000] [27] [INFO] Using worker: gevent\n",
      "\u001b[36mt8bj7uf19d-algo-1-vmubs |\u001b[0m /miniconda3/lib/python3.8/os.py:1023: RuntimeWarning: line buffering (buffering=1) isn't supported in binary mode, the default buffer size will be used\n",
      "\u001b[36mt8bj7uf19d-algo-1-vmubs |\u001b[0m   return io.open(fd, *args, **kwargs)\n",
      "\u001b[36mt8bj7uf19d-algo-1-vmubs |\u001b[0m [2022-10-25 04:43:59 +0000] [29] [INFO] Booting worker with pid: 29\n",
      "\u001b[36mt8bj7uf19d-algo-1-vmubs |\u001b[0m [2022-10-25 04:43:59 +0000] [30] [INFO] Booting worker with pid: 30\n",
      "\u001b[36mt8bj7uf19d-algo-1-vmubs |\u001b[0m [2022-10-25:04:44:00:INFO] No GPUs detected (normal if no gpus installed)\n",
      "\u001b[36mt8bj7uf19d-algo-1-vmubs |\u001b[0m [2022-10-25:04:44:00:INFO] No GPUs detected (normal if no gpus installed)\n",
      "\u001b[36mt8bj7uf19d-algo-1-vmubs |\u001b[0m [2022-10-25:04:44:02:INFO] No GPUs detected (normal if no gpus installed)\n",
      "\u001b[36mt8bj7uf19d-algo-1-vmubs |\u001b[0m [2022-10-25:04:44:02:INFO] Installing module with the following command:\n",
      "\u001b[36mt8bj7uf19d-algo-1-vmubs |\u001b[0m /miniconda3/bin/python3 -m pip install . -r requirements.txt\n",
      "\u001b[36mt8bj7uf19d-algo-1-vmubs |\u001b[0m Processing /opt/ml/code\n",
      "\u001b[36mt8bj7uf19d-algo-1-vmubs |\u001b[0m   Preparing metadata (setup.py) ... \u001b[?25ldone\n",
      "\u001b[36mt8bj7uf19d-algo-1-vmubs |\u001b[0m \u001b[?25hRequirement already satisfied: lightgbm in /miniconda3/lib/python3.8/site-packages (from -r requirements.txt (line 1)) (3.3.3)\n",
      "\u001b[36mt8bj7uf19d-algo-1-vmubs |\u001b[0m Requirement already satisfied: scikit-learn!=0.22.0 in /miniconda3/lib/python3.8/site-packages (from lightgbm->-r requirements.txt (line 1)) (0.24.1)\n",
      "\u001b[36mt8bj7uf19d-algo-1-vmubs |\u001b[0m Requirement already satisfied: numpy in /miniconda3/lib/python3.8/site-packages (from lightgbm->-r requirements.txt (line 1)) (1.19.2)\n",
      "\u001b[36mt8bj7uf19d-algo-1-vmubs |\u001b[0m Requirement already satisfied: scipy in /miniconda3/lib/python3.8/site-packages (from lightgbm->-r requirements.txt (line 1)) (1.6.2)\n",
      "\u001b[36mt8bj7uf19d-algo-1-vmubs |\u001b[0m Requirement already satisfied: wheel in /miniconda3/lib/python3.8/site-packages (from lightgbm->-r requirements.txt (line 1)) (0.36.2)\n",
      "\u001b[36mt8bj7uf19d-algo-1-vmubs |\u001b[0m Requirement already satisfied: joblib>=0.11 in /miniconda3/lib/python3.8/site-packages (from scikit-learn!=0.22.0->lightgbm->-r requirements.txt (line 1)) (1.2.0)\n",
      "\u001b[36mt8bj7uf19d-algo-1-vmubs |\u001b[0m Requirement already satisfied: threadpoolctl>=2.0.0 in /miniconda3/lib/python3.8/site-packages (from scikit-learn!=0.22.0->lightgbm->-r requirements.txt (line 1)) (3.1.0)\n",
      "\u001b[36mt8bj7uf19d-algo-1-vmubs |\u001b[0m Building wheels for collected packages: inference\n",
      "\u001b[36mt8bj7uf19d-algo-1-vmubs |\u001b[0m   Building wheel for inference (setup.py) ... \u001b[?25ldone\n",
      "\u001b[36mt8bj7uf19d-algo-1-vmubs |\u001b[0m \u001b[?25h  Created wheel for inference: filename=inference-1.0.0-py2.py3-none-any.whl size=9998 sha256=d9aefa2251c0dc06c180553a830aa3e6b01aecc53e15770d69f2f383205a6645\n",
      "\u001b[36mt8bj7uf19d-algo-1-vmubs |\u001b[0m   Stored in directory: /home/model-server/tmp/pip-ephem-wheel-cache-tj3aq2i5/wheels/f3/75/57/158162e9eab7af12b5c338c279b3a81f103b89d74eeb911c00\n",
      "\u001b[36mt8bj7uf19d-algo-1-vmubs |\u001b[0m Successfully built inference\n",
      "\u001b[36mt8bj7uf19d-algo-1-vmubs |\u001b[0m Installing collected packages: inference\n",
      "\u001b[36mt8bj7uf19d-algo-1-vmubs |\u001b[0m   Attempting uninstall: inference\n",
      "\u001b[36mt8bj7uf19d-algo-1-vmubs |\u001b[0m     Found existing installation: inference 1.0.0\n",
      "\u001b[36mt8bj7uf19d-algo-1-vmubs |\u001b[0m     Can't uninstall 'inference'. No files were found to uninstall.\n",
      "\u001b[36mt8bj7uf19d-algo-1-vmubs |\u001b[0m Successfully installed inference-1.0.0\n",
      "\u001b[36mt8bj7uf19d-algo-1-vmubs |\u001b[0m \u001b[33mWARNING: Running pip as the 'root' user can result in broken permissions and conflicting behaviour with the system package manager. It is recommended to use a virtual environment instead: https://pip.pypa.io/warnings/venv\u001b[0m\u001b[33m\n",
      "\u001b[36mt8bj7uf19d-algo-1-vmubs |\u001b[0m \u001b[0m\n",
      "\u001b[36mt8bj7uf19d-algo-1-vmubs |\u001b[0m \u001b[1m[\u001b[0m\u001b[34;49mnotice\u001b[0m\u001b[1;39;49m]\u001b[0m\u001b[39;49m A new release of pip available: \u001b[0m\u001b[31;49m22.2.2\u001b[0m\u001b[39;49m -> \u001b[0m\u001b[32;49m22.3\u001b[0m\n",
      "\u001b[36mt8bj7uf19d-algo-1-vmubs |\u001b[0m \u001b[1m[\u001b[0m\u001b[34;49mnotice\u001b[0m\u001b[1;39;49m]\u001b[0m\u001b[39;49m To update, run: \u001b[0m\u001b[32;49mpip install --upgrade pip\u001b[0m\n",
      "\u001b[36mt8bj7uf19d-algo-1-vmubs |\u001b[0m =================================\n",
      "\u001b[36mt8bj7uf19d-algo-1-vmubs |\u001b[0m =================================\n",
      "\u001b[36mt8bj7uf19d-algo-1-vmubs |\u001b[0m ==========my model_fn==============\n",
      "\u001b[36mt8bj7uf19d-algo-1-vmubs |\u001b[0m =================================\n",
      "\u001b[36mt8bj7uf19d-algo-1-vmubs |\u001b[0m =================================\n",
      "\u001b[36mt8bj7uf19d-algo-1-vmubs |\u001b[0m /\n",
      "\u001b[36mt8bj7uf19d-algo-1-vmubs |\u001b[0m NGC-DL-CONTAINER-LICENSE    dev   lib64       opt   sbin  usr\n",
      "\u001b[36mt8bj7uf19d-algo-1-vmubs |\u001b[0m bin\t\t\t    etc   media       proc  srv   var\n",
      "\u001b[36mt8bj7uf19d-algo-1-vmubs |\u001b[0m boot\t\t\t    home  miniconda3  root  sys\n",
      "\u001b[36mt8bj7uf19d-algo-1-vmubs |\u001b[0m cuda-keyring_1.0-1_all.deb  lib   mnt\t      run   tmp\n",
      "\u001b[36mt8bj7uf19d-algo-1-vmubs |\u001b[0m ==============a===================\n",
      "\u001b[36mt8bj7uf19d-algo-1-vmubs |\u001b[0m code  lightgbm-regression-model.txt  model.tar.gz\n",
      "\u001b[36mt8bj7uf19d-algo-1-vmubs |\u001b[0m ===============a==================\n",
      "\u001b[36mt8bj7uf19d-algo-1-vmubs |\u001b[0m ==================================\n",
      "\u001b[36mt8bj7uf19d-algo-1-vmubs |\u001b[0m ======= Display ENV values =======\n",
      "\u001b[36mt8bj7uf19d-algo-1-vmubs |\u001b[0m ==================================\n",
      "\u001b[36mt8bj7uf19d-algo-1-vmubs |\u001b[0m PATH: /miniconda3/bin:/usr/local/nvidia/bin:/usr/local/cuda/bin:/usr/local/sbin:/usr/local/bin:/usr/sbin:/usr/bin:/sbin:/bin\n",
      "\u001b[36mt8bj7uf19d-algo-1-vmubs |\u001b[0m HOSTNAME: 4c284ba0ab8b\n",
      "\u001b[36mt8bj7uf19d-algo-1-vmubs |\u001b[0m TERM: xterm\n",
      "\u001b[36mt8bj7uf19d-algo-1-vmubs |\u001b[0m SAGEMAKER_PROGRAM: inference.py\n",
      "\u001b[36mt8bj7uf19d-algo-1-vmubs |\u001b[0m SAGEMAKER_SUBMIT_DIRECTORY: /opt/ml/model/code\n",
      "\u001b[36mt8bj7uf19d-algo-1-vmubs |\u001b[0m SAGEMAKER_CONTAINER_LOG_LEVEL: 20\n",
      "\u001b[36mt8bj7uf19d-algo-1-vmubs |\u001b[0m SAGEMAKER_REGION: ap-northeast-1\n",
      "\u001b[36mt8bj7uf19d-algo-1-vmubs |\u001b[0m NVARCH: x86_64\n",
      "\u001b[36mt8bj7uf19d-algo-1-vmubs |\u001b[0m NVIDIA_REQUIRE_CUDA: cuda>=10.2 brand=tesla,driver>=418,driver<419\n",
      "\u001b[36mt8bj7uf19d-algo-1-vmubs |\u001b[0m NV_CUDA_CUDART_VERSION: 10.2.89-1\n",
      "\u001b[36mt8bj7uf19d-algo-1-vmubs |\u001b[0m CUDA_VERSION: 10.2.89\n",
      "\u001b[36mt8bj7uf19d-algo-1-vmubs |\u001b[0m LD_LIBRARY_PATH: /usr/local/nvidia/lib:/usr/local/nvidia/lib64\n",
      "\u001b[36mt8bj7uf19d-algo-1-vmubs |\u001b[0m NVIDIA_VISIBLE_DEVICES: all\n",
      "\u001b[36mt8bj7uf19d-algo-1-vmubs |\u001b[0m NVIDIA_DRIVER_CAPABILITIES: compute,utility\n",
      "\u001b[36mt8bj7uf19d-algo-1-vmubs |\u001b[0m DEBIAN_FRONTEND: noninteractive\n",
      "\u001b[36mt8bj7uf19d-algo-1-vmubs |\u001b[0m LANG: C.UTF-8\n",
      "\u001b[36mt8bj7uf19d-algo-1-vmubs |\u001b[0m LC_ALL: C.UTF-8\n",
      "\u001b[36mt8bj7uf19d-algo-1-vmubs |\u001b[0m PYTHONDONTWRITEBYTECODE: 1\n",
      "\u001b[36mt8bj7uf19d-algo-1-vmubs |\u001b[0m PYTHONUNBUFFERED: 1\n",
      "\u001b[36mt8bj7uf19d-algo-1-vmubs |\u001b[0m PYTHONIOENCODING: utf-8\n",
      "\u001b[36mt8bj7uf19d-algo-1-vmubs |\u001b[0m PYTHONPATH: :/miniconda3/lib/python/site-packages/xgboost/dmlc-core/tracker\n",
      "\u001b[36mt8bj7uf19d-algo-1-vmubs |\u001b[0m XGBOOST_MMS_CONFIG: /home/model-server/config.properties\n",
      "\u001b[36mt8bj7uf19d-algo-1-vmubs |\u001b[0m SM_INPUT: /opt/ml/input\n",
      "\u001b[36mt8bj7uf19d-algo-1-vmubs |\u001b[0m SM_INPUT_TRAINING_CONFIG_FILE: /opt/ml/input/config/hyperparameters.json\n",
      "\u001b[36mt8bj7uf19d-algo-1-vmubs |\u001b[0m SM_INPUT_DATA_CONFIG_FILE: /opt/ml/input/config/inputdataconfig.json\n",
      "\u001b[36mt8bj7uf19d-algo-1-vmubs |\u001b[0m SM_CHECKPOINT_CONFIG_FILE: /opt/ml/input/config/checkpointconfig.json\n",
      "\u001b[36mt8bj7uf19d-algo-1-vmubs |\u001b[0m SM_MODEL_DIR: /opt/ml/model\n",
      "\u001b[36mt8bj7uf19d-algo-1-vmubs |\u001b[0m SAGEMAKER_TRAINING_MODULE: sagemaker_xgboost_container.training:main\n",
      "\u001b[36mt8bj7uf19d-algo-1-vmubs |\u001b[0m SAGEMAKER_SERVING_MODULE: sagemaker_xgboost_container.serving:main\n",
      "\u001b[36mt8bj7uf19d-algo-1-vmubs |\u001b[0m TEMP: /home/model-server/tmp\n",
      "\u001b[36mt8bj7uf19d-algo-1-vmubs |\u001b[0m HOME: /root\n",
      "\u001b[36mt8bj7uf19d-algo-1-vmubs |\u001b[0m KMP_DUPLICATE_LIB_OK: True\n",
      "\u001b[36mt8bj7uf19d-algo-1-vmubs |\u001b[0m KMP_INIT_AT_FORK: FALSE\n",
      "\u001b[36mt8bj7uf19d-algo-1-vmubs |\u001b[0m OMP_NUM_THREADS: 1\n",
      "\u001b[36mt8bj7uf19d-algo-1-vmubs |\u001b[0m SERVER_SOFTWARE: gunicorn/19.10.0\n",
      "\u001b[36mt8bj7uf19d-algo-1-vmubs |\u001b[0m =================================\n",
      "\u001b[36mt8bj7uf19d-algo-1-vmubs |\u001b[0m =======START LOAD MODEL===========\n",
      "\u001b[36mt8bj7uf19d-algo-1-vmubs |\u001b[0m =================================\n",
      "\u001b[36mt8bj7uf19d-algo-1-vmubs |\u001b[0m =================================\n",
      "\u001b[36mt8bj7uf19d-algo-1-vmubs |\u001b[0m =======END OF model_fn===========\n",
      "\u001b[36mt8bj7uf19d-algo-1-vmubs |\u001b[0m =================================\n",
      "!\u001b[36mt8bj7uf19d-algo-1-vmubs |\u001b[0m 172.18.0.1 - - [25/Oct/2022:04:44:05 +0000] \"GET /ping HTTP/1.1\" 200 0 \"-\" \"python-urllib3/1.26.8\"\n"
     ]
    },
    {
     "name": "stderr",
     "output_type": "stream",
     "text": [
      "The class RealTimePredictor has been renamed in sagemaker>=2.\n",
      "See: https://sagemaker.readthedocs.io/en/stable/v2.html for details.\n"
     ]
    }
   ],
   "source": [
    "predictor_lgb_model = lgb_model.deploy(initial_instance_count=1,\n",
    "                                       instance_type='local', \n",
    "                                       serializer=csv_serializer, ### string形式でSageMakerに渡す（認識してもらう）\n",
    "                                       #deserializer=None, \n",
    "                                      )"
   ]
  },
  {
   "cell_type": "code",
   "execution_count": 71,
   "id": "7de0f1fc",
   "metadata": {},
   "outputs": [
    {
     "name": "stderr",
     "output_type": "stream",
     "text": [
      "The csv_serializer has been renamed in sagemaker>=2.\n",
      "See: https://sagemaker.readthedocs.io/en/stable/v2.html for details.\n"
     ]
    },
    {
     "name": "stdout",
     "output_type": "stream",
     "text": [
      "\u001b[36mt8bj7uf19d-algo-1-vmubs |\u001b[0m [2022-10-25:04:44:05:INFO] No GPUs detected (normal if no gpus installed)\n",
      "\u001b[36mt8bj7uf19d-algo-1-vmubs |\u001b[0m [2022-10-25:04:44:05:INFO] Installing module with the following command:\n",
      "\u001b[36mt8bj7uf19d-algo-1-vmubs |\u001b[0m /miniconda3/bin/python3 -m pip install . -r requirements.txt\n",
      "\u001b[36mt8bj7uf19d-algo-1-vmubs |\u001b[0m Processing /opt/ml/code\n",
      "\u001b[36mt8bj7uf19d-algo-1-vmubs |\u001b[0m   Preparing metadata (setup.py) ... \u001b[?25ldone\n",
      "\u001b[36mt8bj7uf19d-algo-1-vmubs |\u001b[0m \u001b[?25hRequirement already satisfied: lightgbm in /miniconda3/lib/python3.8/site-packages (from -r requirements.txt (line 1)) (3.3.3)\n",
      "\u001b[36mt8bj7uf19d-algo-1-vmubs |\u001b[0m Requirement already satisfied: numpy in /miniconda3/lib/python3.8/site-packages (from lightgbm->-r requirements.txt (line 1)) (1.19.2)\n",
      "\u001b[36mt8bj7uf19d-algo-1-vmubs |\u001b[0m Requirement already satisfied: wheel in /miniconda3/lib/python3.8/site-packages (from lightgbm->-r requirements.txt (line 1)) (0.36.2)\n",
      "\u001b[36mt8bj7uf19d-algo-1-vmubs |\u001b[0m Requirement already satisfied: scipy in /miniconda3/lib/python3.8/site-packages (from lightgbm->-r requirements.txt (line 1)) (1.6.2)\n",
      "\u001b[36mt8bj7uf19d-algo-1-vmubs |\u001b[0m Requirement already satisfied: scikit-learn!=0.22.0 in /miniconda3/lib/python3.8/site-packages (from lightgbm->-r requirements.txt (line 1)) (0.24.1)\n",
      "\u001b[36mt8bj7uf19d-algo-1-vmubs |\u001b[0m Requirement already satisfied: joblib>=0.11 in /miniconda3/lib/python3.8/site-packages (from scikit-learn!=0.22.0->lightgbm->-r requirements.txt (line 1)) (1.2.0)\n",
      "\u001b[36mt8bj7uf19d-algo-1-vmubs |\u001b[0m Requirement already satisfied: threadpoolctl>=2.0.0 in /miniconda3/lib/python3.8/site-packages (from scikit-learn!=0.22.0->lightgbm->-r requirements.txt (line 1)) (3.1.0)\n",
      "\u001b[36mt8bj7uf19d-algo-1-vmubs |\u001b[0m Building wheels for collected packages: inference\n",
      "\u001b[36mt8bj7uf19d-algo-1-vmubs |\u001b[0m   Building wheel for inference (setup.py) ... \u001b[?25ldone\n",
      "\u001b[36mt8bj7uf19d-algo-1-vmubs |\u001b[0m \u001b[?25h  Created wheel for inference: filename=inference-1.0.0-py2.py3-none-any.whl size=14235 sha256=527b28c9f75f724517f786afd3ab0184d0dc959193faf8bd5746c8460e722d4a\n",
      "\u001b[36mt8bj7uf19d-algo-1-vmubs |\u001b[0m   Stored in directory: /home/model-server/tmp/pip-ephem-wheel-cache-_iedeg24/wheels/f3/75/57/158162e9eab7af12b5c338c279b3a81f103b89d74eeb911c00\n",
      "\u001b[36mt8bj7uf19d-algo-1-vmubs |\u001b[0m Successfully built inference\n",
      "\u001b[36mt8bj7uf19d-algo-1-vmubs |\u001b[0m Installing collected packages: inference\n",
      "\u001b[36mt8bj7uf19d-algo-1-vmubs |\u001b[0m   Attempting uninstall: inference\n",
      "\u001b[36mt8bj7uf19d-algo-1-vmubs |\u001b[0m     Found existing installation: inference 1.0.0\n",
      "\u001b[36mt8bj7uf19d-algo-1-vmubs |\u001b[0m     Can't uninstall 'inference'. No files were found to uninstall.\n",
      "\u001b[36mt8bj7uf19d-algo-1-vmubs |\u001b[0m Successfully installed inference-1.0.0\n",
      "\u001b[36mt8bj7uf19d-algo-1-vmubs |\u001b[0m \u001b[33mWARNING: Running pip as the 'root' user can result in broken permissions and conflicting behaviour with the system package manager. It is recommended to use a virtual environment instead: https://pip.pypa.io/warnings/venv\u001b[0m\u001b[33m\n",
      "\u001b[36mt8bj7uf19d-algo-1-vmubs |\u001b[0m \u001b[0m\n",
      "\u001b[36mt8bj7uf19d-algo-1-vmubs |\u001b[0m \u001b[1m[\u001b[0m\u001b[34;49mnotice\u001b[0m\u001b[1;39;49m]\u001b[0m\u001b[39;49m A new release of pip available: \u001b[0m\u001b[31;49m22.2.2\u001b[0m\u001b[39;49m -> \u001b[0m\u001b[32;49m22.3\u001b[0m\n",
      "\u001b[36mt8bj7uf19d-algo-1-vmubs |\u001b[0m \u001b[1m[\u001b[0m\u001b[34;49mnotice\u001b[0m\u001b[1;39;49m]\u001b[0m\u001b[39;49m To update, run: \u001b[0m\u001b[32;49mpip install --upgrade pip\u001b[0m\n",
      "\u001b[36mt8bj7uf19d-algo-1-vmubs |\u001b[0m =================================\n",
      "\u001b[36mt8bj7uf19d-algo-1-vmubs |\u001b[0m =================================\n",
      "\u001b[36mt8bj7uf19d-algo-1-vmubs |\u001b[0m ==========my model_fn==============\n",
      "\u001b[36mt8bj7uf19d-algo-1-vmubs |\u001b[0m =================================\n",
      "\u001b[36mt8bj7uf19d-algo-1-vmubs |\u001b[0m =================================\n",
      "\u001b[36mt8bj7uf19d-algo-1-vmubs |\u001b[0m /\n",
      "\u001b[36mt8bj7uf19d-algo-1-vmubs |\u001b[0m NGC-DL-CONTAINER-LICENSE    dev   lib64       opt   sbin  usr\n",
      "\u001b[36mt8bj7uf19d-algo-1-vmubs |\u001b[0m bin\t\t\t    etc   media       proc  srv   var\n",
      "\u001b[36mt8bj7uf19d-algo-1-vmubs |\u001b[0m boot\t\t\t    home  miniconda3  root  sys\n",
      "\u001b[36mt8bj7uf19d-algo-1-vmubs |\u001b[0m cuda-keyring_1.0-1_all.deb  lib   mnt\t      run   tmp\n",
      "\u001b[36mt8bj7uf19d-algo-1-vmubs |\u001b[0m ==============a===================\n",
      "\u001b[36mt8bj7uf19d-algo-1-vmubs |\u001b[0m code  lightgbm-regression-model.txt  model.tar.gz\n",
      "\u001b[36mt8bj7uf19d-algo-1-vmubs |\u001b[0m ===============a==================\n",
      "\u001b[36mt8bj7uf19d-algo-1-vmubs |\u001b[0m ==================================\n",
      "\u001b[36mt8bj7uf19d-algo-1-vmubs |\u001b[0m ======= Display ENV values =======\n",
      "\u001b[36mt8bj7uf19d-algo-1-vmubs |\u001b[0m ==================================\n",
      "\u001b[36mt8bj7uf19d-algo-1-vmubs |\u001b[0m PATH: /miniconda3/bin:/usr/local/nvidia/bin:/usr/local/cuda/bin:/usr/local/sbin:/usr/local/bin:/usr/sbin:/usr/bin:/sbin:/bin\n",
      "\u001b[36mt8bj7uf19d-algo-1-vmubs |\u001b[0m HOSTNAME: 4c284ba0ab8b\n",
      "\u001b[36mt8bj7uf19d-algo-1-vmubs |\u001b[0m TERM: xterm\n",
      "\u001b[36mt8bj7uf19d-algo-1-vmubs |\u001b[0m SAGEMAKER_PROGRAM: inference.py\n",
      "\u001b[36mt8bj7uf19d-algo-1-vmubs |\u001b[0m SAGEMAKER_SUBMIT_DIRECTORY: /opt/ml/model/code\n",
      "\u001b[36mt8bj7uf19d-algo-1-vmubs |\u001b[0m SAGEMAKER_CONTAINER_LOG_LEVEL: 20\n",
      "\u001b[36mt8bj7uf19d-algo-1-vmubs |\u001b[0m SAGEMAKER_REGION: ap-northeast-1\n",
      "\u001b[36mt8bj7uf19d-algo-1-vmubs |\u001b[0m NVARCH: x86_64\n",
      "\u001b[36mt8bj7uf19d-algo-1-vmubs |\u001b[0m NVIDIA_REQUIRE_CUDA: cuda>=10.2 brand=tesla,driver>=418,driver<419\n",
      "\u001b[36mt8bj7uf19d-algo-1-vmubs |\u001b[0m NV_CUDA_CUDART_VERSION: 10.2.89-1\n",
      "\u001b[36mt8bj7uf19d-algo-1-vmubs |\u001b[0m CUDA_VERSION: 10.2.89\n",
      "\u001b[36mt8bj7uf19d-algo-1-vmubs |\u001b[0m LD_LIBRARY_PATH: /usr/local/nvidia/lib:/usr/local/nvidia/lib64\n",
      "\u001b[36mt8bj7uf19d-algo-1-vmubs |\u001b[0m NVIDIA_VISIBLE_DEVICES: all\n",
      "\u001b[36mt8bj7uf19d-algo-1-vmubs |\u001b[0m NVIDIA_DRIVER_CAPABILITIES: compute,utility\n",
      "\u001b[36mt8bj7uf19d-algo-1-vmubs |\u001b[0m DEBIAN_FRONTEND: noninteractive\n",
      "\u001b[36mt8bj7uf19d-algo-1-vmubs |\u001b[0m LANG: C.UTF-8\n",
      "\u001b[36mt8bj7uf19d-algo-1-vmubs |\u001b[0m LC_ALL: C.UTF-8\n",
      "\u001b[36mt8bj7uf19d-algo-1-vmubs |\u001b[0m PYTHONDONTWRITEBYTECODE: 1\n",
      "\u001b[36mt8bj7uf19d-algo-1-vmubs |\u001b[0m PYTHONUNBUFFERED: 1\n",
      "\u001b[36mt8bj7uf19d-algo-1-vmubs |\u001b[0m PYTHONIOENCODING: utf-8\n",
      "\u001b[36mt8bj7uf19d-algo-1-vmubs |\u001b[0m PYTHONPATH: :/miniconda3/lib/python/site-packages/xgboost/dmlc-core/tracker\n",
      "\u001b[36mt8bj7uf19d-algo-1-vmubs |\u001b[0m XGBOOST_MMS_CONFIG: /home/model-server/config.properties\n",
      "\u001b[36mt8bj7uf19d-algo-1-vmubs |\u001b[0m SM_INPUT: /opt/ml/input\n",
      "\u001b[36mt8bj7uf19d-algo-1-vmubs |\u001b[0m SM_INPUT_TRAINING_CONFIG_FILE: /opt/ml/input/config/hyperparameters.json\n",
      "\u001b[36mt8bj7uf19d-algo-1-vmubs |\u001b[0m SM_INPUT_DATA_CONFIG_FILE: /opt/ml/input/config/inputdataconfig.json\n",
      "\u001b[36mt8bj7uf19d-algo-1-vmubs |\u001b[0m SM_CHECKPOINT_CONFIG_FILE: /opt/ml/input/config/checkpointconfig.json\n",
      "\u001b[36mt8bj7uf19d-algo-1-vmubs |\u001b[0m SM_MODEL_DIR: /opt/ml/model\n",
      "\u001b[36mt8bj7uf19d-algo-1-vmubs |\u001b[0m SAGEMAKER_TRAINING_MODULE: sagemaker_xgboost_container.training:main\n",
      "\u001b[36mt8bj7uf19d-algo-1-vmubs |\u001b[0m SAGEMAKER_SERVING_MODULE: sagemaker_xgboost_container.serving:main\n",
      "\u001b[36mt8bj7uf19d-algo-1-vmubs |\u001b[0m TEMP: /home/model-server/tmp\n",
      "\u001b[36mt8bj7uf19d-algo-1-vmubs |\u001b[0m HOME: /root\n",
      "\u001b[36mt8bj7uf19d-algo-1-vmubs |\u001b[0m KMP_DUPLICATE_LIB_OK: True\n",
      "\u001b[36mt8bj7uf19d-algo-1-vmubs |\u001b[0m KMP_INIT_AT_FORK: FALSE\n",
      "\u001b[36mt8bj7uf19d-algo-1-vmubs |\u001b[0m OMP_NUM_THREADS: 1\n",
      "\u001b[36mt8bj7uf19d-algo-1-vmubs |\u001b[0m SERVER_SOFTWARE: gunicorn/19.10.0\n",
      "\u001b[36mt8bj7uf19d-algo-1-vmubs |\u001b[0m =================================\n",
      "\u001b[36mt8bj7uf19d-algo-1-vmubs |\u001b[0m =======START LOAD MODEL===========\n",
      "\u001b[36mt8bj7uf19d-algo-1-vmubs |\u001b[0m =================================\n",
      "\u001b[36mt8bj7uf19d-algo-1-vmubs |\u001b[0m =================================\n",
      "\u001b[36mt8bj7uf19d-algo-1-vmubs |\u001b[0m =======END OF model_fn===========\n",
      "\u001b[36mt8bj7uf19d-algo-1-vmubs |\u001b[0m =================================\n",
      "\u001b[36mt8bj7uf19d-algo-1-vmubs |\u001b[0m =================================\n",
      "\u001b[36mt8bj7uf19d-algo-1-vmubs |\u001b[0m =================================\n",
      "\u001b[36mt8bj7uf19d-algo-1-vmubs |\u001b[0m ==========my input_fn =========\n",
      "\u001b[36mt8bj7uf19d-algo-1-vmubs |\u001b[0m =================================\n",
      "\u001b[36mt8bj7uf19d-algo-1-vmubs |\u001b[0m =================================\n",
      "\u001b[36mt8bj7uf19d-algo-1-vmubs |\u001b[0m text/csv\n",
      "\u001b[36mt8bj7uf19d-algo-1-vmubs |\u001b[0m ========== input_data =========\n",
      "\u001b[36mt8bj7uf19d-algo-1-vmubs |\u001b[0m <class 'str'>\n",
      "\u001b[36mt8bj7uf19d-algo-1-vmubs |\u001b[0m 0.25387,0.0,6.91,0.0,0.448,5.399,95.3,5.87,3.0,233.0,17.9,396.9,30.81\n",
      "\u001b[36mt8bj7uf19d-algo-1-vmubs |\u001b[0m 0.01951,17.5,1.38,0.0,0.4161,7.104,59.5,9.2229,3.0,216.0,18.6,393.24,8.05\n",
      "\u001b[36mt8bj7uf19d-algo-1-vmubs |\u001b[0m 4.64689,0.0,18.1,0.0,0.614,6.98,67.6,2.5329,24.0,666.0,20.2,374.68,11.66\n",
      "\u001b[36mt8bj7uf19d-algo-1-vmubs |\u001b[0m 3.67367,0.0,18.1,0.0,0.583,6.312,51.9,3.9917,24.0,666.0,20.2,388.62,10.58\n",
      "\u001b[36mt8bj7uf19d-algo-1-vmubs |\u001b[0m 0.29819,0.0,6.2,0.0,0.504,7.686,17.0,3.3751,8.0,307.0,17.4,377.51,3.92\n",
      "\u001b[36mt8bj7uf19d-algo-1-vmubs |\u001b[0m 8.15174,0.0,18.1,0.0,0.7,5.39,98.9,1.7281,24.0,666.0,20.2,396.9,20.85\n",
      "\u001b[36mt8bj7uf19d-algo-1-vmubs |\u001b[0m 6.65492,0.0,18.1,0.0,0.713,6.317,83.0,2.7344,24.0,666.0,20.2,396.9,13.99\n",
      "\u001b[36mt8bj7uf19d-algo-1-vmubs |\u001b[0m 0.17171,25.0,5.13,0.0,0.453,5.966,93.4,6.8185,8.0,284.0,19.7,378.08,14.44\n",
      "\u001b[36mt8bj7uf19d-algo-1-vmubs |\u001b[0m 5.73116,0.0,18.1,0.0,0.532,7.061,77.0,3.4106,24.0,666.0,20.2,395.28,7.01\n",
      "\u001b[36mt8bj7uf19d-algo-1-vmubs |\u001b[0m 3.1636,0.0,18.1,0.0,0.655,5.759,48.2,3.0665,24.0,666.0,20.2,334.4,14.13\n",
      "\u001b[36mt8bj7uf19d-algo-1-vmubs |\u001b[0m 11.8123,0.0,18.1,0.0,0.718,6.824,76.5,1.794,24.0,666.0,20.2,48.45,22.74\n",
      "\u001b[36mt8bj7uf19d-algo-1-vmubs |\u001b[0m 8.64476,0.0,18.1,0.0,0.693,6.193,92.6,1.7912,24.0,666.0,20.2,396.9,15.17\n",
      "\u001b[36mt8bj7uf19d-algo-1-vmubs |\u001b[0m 0.02177,82.5,2.03,0.0,0.415,7.61,15.7,6.27,2.0,348.0,14.7,395.38,3.11\n",
      "\u001b[36mt8bj7uf19d-algo-1-vmubs |\u001b[0m 0.13914,0.0,4.05,0.0,0.51,5.572,88.5,2.5961,5.0,296.0,16.6,396.9,14.69\n",
      "\u001b[36mt8bj7uf19d-algo-1-vmubs |\u001b[0m 8.05579,0.0,18.1,0.0,0.584,5.427,95.4,2.4298,24.0,666.0,20.2,352.58,18.14\n",
      "\u001b[36mt8bj7uf19d-algo-1-vmubs |\u001b[0m 0.22876,0.0,8.56,0.0,0.52,6.405,85.4,2.7147,5.0,384.0,20.9,70.8,10.63\n",
      "\u001b[36mt8bj7uf19d-algo-1-vmubs |\u001b[0m 0.07013,0.0,13.89,0.0,0.55,6.642,85.1,3.4211,5.0,276.0,16.4,392.78,9.69\n",
      "\u001b[36mt8bj7uf19d-algo-1-vmubs |\u001b[0m 0.28955,0.0,10.59,0.0,0.489,5.412,9.8,3.5875,4.0,277.0,18.6,348.93,29.55\n",
      "\u001b[36mt8bj7uf19d-algo-1-vmubs |\u001b[0m 23.6482,0.0,18.1,0.0,0.671,6.38,96.2,1.3861,24.0,666.0,20.2,396.9,23.69\n",
      "\u001b[36mt8bj7uf19d-algo-1-vmubs |\u001b[0m 4.54192,0.0,18.1,0.0,0.77,6.398,88.0,2.5182,24.0,666.0,20.2,374.56,7.79\n",
      "\u001b[36mt8bj7uf19d-algo-1-vmubs |\u001b[0m 0.04741,0.0,11.93,0.0,0.573,6.03,80.8,2.505,1.0,273.0,21.0,396.9,7.88\n",
      "\u001b[36mt8bj7uf19d-algo-1-vmubs |\u001b[0m 0.04301,80.0,1.91,0.0,0.413,5.663,21.9,10.5857,4.0,334.0,22.0,382.8,8.05\n",
      "\u001b[36mt8bj7uf19d-algo-1-vmubs |\u001b[0m 0.0795,60.0,1.69,0.0,0.411,6.579,35.9,10.7103,4.0,411.0,18.3,370.78,5.49\n",
      "\u001b[36mt8bj7uf19d-algo-1-vmubs |\u001b[0m 0.0686,0.0,2.89,0.0,0.445,7.416,62.5,3.4952,2.0,276.0,18.0,396.9,6.19\n",
      "\u001b[36mt8bj7uf19d-algo-1-vmubs |\u001b[0m 0.10153,0.0,12.83,0.0,0.437,6.279,74.5,4.0522,5.0,398.0,18.7,373.66,11.97\n",
      "\u001b[36mt8bj7uf19d-algo-1-vmubs |\u001b[0m 0.06076,0.0,11.93,0.0,0.573,6.976,91.0,2.1675,1.0,273.0,21.0,396.9,5.64\n",
      "\u001b[36mt8bj7uf19d-algo-1-vmubs |\u001b[0m 0.17505,0.0,5.96,0.0,0.499,5.966,30.2,3.8473,5.0,279.0,19.2,393.43,10.13\n",
      "\u001b[36mt8bj7uf19d-algo-1-vmubs |\u001b[0m 41.5292,0.0,18.1,0.0,0.693,5.531,85.4,1.6074,24.0,666.0,20.2,329.46,27.38\n",
      "\u001b[36mt8bj7uf19d-algo-1-vmubs |\u001b[0m 2.44953,0.0,19.58,0.0,0.605,6.402,95.2,2.2625,5.0,403.0,14.7,330.04,11.32\n",
      "\u001b[36mt8bj7uf19d-algo-1-vmubs |\u001b[0m 0.26838,0.0,9.69,0.0,0.585,5.794,70.6,2.8927,6.0,391.0,19.2,396.9,14.1\n",
      "\u001b[36mt8bj7uf19d-algo-1-vmubs |\u001b[0m 0.08873,21.0,5.64,0.0,0.439,5.963,45.7,6.8147,4.0,243.0,16.8,395.56,13.45\n",
      "\u001b[36mt8bj7uf19d-algo-1-vmubs |\u001b[0m 16.8118,0.0,18.1,0.0,0.7,5.277,98.1,1.4261,24.0,666.0,20.2,396.9,30.81\n",
      "\u001b[36mt8bj7uf19d-algo-1-vmubs |\u001b[0m 0.06905,0.0,2.18,0.0,0.458,7.147,54.2,6.0622,3.0,222.0,18.7,396.9,5.33\n",
      "\u001b[36mt8bj7uf19d-algo-1-vmubs |\u001b[0m 0.05059,0.0,4.49,0.0,0.449,6.389,48.0,4.7794,3.0,247.0,18.5,396.9,9.62\n",
      "\u001b[36mt8bj7uf19d-algo-1-vmubs |\u001b[0m 1.46336,0.0,19.58,0.0,0.605,7.489,90.8,1.9709,5.0,403.0,14.7,374.43,1.73\n",
      "\u001b[36mt8bj7uf19d-algo-1-vmubs |\u001b[0m 0.11432,0.0,8.56,0.0,0.52,6.781,71.3,2.8561,5.0,384.0,20.9,395.58,7.67\n",
      "\u001b[36mt8bj7uf19d-algo-1-vmubs |\u001b[0m 0.06129,20.0,3.33,1.0,0.4429,7.645,49.7,5.2119,5.0,216.0,14.9,377.07,3.01\n",
      "\u001b[36mt8bj7uf19d-algo-1-vmubs |\u001b[0m 18.811,0.0,18.1,0.0,0.597,4.628,100.0,1.5539,24.0,666.0,20.2,28.79,34.37\n",
      "\u001b[36mt8bj7uf19d-algo-1-vmubs |\u001b[0m 0.03615,80.0,4.95,0.0,0.411,6.63,23.4,5.1167,4.0,245.0,19.2,396.9,4.7\n",
      "\u001b[36mt8bj7uf19d-algo-1-vmubs |\u001b[0m 0.41238,0.0,6.2,0.0,0.504,7.163,79.9,3.2157,8.0,307.0,17.4,372.08,6.36\n",
      "\u001b[36mt8bj7uf19d-algo-1-vmubs |\u001b[0m 4.22239,0.0,18.1,1.0,0.77,5.803,89.0,1.9047,24.0,666.0,20.2,353.04,14.64\n",
      "\u001b[36mt8bj7uf19d-algo-1-vmubs |\u001b[0m 0.17446,0.0,10.59,1.0,0.489,5.96,92.1,3.8771,4.0,277.0,18.6,393.25,17.27\n",
      "\u001b[36mt8bj7uf19d-algo-1-vmubs |\u001b[0m 5.29305,0.0,18.1,0.0,0.7,6.051,82.5,2.1678,24.0,666.0,20.2,378.38,18.76\n",
      "\u001b[36mt8bj7uf19d-algo-1-vmubs |\u001b[0m 0.02763,75.0,2.95,0.0,0.428,6.595,21.8,5.4011,3.0,252.0,18.3,395.63,4.32\n",
      "\u001b[36mt8bj7uf19d-algo-1-vmubs |\u001b[0m 0.35233,0.0,21.89,0.0,0.624,6.454,98.4,1.8498,4.0,437.0,21.2,394.08,14.59\n",
      "\u001b[36mt8bj7uf19d-algo-1-vmubs |\u001b[0m 15.8744,0.0,18.1,0.0,0.671,6.545,99.1,1.5192,24.0,666.0,20.2,396.9,21.08\n",
      "\u001b[36mt8bj7uf19d-algo-1-vmubs |\u001b[0m 0.03537,34.0,6.09,0.0,0.433,6.59,40.4,5.4917,7.0,329.0,16.1,395.75,9.5\n",
      "\u001b[36mt8bj7uf19d-algo-1-vmubs |\u001b[0m 0.09252,30.0,4.93,0.0,0.428,6.606,42.2,6.1899,6.0,300.0,16.6,383.78,7.37\n",
      "\u001b[36mt8bj7uf19d-algo-1-vmubs |\u001b[0m 0.32543,0.0,21.89,0.0,0.624,6.431,98.8,1.8125,4.0,437.0,21.2,396.9,15.39\n",
      "\u001b[36mt8bj7uf19d-algo-1-vmubs |\u001b[0m 0.16902,0.0,25.65,0.0,0.581,5.986,88.4,1.9929,2.0,188.0,19.1,385.02,14.81\n",
      "\u001b[36mt8bj7uf19d-algo-1-vmubs |\u001b[0m 0.02009,95.0,2.68,0.0,0.4161,8.034,31.9,5.118,4.0,224.0,14.7,390.55,2.88\n",
      "\u001b[36mt8bj7uf19d-algo-1-vmubs |\u001b[0m 0.10659,80.0,1.91,0.0,0.413,5.936,19.5,10.5857,4.0,334.0,22.0,376.04,5.57\n",
      "\u001b[36mt8bj7uf19d-algo-1-vmubs |\u001b[0m 0.03932,0.0,3.41,0.0,0.489,6.405,73.9,3.0921,2.0,270.0,17.8,393.55,8.2\n",
      "\u001b[36mt8bj7uf19d-algo-1-vmubs |\u001b[0m 0.06588,0.0,2.46,0.0,0.488,7.765,83.3,2.741,3.0,193.0,17.8,395.56,7.56\n",
      "\u001b[36mt8bj7uf19d-algo-1-vmubs |\u001b[0m 0.80271,0.0,8.14,0.0,0.538,5.456,36.6,3.7965,4.0,307.0,21.0,288.99,11.69\n",
      "\u001b[36mt8bj7uf19d-algo-1-vmubs |\u001b[0m 0.05479,33.0,2.18,0.0,0.472,6.616,58.1,3.37,7.0,222.0,18.4,393.36,8.93\n",
      "\u001b[36mt8bj7uf19d-algo-1-vmubs |\u001b[0m 22.5971,0.0,18.1,0.0,0.7,5.0,89.5,1.5184,24.0,666.0,20.2,396.9,31.99\n",
      "\u001b[36mt8bj7uf19d-algo-1-vmubs |\u001b[0m 0.2498,0.0,21.89,0.0,0.624,5.857,98.2,1.6686,4.0,437.0,21.2,392.04,21.32\n",
      "\u001b[36mt8bj7uf19d-algo-1-vmubs |\u001b[0m 0.17783,0.0,9.69,0.0,0.585,5.569,73.5,2.3999,6.0,391.0,19.2,395.77,15.1\n",
      "\u001b[36mt8bj7uf19d-algo-1-vmubs |\u001b[0m 0.28392,0.0,7.38,0.0,0.493,5.708,74.3,4.7211,5.0,287.0,19.6,391.13,11.74\n",
      "\u001b[36mt8bj7uf19d-algo-1-vmubs |\u001b[0m 7.36711,0.0,18.1,0.0,0.679,6.193,78.1,1.9356,24.0,666.0,20.2,96.73,21.52\n",
      "\u001b[36mt8bj7uf19d-algo-1-vmubs |\u001b[0m 9.59571,0.0,18.1,0.0,0.693,6.404,100.0,1.639,24.0,666.0,20.2,376.11,20.31\n",
      "\u001b[36mt8bj7uf19d-algo-1-vmubs |\u001b[0m 0.01538,90.0,3.75,0.0,0.394,7.454,34.2,6.3361,3.0,244.0,15.9,386.34,3.11\n",
      "\u001b[36mt8bj7uf19d-algo-1-vmubs |\u001b[0m 0.65665,20.0,3.97,0.0,0.647,6.842,100.0,2.0107,5.0,264.0,13.0,391.93,6.9\n",
      "\u001b[36mt8bj7uf19d-algo-1-vmubs |\u001b[0m 8.49213,0.0,18.1,0.0,0.584,6.348,86.1,2.0527,24.0,666.0,20.2,83.45,17.64\n",
      "\u001b[36mt8bj7uf19d-algo-1-vmubs |\u001b[0m 0.97617,0.0,21.89,0.0,0.624,5.757,98.4,2.346,4.0,437.0,21.2,262.76,17.31\n",
      "\u001b[36mt8bj7uf19d-algo-1-vmubs |\u001b[0m 0.03578,20.0,3.33,0.0,0.4429,7.82,64.5,4.6947,5.0,216.0,14.9,387.31,3.76\n",
      "\u001b[36mt8bj7uf19d-algo-1-vmubs |\u001b[0m 2.01019,0.0,19.58,0.0,0.605,7.929,96.2,2.0459,5.0,403.0,14.7,369.3,3.7\n",
      "\u001b[36mt8bj7uf19d-algo-1-vmubs |\u001b[0m 4.55587,0.0,18.1,0.0,0.718,3.561,87.9,1.6132,24.0,666.0,20.2,354.7,7.12\n",
      "\u001b[36mt8bj7uf19d-algo-1-vmubs |\u001b[0m 0.63796,0.0,8.14,0.0,0.538,6.096,84.5,4.4619,4.0,307.0,21.0,380.02,10.26\n",
      "\u001b[36mt8bj7uf19d-algo-1-vmubs |\u001b[0m 6.53876,0.0,18.1,1.0,0.631,7.016,97.5,1.2024,24.0,666.0,20.2,392.05,2.96\n",
      "\u001b[36mt8bj7uf19d-algo-1-vmubs |\u001b[0m 0.59005,0.0,21.89,0.0,0.624,6.372,97.9,2.3274,4.0,437.0,21.2,385.76,11.12\n",
      "\u001b[36mt8bj7uf19d-algo-1-vmubs |\u001b[0m 0.22969,0.0,10.59,0.0,0.489,6.326,52.5,4.3549,4.0,277.0,18.6,394.87,10.97\n",
      "\u001b[36mt8bj7uf19d-algo-1-vmubs |\u001b[0m 8.79212,0.0,18.1,0.0,0.584,5.565,70.6,2.0635,24.0,666.0,20.2,3.65,17.16\n",
      "\u001b[36mt8bj7uf19d-algo-1-vmubs |\u001b[0m 2.33099,0.0,19.58,0.0,0.871,5.186,93.8,1.5296,5.0,403.0,14.7,356.99,28.32\n",
      "\u001b[36mt8bj7uf19d-algo-1-vmubs |\u001b[0m 0.0536,21.0,5.64,0.0,0.439,6.511,21.1,6.8147,4.0,243.0,16.8,396.9,5.28\n",
      "\u001b[36mt8bj7uf19d-algo-1-vmubs |\u001b[0m 0.21038,20.0,3.33,0.0,0.4429,6.812,32.2,4.1007,5.0,216.0,14.9,396.9,4.85\n",
      "\u001b[36mt8bj7uf19d-algo-1-vmubs |\u001b[0m 14.4208,0.0,18.1,0.0,0.74,6.461,93.3,2.0026,24.0,666.0,20.2,27.49,18.05\n",
      "\u001b[36mt8bj7uf19d-algo-1-vmubs |\u001b[0m 0.54011,20.0,3.97,0.0,0.647,7.203,81.8,2.1121,5.0,264.0,13.0,392.8,9.59\n",
      "\u001b[36mt8bj7uf19d-algo-1-vmubs |\u001b[0m 9.33889,0.0,18.1,0.0,0.679,6.38,95.6,1.9682,24.0,666.0,20.2,60.72,24.08\n",
      "\u001b[36mt8bj7uf19d-algo-1-vmubs |\u001b[0m 8.20058,0.0,18.1,0.0,0.713,5.936,80.3,2.7792,24.0,666.0,20.2,3.5,16.94\n",
      "\u001b[36mt8bj7uf19d-algo-1-vmubs |\u001b[0m 7.67202,0.0,18.1,0.0,0.693,5.747,98.9,1.6334,24.0,666.0,20.2,393.1,19.92\n",
      "\u001b[36mt8bj7uf19d-algo-1-vmubs |\u001b[0m 0.12579,45.0,3.44,0.0,0.437,6.556,29.1,4.5667,5.0,398.0,15.2,382.84,4.56\n",
      "\u001b[36mt8bj7uf19d-algo-1-vmubs |\u001b[0m 0.04666,80.0,1.52,0.0,0.404,7.107,36.6,7.309,2.0,329.0,12.6,354.31,8.61\n",
      "\u001b[36mt8bj7uf19d-algo-1-vmubs |\u001b[0m 0.1676,0.0,7.38,0.0,0.493,6.426,52.3,4.5404,5.0,287.0,19.6,396.9,7.2\n",
      "\u001b[36mt8bj7uf19d-algo-1-vmubs |\u001b[0m 0.82526,20.0,3.97,0.0,0.647,7.327,94.5,2.0788,5.0,264.0,13.0,393.42,11.25\n",
      "\u001b[36mt8bj7uf19d-algo-1-vmubs |\u001b[0m 0.06417,0.0,5.96,0.0,0.499,5.933,68.2,3.3603,5.0,279.0,19.2,396.9,9.68\n",
      "\u001b[36mt8bj7uf19d-algo-1-vmubs |\u001b[0m 0.84054,0.0,8.14,0.0,0.538,5.599,85.7,4.4546,4.0,307.0,21.0,303.42,16.51\n",
      "\u001b[36mt8bj7uf19d-algo-1-vmubs |\u001b[0m 5.09017,0.0,18.1,0.0,0.713,6.297,91.8,2.3682,24.0,666.0,20.2,385.09,17.27\n",
      "\u001b[36mt8bj7uf19d-algo-1-vmubs |\u001b[0m 14.3337,0.0,18.1,0.0,0.7,4.88,100.0,1.5895,24.0,666.0,20.2,372.92,30.62\n",
      "\u001b[36mt8bj7uf19d-algo-1-vmubs |\u001b[0m 0.02498,0.0,1.89,0.0,0.518,6.54,59.7,6.2669,1.0,422.0,15.9,389.96,8.65\n",
      "\u001b[36mt8bj7uf19d-algo-1-vmubs |\u001b[0m 0.15086,0.0,27.74,0.0,0.609,5.454,92.7,1.8209,4.0,711.0,20.1,395.09,18.06\n",
      "\u001b[36mt8bj7uf19d-algo-1-vmubs |\u001b[0m 0.12802,0.0,8.56,0.0,0.52,6.474,97.1,2.4329,5.0,384.0,20.9,395.24,12.27\n",
      "\u001b[36mt8bj7uf19d-algo-1-vmubs |\u001b[0m 11.1604,0.0,18.1,0.0,0.74,6.629,94.6,2.1247,24.0,666.0,20.2,109.85,23.27\n",
      "\u001b[36mt8bj7uf19d-algo-1-vmubs |\u001b[0m 0.44791,0.0,6.2,1.0,0.507,6.726,66.5,3.6519,8.0,307.0,17.4,360.2,8.05\n",
      "\u001b[36mt8bj7uf19d-algo-1-vmubs |\u001b[0m 0.38214,0.0,6.2,0.0,0.504,8.04,86.5,3.2157,8.0,307.0,17.4,387.38,3.13\n",
      "\u001b[36mt8bj7uf19d-algo-1-vmubs |\u001b[0m 0.08387,0.0,12.83,0.0,0.437,5.874,36.6,4.5026,5.0,398.0,18.7,396.06,9.1\n",
      "\u001b[36mt8bj7uf19d-algo-1-vmubs |\u001b[0m 14.0507,0.0,18.1,0.0,0.597,6.657,100.0,1.5275,24.0,666.0,20.2,35.05,21.22\n",
      "\u001b[36mt8bj7uf19d-algo-1-vmubs |\u001b[0m 0.04417,70.0,2.24,0.0,0.4,6.871,47.4,7.8278,5.0,358.0,14.8,390.86,6.07\n",
      "\u001b[36mt8bj7uf19d-algo-1-vmubs |\u001b[0m 0.12816,12.5,6.07,0.0,0.409,5.885,33.0,6.498,4.0,345.0,18.9,396.9,8.79\n",
      "\u001b[36mt8bj7uf19d-algo-1-vmubs |\u001b[0m 0.19539,0.0,10.81,0.0,0.413,6.245,6.2,5.2873,4.0,305.0,19.2,377.17,7.54\n",
      "\u001b[36mt8bj7uf19d-algo-1-vmubs |\u001b[0m 0.01301,35.0,1.52,0.0,0.442,7.241,49.3,7.0379,1.0,284.0,15.5,394.74,5.49\n",
      "\u001b[36mt8bj7uf19d-algo-1-vmubs |\u001b[0m ========== END: input_data =========\n",
      "\u001b[36mt8bj7uf19d-algo-1-vmubs |\u001b[0m <class 'list'>\n",
      "\u001b[36mt8bj7uf19d-algo-1-vmubs |\u001b[0m ['0.25387,0.0,6.91,0.0,0.448,5.399,95.3,5.87,3.0,233.0,17.9,396.9,30.81', '0.01951,17.5,1.38,0.0,0.4161,7.104,59.5,9.2229,3.0,216.0,18.6,393.24,8.05', '4.64689,0.0,18.1,0.0,0.614,6.98,67.6,2.5329,24.0,666.0,20.2,374.68,11.66', '3.67367,0.0,18.1,0.0,0.583,6.312,51.9,3.9917,24.0,666.0,20.2,388.62,10.58', '0.29819,0.0,6.2,0.0,0.504,7.686,17.0,3.3751,8.0,307.0,17.4,377.51,3.92', '8.15174,0.0,18.1,0.0,0.7,5.39,98.9,1.7281,24.0,666.0,20.2,396.9,20.85', '6.65492,0.0,18.1,0.0,0.713,6.317,83.0,2.7344,24.0,666.0,20.2,396.9,13.99', '0.17171,25.0,5.13,0.0,0.453,5.966,93.4,6.8185,8.0,284.0,19.7,378.08,14.44', '5.73116,0.0,18.1,0.0,0.532,7.061,77.0,3.4106,24.0,666.0,20.2,395.28,7.01', '3.1636,0.0,18.1,0.0,0.655,5.759,48.2,3.0665,24.0,666.0,20.2,334.4,14.13', '11.8123,0.0,18.1,0.0,0.718,6.824,76.5,1.794,24.0,666.0,20.2,48.45,22.74', '8.64476,0.0,18.1,0.0,0.693,6.193,92.6,1.7912,24.0,666.0,20.2,396.9,15.17', '0.02177,82.5,2.03,0.0,0.415,7.61,15.7,6.27,2.0,348.0,14.7,395.38,3.11', '0.13914,0.0,4.05,0.0,0.51,5.572,88.5,2.5961,5.0,296.0,16.6,396.9,14.69', '8.05579,0.0,18.1,0.0,0.584,5.427,95.4,2.4298,24.0,666.0,20.2,352.58,18.14', '0.22876,0.0,8.56,0.0,0.52,6.405,85.4,2.7147,5.0,384.0,20.9,70.8,10.63', '0.07013,0.0,13.89,0.0,0.55,6.642,85.1,3.4211,5.0,276.0,16.4,392.78,9.69', '0.28955,0.0,10.59,0.0,0.489,5.412,9.8,3.5875,4.0,277.0,18.6,348.93,29.55', '23.6482,0.0,18.1,0.0,0.671,6.38,96.2,1.3861,24.0,666.0,20.2,396.9,23.69', '4.54192,0.0,18.1,0.0,0.77,6.398,88.0,2.5182,24.0,666.0,20.2,374.56,7.79', '0.04741,0.0,11.93,0.0,0.573,6.03,80.8,2.505,1.0,273.0,21.0,396.9,7.88', '0.04301,80.0,1.91,0.0,0.413,5.663,21.9,10.5857,4.0,334.0,22.0,382.8,8.05', '0.0795,60.0,1.69,0.0,0.411,6.579,35.9,10.7103,4.0,411.0,18.3,370.78,5.49', '0.0686,0.0,2.89,0.0,0.445,7.416,62.5,3.4952,2.0,276.0,18.0,396.9,6.19', '0.10153,0.0,12.83,0.0,0.437,6.279,74.5,4.0522,5.0,398.0,18.7,373.66,11.97', '0.06076,0.0,11.93,0.0,0.573,6.976,91.0,2.1675,1.0,273.0,21.0,396.9,5.64', '0.17505,0.0,5.96,0.0,0.499,5.966,30.2,3.8473,5.0,279.0,19.2,393.43,10.13', '41.5292,0.0,18.1,0.0,0.693,5.531,85.4,1.6074,24.0,666.0,20.2,329.46,27.38', '2.44953,0.0,19.58,0.0,0.605,6.402,95.2,2.2625,5.0,403.0,14.7,330.04,11.32', '0.26838,0.0,9.69,0.0,0.585,5.794,70.6,2.8927,6.0,391.0,19.2,396.9,14.1', '0.08873,21.0,5.64,0.0,0.439,5.963,45.7,6.8147,4.0,243.0,16.8,395.56,13.45', '16.8118,0.0,18.1,0.0,0.7,5.277,98.1,1.4261,24.0,666.0,20.2,396.9,30.81', '0.06905,0.0,2.18,0.0,0.458,7.147,54.2,6.0622,3.0,222.0,18.7,396.9,5.33', '0.05059,0.0,4.49,0.0,0.449,6.389,48.0,4.7794,3.0,247.0,18.5,396.9,9.62', '1.46336,0.0,19.58,0.0,0.605,7.489,90.8,1.9709,5.0,403.0,14.7,374.43,1.73', '0.11432,0.0,8.56,0.0,0.52,6.781,71.3,2.8561,5.0,384.0,20.9,395.58,7.67', '0.06129,20.0,3.33,1.0,0.4429,7.645,49.7,5.2119,5.0,216.0,14.9,377.07,3.01', '18.811,0.0,18.1,0.0,0.597,4.628,100.0,1.5539,24.0,666.0,20.2,28.79,34.37', '0.03615,80.0,4.95,0.0,0.411,6.63,23.4,5.1167,4.0,245.0,19.2,396.9,4.7', '0.41238,0.0,6.2,0.0,0.504,7.163,79.9,3.2157,8.0,307.0,17.4,372.08,6.36', '4.22239,0.0,18.1,1.0,0.77,5.803,89.0,1.9047,24.0,666.0,20.2,353.04,14.64', '0.17446,0.0,10.59,1.0,0.489,5.96,92.1,3.8771,4.0,277.0,18.6,393.25,17.27', '5.29305,0.0,18.1,0.0,0.7,6.051,82.5,2.1678,24.0,666.0,20.2,378.38,18.76', '0.02763,75.0,2.95,0.0,0.428,6.595,21.8,5.4011,3.0,252.0,18.3,395.63,4.32', '0.35233,0.0,21.89,0.0,0.624,6.454,98.4,1.8498,4.0,437.0,21.2,394.08,14.59', '15.8744,0.0,18.1,0.0,0.671,6.545,99.1,1.5192,24.0,666.0,20.2,396.9,21.08', '0.03537,34.0,6.09,0.0,0.433,6.59,40.4,5.4917,7.0,329.0,16.1,395.75,9.5', '0.09252,30.0,4.93,0.0,0.428,6.606,42.2,6.1899,6.0,300.0,16.6,383.78,7.37', '0.32543,0.0,21.89,0.0,0.624,6.431,98.8,1.8125,4.0,437.0,21.2,396.9,15.39', '0.16902,0.0,25.65,0.0,0.581,5.986,88.4,1.9929,2.0,188.0,19.1,385.02,14.81', '0.02009,95.0,2.68,0.0,0.4161,8.034,31.9,5.118,4.0,224.0,14.7,390.55,2.88', '0.10659,80.0,1.91,0.0,0.413,5.936,19.5,10.5857,4.0,334.0,22.0,376.04,5.57', '0.03932,0.0,3.41,0.0,0.489,6.405,73.9,3.0921,2.0,270.0,17.8,393.55,8.2', '0.06588,0.0,2.46,0.0,0.488,7.765,83.3,2.741,3.0,193.0,17.8,395.56,7.56', '0.80271,0.0,8.14,0.0,0.538,5.456,36.6,3.7965,4.0,307.0,21.0,288.99,11.69', '0.05479,33.0,2.18,0.0,0.472,6.616,58.1,3.37,7.0,222.0,18.4,393.36,8.93', '22.5971,0.0,18.1,0.0,0.7,5.0,89.5,1.5184,24.0,666.0,20.2,396.9,31.99', '0.2498,0.0,21.89,0.0,0.624,5.857,98.2,1.6686,4.0,437.0,21.2,392.04,21.32', '0.17783,0.0,9.69,0.0,0.585,5.569,73.5,2.3999,6.0,391.0,19.2,395.77,15.1', '0.28392,0.0,7.38,0.0,0.493,5.708,74.3,4.7211,5.0,287.0,19.6,391.13,11.74', '7.36711,0.0,18.1,0.0,0.679,6.193,78.1,1.9356,24.0,666.0,20.2,96.73,21.52', '9.59571,0.0,18.1,0.0,0.693,6.404,100.0,1.639,24.0,666.0,20.2,376.11,20.31', '0.01538,90.0,3.75,0.0,0.394,7.454,34.2,6.3361,3.0,244.0,15.9,386.34,3.11', '0.65665,20.0,3.97,0.0,0.647,6.842,100.0,2.0107,5.0,264.0,13.0,391.93,6.9', '8.49213,0.0,18.1,0.0,0.584,6.348,86.1,2.0527,24.0,666.0,20.2,83.45,17.64', '0.97617,0.0,21.89,0.0,0.624,5.757,98.4,2.346,4.0,437.0,21.2,262.76,17.31', '0.03578,20.0,3.33,0.0,0.4429,7.82,64.5,4.6947,5.0,216.0,14.9,387.31,3.76', '2.01019,0.0,19.58,0.0,0.605,7.929,96.2,2.0459,5.0,403.0,14.7,369.3,3.7', '4.55587,0.0,18.1,0.0,0.718,3.561,87.9,1.6132,24.0,666.0,20.2,354.7,7.12', '0.63796,0.0,8.14,0.0,0.538,6.096,84.5,4.4619,4.0,307.0,21.0,380.02,10.26', '6.53876,0.0,18.1,1.0,0.631,7.016,97.5,1.2024,24.0,666.0,20.2,392.05,2.96', '0.59005,0.0,21.89,0.0,0.624,6.372,97.9,2.3274,4.0,437.0,21.2,385.76,11.12', '0.22969,0.0,10.59,0.0,0.489,6.326,52.5,4.3549,4.0,277.0,18.6,394.87,10.97', '8.79212,0.0,18.1,0.0,0.584,5.565,70.6,2.0635,24.0,666.0,20.2,3.65,17.16', '2.33099,0.0,19.58,0.0,0.871,5.186,93.8,1.5296,5.0,403.0,14.7,356.99,28.32', '0.0536,21.0,5.64,0.0,0.439,6.511,21.1,6.8147,4.0,243.0,16.8,396.9,5.28', '0.21038,20.0,3.33,0.0,0.4429,6.812,32.2,4.1007,5.0,216.0,14.9,396.9,4.85', '14.4208,0.0,18.1,0.0,0.74,6.461,93.3,2.0026,24.0,666.0,20.2,27.49,18.05', '0.54011,20.0,3.97,0.0,0.647,7.203,81.8,2.1121,5.0,264.0,13.0,392.8,9.59', '9.33889,0.0,18.1,0.0,0.679,6.38,95.6,1.9682,24.0,666.0,20.2,60.72,24.08', '8.20058,0.0,18.1,0.0,0.713,5.936,80.3,2.7792,24.0,666.0,20.2,3.5,16.94', '7.67202,0.0,18.1,0.0,0.693,5.747,98.9,1.6334,24.0,666.0,20.2,393.1,19.92', '0.12579,45.0,3.44,0.0,0.437,6.556,29.1,4.5667,5.0,398.0,15.2,382.84,4.56', '0.04666,80.0,1.52,0.0,0.404,7.107,36.6,7.309,2.0,329.0,12.6,354.31,8.61', '0.1676,0.0,7.38,0.0,0.493,6.426,52.3,4.5404,5.0,287.0,19.6,396.9,7.2', '0.82526,20.0,3.97,0.0,0.647,7.327,94.5,2.0788,5.0,264.0,13.0,393.42,11.25', '0.06417,0.0,5.96,0.0,0.499,5.933,68.2,3.3603,5.0,279.0,19.2,396.9,9.68', '0.84054,0.0,8.14,0.0,0.538,5.599,85.7,4.4546,4.0,307.0,21.0,303.42,16.51', '5.09017,0.0,18.1,0.0,0.713,6.297,91.8,2.3682,24.0,666.0,20.2,385.09,17.27', '14.3337,0.0,18.1,0.0,0.7,4.88,100.0,1.5895,24.0,666.0,20.2,372.92,30.62', '0.02498,0.0,1.89,0.0,0.518,6.54,59.7,6.2669,1.0,422.0,15.9,389.96,8.65', '0.15086,0.0,27.74,0.0,0.609,5.454,92.7,1.8209,4.0,711.0,20.1,395.09,18.06', '0.12802,0.0,8.56,0.0,0.52,6.474,97.1,2.4329,5.0,384.0,20.9,395.24,12.27', '11.1604,0.0,18.1,0.0,0.74,6.629,94.6,2.1247,24.0,666.0,20.2,109.85,23.27', '0.44791,0.0,6.2,1.0,0.507,6.726,66.5,3.6519,8.0,307.0,17.4,360.2,8.05', '0.38214,0.0,6.2,0.0,0.504,8.04,86.5,3.2157,8.0,307.0,17.4,387.38,3.13', '0.08387,0.0,12.83,0.0,0.437,5.874,36.6,4.5026,5.0,398.0,18.7,396.06,9.1', '14.0507,0.0,18.1,0.0,0.597,6.657,100.0,1.5275,24.0,666.0,20.2,35.05,21.22', '0.04417,70.0,2.24,0.0,0.4,6.871,47.4,7.8278,5.0,358.0,14.8,390.86,6.07', '0.12816,12.5,6.07,0.0,0.409,5.885,33.0,6.498,4.0,345.0,18.9,396.9,8.79', '0.19539,0.0,10.81,0.0,0.413,6.245,6.2,5.2873,4.0,305.0,19.2,377.17,7.54', '0.01301,35.0,1.52,0.0,0.442,7.241,49.3,7.0379,1.0,284.0,15.5,394.74,5.49']\n",
      "\u001b[36mt8bj7uf19d-algo-1-vmubs |\u001b[0m 102\n",
      "\u001b[36mt8bj7uf19d-algo-1-vmubs |\u001b[0m ========== END: transformed_data =========\n",
      "\u001b[36mt8bj7uf19d-algo-1-vmubs |\u001b[0m =================================\n",
      "\u001b[36mt8bj7uf19d-algo-1-vmubs |\u001b[0m =================================\n",
      "\u001b[36mt8bj7uf19d-algo-1-vmubs |\u001b[0m ==========my predict_fn =========\n",
      "\u001b[36mt8bj7uf19d-algo-1-vmubs |\u001b[0m =================================\n",
      "\u001b[36mt8bj7uf19d-algo-1-vmubs |\u001b[0m =================================\n",
      "\u001b[36mt8bj7uf19d-algo-1-vmubs |\u001b[0m =================================\n",
      "\u001b[36mt8bj7uf19d-algo-1-vmubs |\u001b[0m =======transformed_data===========\n",
      "\u001b[36mt8bj7uf19d-algo-1-vmubs |\u001b[0m =================================\n",
      "\u001b[36mt8bj7uf19d-algo-1-vmubs |\u001b[0m <class 'list'>\n",
      "\u001b[36mt8bj7uf19d-algo-1-vmubs |\u001b[0m [['0.25387', '0.0', '6.91', '0.0', '0.448', '5.399', '95.3', '5.87', '3.0', '233.0', '17.9', '396.9', '30.81'], ['0.01951', '17.5', '1.38', '0.0', '0.4161', '7.104', '59.5', '9.2229', '3.0', '216.0', '18.6', '393.24', '8.05'], ['4.64689', '0.0', '18.1', '0.0', '0.614', '6.98', '67.6', '2.5329', '24.0', '666.0', '20.2', '374.68', '11.66'], ['3.67367', '0.0', '18.1', '0.0', '0.583', '6.312', '51.9', '3.9917', '24.0', '666.0', '20.2', '388.62', '10.58'], ['0.29819', '0.0', '6.2', '0.0', '0.504', '7.686', '17.0', '3.3751', '8.0', '307.0', '17.4', '377.51', '3.92'], ['8.15174', '0.0', '18.1', '0.0', '0.7', '5.39', '98.9', '1.7281', '24.0', '666.0', '20.2', '396.9', '20.85'], ['6.65492', '0.0', '18.1', '0.0', '0.713', '6.317', '83.0', '2.7344', '24.0', '666.0', '20.2', '396.9', '13.99'], ['0.17171', '25.0', '5.13', '0.0', '0.453', '5.966', '93.4', '6.8185', '8.0', '284.0', '19.7', '378.08', '14.44'], ['5.73116', '0.0', '18.1', '0.0', '0.532', '7.061', '77.0', '3.4106', '24.0', '666.0', '20.2', '395.28', '7.01'], ['3.1636', '0.0', '18.1', '0.0', '0.655', '5.759', '48.2', '3.0665', '24.0', '666.0', '20.2', '334.4', '14.13'], ['11.8123', '0.0', '18.1', '0.0', '0.718', '6.824', '76.5', '1.794', '24.0', '666.0', '20.2', '48.45', '22.74'], ['8.64476', '0.0', '18.1', '0.0', '0.693', '6.193', '92.6', '1.7912', '24.0', '666.0', '20.2', '396.9', '15.17'], ['0.02177', '82.5', '2.03', '0.0', '0.415', '7.61', '15.7', '6.27', '2.0', '348.0', '14.7', '395.38', '3.11'], ['0.13914', '0.0', '4.05', '0.0', '0.51', '5.572', '88.5', '2.5961', '5.0', '296.0', '16.6', '396.9', '14.69'], ['8.05579', '0.0', '18.1', '0.0', '0.584', '5.427', '95.4', '2.4298', '24.0', '666.0', '20.2', '352.58', '18.14'], ['0.22876', '0.0', '8.56', '0.0', '0.52', '6.405', '85.4', '2.7147', '5.0', '384.0', '20.9', '70.8', '10.63'], ['0.07013', '0.0', '13.89', '0.0', '0.55', '6.642', '85.1', '3.4211', '5.0', '276.0', '16.4', '392.78', '9.69'], ['0.28955', '0.0', '10.59', '0.0', '0.489', '5.412', '9.8', '3.5875', '4.0', '277.0', '18.6', '348.93', '29.55'], ['23.6482', '0.0', '18.1', '0.0', '0.671', '6.38', '96.2', '1.3861', '24.0', '666.0', '20.2', '396.9', '23.69'], ['4.54192', '0.0', '18.1', '0.0', '0.77', '6.398', '88.0', '2.5182', '24.0', '666.0', '20.2', '374.56', '7.79'], ['0.04741', '0.0', '11.93', '0.0', '0.573', '6.03', '80.8', '2.505', '1.0', '273.0', '21.0', '396.9', '7.88'], ['0.04301', '80.0', '1.91', '0.0', '0.413', '5.663', '21.9', '10.5857', '4.0', '334.0', '22.0', '382.8', '8.05'], ['0.0795', '60.0', '1.69', '0.0', '0.411', '6.579', '35.9', '10.7103', '4.0', '411.0', '18.3', '370.78', '5.49'], ['0.0686', '0.0', '2.89', '0.0', '0.445', '7.416', '62.5', '3.4952', '2.0', '276.0', '18.0', '396.9', '6.19'], ['0.10153', '0.0', '12.83', '0.0', '0.437', '6.279', '74.5', '4.0522', '5.0', '398.0', '18.7', '373.66', '11.97'], ['0.06076', '0.0', '11.93', '0.0', '0.573', '6.976', '91.0', '2.1675', '1.0', '273.0', '21.0', '396.9', '5.64'], ['0.17505', '0.0', '5.96', '0.0', '0.499', '5.966', '30.2', '3.8473', '5.0', '279.0', '19.2', '393.43', '10.13'], ['41.5292', '0.0', '18.1', '0.0', '0.693', '5.531', '85.4', '1.6074', '24.0', '666.0', '20.2', '329.46', '27.38'], ['2.44953', '0.0', '19.58', '0.0', '0.605', '6.402', '95.2', '2.2625', '5.0', '403.0', '14.7', '330.04', '11.32'], ['0.26838', '0.0', '9.69', '0.0', '0.585', '5.794', '70.6', '2.8927', '6.0', '391.0', '19.2', '396.9', '14.1'], ['0.08873', '21.0', '5.64', '0.0', '0.439', '5.963', '45.7', '6.8147', '4.0', '243.0', '16.8', '395.56', '13.45'], ['16.8118', '0.0', '18.1', '0.0', '0.7', '5.277', '98.1', '1.4261', '24.0', '666.0', '20.2', '396.9', '30.81'], ['0.06905', '0.0', '2.18', '0.0', '0.458', '7.147', '54.2', '6.0622', '3.0', '222.0', '18.7', '396.9', '5.33'], ['0.05059', '0.0', '4.49', '0.0', '0.449', '6.389', '48.0', '4.7794', '3.0', '247.0', '18.5', '396.9', '9.62'], ['1.46336', '0.0', '19.58', '0.0', '0.605', '7.489', '90.8', '1.9709', '5.0', '403.0', '14.7', '374.43', '1.73'], ['0.11432', '0.0', '8.56', '0.0', '0.52', '6.781', '71.3', '2.8561', '5.0', '384.0', '20.9', '395.58', '7.67'], ['0.06129', '20.0', '3.33', '1.0', '0.4429', '7.645', '49.7', '5.2119', '5.0', '216.0', '14.9', '377.07', '3.01'], ['18.811', '0.0', '18.1', '0.0', '0.597', '4.628', '100.0', '1.5539', '24.0', '666.0', '20.2', '28.79', '34.37'], ['0.03615', '80.0', '4.95', '0.0', '0.411', '6.63', '23.4', '5.1167', '4.0', '245.0', '19.2', '396.9', '4.7'], ['0.41238', '0.0', '6.2', '0.0', '0.504', '7.163', '79.9', '3.2157', '8.0', '307.0', '17.4', '372.08', '6.36'], ['4.22239', '0.0', '18.1', '1.0', '0.77', '5.803', '89.0', '1.9047', '24.0', '666.0', '20.2', '353.04', '14.64'], ['0.17446', '0.0', '10.59', '1.0', '0.489', '5.96', '92.1', '3.8771', '4.0', '277.0', '18.6', '393.25', '17.27'], ['5.29305', '0.0', '18.1', '0.0', '0.7', '6.051', '82.5', '2.1678', '24.0', '666.0', '20.2', '378.38', '18.76'], ['0.02763', '75.0', '2.95', '0.0', '0.428', '6.595', '21.8', '5.4011', '3.0', '252.0', '18.3', '395.63', '4.32'], ['0.35233', '0.0', '21.89', '0.0', '0.624', '6.454', '98.4', '1.8498', '4.0', '437.0', '21.2', '394.08', '14.59'], ['15.8744', '0.0', '18.1', '0.0', '0.671', '6.545', '99.1', '1.5192', '24.0', '666.0', '20.2', '396.9', '21.08'], ['0.03537', '34.0', '6.09', '0.0', '0.433', '6.59', '40.4', '5.4917', '7.0', '329.0', '16.1', '395.75', '9.5'], ['0.09252', '30.0', '4.93', '0.0', '0.428', '6.606', '42.2', '6.1899', '6.0', '300.0', '16.6', '383.78', '7.37'], ['0.32543', '0.0', '21.89', '0.0', '0.624', '6.431', '98.8', '1.8125', '4.0', '437.0', '21.2', '396.9', '15.39'], ['0.16902', '0.0', '25.65', '0.0', '0.581', '5.986', '88.4', '1.9929', '2.0', '188.0', '19.1', '385.02', '14.81'], ['0.02009', '95.0', '2.68', '0.0', '0.4161', '8.034', '31.9', '5.118', '4.0', '224.0', '14.7', '390.55', '2.88'], ['0.10659', '80.0', '1.91', '0.0', '0.413', '5.936', '19.5', '10.5857', '4.0', '334.0', '22.0', '376.04', '5.57'], ['0.03932', '0.0', '3.41', '0.0', '0.489', '6.405', '73.9', '3.0921', '2.0', '270.0', '17.8', '393.55', '8.2'], ['0.06588', '0.0', '2.46', '0.0', '0.488', '7.765', '83.3', '2.741', '3.0', '193.0', '17.8', '395.56', '7.56'], ['0.80271', '0.0', '8.14', '0.0', '0.538', '5.456', '36.6', '3.7965', '4.0', '307.0', '21.0', '288.99', '11.69'], ['0.05479', '33.0', '2.18', '0.0', '0.472', '6.616', '58.1', '3.37', '7.0', '222.0', '18.4', '393.36', '8.93'], ['22.5971', '0.0', '18.1', '0.0', '0.7', '5.0', '89.5', '1.5184', '24.0', '666.0', '20.2', '396.9', '31.99'], ['0.2498', '0.0', '21.89', '0.0', '0.624', '5.857', '98.2', '1.6686', '4.0', '437.0', '21.2', '392.04', '21.32'], ['0.17783', '0.0', '9.69', '0.0', '0.585', '5.569', '73.5', '2.3999', '6.0', '391.0', '19.2', '395.77', '15.1'], ['0.28392', '0.0', '7.38', '0.0', '0.493', '5.708', '74.3', '4.7211', '5.0', '287.0', '19.6', '391.13', '11.74'], ['7.36711', '0.0', '18.1', '0.0', '0.679', '6.193', '78.1', '1.9356', '24.0', '666.0', '20.2', '96.73', '21.52'], ['9.59571', '0.0', '18.1', '0.0', '0.693', '6.404', '100.0', '1.639', '24.0', '666.0', '20.2', '376.11', '20.31'], ['0.01538', '90.0', '3.75', '0.0', '0.394', '7.454', '34.2', '6.3361', '3.0', '244.0', '15.9', '386.34', '3.11'], ['0.65665', '20.0', '3.97', '0.0', '0.647', '6.842', '100.0', '2.0107', '5.0', '264.0', '13.0', '391.93', '6.9'], ['8.49213', '0.0', '18.1', '0.0', '0.584', '6.348', '86.1', '2.0527', '24.0', '666.0', '20.2', '83.45', '17.64'], ['0.97617', '0.0', '21.89', '0.0', '0.624', '5.757', '98.4', '2.346', '4.0', '437.0', '21.2', '262.76', '17.31'], ['0.03578', '20.0', '3.33', '0.0', '0.4429', '7.82', '64.5', '4.6947', '5.0', '216.0', '14.9', '387.31', '3.76'], ['2.01019', '0.0', '19.58', '0.0', '0.605', '7.929', '96.2', '2.0459', '5.0', '403.0', '14.7', '369.3', '3.7'], ['4.55587', '0.0', '18.1', '0.0', '0.718', '3.561', '87.9', '1.6132', '24.0', '666.0', '20.2', '354.7', '7.12'], ['0.63796', '0.0', '8.14', '0.0', '0.538', '6.096', '84.5', '4.4619', '4.0', '307.0', '21.0', '380.02', '10.26'], ['6.53876', '0.0', '18.1', '1.0', '0.631', '7.016', '97.5', '1.2024', '24.0', '666.0', '20.2', '392.05', '2.96'], ['0.59005', '0.0', '21.89', '0.0', '0.624', '6.372', '97.9', '2.3274', '4.0', '437.0', '21.2', '385.76', '11.12'], ['0.22969', '0.0', '10.59', '0.0', '0.489', '6.326', '52.5', '4.3549', '4.0', '277.0', '18.6', '394.87', '10.97'], ['8.79212', '0.0', '18.1', '0.0', '0.584', '5.565', '70.6', '2.0635', '24.0', '666.0', '20.2', '3.65', '17.16'], ['2.33099', '0.0', '19.58', '0.0', '0.871', '5.186', '93.8', '1.5296', '5.0', '403.0', '14.7', '356.99', '28.32'], ['0.0536', '21.0', '5.64', '0.0', '0.439', '6.511', '21.1', '6.8147', '4.0', '243.0', '16.8', '396.9', '5.28'], ['0.21038', '20.0', '3.33', '0.0', '0.4429', '6.812', '32.2', '4.1007', '5.0', '216.0', '14.9', '396.9', '4.85'], ['14.4208', '0.0', '18.1', '0.0', '0.74', '6.461', '93.3', '2.0026', '24.0', '666.0', '20.2', '27.49', '18.05'], ['0.54011', '20.0', '3.97', '0.0', '0.647', '7.203', '81.8', '2.1121', '5.0', '264.0', '13.0', '392.8', '9.59'], ['9.33889', '0.0', '18.1', '0.0', '0.679', '6.38', '95.6', '1.9682', '24.0', '666.0', '20.2', '60.72', '24.08'], ['8.20058', '0.0', '18.1', '0.0', '0.713', '5.936', '80.3', '2.7792', '24.0', '666.0', '20.2', '3.5', '16.94'], ['7.67202', '0.0', '18.1', '0.0', '0.693', '5.747', '98.9', '1.6334', '24.0', '666.0', '20.2', '393.1', '19.92'], ['0.12579', '45.0', '3.44', '0.0', '0.437', '6.556', '29.1', '4.5667', '5.0', '398.0', '15.2', '382.84', '4.56'], ['0.04666', '80.0', '1.52', '0.0', '0.404', '7.107', '36.6', '7.309', '2.0', '329.0', '12.6', '354.31', '8.61'], ['0.1676', '0.0', '7.38', '0.0', '0.493', '6.426', '52.3', '4.5404', '5.0', '287.0', '19.6', '396.9', '7.2'], ['0.82526', '20.0', '3.97', '0.0', '0.647', '7.327', '94.5', '2.0788', '5.0', '264.0', '13.0', '393.42', '11.25'], ['0.06417', '0.0', '5.96', '0.0', '0.499', '5.933', '68.2', '3.3603', '5.0', '279.0', '19.2', '396.9', '9.68'], ['0.84054', '0.0', '8.14', '0.0', '0.538', '5.599', '85.7', '4.4546', '4.0', '307.0', '21.0', '303.42', '16.51'], ['5.09017', '0.0', '18.1', '0.0', '0.713', '6.297', '91.8', '2.3682', '24.0', '666.0', '20.2', '385.09', '17.27'], ['14.3337', '0.0', '18.1', '0.0', '0.7', '4.88', '100.0', '1.5895', '24.0', '666.0', '20.2', '372.92', '30.62'], ['0.02498', '0.0', '1.89', '0.0', '0.518', '6.54', '59.7', '6.2669', '1.0', '422.0', '15.9', '389.96', '8.65'], ['0.15086', '0.0', '27.74', '0.0', '0.609', '5.454', '92.7', '1.8209', '4.0', '711.0', '20.1', '395.09', '18.06'], ['0.12802', '0.0', '8.56', '0.0', '0.52', '6.474', '97.1', '2.4329', '5.0', '384.0', '20.9', '395.24', '12.27'], ['11.1604', '0.0', '18.1', '0.0', '0.74', '6.629', '94.6', '2.1247', '24.0', '666.0', '20.2', '109.85', '23.27'], ['0.44791', '0.0', '6.2', '1.0', '0.507', '6.726', '66.5', '3.6519', '8.0', '307.0', '17.4', '360.2', '8.05'], ['0.38214', '0.0', '6.2', '0.0', '0.504', '8.04', '86.5', '3.2157', '8.0', '307.0', '17.4', '387.38', '3.13'], ['0.08387', '0.0', '12.83', '0.0', '0.437', '5.874', '36.6', '4.5026', '5.0', '398.0', '18.7', '396.06', '9.1'], ['14.0507', '0.0', '18.1', '0.0', '0.597', '6.657', '100.0', '1.5275', '24.0', '666.0', '20.2', '35.05', '21.22'], ['0.04417', '70.0', '2.24', '0.0', '0.4', '6.871', '47.4', '7.8278', '5.0', '358.0', '14.8', '390.86', '6.07'], ['0.12816', '12.5', '6.07', '0.0', '0.409', '5.885', '33.0', '6.498', '4.0', '345.0', '18.9', '396.9', '8.79'], ['0.19539', '0.0', '10.81', '0.0', '0.413', '6.245', '6.2', '5.2873', '4.0', '305.0', '19.2', '377.17', '7.54'], ['0.01301', '35.0', '1.52', '0.0', '0.442', '7.241', '49.3', '7.0379', '1.0', '284.0', '15.5', '394.74', '5.49']]\n",
      "\u001b[36mt8bj7uf19d-algo-1-vmubs |\u001b[0m =================================\n",
      "\u001b[36mt8bj7uf19d-algo-1-vmubs |\u001b[0m ===============================================\n",
      "\u001b[36mt8bj7uf19d-algo-1-vmubs |\u001b[0m ============== result of pred =================\n",
      "\u001b[36mt8bj7uf19d-algo-1-vmubs |\u001b[0m ===============================================\n",
      "\u001b[36mt8bj7uf19d-algo-1-vmubs |\u001b[0m <class 'numpy.ndarray'>\n",
      "====================\n",
      "[19.95642073217597, 27.844891841022335, 23.747437427003455, 21.961517177305176, 33.70952263893306, 16.546899933876215, 20.7577247308279, 21.58941351302627, 28.44096446328559, 21.573610198594977, 16.520022349295115, 18.56239893242527, 33.70952263893306, 21.66404760045202, 18.839854556333133, 20.524517944865078, 23.512192914502315, 19.720552829648888, 14.831841119971708, 25.48273874904075, 24.232639474441545, 21.624005932843115, 24.961489794296718, 31.737194191676068, 21.634052928440624, 28.40721160777621, 21.408363849719503, 14.831841119971708, 22.218594550645975, 21.174456098551236, 21.78791955089051, 14.831841119971708, 29.996695633096042, 22.44097524661187, 33.83316205414468, 26.41403196992683, 33.70952263893306, 17.366188662166092, 27.56686070285819, 30.785697489113854, 19.36938873496206, 20.70626548555591, 17.759853567831996, 27.888269821752413, 20.521395163186774, 14.831841119971708, 24.776417537973362, 24.965857100129327, 19.649289821764185, 21.026797620813866, 33.70952263893306, 22.770867837558004, 25.12436361101226, 32.04499227317663, 20.300871717805446, 25.993751032745912, 14.831841119971708, 17.55319877077615, 21.070286538617665, 21.122413297289743, 16.377053075082987, 15.568373592583868, 33.70952263893306, 27.61154020402463, 19.342761095149218, 17.9509721146777, 33.70952263893306, 33.83316205414468, 25.48273874904075, 20.660796015624964, 30.699461095863427, 21.035390723179418, 22.185819485247606, 19.29909952861762, 16.5747000607082, 23.912684065447934, 28.57571329880843, 16.236339853147257, 27.50109599287484, 15.753943396426372, 17.4887323059089, 16.546899933876215, 27.601367949672184, 27.83102844560462, 23.566264337152624, 27.50109599287484, 21.643847857886936, 18.787237415866525, 17.9186752451325, 14.831841119971708, 22.735042390270507, 18.93446150698524, 20.78281339932023, 15.124660622321342, 26.580072090826267, 33.83316205414468, 22.241689637239144, 18.003487732270226, 26.120941030113585, 21.857620352091608, 23.067030809188566, 31.381458114994132]\n",
      "\u001b[36mt8bj7uf19d-algo-1-vmubs |\u001b[0m [19.95642073 27.84489184 23.74743743 21.96151718 33.70952264 16.54689993\n",
      "\u001b[36mt8bj7uf19d-algo-1-vmubs |\u001b[0m  20.75772473 21.58941351 28.44096446 21.5736102  16.52002235 18.56239893\n",
      "\u001b[36mt8bj7uf19d-algo-1-vmubs |\u001b[0m  33.70952264 21.6640476  18.83985456 20.52451794 23.51219291 19.72055283\n",
      "\u001b[36mt8bj7uf19d-algo-1-vmubs |\u001b[0m  14.83184112 25.48273875 24.23263947 21.62400593 24.96148979 31.73719419\n",
      "\u001b[36mt8bj7uf19d-algo-1-vmubs |\u001b[0m  21.63405293 28.40721161 21.40836385 14.83184112 22.21859455 21.1744561\n",
      "\u001b[36mt8bj7uf19d-algo-1-vmubs |\u001b[0m  21.78791955 14.83184112 29.99669563 22.44097525 33.83316205 26.41403197\n",
      "\u001b[36mt8bj7uf19d-algo-1-vmubs |\u001b[0m  33.70952264 17.36618866 27.5668607  30.78569749 19.36938873 20.70626549\n",
      "\u001b[36mt8bj7uf19d-algo-1-vmubs |\u001b[0m  17.75985357 27.88826982 20.52139516 14.83184112 24.77641754 24.9658571\n",
      "\u001b[36mt8bj7uf19d-algo-1-vmubs |\u001b[0m  19.64928982 21.02679762 33.70952264 22.77086784 25.12436361 32.04499227\n",
      "\u001b[36mt8bj7uf19d-algo-1-vmubs |\u001b[0m  20.30087172 25.99375103 14.83184112 17.55319877 21.07028654 21.1224133\n",
      "\u001b[36mt8bj7uf19d-algo-1-vmubs |\u001b[0m  16.37705308 15.56837359 33.70952264 27.6115402  19.3427611  17.95097211\n",
      "\u001b[36mt8bj7uf19d-algo-1-vmubs |\u001b[0m  33.70952264 33.83316205 25.48273875 20.66079602 30.6994611  21.03539072\n",
      "\u001b[36mt8bj7uf19d-algo-1-vmubs |\u001b[0m  22.18581949 19.29909953 16.57470006 23.91268407 28.5757133  16.23633985\n",
      "\u001b[36mt8bj7uf19d-algo-1-vmubs |\u001b[0m  27.50109599 15.7539434  17.48873231 16.54689993 27.60136795 27.83102845\n",
      "\u001b[36mt8bj7uf19d-algo-1-vmubs |\u001b[0m  23.56626434 27.50109599 21.64384786 18.78723742 17.91867525 14.83184112\n",
      "\u001b[36mt8bj7uf19d-algo-1-vmubs |\u001b[0m  22.73504239 18.93446151 20.7828134  15.12466062 26.58007209 33.83316205\n",
      "\u001b[36mt8bj7uf19d-algo-1-vmubs |\u001b[0m  22.24168964 18.00348773 26.12094103 21.85762035 23.06703081 31.38145811]\n",
      "\u001b[36mt8bj7uf19d-algo-1-vmubs |\u001b[0m ============== END: result of pred =================\n",
      "\u001b[36mt8bj7uf19d-algo-1-vmubs |\u001b[0m 172.18.0.1 - - [25/Oct/2022:04:44:07 +0000] \"POST /invocations HTTP/1.1\" 200 1996 \"-\" \"python-urllib3/1.26.8\"\n"
     ]
    }
   ],
   "source": [
    "### 推論実行\n",
    "with open(local_test, 'r') as f:\n",
    "    payload = f.read().strip()\n",
    "\n",
    "predicted = predictor_lgb_model.predict(payload).decode('utf-8')\n",
    "print('=' * 20)\n",
    "print(predicted)"
   ]
  },
  {
   "cell_type": "code",
   "execution_count": 72,
   "id": "17a62706",
   "metadata": {},
   "outputs": [
    {
     "name": "stdout",
     "output_type": "stream",
     "text": [
      "[19.95642073217597, 27.844891841022335, 23.747437427003455, 21.961517177305176, 33.70952263893306, 16.546899933876215, 20.7577247308279, 21.58941351302627, 28.44096446328559, 21.573610198594977, 16.520022349295115, 18.56239893242527, 33.70952263893306, 21.66404760045202, 18.839854556333133, 20.524517944865078, 23.512192914502315, 19.720552829648888, 14.831841119971708, 25.48273874904075, 24.232639474441545, 21.624005932843115, 24.961489794296718, 31.737194191676068, 21.634052928440624, 28.40721160777621, 21.408363849719503, 14.831841119971708, 22.218594550645975, 21.174456098551236, 21.78791955089051, 14.831841119971708, 29.996695633096042, 22.44097524661187, 33.83316205414468, 26.41403196992683, 33.70952263893306, 17.366188662166092, 27.56686070285819, 30.785697489113854, 19.36938873496206, 20.70626548555591, 17.759853567831996, 27.888269821752413, 20.521395163186774, 14.831841119971708, 24.776417537973362, 24.965857100129327, 19.649289821764185, 21.026797620813866, 33.70952263893306, 22.770867837558004, 25.12436361101226, 32.04499227317663, 20.300871717805446, 25.993751032745912, 14.831841119971708, 17.55319877077615, 21.070286538617665, 21.122413297289743, 16.377053075082987, 15.568373592583868, 33.70952263893306, 27.61154020402463, 19.342761095149218, 17.9509721146777, 33.70952263893306, 33.83316205414468, 25.48273874904075, 20.660796015624964, 30.699461095863427, 21.035390723179418, 22.185819485247606, 19.29909952861762, 16.5747000607082, 23.912684065447934, 28.57571329880843, 16.236339853147257, 27.50109599287484, 15.753943396426372, 17.4887323059089, 16.546899933876215, 27.601367949672184, 27.83102844560462, 23.566264337152624, 27.50109599287484, 21.643847857886936, 18.787237415866525, 17.9186752451325, 14.831841119971708, 22.735042390270507, 18.93446150698524, 20.78281339932023, 15.124660622321342, 26.580072090826267, 33.83316205414468, 22.241689637239144, 18.003487732270226, 26.120941030113585, 21.857620352091608, 23.067030809188566, 31.381458114994132]\n"
     ]
    }
   ],
   "source": [
    "print(predicted)"
   ]
  },
  {
   "cell_type": "markdown",
   "id": "a0bbe3cc",
   "metadata": {},
   "source": [
    "# END of Containts ======================="
   ]
  },
  {
   "cell_type": "markdown",
   "id": "33afd25d",
   "metadata": {},
   "source": [
    "# 後片付け"
   ]
  },
  {
   "cell_type": "code",
   "execution_count": null,
   "id": "830ce84f",
   "metadata": {},
   "outputs": [],
   "source": []
  },
  {
   "cell_type": "code",
   "execution_count": null,
   "id": "0f4a39e7",
   "metadata": {},
   "outputs": [],
   "source": []
  },
  {
   "cell_type": "code",
   "execution_count": null,
   "id": "20c63066",
   "metadata": {},
   "outputs": [],
   "source": []
  },
  {
   "cell_type": "markdown",
   "id": "7ba170f8",
   "metadata": {},
   "source": [
    "# 参考"
   ]
  },
  {
   "cell_type": "code",
   "execution_count": null,
   "id": "30a611de",
   "metadata": {},
   "outputs": [],
   "source": []
  },
  {
   "cell_type": "code",
   "execution_count": null,
   "id": "658dd23e",
   "metadata": {},
   "outputs": [],
   "source": []
  },
  {
   "cell_type": "code",
   "execution_count": null,
   "id": "1c63b25e",
   "metadata": {},
   "outputs": [],
   "source": []
  },
  {
   "cell_type": "code",
   "execution_count": null,
   "id": "d657f19b",
   "metadata": {},
   "outputs": [],
   "source": []
  },
  {
   "cell_type": "code",
   "execution_count": null,
   "id": "1518dd38",
   "metadata": {},
   "outputs": [],
   "source": []
  },
  {
   "cell_type": "code",
   "execution_count": null,
   "id": "5cf25368",
   "metadata": {},
   "outputs": [],
   "source": []
  },
  {
   "cell_type": "code",
   "execution_count": null,
   "id": "f0f16ce3",
   "metadata": {},
   "outputs": [],
   "source": []
  },
  {
   "cell_type": "code",
   "execution_count": null,
   "id": "5ed32fcb",
   "metadata": {},
   "outputs": [],
   "source": []
  },
  {
   "cell_type": "code",
   "execution_count": null,
   "id": "fb763896",
   "metadata": {},
   "outputs": [],
   "source": []
  },
  {
   "cell_type": "code",
   "execution_count": null,
   "id": "8ce1ece0",
   "metadata": {},
   "outputs": [],
   "source": []
  },
  {
   "cell_type": "code",
   "execution_count": null,
   "id": "0d79b541",
   "metadata": {},
   "outputs": [],
   "source": []
  },
  {
   "cell_type": "code",
   "execution_count": null,
   "id": "26375a2e",
   "metadata": {},
   "outputs": [],
   "source": []
  },
  {
   "cell_type": "code",
   "execution_count": null,
   "id": "6211366f",
   "metadata": {},
   "outputs": [],
   "source": []
  },
  {
   "cell_type": "code",
   "execution_count": null,
   "id": "5edfcb33",
   "metadata": {},
   "outputs": [],
   "source": []
  },
  {
   "cell_type": "markdown",
   "id": "41adf199",
   "metadata": {},
   "source": [
    "## （optional）4. カスタムコンテナを使わず、built-inコンテナのrequirement.txtにlightgbmを記載して実行する\n",
    "\n",
    "\n",
    "\n",
    "過去バージョン（1.3-3, 1.2-2, 1.2-1, 1.0-1)はこちら\n",
    "\n",
    "https://github.com/aws/sagemaker-xgboost-container/releases\n"
   ]
  },
  {
   "cell_type": "markdown",
   "id": "31c16ce3",
   "metadata": {},
   "source": [
    "## 4-2. 推論実施"
   ]
  },
  {
   "cell_type": "markdown",
   "id": "959b4d70",
   "metadata": {},
   "source": [
    "### 4-2-1.デプロイ\n",
    "\n",
    "https://sagemaker.readthedocs.io/en/stable/api/training/estimators.html#sagemaker.estimator.EstimatorBase.deploy\n",
    "\n",
    "\n",
    "デプロイの際に、ソースコードを指定するにはどうしたらいいのか？\n",
    "\n",
    "https://www.youtube.com/watch?v=sngNd79GpmE&t=596s\n",
    "\n",
    "\n",
    "ポイント：あらためて、Estimatorを定義する必要がある。"
   ]
  },
  {
   "cell_type": "markdown",
   "id": "7e2b4846",
   "metadata": {},
   "source": [
    "### serve用のファイルは、.py かつ、作法に従う必要がある。\n",
    "\n",
    "MMSは.pyを扱うように設計されているため。\n",
    "\n",
    "https://sagemaker.readthedocs.io/en/stable/api/training/estimators.html#sagemaker.estimator.Estimator"
   ]
  },
  {
   "cell_type": "markdown",
   "id": "b260c174",
   "metadata": {},
   "source": [
    "## エラー\n",
    "\n",
    "RuntimeError: Model /opt/ml/model/model.tar.gz cannot be loaded:\n",
    "\n",
    "\n",
    "6o0805unb3-algo-1-k8ugv | [2022-10-16 02:25:50 +0000] [19] [ERROR] Exception in worker process  \n",
    "6o0805unb3-algo-1-k8ugv | Traceback (most recent call last):  \n",
    "6o0805unb3-algo-1-k8ugv |   File \"/miniconda3/lib/python3.8/site-packages/sagemaker_xgboost_container/algorithm_mode/serve_utils.py\", line 175, in get_loaded_booster  \n",
    "6o0805unb3-algo-1-k8ugv |     booster = pkl.load(open(full_model_path, \"rb\"))  \n",
    "6o0805unb3-algo-1-k8ugv | _pickle.UnpicklingError: invalid load key, '\\x1f'.  "
   ]
  },
  {
   "cell_type": "markdown",
   "id": "87074786",
   "metadata": {},
   "source": [
    "## 原因\n",
    "lightgbm-regression-model.txtなので、pklでは読み込めない。\n",
    "\n",
    "モデルロードする関数を上書きするには？？（そもそもこれがやりたい）\n",
    "\n",
    "https://github.com/aws/sagemaker-xgboost-container/blob/master/docker/1.5-1/final/Dockerfile.cpu\n",
    "\n",
    "# Set SageMaker entrypoints\n",
    "ENV SAGEMAKER_TRAINING_MODULE sagemaker_xgboost_container.training:main  \n",
    "ENV SAGEMAKER_SERVING_MODULE sagemaker_xgboost_container.serving:main  \n",
    "\n",
    "\n",
    "まず、serving.main()が実行される"
   ]
  },
  {
   "cell_type": "markdown",
   "id": "84c2ae30",
   "metadata": {},
   "source": [
    "https://github.com/aws/sagemaker-xgboost-container/blob/master/src/sagemaker_xgboost_container/serving.py\n",
    "\n",
    "L143\n",
    "\n",
    "serving_env = env.ServingEnv()\n",
    "\n",
    "で、環境変数にパラメータが読み込まれる\n",
    "\n",
    "\n",
    "L147\n",
    "\n",
    "user_module = modules.import_module(serving_env.module_dir, serving_env.module_name)\n",
    "\n",
    "ここで、ユーザーのモジュールが読み込まれる。\n",
    "\n",
    "L18をみると、sagemaker_containers.beta.framework.modulesがモジュールのようだ。\n",
    "\n",
    "from sagemaker_containers.beta.framework import (\n",
    "    encoders,\n",
    "    env,\n",
    "    modules,\n",
    "    server,\n",
    "    transformer,\n",
    "    worker,\n",
    ")"
   ]
  },
  {
   "cell_type": "markdown",
   "id": "2fab5caf",
   "metadata": {},
   "source": [
    "https://github.com/aws/sagemaker-containers/blob/master/src/sagemaker_containers/beta/framework/__init__.py\n",
    "\n",
    "sagemaker_containers.beta.frameworkはアーカイブされている。\n",
    "\n",
    "現在はこちら。initをみると\n",
    "\n",
    "https://github.com/aws/sagemaker-containers/blob/master/src/sagemaker_containers/_modules.py\n",
    "\n",
    "\n",
    "\n",
    "L258で、imortしている。\n",
    "\n",
    "module = importlib.import_module(name)"
   ]
  },
  {
   "cell_type": "markdown",
   "id": "38f21e10",
   "metadata": {},
   "source": [
    "def import_module(uri, name=DEFAULT_MODULE_NAME, cache=None):  # type: (str, str, bool) -> module\n",
    "\n",
    "とあるように、DEFAULT_MODULE_NAMEが読み込まれるようだ\n",
    "\n",
    "\n"
   ]
  },
  {
   "cell_type": "code",
   "execution_count": null,
   "id": "142b60e1",
   "metadata": {},
   "outputs": [],
   "source": []
  },
  {
   "cell_type": "markdown",
   "id": "2e77eea0",
   "metadata": {},
   "source": [
    "\n",
    "https://github.com/aws/sagemaker-xgboost-container/blob/master/src/sagemaker_xgboost_container/serving.py\n",
    "\n",
    "L148,149: L147で読み込んだユーザーモジュールに上書きする\n",
    "\n",
    "user_module_transformer = _user_module_transformer(user_module)  \n",
    "user_module_transformer.initialize()  \n",
    "\n",
    "\n",
    "L116にあるように、model_fnなどのユーザー関数に上書きされる。\n",
    "\n",
    "\n",
    "def _user_module_transformer(user_module):  \n",
    "    model_fn = getattr(user_module, \"model_fn\", default_model_fn)  \n",
    "    input_fn = getattr(user_module, \"input_fn\", None)  \n",
    "    predict_fn = getattr(user_module, \"predict_fn\", None)  \n",
    "    output_fn = getattr(user_module, \"output_fn\", None)  \n",
    "    transform_fn = getattr(user_module, \"transform_fn\", None)  "
   ]
  },
  {
   "cell_type": "markdown",
   "id": "f9662726",
   "metadata": {},
   "source": [
    "## model_fnを定義したファイルが、importされているか？\n",
    "\n",
    "いま、そもそも環境変数に正しく情報渡せていない気がする。\n",
    "\n",
    "\n",
    "https://github.com/aws/sagemaker-containers/blob/master/src/sagemaker_containers/_modules.py\n",
    "\n",
    "L237より、\n",
    "\n",
    "def import_module(uri, name=DEFAULT_MODULE_NAME, cache=None):  # type: (str, str, bool) -> module\n",
    "\n",
    "第二引数に指定する必要がある。\n",
    "\n",
    "これを呼ぶのは、\n",
    "\n",
    "\n",
    "https://github.com/aws/sagemaker-xgboost-container/blob/master/src/sagemaker_xgboost_container/serving.py\n",
    "\n",
    "L147\n",
    "\n",
    "user_module = modules.import_module(serving_env.module_dir, serving_env.module_name)\n",
    "\n",
    "serving_env.module_name である。指定できているのか？\n",
    "\n",
    "\n",
    "L143より\n",
    "\n",
    "serving_env = env.ServingEnv()\n",
    "\n",
    "これは、以下のファイル。\n",
    "\n",
    "https://github.com/aws/sagemaker-containers/blob/master/src/sagemaker_containers/_env.py\n",
    "\n",
    "L862\n",
    "\n",
    "class ServingEnv(_Env):\n",
    "\n"
   ]
  },
  {
   "cell_type": "markdown",
   "id": "e8b1f2b4",
   "metadata": {},
   "source": [
    "https://github.com/aws/sagemaker-containers/blob/master/src/sagemaker_containers/_env.py\n",
    "\n",
    "L329には、\n",
    "\n",
    "class _Env(_mapping.MappingMixin):\n",
    "\n",
    "\n",
    "module_name = os.environ.get(_params.USER_PROGRAM_ENV, None)\n",
    "\n",
    "とある。\n",
    "\n",
    "\n",
    "L595\n",
    "\n",
    "TrainingEnvには、\n",
    "\n",
    "        # override base class attributes  \n",
    "        if self._module_name is None:  \n",
    "            self._module_name = str(sagemaker_hyperparameters.get(_params.USER_PROGRAM_PARAM, None))  \n",
    "        self._user_entry_point = self._user_entry_point or sagemaker_hyperparameters.get(  \n",
    "            _params.USER_PROGRAM_PARAM  \n",
    "        )  \n",
    "        \n",
    "        \n",
    "        "
   ]
  },
  {
   "cell_type": "markdown",
   "id": "8c2f1dd1",
   "metadata": {},
   "source": [
    "## USER_PROGRAM_ENVに設定できればいい？\n",
    "\n",
    "\n",
    "https://github.com/aws/sagemaker-inference-toolkit/blob/master/src/sagemaker_inference/parameters.py\n",
    "\n",
    "\n",
    "L18\n",
    "\n",
    "USER_PROGRAM_ENV = \"SAGEMAKER_PROGRAM\"  # type: str\n",
    "\n",
    "SAGEMAKER_PROGRAMに設定できればいいようだ。\n",
    "\n",
    "ビルトインコンテナにはどうすれば設定できるのだろうか？？\n",
    "\n",
    "以下のYouTubeだと、boto3でEnvironment引数を使っている。\n",
    "\n",
    "https://youtu.be/sngNd79GpmE?t=780"
   ]
  },
  {
   "cell_type": "code",
   "execution_count": null,
   "id": "8618ac2e",
   "metadata": {},
   "outputs": [],
   "source": []
  },
  {
   "cell_type": "markdown",
   "id": "3d43e46d",
   "metadata": {},
   "source": [
    "# デバッグのために、dockerイメージをプルして、中をみてみる。\n",
    "\n",
    "ビルトインコンテナの中身をみるには、どうすればいいのか？\n",
    "\n",
    "XGBoostの場合は、ローカルでbuildしていくようだ。\n",
    "\n",
    "https://github.com/aws/sagemaker-xgboost-container"
   ]
  },
  {
   "cell_type": "markdown",
   "id": "23b20ee3",
   "metadata": {},
   "source": [
    "# コンテナの中に入って確認する方法\n",
    "コンソールを立ち上げて、以下の流れで実行する\n",
    "\n",
    "\n",
    "ディレクトリ移動\n",
    " $ cd sagemaker-xgboost-container/\n",
    " \n",
    "baseコンテナをビルド\n",
    " $ docker build -t xgboost-container-base:1.5-1-cpu-py3 -f docker/1.5-1/base/Dockerfile.cpu .\n",
    "\n",
    "finalコンテナをビルド\n",
    " $ docker build -t preprod-xgboost-container:1.5-1-cpu-py3 -f docker/1.5-1/final/Dockerfile.cpu .\n",
    "\n",
    "構築されたイメージを確認\n",
    "$ docker image ls\n",
    "\n",
    "中に入って確認（コンテナのタグもつけて指定すること）\n",
    "$ docker run -it preprod-xgboost-container:1.5-1-cpu-py3 /bin/bash\n",
    "\n",
    "$ docker run -it 354813040037.dkr.ecr.ap-northeast-1.amazonaws.com/sagemaker-xgboost:1.5-1 /bin/bash  \n",
    "\n",
    "   "
   ]
  },
  {
   "cell_type": "markdown",
   "id": "e92bae1c",
   "metadata": {},
   "source": [
    "# コンテナの中に入り、 command serveを実行してみる"
   ]
  },
  {
   "cell_type": "markdown",
   "id": "bef25ef1",
   "metadata": {},
   "source": [
    "# モデル利用ならうまくいくのではないか？-> OK\n",
    "\n",
    "\n",
    "YouTubeのリンク先ソースより\n",
    "\n",
    "https://github.com/aws-samples/aws-ml-jp/blob/main/sagemaker/sagemaker-inference/inference-tutorial/1_sklearn.ipynb\n",
    "\n"
   ]
  },
  {
   "cell_type": "markdown",
   "id": "b23b3535",
   "metadata": {},
   "source": [
    "https://sagemaker.readthedocs.io/en/stable/api/inference/model.html#sagemaker.model.Model"
   ]
  },
  {
   "cell_type": "markdown",
   "id": "5c023449",
   "metadata": {},
   "source": [
    "デプロイ\n",
    "\n",
    "https://sagemaker.readthedocs.io/en/stable/api/inference/model.html#sagemaker.model.Model.deploy"
   ]
  },
  {
   "cell_type": "markdown",
   "id": "4f45ed35",
   "metadata": {},
   "source": [
    "ValueError: Estimator is not associated with a training job"
   ]
  },
  {
   "cell_type": "markdown",
   "id": "27cc575e",
   "metadata": {},
   "source": [
    "# エラー　trainingjobとの紐付け\n",
    "\n",
    "https://stackoverflow.com/questions/63340328/how-to-define-a-sagemaker-estimator-object-using-a-pre-trained-model-and-then-de"
   ]
  },
  {
   "cell_type": "markdown",
   "id": "4ef701e8",
   "metadata": {},
   "source": [
    "# END of Containts ==============="
   ]
  },
  {
   "cell_type": "markdown",
   "id": "95375429",
   "metadata": {},
   "source": [
    "# 5.後片付け\n",
    "予期せぬ課金を防ぐために、以下のリソースを削除します。\n",
    "\n",
    "* SageMaker 推論エンドポイント\n",
    "* ECR\n",
    "* S3\n",
    "* SageMakerノートブックインスタンス"
   ]
  },
  {
   "cell_type": "markdown",
   "id": "10508efe",
   "metadata": {},
   "source": [
    "# 参考\n",
    "* SageMaker のtrainingジョブを理解する\n",
    "    * https://github.com/aws-samples/aws-ml-jp/tree/main/sagemaker/sagemaker-traning/tutorial\n",
    "* SageMaker-Pytorth training Toolkit\n",
    "    * https://github.com/aws/sagemaker-pytorch-training-toolkit/\n",
    "* SageMaker-Pytorch Inference Toolkit\n",
    "    * https://github.com/aws/sagemaker-pytorch-inference-toolkit\n",
    "* SageMaker Inference Toolkit\n",
    "    * https://docs.aws.amazon.com/sagemaker/latest/dg/amazon-sagemaker-toolkits.html\n",
    "    * https://github.com/aws/sagemaker-inference-toolkit"
   ]
  }
 ],
 "metadata": {
  "kernelspec": {
   "display_name": "conda_python3",
   "language": "python",
   "name": "conda_python3"
  },
  "language_info": {
   "codemirror_mode": {
    "name": "ipython",
    "version": 3
   },
   "file_extension": ".py",
   "mimetype": "text/x-python",
   "name": "python",
   "nbconvert_exporter": "python",
   "pygments_lexer": "ipython3",
   "version": "3.8.12"
  }
 },
 "nbformat": 4,
 "nbformat_minor": 5
}
