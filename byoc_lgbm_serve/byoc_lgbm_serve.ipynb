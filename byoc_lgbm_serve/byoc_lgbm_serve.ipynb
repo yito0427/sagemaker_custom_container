{
 "cells": [
  {
   "cell_type": "markdown",
   "id": "bdb470d4",
   "metadata": {},
   "source": [
    "# LightGBMの推論用カスタムコンテナを構築し、SageMakerによる推論の仕組みを深く理解する\n",
    "\n",
    "このノートブックでは、LightGBMがインストールされたカスタムコンテナ構築し、SageMaker Trainingジョブで学習後、推論を行います。\n",
    "カスタムコンテナの挙動を観察し、SageMakerの推論動作について理解を深めます。\n",
    "\n",
    "ノートブックは20分程度で実行できます。"
   ]
  },
  {
   "cell_type": "markdown",
   "id": "42b60a21",
   "metadata": {},
   "source": [
    "# 0.実行環境確認\n",
    "本ノートブックは、SageMakerノートブックインスタンス上で動作確認しています。\n",
    "* インスタンスタイプ：ml.t3.medium\n",
    "* カーネル：conda_python3"
   ]
  },
  {
   "cell_type": "markdown",
   "id": "8f4d1140",
   "metadata": {},
   "source": [
    "## 0-1.pythonバージョン確認"
   ]
  },
  {
   "cell_type": "code",
   "execution_count": null,
   "id": "ada48505",
   "metadata": {},
   "outputs": [],
   "source": [
    "#Pythonのバージョン情報\n",
    "import sys\n",
    "sys.version # 3.8.12"
   ]
  },
  {
   "cell_type": "code",
   "execution_count": null,
   "id": "b8e79021",
   "metadata": {},
   "outputs": [],
   "source": [
    "# Pythonのバージョン確認 (システムコマンド使用）\n",
    "!python -V # 3.8.12"
   ]
  },
  {
   "cell_type": "markdown",
   "id": "6faee0dd",
   "metadata": {},
   "source": [
    "## 0-2.SageMakerSDKバージョン確認\n",
    "\n",
    "Amazon SageMaker Python SDKは、Amazon SageMaker上で機械学習されたモデルをトレーニングおよびデプロイするためのオープンソースライブラリです。\n",
    "\n",
    "このSDKを使用すると、一般的な深層学習フレームワーク、Amazonが提供するアルゴリズム、またはSageMaker互換のDockerイメージに組み込まれた独自のアルゴリズムを使ってモデルをトレーニングおよびデプロイすることができます。\n",
    "\n",
    "* ドキュメント : https://sagemaker.readthedocs.io/en/stable/\n",
    "* GitHub : https://github.com/aws/sagemaker-python-sdk"
   ]
  },
  {
   "cell_type": "code",
   "execution_count": null,
   "id": "293ff328",
   "metadata": {},
   "outputs": [],
   "source": [
    "# SageMakerSDK のバージョン確認\n",
    "import sagemaker\n",
    "print('Current SageMaker Python SDK Version ={0}'.format(sagemaker.__version__)) # 2.110.0"
   ]
  },
  {
   "cell_type": "markdown",
   "id": "d9d60c7d",
   "metadata": {},
   "source": [
    "# 1.データ準備\n",
    "\n",
    "学習、推論で利用するデータを準備します。\n",
    "\n",
    "scikit-learn付属の、ボストン住宅価格データセットを利用します。(注：バージョン1.2から除外されます）  \n",
    "https://scikit-learn.org/stable/modules/generated/sklearn.datasets.load_boston.html\n",
    "\n",
    "以下のスクリプトを参考にしています。\n",
    "\n",
    "https://github.com/aws-samples/amazon-sagemaker-local-mode/blob/main/lightgbm_bring_your_own_container_local_training_and_serving/lightgbm_bring_your_own_container_local_training_and_serving.py"
   ]
  },
  {
   "cell_type": "code",
   "execution_count": null,
   "id": "326db818",
   "metadata": {},
   "outputs": [],
   "source": [
    "import sklearn\n",
    "sklearn.__version__ # 1.0.1"
   ]
  },
  {
   "cell_type": "code",
   "execution_count": null,
   "id": "c5a1ffc5",
   "metadata": {},
   "outputs": [],
   "source": [
    "import pandas as pd\n",
    "pd.__version__ # 1.3.4"
   ]
  },
  {
   "cell_type": "markdown",
   "id": "76af39fe",
   "metadata": {},
   "source": [
    "## 1-1. データロード"
   ]
  },
  {
   "cell_type": "code",
   "execution_count": null,
   "id": "f034215f",
   "metadata": {},
   "outputs": [],
   "source": [
    "from sklearn.datasets import load_boston\n",
    "from sklearn.model_selection import train_test_split"
   ]
  },
  {
   "cell_type": "code",
   "execution_count": null,
   "id": "470b2543",
   "metadata": {},
   "outputs": [],
   "source": [
    "data = load_boston() # 1.2でデータセットがなくすという警告が出ますが動作に影響ありません"
   ]
  },
  {
   "cell_type": "markdown",
   "id": "3b9d4f0e",
   "metadata": {},
   "source": [
    "## 1-2. 特徴量生成（Feature Engineering）\n",
    "本ノートブックでは実施しません。そのままデータを利用します。"
   ]
  },
  {
   "cell_type": "markdown",
   "id": "8c502264",
   "metadata": {},
   "source": [
    "## 1-3. データ分割\n",
    "学習用（train）、評価用（validation）、テスト用（test）にデータを分割します。  \n",
    "train:val:test = 3(60%):1(20%):1(20%)に分割します。  "
   ]
  },
  {
   "cell_type": "code",
   "execution_count": null,
   "id": "84576266",
   "metadata": {},
   "outputs": [],
   "source": [
    "X_train, X_test, y_train, y_test = train_test_split(data.data, data.target, test_size=0.2, random_state=45)\n",
    "X_train, X_val, y_train, y_val = train_test_split(X_train, y_train, test_size=0.25, random_state=45)\n",
    "\n",
    "trainX = pd.DataFrame(X_train, columns=data.feature_names)\n",
    "trainX['target'] = y_train\n",
    "\n",
    "valX = pd.DataFrame(X_val, columns=data.feature_names)\n",
    "valX['target'] = y_val\n",
    "\n",
    "testX = pd.DataFrame(X_test, columns=data.feature_names)"
   ]
  },
  {
   "cell_type": "code",
   "execution_count": null,
   "id": "6761fde0",
   "metadata": {},
   "outputs": [],
   "source": [
    "# 確認\n",
    "print(trainX.shape)\n",
    "trainX.head()"
   ]
  },
  {
   "cell_type": "code",
   "execution_count": null,
   "id": "2c7bb141",
   "metadata": {},
   "outputs": [],
   "source": [
    "# 確認\n",
    "print(valX.shape)\n",
    "valX.head()"
   ]
  },
  {
   "cell_type": "code",
   "execution_count": null,
   "id": "3aabe580",
   "metadata": {},
   "outputs": [],
   "source": [
    "# 確認\n",
    "print(testX.shape)\n",
    "testX.head()"
   ]
  },
  {
   "cell_type": "code",
   "execution_count": null,
   "id": "c97295e6",
   "metadata": {},
   "outputs": [],
   "source": [
    "# 確認\n",
    "y_test[0:5]"
   ]
  },
  {
   "cell_type": "markdown",
   "id": "0afe3867",
   "metadata": {},
   "source": [
    "## 1-4.データ保存\n",
    "ローカル、S3それぞれにデータを保存します。"
   ]
  },
  {
   "cell_type": "markdown",
   "id": "5dce4f90",
   "metadata": {},
   "source": [
    "### 1-4-1.ローカルへ保存"
   ]
  },
  {
   "cell_type": "code",
   "execution_count": null,
   "id": "daed7016",
   "metadata": {},
   "outputs": [],
   "source": [
    "# ディレクトリ作成\n",
    "from pathlib import Path\n",
    "\n",
    "Path('./data/train').mkdir(parents=True, exist_ok=True)\n",
    "Path('./data/valid').mkdir(parents=True, exist_ok=True)\n",
    "Path('./data/test').mkdir(parents=True, exist_ok=True)"
   ]
  },
  {
   "cell_type": "code",
   "execution_count": null,
   "id": "19b1d2ce",
   "metadata": {},
   "outputs": [],
   "source": [
    "# ローカルへ保存\n",
    "local_train = './data/train/boston_train.csv'\n",
    "local_valid = './data/valid/boston_valid.csv'\n",
    "local_test = './data/test/boston_test.csv'\n",
    "\n",
    "trainX.to_csv(local_train, header=None, index=False)\n",
    "valX.to_csv(local_valid, header=None, index=False)\n",
    "testX.to_csv(local_test, header=None, index=False)"
   ]
  },
  {
   "cell_type": "markdown",
   "id": "0e2c93ad",
   "metadata": {},
   "source": [
    "### 1-4-2.S3へ保存\n",
    "\n",
    "一意のバケット作成のために、sgemaker.Session().default_bucket()を利用します。\n",
    "\n",
    "https://sagemaker.readthedocs.io/en/stable/api/utility/session.html#sagemaker.session.Session\n",
    "\n",
    "Session().default_bucket()を実行することで、\n",
    "\n",
    "sagemaker-\\<リージョン名>-\\<アカウントID> という名称のバケットが作成されます。\n",
    "\n",
    "https://github.com/aws/sagemaker-python-sdk/blob/master/src/sagemaker/session.py\n",
    "\n"
   ]
  },
  {
   "cell_type": "code",
   "execution_count": null,
   "id": "2fae2c39",
   "metadata": {},
   "outputs": [],
   "source": [
    "bucket_name = sagemaker.Session().default_bucket()\n",
    "region_name = sagemaker.Session().boto_region_name\n",
    "account_id =  sagemaker.Session().account_id()"
   ]
  },
  {
   "cell_type": "code",
   "execution_count": null,
   "id": "e90baeb4",
   "metadata": {},
   "outputs": [],
   "source": [
    "# 確認\n",
    "print(bucket_name)\n",
    "print(region_name)\n",
    "print(account_id)"
   ]
  },
  {
   "cell_type": "code",
   "execution_count": null,
   "id": "7bf78c9f",
   "metadata": {},
   "outputs": [],
   "source": [
    "# バケット作成(SageMakerSDKのインポート時作成されています。他のバケット作成時に利用ください)\n",
    "#import boto3\n",
    "\n",
    "#s3_resource = boto3.resource('s3')\n",
    "#s3_resource.create_bucket(Bucket=bucket_name, CreateBucketConfiguration={'LocationConstraint': region_name})"
   ]
  },
  {
   "cell_type": "code",
   "execution_count": null,
   "id": "b25bbdf0",
   "metadata": {},
   "outputs": [],
   "source": [
    "# S3へ保存\n",
    "train_s3 = sagemaker.s3.S3Uploader.upload('./data/train/boston_train.csv', f's3://{bucket_name}/demo_lightgbm/train')\n",
    "valid_s3 = sagemaker.s3.S3Uploader.upload('./data/valid/boston_valid.csv', f's3://{bucket_name}/demo_lightgbm/valid')"
   ]
  },
  {
   "cell_type": "code",
   "execution_count": null,
   "id": "8be340a6",
   "metadata": {},
   "outputs": [],
   "source": [
    "# 確認:格納したS3のURIが返されています\n",
    "print(train_s3)\n",
    "print(valid_s3)"
   ]
  },
  {
   "cell_type": "markdown",
   "id": "9bfa39d0",
   "metadata": {},
   "source": [
    "# 2.LightGBMカスタムコンテナの構築\n",
    "学習編で作成した、学習+推論用のカスタムコンテナを利用します。\n",
    "\n",
    "学習用のカスタムコンテナの作成には大きく分けて3つのパターンがあります。詳細は以下のブログを参考ください。\n",
    "\n",
    "https://aws.amazon.com/jp/blogs/news/sagemaker-custom-containers-pattern-training/\n",
    "\n",
    "まずはSageMakerの動作を理解するためにベースイメージ(ubuntu:16.04) + カスタムレイヤー方式を採用します。"
   ]
  },
  {
   "cell_type": "markdown",
   "id": "f09c04cb",
   "metadata": {},
   "source": [
    "## 2-1. Dockerfileの確認\n",
    "\n",
    "資材はこちらのノートブックを参考に準備しています。\n",
    "\n",
    "https://github.com/aws-samples/amazon-sagemaker-local-mode/tree/main/lightgbm_bring_your_own_container_local_training_and_serving/container"
   ]
  },
  {
   "cell_type": "markdown",
   "id": "22a2aba6",
   "metadata": {},
   "source": [
    "まずは、Dockerfileを確認します。"
   ]
  },
  {
   "cell_type": "code",
   "execution_count": null,
   "id": "19e2b527",
   "metadata": {},
   "outputs": [],
   "source": [
    "!pygmentize ./container/Dockerfile"
   ]
  },
  {
   "cell_type": "markdown",
   "id": "00ec7efd",
   "metadata": {},
   "source": [
    "### 解説：推論エンドポイント構築時のSageMakerの動作\n",
    "SageMakerの推論エンドポイントのデプロイは、SageMaker SDKでは、deploy()メソッドで実行します。\n",
    "\n",
    "https://docs.aws.amazon.com/sagemaker/latest/dg/your-algorithms-inference-code.html\n",
    "\n",
    "その際に、SageMakerは以下のコマンドを実行します。\n",
    "\n",
    "docker run \\<Docker image> server\n",
    "\n",
    "今回のカスタムコンテナでは、 /opt/program に配置した serve スクリプトが実行されます。\n",
    "\n",
    "serveスクリプトを確認してみましょう。"
   ]
  },
  {
   "cell_type": "code",
   "execution_count": null,
   "id": "ade361c2",
   "metadata": {},
   "outputs": [],
   "source": [
    "!pygmentize -l py ./container/lightgbm_regression/serve"
   ]
  },
  {
   "cell_type": "markdown",
   "id": "f5b338a7",
   "metadata": {},
   "source": [
    "初めに、末尾の start_server() が実行され、start_server()では以下が行われます。\n",
    "\n",
    "* nginxの起動（Webサーバ/リバースプロキシの役割）\n",
    "    * nginx.confを読み込みます。\n",
    "* gunicornの起動（Applicationサーバの役割）\n",
    "    * gunicornの起動コマンド引数に'wsgi:app'とあるように、wsgiモジュールwsgi.pyの、appアプリケーションを読み込みます。"
   ]
  },
  {
   "cell_type": "markdown",
   "id": "3e5369c7",
   "metadata": {},
   "source": [
    "nginx.confを確認してみましょう。"
   ]
  },
  {
   "cell_type": "code",
   "execution_count": null,
   "id": "cbcaa302",
   "metadata": {},
   "outputs": [],
   "source": [
    "!pygmentize ./container/lightgbm_regression/nginx.conf"
   ]
  },
  {
   "cell_type": "markdown",
   "id": "d330210d",
   "metadata": {},
   "source": [
    "SageMakerから受け取った /ping と /invocations リクエストを上記で設定したgunicornに渡します。\n",
    "以下に記載があるように、ポート8080を利用する必要があります。\n",
    "\n",
    "https://docs.aws.amazon.com/sagemaker/latest/dg/your-algorithms-inference-code.html\n",
    "\n",
    "How Containers Serve Requests  \n",
    "Containers need to implement a web server that responds to /invocations and /ping on port 8080."
   ]
  },
  {
   "cell_type": "markdown",
   "id": "6683c5a2",
   "metadata": {},
   "source": [
    "次に、gunicornへのアプリケーションのキック用に使われるファイル wsgi.pyを確認します。\n",
    "\n",
    "predictor.py の、appを読み込んでいることがわかります。"
   ]
  },
  {
   "cell_type": "code",
   "execution_count": null,
   "id": "952f4690",
   "metadata": {},
   "outputs": [],
   "source": [
    "!pygmentize ./container/lightgbm_regression/wsgi.py"
   ]
  },
  {
   "cell_type": "markdown",
   "id": "afca685c",
   "metadata": {},
   "source": [
    "predictor.py を確認します。\n",
    "\n",
    "flaskフレームワークを用いて、/ping, /invocations に対する処理を実装していることがわかります。"
   ]
  },
  {
   "cell_type": "code",
   "execution_count": null,
   "id": "0e95437f",
   "metadata": {},
   "outputs": [],
   "source": [
    "!pygmentize ./container/lightgbm_regression/predictor.py"
   ]
  },
  {
   "cell_type": "markdown",
   "id": "832441a3",
   "metadata": {},
   "source": [
    "## 2-2. dockerイメージの build & push\n",
    "上記で確認したカスタムコンテナをビルドします。\n",
    "\n",
    "build & pushには7分ほどかかります。"
   ]
  },
  {
   "cell_type": "code",
   "execution_count": null,
   "id": "e29463a5",
   "metadata": {},
   "outputs": [],
   "source": [
    "%%sh\n",
    "\n",
    "# The name of our algorithm\n",
    "algorithm_name=sagemaker-lightgbm-regression\n",
    "\n",
    "cd container\n",
    "\n",
    "chmod +x lightgbm_regression/train\n",
    "chmod +x lightgbm_regression/serve\n",
    "\n",
    "account=$(aws sts get-caller-identity --query Account --output text)\n",
    "\n",
    "# Get the region defined in the current configuration (default to ap-northeast-1 if none defined)\n",
    "region=$(aws configure get region)\n",
    "region=${region:-ap-northeast-1}\n",
    "\n",
    "fullname=\"${account}.dkr.ecr.${region}.amazonaws.com/${algorithm_name}:latest\"\n",
    "\n",
    "# If the repository doesn't exist in ECR, create it.\n",
    "aws ecr describe-repositories --repository-names \"${algorithm_name}\" > /dev/null 2>&1\n",
    "\n",
    "if [ $? -ne 0 ]\n",
    "then\n",
    "    aws ecr create-repository --repository-name \"${algorithm_name}\" > /dev/null\n",
    "fi\n",
    "\n",
    "# Get the login command from ECR and execute it directly\n",
    "aws ecr get-login-password --region ${region}|docker login --username AWS --password-stdin ${fullname}\n",
    "\n",
    "# Build the docker image locally with the image name and then push it to ECR\n",
    "# with the full name.\n",
    "\n",
    "docker build -t ${algorithm_name} .\n",
    "docker tag ${algorithm_name} ${fullname}\n",
    "\n",
    "docker push ${fullname}"
   ]
  },
  {
   "cell_type": "markdown",
   "id": "6d678be5",
   "metadata": {},
   "source": [
    "## 2-3. 学習前設定\n",
    "AWSコンソールでECRに移動し、作成したコンテナがあることを確認します。\n",
    "\n",
    "image URIを設定します。"
   ]
  },
  {
   "cell_type": "code",
   "execution_count": null,
   "id": "1ac0bf6a",
   "metadata": {},
   "outputs": [],
   "source": [
    "# 確認\n",
    "print(bucket_name)\n",
    "print(region_name)\n",
    "print(account_id)"
   ]
  },
  {
   "cell_type": "code",
   "execution_count": null,
   "id": "9333b2ea",
   "metadata": {},
   "outputs": [],
   "source": [
    "# imageURLの設定\n",
    "image_uri = f'{account_id}.dkr.ecr.{region_name}.amazonaws.com/sagemaker-lightgbm-regression'"
   ]
  },
  {
   "cell_type": "code",
   "execution_count": null,
   "id": "7f1b1ea9",
   "metadata": {},
   "outputs": [],
   "source": [
    "# 確認\n",
    "image_uri"
   ]
  },
  {
   "cell_type": "code",
   "execution_count": null,
   "id": "3d4cf4c0",
   "metadata": {},
   "outputs": [],
   "source": [
    "# 学習で指定するLightGBMのハイパーパラメータを設定します。\n",
    "hyperparameters={'boosting_type': 'gbdt',\n",
    "                 'objective': 'regression',\n",
    "                 'num_leaves': 31,\n",
    "                 'learning_rate': 0.05,\n",
    "                 'feature_fraction': 0.9,\n",
    "                 'bagging_fraction': 0.8,\n",
    "                 'bagging_freq': 5,\n",
    "                 'verbose': 0\n",
    "                }"
   ]
  },
  {
   "cell_type": "markdown",
   "id": "662032b0",
   "metadata": {},
   "source": [
    "## 2-4.ローカル学習の実行\n",
    "まずはローカルモードでモデルの学習を行います。\n",
    "ローカルモードを利用することで、コンテナイメージのダウンロードや展開の手間を省くことができる、デバッグを行う場合に便利です。"
   ]
  },
  {
   "cell_type": "code",
   "execution_count": null,
   "id": "03a31faf",
   "metadata": {},
   "outputs": [],
   "source": [
    "# ローカルファイルのパスを設定（S3パス指定も可）\n",
    "train_location = 'file://'+local_train\n",
    "valid_location = 'file://'+local_valid\n",
    "\n",
    "print(train_location)\n",
    "print(valid_location)"
   ]
  },
  {
   "cell_type": "code",
   "execution_count": null,
   "id": "667574ec",
   "metadata": {},
   "outputs": [],
   "source": [
    "from sagemaker.estimator import Estimator"
   ]
  },
  {
   "cell_type": "code",
   "execution_count": null,
   "id": "f20ee234",
   "metadata": {},
   "outputs": [],
   "source": [
    "from sagemaker import get_execution_role\n",
    "\n",
    "role = get_execution_role()"
   ]
  },
  {
   "cell_type": "code",
   "execution_count": null,
   "id": "33f595a5",
   "metadata": {},
   "outputs": [],
   "source": [
    "# 確認\n",
    "role"
   ]
  },
  {
   "cell_type": "markdown",
   "id": "96b0744c",
   "metadata": {},
   "source": [
    "SageMakerのEstimatorを作成します。\n",
    "\n",
    "https://sagemaker.readthedocs.io/en/stable/api/training/estimators.html"
   ]
  },
  {
   "cell_type": "code",
   "execution_count": null,
   "id": "3398979a",
   "metadata": {},
   "outputs": [],
   "source": [
    "local_lightgbm = Estimator(image_uri,\n",
    "                           role,\n",
    "                           instance_count=1,\n",
    "                           instance_type=\"local\",\n",
    "                           hyperparameters=hyperparameters\n",
    "                          )"
   ]
  },
  {
   "cell_type": "markdown",
   "id": "4c1661dc",
   "metadata": {},
   "source": [
    "fitメソッドで学習ジョブを発行します\n",
    "\n",
    "https://sagemaker.readthedocs.io/en/stable/api/training/estimators.html#sagemaker.estimator.EstimatorBase.fit"
   ]
  },
  {
   "cell_type": "code",
   "execution_count": null,
   "id": "94818040",
   "metadata": {},
   "outputs": [],
   "source": [
    "local_lightgbm.fit({'train':train_location, 'validation': valid_location})"
   ]
  },
  {
   "cell_type": "markdown",
   "id": "28633076",
   "metadata": {},
   "source": [
    "ローカルモードの学習結果についてもS3に保管されます。\n",
    "\n",
    "s3://sagemaker-< リージョン名 >-< アカウントID >/sagemaker-lightgbm-regression-yyyy-MM-dd-HH-mm-ss-fff/\n",
    "\n",
    "* model.tar.gz\n",
    "* output.tar.gz\n",
    "\n",
    "SageMaker Trainingジョブの詳細については、BlackBeltの解説もご参照ください。\n",
    "https://www.youtube.com/watch?v=byEawTm4O4E"
   ]
  },
  {
   "cell_type": "markdown",
   "id": "7c9d6875",
   "metadata": {},
   "source": [
    "## 2-5.ローカルデプロイ\n",
    "\n",
    "serializer : インプットデータの形式を指定します。\n",
    "https://sagemaker.readthedocs.io/en/stable/v2.html"
   ]
  },
  {
   "cell_type": "code",
   "execution_count": null,
   "id": "21a9d24e",
   "metadata": {},
   "outputs": [],
   "source": [
    "# 事前準備：全コンテナ停止\n",
    "!docker stop $(docker ps -q)"
   ]
  },
  {
   "cell_type": "code",
   "execution_count": null,
   "id": "394e4e52",
   "metadata": {},
   "outputs": [],
   "source": [
    "# 確認\n",
    "!docker ps"
   ]
  },
  {
   "cell_type": "markdown",
   "id": "34076713",
   "metadata": {},
   "source": [
    "起動中のコンテナイメージがないことを確認し、ローカルデプロイを行います。"
   ]
  },
  {
   "cell_type": "code",
   "execution_count": null,
   "id": "585b6405",
   "metadata": {},
   "outputs": [],
   "source": [
    "local_predictor = local_lightgbm.deploy(1, 'local', serializer=sagemaker.serializers.CSVSerializer()) "
   ]
  },
  {
   "cell_type": "code",
   "execution_count": null,
   "id": "a2d6039f",
   "metadata": {},
   "outputs": [],
   "source": [
    "# 確認\n",
    "!docker ps"
   ]
  },
  {
   "cell_type": "markdown",
   "id": "27842ebc",
   "metadata": {},
   "source": [
    "ローカルにコンテナイメージが展開されていることが確認できました。"
   ]
  },
  {
   "cell_type": "markdown",
   "id": "702aa75b",
   "metadata": {},
   "source": [
    "## 2-6.ローカルエンドポイントで推論実施"
   ]
  },
  {
   "cell_type": "code",
   "execution_count": null,
   "id": "83406b62",
   "metadata": {},
   "outputs": [],
   "source": [
    "# 推論実行\n",
    "with open(local_test, 'r') as f:\n",
    "    payload = f.read().strip()\n",
    "\n",
    "predicted = local_predictor.predict(payload).decode('utf-8')\n",
    "print('=' * 20)\n",
    "print(predicted)"
   ]
  },
  {
   "cell_type": "code",
   "execution_count": null,
   "id": "6b5931f8",
   "metadata": {},
   "outputs": [],
   "source": [
    "print(type(predicted))"
   ]
  },
  {
   "cell_type": "markdown",
   "id": "18460bc2",
   "metadata": {},
   "source": [
    "## 2-7.学習ジョブを発行\n",
    "次は、ローカルモードではなく、\n",
    "同じカスタムコンテナで、学習ジョブを実行します。\n",
    "\n",
    "Estimatorの引数instance_typeにインスタンスタイプを指定することで、学習ジョブが発行されます。"
   ]
  },
  {
   "cell_type": "code",
   "execution_count": null,
   "id": "15cc70bf",
   "metadata": {},
   "outputs": [],
   "source": [
    "# 確認\n",
    "print(train_s3)\n",
    "print(valid_s3)"
   ]
  },
  {
   "cell_type": "code",
   "execution_count": null,
   "id": "89ab0642",
   "metadata": {},
   "outputs": [],
   "source": [
    "est_lightgbm = Estimator(image_uri,\n",
    "                         role,\n",
    "                         instance_count=1,\n",
    "                         instance_type=\"ml.m4.2xlarge\", # インスタンスタイプを指定\n",
    "                         hyperparameters=hyperparameters\n",
    "                        )"
   ]
  },
  {
   "cell_type": "code",
   "execution_count": null,
   "id": "5c1f24c8",
   "metadata": {},
   "outputs": [],
   "source": [
    "est_lightgbm.fit({'train':train_s3, 'validation': valid_s3})"
   ]
  },
  {
   "cell_type": "markdown",
   "id": "630fb39e",
   "metadata": {},
   "source": [
    "学習には3分ほど時間がかかります。\n",
    "\n",
    "Billable seconds: \\<秒数>\n",
    "が課金対象の時間となり、今回は80秒ほどです。"
   ]
  },
  {
   "cell_type": "markdown",
   "id": "a9f4dd71",
   "metadata": {},
   "source": [
    "## 2-8.エンドポイントにデプロイ\n",
    "\n",
    "デプロイすると、\n",
    "SageMaker は docker run <image> serveを実行します。\n",
    "\n",
    "    \n",
    "デプロイには3分ほどかかります。"
   ]
  },
  {
   "cell_type": "code",
   "execution_count": null,
   "id": "e06d48e3",
   "metadata": {},
   "outputs": [],
   "source": [
    "#from sagemaker.predictor import csv_serializer # SageMaker SDK v1以前の使い方\n",
    "# https://sagemaker.readthedocs.io/en/stable/v2.html"
   ]
  },
  {
   "cell_type": "markdown",
   "id": "05cece05",
   "metadata": {},
   "source": [
    "deployメソッドで、推論エンドポイントをデプロイします。\n",
    "\n",
    "https://sagemaker.readthedocs.io/en/stable/api/training/estimators.html#sagemaker.estimator.EstimatorBase.deploy"
   ]
  },
  {
   "cell_type": "code",
   "execution_count": null,
   "id": "d72dd503",
   "metadata": {},
   "outputs": [],
   "source": [
    "#predictor = est_lightgbm.deploy(1, 'ml.m4.xlarge', serializer=csv_serializer, wait=True) # SageMaker SDK v1以前の使い方\n",
    "predictor = est_lightgbm.deploy(1, 'ml.m4.xlarge', serializer=sagemaker.serializers.CSVSerializer(), wait=True)"
   ]
  },
  {
   "cell_type": "code",
   "execution_count": null,
   "id": "136a55ab",
   "metadata": {},
   "outputs": [],
   "source": [
    "### 推論実行\n",
    "with open(local_test, 'r') as f:\n",
    "    payload = f.read().strip()\n",
    "\n",
    "predicted = predictor.predict(payload).decode('utf-8')\n",
    "print(predicted)"
   ]
  },
  {
   "cell_type": "markdown",
   "id": "3a8031b6",
   "metadata": {},
   "source": [
    "# 3.推論コードを外部ファイルとして指定できるようにする\n",
    "推論コードを外部から指定するために、SageMaker Inference Toolkitを導入します。\n",
    "\n",
    "https://github.com/aws/sagemaker-inference-toolkit\n",
    "\n",
    "SageMaker Inference Toolkitは、MMS(Multi Model Server)の利用を前提としているため、MMSも導入します。\n",
    "\n",
    "前セクションnginx, gunicorn, flaskを用いて実装したモデルサービングの仕組みはMMSで実装されたものを利用します。\n",
    "\n",
    "https://github.com/awslabs/multi-model-server/tree/master/docker\n",
    "\n",
    "* SageMaker-Inference-Toolkitと、Multi Model Serverを導入する\n",
    "* ビルトインコンテナ + requirements.txt, inference.pyを利用する\n",
    "\n",
    "MMSの利用については、以下のサンプルコードも参照ください。\n",
    "\n",
    "https://github.com/aws/amazon-sagemaker-examples/tree/main/advanced_functionality/multi_model_bring_your_own\n"
   ]
  },
  {
   "cell_type": "markdown",
   "id": "ed02d037",
   "metadata": {},
   "source": [
    "## 3-1.Dockerfileの確認"
   ]
  },
  {
   "cell_type": "markdown",
   "id": "dfd55efb",
   "metadata": {},
   "source": [
    "まずは、利用するDockerfileを確認します。\n",
    "MMSに必要なJavaをインストールし、MMSとinference-toolkitをインストールしています。\n",
    "\n",
    "LightGBMはrequirements.txtでインストールを試みるため、Dockerfileには記載していません。（記載することも可能）"
   ]
  },
  {
   "cell_type": "code",
   "execution_count": null,
   "id": "ed6295fc",
   "metadata": {},
   "outputs": [],
   "source": [
    "!pygmentize ./container_sminftoolkit/Dockerfile"
   ]
  },
  {
   "cell_type": "markdown",
   "id": "5a66f2a2",
   "metadata": {},
   "source": [
    "## 3-2.エントリポイントを確認\n",
    "\n",
    "SageMakerSDKにてdeploy()を実行した際の\n",
    "\n",
    "docker run \\<image> server\n",
    "\n",
    "で実行される、ENTRYPOINTを確認します。\n",
    "\n",
    "dockerd-entrypoint.py が実行されることがわかります。このファイルを確認してみましょう。"
   ]
  },
  {
   "cell_type": "code",
   "execution_count": null,
   "id": "17db0dfe",
   "metadata": {},
   "outputs": [],
   "source": [
    "!pygmentize ./container_sminftoolkit/dockerd-entrypoint.py"
   ]
  },
  {
   "cell_type": "markdown",
   "id": "56b5ad1b",
   "metadata": {},
   "source": [
    "これは、以下に該当する model_server.py の、start_model_server()が実行されます。\n",
    "\n",
    "https://github.com/aws/sagemaker-inference-toolkit/blob/master/src/sagemaker_inference/model_server.py\n",
    "\n",
    "start_model_server()は、引数指定しない場合、inference-toolkitのハンドラサービスを利用します。\n",
    "\n",
    "DEFAULT_HANDLER_SERVICE = default_handler_service.__name__\n",
    "\n",
    "https://github.com/aws/sagemaker-inference-toolkit/blob/master/src/sagemaker_inference/default_handler_service.py\n",
    "\n",
    "ハンドラサービスが、Transformer()を作り、そのなかで、推論ハンドラが作られています。\n",
    "\n",
    "DefaultHandlerService -> Transformer -> DefaultInferenceHandler\n",
    "\n",
    "https://github.com/aws/sagemaker-inference-toolkit/blob/3774c1a0fb4408cfa95333b75d6e30a376bffa52/src/sagemaker_inference/transformer.py\n",
    "\n",
    "Transform()において利用される、inference-toolkitのDefaultInferenceHandler\n",
    "\n",
    "https://github.com/aws/sagemaker-inference-toolkit/blob/master/src/sagemaker_inference/default_inference_handler.py\n"
   ]
  },
  {
   "cell_type": "markdown",
   "id": "b0451773",
   "metadata": {},
   "source": [
    "## 解説\n",
    "ハンドラサービスと推論ハンドラがある。\n",
    "\n",
    "https://github.com/aws/sagemaker-inference-toolkit\n",
    "\n",
    "ハンドラサービスは、Inference toolkit のGitHubにある、以下に該当する。\n",
    "\n",
    "2.Implement a handler service that is executed by the model server.\n",
    "\n",
    "モデルの推論ハンドラは、以下に該当する。\n",
    "\n",
    "1.Implement an inference handler, which is responsible for loading the model and providing input, predict, and output functions. \n",
    "\n",
    "2.のハンドラサービスから、1.の推論ハンドラがロードされる。推論ハンドラはinference-toolkitで用意したものを使ってもよい。"
   ]
  },
  {
   "cell_type": "markdown",
   "id": "b858058d",
   "metadata": {},
   "source": [
    "では、このDockerfileをbuildします。\n",
    "\n",
    "build&pushには3分ほどかかります。"
   ]
  },
  {
   "cell_type": "code",
   "execution_count": null,
   "id": "857dab40",
   "metadata": {},
   "outputs": [],
   "source": [
    "%%sh\n",
    "\n",
    "# The name of our algorithm\n",
    "#algorithm_name=demo-sagemaker-multimodel\n",
    "algorithm_name=demo-sagemaker-inftoolkit\n",
    "\n",
    "#cd container\n",
    "cd container_sminftoolkit\n",
    "\n",
    "account=$(aws sts get-caller-identity --query Account --output text)\n",
    "\n",
    "# Get the region defined in the current configuration (default to us-west-2 if none defined)\n",
    "region=$(aws configure get region)\n",
    "region=${region:-us-west-2}\n",
    "\n",
    "fullname=\"${account}.dkr.ecr.${region}.amazonaws.com/${algorithm_name}:latest\"\n",
    "\n",
    "# If the repository doesn't exist in ECR, create it.\n",
    "aws ecr describe-repositories --repository-names \"${algorithm_name}\" > /dev/null 2>&1\n",
    "\n",
    "if [ $? -ne 0 ]\n",
    "then\n",
    "    aws ecr create-repository --repository-name \"${algorithm_name}\" > /dev/null\n",
    "fi\n",
    "\n",
    "# Get the login command from ECR and execute it directly\n",
    "$(aws ecr get-login --region ${region} --no-include-email)\n",
    "\n",
    "# Build the docker image locally with the image name and then push it to ECR\n",
    "# with the full name.\n",
    "\n",
    "docker build -q -t ${algorithm_name} .\n",
    "docker tag ${algorithm_name} ${fullname}\n",
    "\n",
    "docker push ${fullname}"
   ]
  },
  {
   "cell_type": "markdown",
   "id": "05b6f764",
   "metadata": {},
   "source": [
    "## ローカルにエンドポイントをデプロイ\n",
    "モデルは前のセクションで作成したLightGBMのモデルを利用します。\n",
    "\n",
    "* ソースを指定する\n",
    "* LightGBMライブラリはrequirements.txtでインストールする"
   ]
  },
  {
   "cell_type": "code",
   "execution_count": null,
   "id": "325823af",
   "metadata": {},
   "outputs": [],
   "source": [
    "container_uri = f'{account_id}.dkr.ecr.{region_name}.amazonaws.com/demo-sagemaker-inftoolkit:latest'"
   ]
  },
  {
   "cell_type": "code",
   "execution_count": null,
   "id": "09f8720b",
   "metadata": {},
   "outputs": [],
   "source": [
    "container_uri"
   ]
  },
  {
   "cell_type": "code",
   "execution_count": null,
   "id": "0961b4a7",
   "metadata": {},
   "outputs": [],
   "source": [
    "### 2.8の学習ジョブで構築したモデルを利用する\n",
    "#est_lightgbm.model_data\n",
    "\n",
    "### ローカル学習で構築したモデルを利用する場合\n",
    "model_data=local_lightgbm.model_data"
   ]
  },
  {
   "cell_type": "code",
   "execution_count": null,
   "id": "3c2518ff",
   "metadata": {},
   "outputs": [],
   "source": [
    "!docker ps"
   ]
  },
  {
   "cell_type": "code",
   "execution_count": null,
   "id": "6ddaf625",
   "metadata": {},
   "outputs": [],
   "source": [
    "#全コンテナ停止\n",
    "!docker stop $(docker ps -q)"
   ]
  },
  {
   "cell_type": "code",
   "execution_count": null,
   "id": "c8bae1f9",
   "metadata": {},
   "outputs": [],
   "source": [
    "!docker ps"
   ]
  },
  {
   "cell_type": "markdown",
   "id": "c59e8c13",
   "metadata": {},
   "source": [
    "predictor_clsには、SageMaker SDK v2のPredictorクラスを利用\n",
    "\n",
    "SageMaker SDK v1.72.0\n",
    "https://sagemaker.readthedocs.io/en/v1.72.0/api/inference/predictors.html\n",
    "\n",
    "SageMaker SDK v2.115\n",
    "https://sagemaker.readthedocs.io/en/v2.115.0/api/inference/predictors.html"
   ]
  },
  {
   "cell_type": "code",
   "execution_count": null,
   "id": "f6dfd1a3",
   "metadata": {},
   "outputs": [],
   "source": [
    "# Predictorクラスでもいいのか試してみる\n",
    "from sagemaker.predictor import Predictor\n",
    "\n",
    "lgb_model = sagemaker.model.Model(#est_xgb.image_uri, # XGBoostビルトインコンテナのURI\n",
    "                                  container_uri,\n",
    "                                  model_data=model_data, # ローカル学習で生成したモデルファイル\n",
    "                                  role=role,\n",
    "                                  predictor_cls=Predictor, # 推論するための識別子を指定\n",
    "                                  source_dir='./src_builtin_container_serve', # requirements.txt必要な場合\n",
    "                                  entry_point='inference.py' # source_dirを指定している場合、.pyファイルを指定する。\n",
    "                                  #entry_point='./src_builtin_container_serve/inference.py'\n",
    "                                 )"
   ]
  },
  {
   "cell_type": "code",
   "execution_count": null,
   "id": "88e2704f",
   "metadata": {},
   "outputs": [],
   "source": [
    "predictor_lgb_model = lgb_model.deploy(initial_instance_count=1,\n",
    "                                       instance_type='local', \n",
    "                                       serializer=sagemaker.serializers.CSVSerializer(), ### string形式でSageMakerに渡す（認識してもらう）\n",
    "                                      )"
   ]
  },
  {
   "cell_type": "code",
   "execution_count": null,
   "id": "04a1d696",
   "metadata": {},
   "outputs": [],
   "source": [
    "# 参考：SageMaker SDK v1以前の場合\n",
    "#from sagemaker.predictor import RealTimePredictor\n",
    "#\n",
    "#lgb_model = sagemaker.model.Model(#est_xgb.image_uri, # XGBoostビルトインコンテナのURI\n",
    "#                                  container_uri,\n",
    "#                                  model_data=model_data, # ローカル学習で生成したモデルファイル\n",
    "#                                  role=role,\n",
    "#                                  predictor_cls=RealTimePredictor, # 推論するための識別子を指定\n",
    "#                                  source_dir='./src_builtin_container_serve', # requirements.txt必要な場合\n",
    "#                                  entry_point='inference.py' # source_dirを指定している場合、.pyファイルを指定する。\n",
    "#                                  #entry_point='./src_builtin_container_serve/inference.py'\n",
    "#                                 )"
   ]
  },
  {
   "cell_type": "code",
   "execution_count": null,
   "id": "e8534212",
   "metadata": {},
   "outputs": [],
   "source": [
    "#predictor_lgb_model = lgb_model.deploy(initial_instance_count=1,\n",
    "#                                       instance_type='local', \n",
    "#                                       serializer=csv_serializer, ### string形式でSageMakerに渡す（認識してもらう）\n",
    "#                                      )"
   ]
  },
  {
   "cell_type": "code",
   "execution_count": null,
   "id": "69d3ca79",
   "metadata": {},
   "outputs": [],
   "source": [
    "!docker ps"
   ]
  },
  {
   "cell_type": "markdown",
   "id": "e4566ae8",
   "metadata": {},
   "source": [
    "## 推論実施"
   ]
  },
  {
   "cell_type": "code",
   "execution_count": null,
   "id": "2592b977",
   "metadata": {},
   "outputs": [],
   "source": [
    "### 推論実行\n",
    "with open(local_test, 'r') as f:\n",
    "    payload = f.read().strip()\n",
    "\n",
    "predicted = predictor_lgb_model.predict(payload).decode('utf-8')\n",
    "print('=' * 20)\n",
    "print(predicted)"
   ]
  },
  {
   "cell_type": "code",
   "execution_count": null,
   "id": "2a0565ad",
   "metadata": {},
   "outputs": [],
   "source": [
    "print(predicted)"
   ]
  },
  {
   "cell_type": "code",
   "execution_count": null,
   "id": "cbb75012",
   "metadata": {},
   "outputs": [],
   "source": [
    "print(type(predicted))\n",
    "predicted"
   ]
  },
  {
   "cell_type": "markdown",
   "id": "1ee7d562",
   "metadata": {},
   "source": [
    "# (optional) XGBoostコンテナで、LGBMの推論を実施する\n",
    "\n",
    "LGBMのカスタムコンテナも存在する\n",
    "< URL >\n",
    "    "
   ]
  },
  {
   "cell_type": "code",
   "execution_count": null,
   "id": "e83ca759",
   "metadata": {},
   "outputs": [],
   "source": [
    "xgb_container_uri = sagemaker.image_uris.retrieve(\"xgboost\", region_name, \"1.5-1\")"
   ]
  },
  {
   "cell_type": "code",
   "execution_count": null,
   "id": "10b1a14e",
   "metadata": {},
   "outputs": [],
   "source": [
    "xgb_container_uri"
   ]
  },
  {
   "cell_type": "code",
   "execution_count": null,
   "id": "9a4682de",
   "metadata": {},
   "outputs": [],
   "source": [
    "from sagemaker.predictor import RealTimePredictor\n",
    "\n",
    "lgb_model = sagemaker.model.Model(xgb_container_uri, # XGBoostビルトインコンテナのURI\n",
    "                                  model_data=est_lightgbm.model_data, # ローカル学習で生成したモデルファイル\n",
    "                                  role=role,\n",
    "                                  predictor_cls=RealTimePredictor, # 推論するための識別子を指定\n",
    "                                  source_dir='./src_builtin_container_serve', # requirements.txt必要な場合\n",
    "                                  entry_point='inference.py' # source_dirを指定している場合、.pyファイルを指定する。\n",
    "                                 )"
   ]
  },
  {
   "cell_type": "code",
   "execution_count": null,
   "id": "efe5d6e5",
   "metadata": {},
   "outputs": [],
   "source": [
    "!docker ps"
   ]
  },
  {
   "cell_type": "code",
   "execution_count": null,
   "id": "91bfc531",
   "metadata": {},
   "outputs": [],
   "source": [
    "!docker stop $(docker ps -q)"
   ]
  },
  {
   "cell_type": "code",
   "execution_count": null,
   "id": "e431ed21",
   "metadata": {},
   "outputs": [],
   "source": [
    "!docker ps"
   ]
  },
  {
   "cell_type": "code",
   "execution_count": null,
   "id": "b7100e9d",
   "metadata": {},
   "outputs": [],
   "source": [
    "predictor_lgb_model = lgb_model.deploy(initial_instance_count=1,\n",
    "                                       instance_type='local', \n",
    "                                       serializer=sagemaker.serializers.CSVSerializer(), ### string形式でSageMakerに渡す（認識してもらう）\n",
    "                                       #deserializer=None, \n",
    "                                      )"
   ]
  },
  {
   "cell_type": "code",
   "execution_count": null,
   "id": "68b29122",
   "metadata": {},
   "outputs": [],
   "source": [
    "### 推論実行\n",
    "with open(local_test, 'r') as f:\n",
    "    payload = f.read().strip()\n",
    "\n",
    "predicted = predictor_lgb_model.predict(payload).decode('utf-8')\n",
    "print('=' * 20)\n",
    "print(predicted)"
   ]
  },
  {
   "cell_type": "code",
   "execution_count": null,
   "id": "406543a3",
   "metadata": {},
   "outputs": [],
   "source": [
    "print(predicted)"
   ]
  },
  {
   "cell_type": "markdown",
   "id": "e0caf29c",
   "metadata": {},
   "source": [
    "# END of Containts ======================="
   ]
  },
  {
   "cell_type": "markdown",
   "id": "e9e4061f",
   "metadata": {},
   "source": [
    "# 後片付け"
   ]
  },
  {
   "cell_type": "code",
   "execution_count": null,
   "id": "f7d64bb1",
   "metadata": {},
   "outputs": [],
   "source": []
  },
  {
   "cell_type": "markdown",
   "id": "8882a249",
   "metadata": {},
   "source": [
    "# 参考"
   ]
  },
  {
   "cell_type": "code",
   "execution_count": null,
   "id": "49e019e1",
   "metadata": {},
   "outputs": [],
   "source": []
  },
  {
   "cell_type": "markdown",
   "id": "410de79b",
   "metadata": {},
   "source": [
    "## （optional）4. カスタムコンテナを使わず、built-inコンテナのrequirement.txtにlightgbmを記載して実行する\n",
    "\n",
    "\n",
    "\n",
    "過去バージョン（1.3-3, 1.2-2, 1.2-1, 1.0-1)はこちら\n",
    "\n",
    "https://github.com/aws/sagemaker-xgboost-container/releases\n"
   ]
  },
  {
   "cell_type": "markdown",
   "id": "810a70c9",
   "metadata": {},
   "source": [
    "## 4-2. 推論実施"
   ]
  },
  {
   "cell_type": "markdown",
   "id": "5f5989c0",
   "metadata": {},
   "source": [
    "### 4-2-1.デプロイ\n",
    "\n",
    "https://sagemaker.readthedocs.io/en/stable/api/training/estimators.html#sagemaker.estimator.EstimatorBase.deploy\n",
    "\n",
    "\n",
    "デプロイの際に、ソースコードを指定するにはどうしたらいいのか？\n",
    "\n",
    "https://www.youtube.com/watch?v=sngNd79GpmE&t=596s\n",
    "\n",
    "\n",
    "ポイント：あらためて、Estimatorを定義する必要がある。"
   ]
  },
  {
   "cell_type": "markdown",
   "id": "f11f738a",
   "metadata": {},
   "source": [
    "### serve用のファイルは、.py かつ、作法に従う必要がある。\n",
    "\n",
    "MMSは.pyを扱うように設計されているため。\n",
    "\n",
    "https://sagemaker.readthedocs.io/en/stable/api/training/estimators.html#sagemaker.estimator.Estimator"
   ]
  },
  {
   "cell_type": "markdown",
   "id": "d8e20d1e",
   "metadata": {},
   "source": [
    "## エラー\n",
    "\n",
    "RuntimeError: Model /opt/ml/model/model.tar.gz cannot be loaded:\n",
    "\n",
    "\n",
    "6o0805unb3-algo-1-k8ugv | [2022-10-16 02:25:50 +0000] [19] [ERROR] Exception in worker process  \n",
    "6o0805unb3-algo-1-k8ugv | Traceback (most recent call last):  \n",
    "6o0805unb3-algo-1-k8ugv |   File \"/miniconda3/lib/python3.8/site-packages/sagemaker_xgboost_container/algorithm_mode/serve_utils.py\", line 175, in get_loaded_booster  \n",
    "6o0805unb3-algo-1-k8ugv |     booster = pkl.load(open(full_model_path, \"rb\"))  \n",
    "6o0805unb3-algo-1-k8ugv | _pickle.UnpicklingError: invalid load key, '\\x1f'.  "
   ]
  },
  {
   "cell_type": "markdown",
   "id": "1baec78b",
   "metadata": {},
   "source": [
    "## 原因\n",
    "lightgbm-regression-model.txtなので、pklでは読み込めない。\n",
    "\n",
    "モデルロードする関数を上書きするには？？（そもそもこれがやりたい）\n",
    "\n",
    "https://github.com/aws/sagemaker-xgboost-container/blob/master/docker/1.5-1/final/Dockerfile.cpu\n",
    "\n",
    "# Set SageMaker entrypoints\n",
    "ENV SAGEMAKER_TRAINING_MODULE sagemaker_xgboost_container.training:main  \n",
    "ENV SAGEMAKER_SERVING_MODULE sagemaker_xgboost_container.serving:main  \n",
    "\n",
    "\n",
    "まず、serving.main()が実行される"
   ]
  },
  {
   "cell_type": "markdown",
   "id": "faf01976",
   "metadata": {},
   "source": [
    "https://github.com/aws/sagemaker-xgboost-container/blob/master/src/sagemaker_xgboost_container/serving.py\n",
    "\n",
    "L143\n",
    "\n",
    "serving_env = env.ServingEnv()\n",
    "\n",
    "で、環境変数にパラメータが読み込まれる\n",
    "\n",
    "\n",
    "L147\n",
    "\n",
    "user_module = modules.import_module(serving_env.module_dir, serving_env.module_name)\n",
    "\n",
    "ここで、ユーザーのモジュールが読み込まれる。\n",
    "\n",
    "L18をみると、sagemaker_containers.beta.framework.modulesがモジュール。\n",
    "\n",
    "from sagemaker_containers.beta.framework import (\n",
    "    encoders,\n",
    "    env,\n",
    "    modules,\n",
    "    server,\n",
    "    transformer,\n",
    "    worker,\n",
    ")"
   ]
  },
  {
   "cell_type": "markdown",
   "id": "abadb340",
   "metadata": {},
   "source": [
    "https://github.com/aws/sagemaker-containers/blob/master/src/sagemaker_containers/beta/framework/__init__.py\n",
    "\n",
    "sagemaker_containers.beta.frameworkはアーカイブされている。\n",
    "\n",
    "現在はこちら。initをみると\n",
    "\n",
    "https://github.com/aws/sagemaker-containers/blob/master/src/sagemaker_containers/_modules.py\n",
    "\n",
    "\n",
    "\n",
    "L258で、imortしている。\n",
    "\n",
    "module = importlib.import_module(name)"
   ]
  },
  {
   "cell_type": "markdown",
   "id": "61ab2e7d",
   "metadata": {},
   "source": [
    "def import_module(uri, name=DEFAULT_MODULE_NAME, cache=None):  # type: (str, str, bool) -> module\n",
    "\n",
    "とあるように、DEFAULT_MODULE_NAMEが読み込まれる\n",
    "\n",
    "\n"
   ]
  },
  {
   "cell_type": "code",
   "execution_count": null,
   "id": "a5007d4b",
   "metadata": {},
   "outputs": [],
   "source": []
  },
  {
   "cell_type": "markdown",
   "id": "6a76abdc",
   "metadata": {},
   "source": [
    "\n",
    "https://github.com/aws/sagemaker-xgboost-container/blob/master/src/sagemaker_xgboost_container/serving.py\n",
    "\n",
    "L148,149: L147で読み込んだユーザーモジュールに上書きする\n",
    "\n",
    "user_module_transformer = _user_module_transformer(user_module)  \n",
    "user_module_transformer.initialize()  \n",
    "\n",
    "\n",
    "L116にあるように、model_fnなどのユーザー関数に上書きされる。\n",
    "\n",
    "\n",
    "def _user_module_transformer(user_module):  \n",
    "    model_fn = getattr(user_module, \"model_fn\", default_model_fn)  \n",
    "    input_fn = getattr(user_module, \"input_fn\", None)  \n",
    "    predict_fn = getattr(user_module, \"predict_fn\", None)  \n",
    "    output_fn = getattr(user_module, \"output_fn\", None)  \n",
    "    transform_fn = getattr(user_module, \"transform_fn\", None)  "
   ]
  },
  {
   "cell_type": "markdown",
   "id": "3b1e3993",
   "metadata": {},
   "source": [
    "## model_fnを定義したファイルが、importされているか？\n",
    "\n",
    "いま、そもそも環境変数に正しく情報渡せていない気がする。\n",
    "\n",
    "\n",
    "https://github.com/aws/sagemaker-containers/blob/master/src/sagemaker_containers/_modules.py\n",
    "\n",
    "L237より、\n",
    "\n",
    "def import_module(uri, name=DEFAULT_MODULE_NAME, cache=None):  # type: (str, str, bool) -> module\n",
    "\n",
    "第二引数に指定する必要がある。\n",
    "\n",
    "これを呼ぶのは、\n",
    "\n",
    "\n",
    "https://github.com/aws/sagemaker-xgboost-container/blob/master/src/sagemaker_xgboost_container/serving.py\n",
    "\n",
    "L147\n",
    "\n",
    "user_module = modules.import_module(serving_env.module_dir, serving_env.module_name)\n",
    "\n",
    "serving_env.module_name である。指定できているのか？\n",
    "\n",
    "\n",
    "L143より\n",
    "\n",
    "serving_env = env.ServingEnv()\n",
    "\n",
    "これは、以下のファイル。\n",
    "\n",
    "https://github.com/aws/sagemaker-containers/blob/master/src/sagemaker_containers/_env.py\n",
    "\n",
    "L862\n",
    "\n",
    "class ServingEnv(_Env):\n",
    "\n"
   ]
  },
  {
   "cell_type": "markdown",
   "id": "0218aca8",
   "metadata": {},
   "source": [
    "https://github.com/aws/sagemaker-containers/blob/master/src/sagemaker_containers/_env.py\n",
    "\n",
    "L329には、\n",
    "\n",
    "class _Env(_mapping.MappingMixin):\n",
    "\n",
    "\n",
    "module_name = os.environ.get(_params.USER_PROGRAM_ENV, None)\n",
    "\n",
    "とある。\n",
    "\n",
    "\n",
    "L595\n",
    "\n",
    "TrainingEnvには、\n",
    "\n",
    "        # override base class attributes  \n",
    "        if self._module_name is None:  \n",
    "            self._module_name = str(sagemaker_hyperparameters.get(_params.USER_PROGRAM_PARAM, None))  \n",
    "        self._user_entry_point = self._user_entry_point or sagemaker_hyperparameters.get(  \n",
    "            _params.USER_PROGRAM_PARAM  \n",
    "        )  \n",
    "        \n",
    "        \n",
    "        "
   ]
  },
  {
   "cell_type": "markdown",
   "id": "c2bec388",
   "metadata": {},
   "source": [
    "## USER_PROGRAM_ENVに設定できればいい？\n",
    "\n",
    "\n",
    "https://github.com/aws/sagemaker-inference-toolkit/blob/master/src/sagemaker_inference/parameters.py\n",
    "\n",
    "\n",
    "L18\n",
    "\n",
    "USER_PROGRAM_ENV = \"SAGEMAKER_PROGRAM\"  # type: str\n",
    "\n",
    "SAGEMAKER_PROGRAMに設定できればいいようだ。\n",
    "\n",
    "ビルトインコンテナにはどうすれば設定できるのだろうか？？\n",
    "\n",
    "以下のYouTubeだと、boto3でEnvironment引数を使っている。\n",
    "\n",
    "https://youtu.be/sngNd79GpmE?t=780"
   ]
  },
  {
   "cell_type": "code",
   "execution_count": null,
   "id": "c49410cf",
   "metadata": {},
   "outputs": [],
   "source": []
  },
  {
   "cell_type": "markdown",
   "id": "5338757f",
   "metadata": {},
   "source": [
    "# デバッグのために、dockerイメージをプルして、中をみてみる。\n",
    "\n",
    "ビルトインコンテナの中身をみるには、どうすればいいのか？\n",
    "\n",
    "XGBoostの場合は、ローカルでbuildしていくようだ。\n",
    "\n",
    "https://github.com/aws/sagemaker-xgboost-container"
   ]
  },
  {
   "cell_type": "markdown",
   "id": "68ced0f9",
   "metadata": {},
   "source": [
    "# コンテナの中に入って確認する方法\n",
    "コンソールを立ち上げて、以下の流れで実行する\n",
    "\n",
    "\n",
    "ディレクトリ移動\n",
    " $ cd sagemaker-xgboost-container/\n",
    " \n",
    "baseコンテナをビルド\n",
    " $ docker build -t xgboost-container-base:1.5-1-cpu-py3 -f docker/1.5-1/base/Dockerfile.cpu .\n",
    "\n",
    "finalコンテナをビルド\n",
    " $ docker build -t preprod-xgboost-container:1.5-1-cpu-py3 -f docker/1.5-1/final/Dockerfile.cpu .\n",
    "\n",
    "構築されたイメージを確認\n",
    "$ docker image ls\n",
    "\n",
    "中に入って確認（コンテナのタグもつけて指定すること）\n",
    "$ docker run -it preprod-xgboost-container:1.5-1-cpu-py3 /bin/bash\n",
    "\n",
    "$ docker run -it 354813040037.dkr.ecr.ap-northeast-1.amazonaws.com/sagemaker-xgboost:1.5-1 /bin/bash  \n",
    "\n",
    "   "
   ]
  },
  {
   "cell_type": "markdown",
   "id": "d4d37f6b",
   "metadata": {},
   "source": [
    "# コンテナの中に入り、 command serveを実行してみる"
   ]
  },
  {
   "cell_type": "markdown",
   "id": "0966350d",
   "metadata": {},
   "source": [
    "# モデル利用ならうまくいくのではないか？-> OK\n",
    "\n",
    "\n",
    "YouTubeのリンク先ソースより\n",
    "\n",
    "https://github.com/aws-samples/aws-ml-jp/blob/main/sagemaker/sagemaker-inference/inference-tutorial/1_sklearn.ipynb\n",
    "\n"
   ]
  },
  {
   "cell_type": "markdown",
   "id": "33f9da93",
   "metadata": {},
   "source": [
    "https://sagemaker.readthedocs.io/en/stable/api/inference/model.html#sagemaker.model.Model"
   ]
  },
  {
   "cell_type": "markdown",
   "id": "8bec0910",
   "metadata": {},
   "source": [
    "デプロイ\n",
    "\n",
    "https://sagemaker.readthedocs.io/en/stable/api/inference/model.html#sagemaker.model.Model.deploy"
   ]
  },
  {
   "cell_type": "markdown",
   "id": "66f373b0",
   "metadata": {},
   "source": [
    "ValueError: Estimator is not associated with a training job"
   ]
  },
  {
   "cell_type": "markdown",
   "id": "db7ac528",
   "metadata": {},
   "source": [
    "# エラー　trainingjobとの紐付け\n",
    "\n",
    "https://stackoverflow.com/questions/63340328/how-to-define-a-sagemaker-estimator-object-using-a-pre-trained-model-and-then-de"
   ]
  },
  {
   "cell_type": "markdown",
   "id": "e5ee1fcd",
   "metadata": {},
   "source": [
    "# END of Containts ==============="
   ]
  },
  {
   "cell_type": "markdown",
   "id": "98ce507b",
   "metadata": {},
   "source": [
    "# 5.後片付け\n",
    "予期せぬ課金を防ぐために、以下のリソースを削除します。\n",
    "\n",
    "* SageMaker 推論エンドポイント\n",
    "* ECR\n",
    "* S3\n",
    "* SageMakerノートブックインスタンス"
   ]
  },
  {
   "cell_type": "markdown",
   "id": "2db3b7d9",
   "metadata": {},
   "source": [
    "# 参考\n",
    "* SageMaker のtrainingジョブを理解する\n",
    "    * https://github.com/aws-samples/aws-ml-jp/tree/main/sagemaker/sagemaker-traning/tutorial\n",
    "* SageMaker-Pytorth training Toolkit\n",
    "    * https://github.com/aws/sagemaker-pytorch-training-toolkit/\n",
    "* SageMaker-Pytorch Inference Toolkit\n",
    "    * https://github.com/aws/sagemaker-pytorch-inference-toolkit\n",
    "* SageMaker Inference Toolkit\n",
    "    * https://docs.aws.amazon.com/sagemaker/latest/dg/amazon-sagemaker-toolkits.html\n",
    "    * https://github.com/aws/sagemaker-inference-toolkit"
   ]
  }
 ],
 "metadata": {
  "kernelspec": {
   "display_name": "conda_python3",
   "language": "python",
   "name": "conda_python3"
  },
  "language_info": {
   "codemirror_mode": {
    "name": "ipython",
    "version": 3
   },
   "file_extension": ".py",
   "mimetype": "text/x-python",
   "name": "python",
   "nbconvert_exporter": "python",
   "pygments_lexer": "ipython3",
   "version": "3.8.12"
  }
 },
 "nbformat": 4,
 "nbformat_minor": 5
}
