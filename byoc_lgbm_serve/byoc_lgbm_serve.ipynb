{
 "cells": [
  {
   "cell_type": "markdown",
   "id": "7aabda4d",
   "metadata": {},
   "source": [
    "# LightGBMの推論用カスタムコンテナを構築し、SageMakerによる推論の仕組みを深く理解する"
   ]
  },
  {
   "cell_type": "markdown",
   "id": "3372565d",
   "metadata": {},
   "source": [
    "## アジェンダ\n",
    "* パターン4のカスタムコンテナを作成\n",
    "    * 学習編で実施済み\n",
    "* パターン2のカスタムコンテナを作成：コンテナファイルを外部から指定する\n",
    "    * Inference-Toolkitと、MMSをインストールしたコンテナを作成\n",
    "* XGBoostビルトインコンテナで、LightBGMの推論を実施する\n",
    "    * requirements.txtを用意する\n",
    "    * inference.pyをお作用に従って作る"
   ]
  },
  {
   "cell_type": "markdown",
   "id": "5ae0304e",
   "metadata": {},
   "source": [
    "# Lab : LightGBMのカスタムコンテナを通して、SageMakerの動作を理解する\n",
    "\n",
    "LightGBMがインストールされたカスタムコンテナを構築し、SageMaker Trainingジョブで学習を行います。\n",
    "カスタムコンテナの挙動を観察し、SageMakerの動作について理解を深めます。\n",
    "\n",
    "ノートブックは20分程度で実行できます。"
   ]
  },
  {
   "cell_type": "markdown",
   "id": "28563fcc",
   "metadata": {},
   "source": [
    "# 0.実行環境確認\n",
    "本ノートブックは、SageMakerノートブックインスタンス上で動作確認しています。\n",
    "* インスタンスタイプ：ml.t3.medium\n",
    "* カーネル：conda_python3"
   ]
  },
  {
   "cell_type": "markdown",
   "id": "f43e796c",
   "metadata": {},
   "source": [
    "## 0-1.pythonバージョン確認"
   ]
  },
  {
   "cell_type": "code",
   "execution_count": null,
   "id": "60b03ace",
   "metadata": {},
   "outputs": [],
   "source": [
    "#Pythonのバージョン情報\n",
    "import sys\n",
    "sys.version # 3.8.12"
   ]
  },
  {
   "cell_type": "code",
   "execution_count": null,
   "id": "2e4aedbd",
   "metadata": {},
   "outputs": [],
   "source": [
    "# Pythonのバージョン確認 (システムコマンド使用）\n",
    "!python -V # 3.8.12"
   ]
  },
  {
   "cell_type": "markdown",
   "id": "7955591f",
   "metadata": {},
   "source": [
    "## 0-2.SageMakerSDKバージョン確認\n",
    "\n",
    "Amazon SageMaker Python SDKは、Amazon SageMaker上で機械学習されたモデルをトレーニングおよびデプロイするためのオープンソースライブラリです。\n",
    "\n",
    "このSDKを使用すると、一般的な深層学習フレームワーク、Amazonが提供するアルゴリズム、またはSageMaker互換のDockerイメージに組み込まれた独自のアルゴリズムを使ってモデルをトレーニングおよびデプロイすることができます。\n",
    "\n",
    "* ドキュメント : https://sagemaker.readthedocs.io/en/stable/\n",
    "* GitHub : https://github.com/aws/sagemaker-python-sdk"
   ]
  },
  {
   "cell_type": "markdown",
   "id": "58120e3f",
   "metadata": {},
   "source": [
    "SageMakerSDK をインポートすると、バケットが作成されます。  \n",
    "sagemaker-＜region＞-＜account＞"
   ]
  },
  {
   "cell_type": "code",
   "execution_count": null,
   "id": "d9b93674",
   "metadata": {},
   "outputs": [],
   "source": [
    "# SageMakerSDK のバージョン確認\n",
    "import sagemaker\n",
    "print('Current SageMaker Python SDK Version ={0}'.format(sagemaker.__version__)) # 2.110.0"
   ]
  },
  {
   "cell_type": "markdown",
   "id": "1c9c9bc7",
   "metadata": {},
   "source": [
    "# 1.データ準備\n",
    "\n",
    "学習、推論で利用するデータを準備します。\n",
    "\n",
    "scikit-learn付属の、ボストン住宅価格データセットを利用します。(注：バージョン1.2から除外されます）  \n",
    "https://scikit-learn.org/stable/modules/generated/sklearn.datasets.load_boston.html\n",
    "\n",
    "以下のスクリプトを参考にしています。\n",
    "\n",
    "https://github.com/aws-samples/amazon-sagemaker-local-mode/blob/main/lightgbm_bring_your_own_container_local_training_and_serving/lightgbm_bring_your_own_container_local_training_and_serving.py"
   ]
  },
  {
   "cell_type": "code",
   "execution_count": null,
   "id": "59fc7fd4",
   "metadata": {},
   "outputs": [],
   "source": [
    "import sklearn\n",
    "sklearn.__version__ # 1.0.1"
   ]
  },
  {
   "cell_type": "code",
   "execution_count": null,
   "id": "7a54e5b6",
   "metadata": {},
   "outputs": [],
   "source": [
    "import pandas as pd\n",
    "pd.__version__ # 1.3.4"
   ]
  },
  {
   "cell_type": "markdown",
   "id": "93c50a04",
   "metadata": {},
   "source": [
    "## 1-1. データロード"
   ]
  },
  {
   "cell_type": "code",
   "execution_count": null,
   "id": "80022c5b",
   "metadata": {},
   "outputs": [],
   "source": [
    "from sklearn.datasets import load_boston\n",
    "from sklearn.model_selection import train_test_split"
   ]
  },
  {
   "cell_type": "code",
   "execution_count": null,
   "id": "7b1c50d5",
   "metadata": {},
   "outputs": [],
   "source": [
    "data = load_boston() # 1.2でデータセットがなくすという警告が出ますが動作に影響ありません"
   ]
  },
  {
   "cell_type": "markdown",
   "id": "93851feb",
   "metadata": {},
   "source": [
    "## 1-2. 特徴量生成（Feature Engineering）\n",
    "本ノートブックでは実施しません。そのままデータを利用します。"
   ]
  },
  {
   "cell_type": "markdown",
   "id": "8355fb4b",
   "metadata": {},
   "source": [
    "## 1-3. データ分割\n",
    "学習用（train）、評価用（validation）、テスト用（test）にデータを分割します。  \n",
    "train:val:test = 3(60%):1(20%):1(20%)に分割します。  "
   ]
  },
  {
   "cell_type": "code",
   "execution_count": null,
   "id": "c71f7256",
   "metadata": {},
   "outputs": [],
   "source": [
    "X_train, X_test, y_train, y_test = train_test_split(data.data, data.target, test_size=0.2, random_state=45)\n",
    "X_train, X_val, y_train, y_val = train_test_split(X_train, y_train, test_size=0.25, random_state=45)\n",
    "\n",
    "trainX = pd.DataFrame(X_train, columns=data.feature_names)\n",
    "trainX['target'] = y_train\n",
    "\n",
    "valX = pd.DataFrame(X_val, columns=data.feature_names)\n",
    "valX['target'] = y_val\n",
    "\n",
    "testX = pd.DataFrame(X_test, columns=data.feature_names)"
   ]
  },
  {
   "cell_type": "code",
   "execution_count": null,
   "id": "b6da67f7",
   "metadata": {},
   "outputs": [],
   "source": [
    "# 確認\n",
    "trainX.head()"
   ]
  },
  {
   "cell_type": "code",
   "execution_count": null,
   "id": "7ca0ed67",
   "metadata": {},
   "outputs": [],
   "source": [
    "# 確認\n",
    "valX.head()"
   ]
  },
  {
   "cell_type": "code",
   "execution_count": null,
   "id": "fad646b7",
   "metadata": {},
   "outputs": [],
   "source": [
    "# 確認\n",
    "testX.head()"
   ]
  },
  {
   "cell_type": "code",
   "execution_count": null,
   "id": "2d8bd38b",
   "metadata": {},
   "outputs": [],
   "source": [
    "# 確認\n",
    "y_test[0:5]"
   ]
  },
  {
   "cell_type": "markdown",
   "id": "71d9a23a",
   "metadata": {},
   "source": [
    "## 1-4.データ保存\n",
    "ローカル、S3それぞれにデータを保存します。"
   ]
  },
  {
   "cell_type": "markdown",
   "id": "03a1a0f4",
   "metadata": {},
   "source": [
    "### 1-4-1.ローカルへ保存"
   ]
  },
  {
   "cell_type": "code",
   "execution_count": null,
   "id": "7b266ee9",
   "metadata": {},
   "outputs": [],
   "source": [
    "# ディレクトリ作成\n",
    "from pathlib import Path\n",
    "\n",
    "Path('./data/train').mkdir(parents=True, exist_ok=True)\n",
    "Path('./data/valid').mkdir(parents=True, exist_ok=True)\n",
    "Path('./data/test').mkdir(parents=True, exist_ok=True)"
   ]
  },
  {
   "cell_type": "code",
   "execution_count": null,
   "id": "661c2a92",
   "metadata": {},
   "outputs": [],
   "source": [
    "# ローカルへ保存\n",
    "local_train = './data/train/boston_train.csv'\n",
    "local_valid = './data/valid/boston_valid.csv'\n",
    "local_test = './data/test/boston_test.csv'\n",
    "\n",
    "trainX.to_csv(local_train, header=None, index=False)\n",
    "valX.to_csv(local_valid, header=None, index=False)\n",
    "testX.to_csv(local_test, header=None, index=False)"
   ]
  },
  {
   "cell_type": "markdown",
   "id": "e2a14067",
   "metadata": {},
   "source": [
    "### 1-4-2.S3へ保存\n",
    "\n",
    "一意のバケット作成のために、sgemaker.Session().default_bucket()を利用します。\n",
    "\n",
    "https://sagemaker.readthedocs.io/en/stable/api/utility/session.html#sagemaker.session.Session\n",
    "\n",
    "sagemaker-＜region＞-＜accoutid＞　を取得することができます。"
   ]
  },
  {
   "cell_type": "code",
   "execution_count": null,
   "id": "1be29e78",
   "metadata": {},
   "outputs": [],
   "source": [
    "bucket_name = sagemaker.Session().default_bucket()\n",
    "region_name = sagemaker.Session().boto_region_name\n",
    "account_id =  sagemaker.Session().account_id()"
   ]
  },
  {
   "cell_type": "code",
   "execution_count": null,
   "id": "047eec3b",
   "metadata": {},
   "outputs": [],
   "source": [
    "# 確認\n",
    "print(bucket_name)\n",
    "print(region_name)\n",
    "print(account_id)"
   ]
  },
  {
   "cell_type": "code",
   "execution_count": null,
   "id": "baa78f49",
   "metadata": {},
   "outputs": [],
   "source": [
    "# バケット作成(SageMakerSDKのインポート時作成されています。他のバケット作成時に利用ください)\n",
    "#import boto3\n",
    "\n",
    "#s3_resource = boto3.resource('s3')\n",
    "#s3_resource.create_bucket(Bucket=bucket_name, CreateBucketConfiguration={'LocationConstraint': region_name})"
   ]
  },
  {
   "cell_type": "code",
   "execution_count": null,
   "id": "7974a4c9",
   "metadata": {},
   "outputs": [],
   "source": [
    "# S3へ保存\n",
    "train_s3 = sagemaker.s3.S3Uploader.upload('./data/train/boston_train.csv', f's3://{bucket_name}/demo_lightgbm/train')\n",
    "valid_s3 = sagemaker.s3.S3Uploader.upload('./data/valid/boston_valid.csv', f's3://{bucket_name}/demo_lightgbm/valid')"
   ]
  },
  {
   "cell_type": "markdown",
   "id": "e4fc1207",
   "metadata": {},
   "source": [
    "# 2.LightGBMカスタムコンテナの構築\n",
    "\n",
    "\n",
    "カスタムコンテナの作成には大きく分けて3つのパターンがあります。詳細は以下のブログを参考ください。\n",
    "\n",
    "https://aws.amazon.com/jp/blogs/news/sagemaker-custom-containers-pattern-training/\n",
    "\n",
    "SageMakerの動作を理解するためにパターン3のベースイメージ + カスタムレイヤー方式を採用します。"
   ]
  },
  {
   "cell_type": "markdown",
   "id": "7af10b7c",
   "metadata": {},
   "source": [
    "## 2-1. Dockerfileの確認\n",
    "\n",
    "資材はこちらのノートブックを参考に準備しています。\n",
    "\n",
    "https://github.com/aws-samples/amazon-sagemaker-local-mode/tree/main/lightgbm_bring_your_own_container_local_training_and_serving/container"
   ]
  },
  {
   "cell_type": "code",
   "execution_count": null,
   "id": "53f53f2b",
   "metadata": {},
   "outputs": [],
   "source": [
    "!pygmentize ./container/Dockerfile"
   ]
  },
  {
   "cell_type": "markdown",
   "id": "88ac01f7",
   "metadata": {},
   "source": [
    "SageMakerのモデルデプロイは、SageMaker SDKでは、deploy()で実行します。\n",
    "\n",
    "その際に、SageMakerは\n",
    "\n",
    "docker run < image > server\n",
    "\n",
    "を実行します。\n",
    "\n",
    "この場合、以下の serve スクリプトが実行されます。"
   ]
  },
  {
   "cell_type": "code",
   "execution_count": null,
   "id": "b7040735",
   "metadata": {},
   "outputs": [],
   "source": [
    "!pygmentize -l py ./container/lightgbm_regression/serve"
   ]
  },
  {
   "cell_type": "markdown",
   "id": "903d20ea",
   "metadata": {},
   "source": [
    "mainからstart_server()を実行します。\n",
    "\n",
    "start_server()では、\n",
    "* nginxの起動（webサーバの役割）\n",
    "* gunicornの起動（application サーバの役割）\n",
    "    * gunicornの起動コマンド引数に'wsgi:app'とあるように、wsgiモジュールwsgi.pyの、appアプリケーションを読み込みます。\n",
    "\n",
    "が行われます。\n",
    "nginxの起動の際に、nginx.confが読み込まれます。"
   ]
  },
  {
   "cell_type": "code",
   "execution_count": null,
   "id": "95d4fbb1",
   "metadata": {},
   "outputs": [],
   "source": [
    "!pygmentize ./container/lightgbm_regression/nginx.conf"
   ]
  },
  {
   "cell_type": "markdown",
   "id": "10ce05ca",
   "metadata": {},
   "source": [
    "gunicornへのアプリケーションのキック様に使われるファイル。\n",
    "\n",
    "gunicornの起動コマンド引数に'wsgi:app'とあるように、wsgiモジュールwsgi.pyの、appアプリケーションを読み込みます。"
   ]
  },
  {
   "cell_type": "code",
   "execution_count": null,
   "id": "fcef0cb9",
   "metadata": {},
   "outputs": [],
   "source": [
    "!pygmentize ./container/lightgbm_regression/wsgi.py"
   ]
  },
  {
   "cell_type": "markdown",
   "id": "77477917",
   "metadata": {},
   "source": [
    "predictor.pyの、appを読み込みます。"
   ]
  },
  {
   "cell_type": "code",
   "execution_count": null,
   "id": "5e5d2030",
   "metadata": {},
   "outputs": [],
   "source": [
    "!pygmentize ./container/lightgbm_regression/predictor.py"
   ]
  },
  {
   "cell_type": "markdown",
   "id": "a0cb0ea6",
   "metadata": {},
   "source": [
    "Flaskアプリケーションを構成していることがわかりました。では、これらをビルドしていきましょう。"
   ]
  },
  {
   "cell_type": "markdown",
   "id": "33c43677",
   "metadata": {},
   "source": [
    "## 2-2. dockerイメージの build & push\n",
    "\n",
    "ビルド&pushには7分ほどかかります。"
   ]
  },
  {
   "cell_type": "code",
   "execution_count": null,
   "id": "bdfe851a",
   "metadata": {},
   "outputs": [],
   "source": [
    "%%sh\n",
    "\n",
    "# The name of our algorithm\n",
    "algorithm_name=sagemaker-lightgbm-regression\n",
    "\n",
    "cd container\n",
    "\n",
    "chmod +x lightgbm_regression/train\n",
    "chmod +x lightgbm_regression/serve\n",
    "\n",
    "account=$(aws sts get-caller-identity --query Account --output text)\n",
    "\n",
    "# Get the region defined in the current configuration (default to ap-northeast-1 if none defined)\n",
    "region=$(aws configure get region)\n",
    "region=${region:-ap-northeast-1}\n",
    "\n",
    "fullname=\"${account}.dkr.ecr.${region}.amazonaws.com/${algorithm_name}:latest\"\n",
    "\n",
    "# If the repository doesn't exist in ECR, create it.\n",
    "aws ecr describe-repositories --repository-names \"${algorithm_name}\" > /dev/null 2>&1\n",
    "\n",
    "if [ $? -ne 0 ]\n",
    "then\n",
    "    aws ecr create-repository --repository-name \"${algorithm_name}\" > /dev/null\n",
    "fi\n",
    "\n",
    "# Get the login command from ECR and execute it directly\n",
    "aws ecr get-login-password --region ${region}|docker login --username AWS --password-stdin ${fullname}\n",
    "\n",
    "# Build the docker image locally with the image name and then push it to ECR\n",
    "# with the full name.\n",
    "\n",
    "docker build -t ${algorithm_name} .\n",
    "docker tag ${algorithm_name} ${fullname}\n",
    "\n",
    "docker push ${fullname}"
   ]
  },
  {
   "cell_type": "markdown",
   "id": "9765f0fd",
   "metadata": {},
   "source": [
    "## 2-3. 学習前設定\n",
    "ECRでpushしたコンテナのURIを確認\n",
    "\n",
    "AWSコンソールでECRに移動し、作成したコンテナがあることを確認します。\n",
    "\n",
    "image URIを取得し、以下にはりつけます。"
   ]
  },
  {
   "cell_type": "code",
   "execution_count": null,
   "id": "e4151582",
   "metadata": {},
   "outputs": [],
   "source": [
    "# 確認\n",
    "print(bucket_name)\n",
    "print(region_name)\n",
    "print(account_id)"
   ]
  },
  {
   "cell_type": "code",
   "execution_count": null,
   "id": "711b0868",
   "metadata": {},
   "outputs": [],
   "source": [
    "image_uri = f'{account_id}.dkr.ecr.{region_name}.amazonaws.com/sagemaker-lightgbm-regression'"
   ]
  },
  {
   "cell_type": "code",
   "execution_count": null,
   "id": "4182a4e6",
   "metadata": {},
   "outputs": [],
   "source": [
    "# 確認\n",
    "image_uri"
   ]
  },
  {
   "cell_type": "code",
   "execution_count": null,
   "id": "905d0ef1",
   "metadata": {},
   "outputs": [],
   "source": [
    "hyperparameters={'boosting_type': 'gbdt',\n",
    "            'objective': 'regression',\n",
    "            'num_leaves': 31,\n",
    "            'learning_rate': 0.05,\n",
    "            'feature_fraction': 0.9,\n",
    "            'bagging_fraction': 0.8,\n",
    "            'bagging_freq': 5,\n",
    "            'verbose': 0}"
   ]
  },
  {
   "cell_type": "markdown",
   "id": "44011a5f",
   "metadata": {},
   "source": [
    "## 2-4.ローカル学習の実行\n",
    "ECRからビルドしたイメージを持ってきて、ローカルのdockerでビルドして、実行する"
   ]
  },
  {
   "cell_type": "code",
   "execution_count": null,
   "id": "76f54769",
   "metadata": {},
   "outputs": [],
   "source": [
    "# ローカルファイルのパスを設定（S3パス指定も可）\n",
    "train_location = 'file://'+local_train\n",
    "valid_location = 'file://'+local_valid\n",
    "\n",
    "print(train_location)\n",
    "print(valid_location)"
   ]
  },
  {
   "cell_type": "code",
   "execution_count": null,
   "id": "0f4f0ed0",
   "metadata": {},
   "outputs": [],
   "source": [
    "from sagemaker.estimator import Estimator"
   ]
  },
  {
   "cell_type": "code",
   "execution_count": null,
   "id": "993b818c",
   "metadata": {},
   "outputs": [],
   "source": [
    "from sagemaker import get_execution_role\n",
    "\n",
    "role = get_execution_role()"
   ]
  },
  {
   "cell_type": "code",
   "execution_count": null,
   "id": "ae057b89",
   "metadata": {},
   "outputs": [],
   "source": [
    "# 確認\n",
    "role"
   ]
  },
  {
   "cell_type": "markdown",
   "id": "904c29c2",
   "metadata": {},
   "source": [
    "SageMakerのEstimatorを作成します。\n",
    "\n",
    "https://sagemaker.readthedocs.io/en/stable/api/training/estimators.html"
   ]
  },
  {
   "cell_type": "code",
   "execution_count": null,
   "id": "63f9a6d3",
   "metadata": {},
   "outputs": [],
   "source": [
    "local_lightgbm = Estimator(\n",
    "    image_uri,\n",
    "    role,\n",
    "    instance_count=1,\n",
    "    instance_type=\"local\",\n",
    "    hyperparameters=hyperparameters\n",
    "    )"
   ]
  },
  {
   "cell_type": "markdown",
   "id": "5176ddd6",
   "metadata": {},
   "source": [
    "fitメソッドで学習ジョブを発行します\n",
    "\n",
    "https://sagemaker.readthedocs.io/en/stable/api/training/estimators.html#sagemaker.estimator.EstimatorBase.fit"
   ]
  },
  {
   "cell_type": "code",
   "execution_count": null,
   "id": "405ce7bd",
   "metadata": {},
   "outputs": [],
   "source": [
    "local_lightgbm.fit({'train':train_location, 'validation': valid_location})"
   ]
  },
  {
   "cell_type": "markdown",
   "id": "3c5c485f",
   "metadata": {},
   "source": [
    "ローカルモードの学習結果は\n",
    "\n",
    "Amazon S3\n",
    "Buckets\n",
    "sagemaker-us-west-2-805433377179\n",
    "sagemaker-lightgbm-regression-2022-10-03-06-17-32-054/\n",
    "\n",
    "に出力されます。\n"
   ]
  },
  {
   "cell_type": "markdown",
   "id": "bf0db237",
   "metadata": {},
   "source": [
    "## 2-5.ローカルデプロイ\n",
    "\n",
    "serializer : インプットデータの形式を指定します。\n",
    "https://sagemaker.readthedocs.io/en/stable/v2.html"
   ]
  },
  {
   "cell_type": "code",
   "execution_count": null,
   "id": "c25d0809",
   "metadata": {},
   "outputs": [],
   "source": [
    "local_predictor = local_lightgbm.deploy(1, 'local', serializer=sagemaker.serializers.CSVSerializer()) "
   ]
  },
  {
   "cell_type": "code",
   "execution_count": null,
   "id": "597842be",
   "metadata": {},
   "outputs": [],
   "source": [
    "!docker ps"
   ]
  },
  {
   "cell_type": "code",
   "execution_count": null,
   "id": "6e0d3a7b",
   "metadata": {},
   "outputs": [],
   "source": [
    "# 起動中のコンテナを停止する場合\n",
    "#!docker stop XXXXXXXXXXX #XXXXXXXXXXXは CONtAINER ID\n",
    "#!docker ps"
   ]
  },
  {
   "cell_type": "markdown",
   "id": "6f771bad",
   "metadata": {},
   "source": [
    "## 2-6.ローカルエンドポイントで推論実施"
   ]
  },
  {
   "cell_type": "code",
   "execution_count": null,
   "id": "74dd4aa5",
   "metadata": {},
   "outputs": [],
   "source": [
    "# 推論実行\n",
    "with open(local_test, 'r') as f:\n",
    "    payload = f.read().strip()\n",
    "\n",
    "predicted = local_predictor.predict(payload).decode('utf-8')\n",
    "print('=' * 20)\n",
    "print(predicted)"
   ]
  },
  {
   "cell_type": "markdown",
   "id": "aefae5fd",
   "metadata": {},
   "source": [
    "## 2-7.学習ジョブを発行\n",
    "次は、ローカルモードではなく、\n",
    "同じカスタムコンテナで、学習ジョブを実行します。"
   ]
  },
  {
   "cell_type": "code",
   "execution_count": null,
   "id": "dc36f911",
   "metadata": {},
   "outputs": [],
   "source": [
    "# 確認\n",
    "print(train_s3)\n",
    "print(valid_s3)"
   ]
  },
  {
   "cell_type": "code",
   "execution_count": null,
   "id": "28915908",
   "metadata": {},
   "outputs": [],
   "source": [
    "est_lightgbm = Estimator(\n",
    "    image_uri,\n",
    "    role,\n",
    "    instance_count=1,\n",
    "    instance_type=\"ml.m4.2xlarge\", # インスタンスタイプを指定\n",
    "    hyperparameters=hyperparameters)"
   ]
  },
  {
   "cell_type": "code",
   "execution_count": null,
   "id": "2ae5d37c",
   "metadata": {},
   "outputs": [],
   "source": [
    "est_lightgbm.fit({'train':train_s3, 'validation': valid_s3})"
   ]
  },
  {
   "cell_type": "markdown",
   "id": "8a793fe7",
   "metadata": {},
   "source": [
    "学習には3分ほど時間がかかります。\n",
    "\n",
    "課金されるのは75秒ほどです。"
   ]
  },
  {
   "cell_type": "markdown",
   "id": "94f76694",
   "metadata": {},
   "source": [
    "## 2-8.エンドポイントにデプロイ\n",
    "\n",
    "デプロイすると、\n",
    "SageMaker は docker run <image> serveを実行します。\n",
    "\n",
    "    \n",
    "デプロイには3分ほどかかります。"
   ]
  },
  {
   "cell_type": "code",
   "execution_count": null,
   "id": "3c5fbcee",
   "metadata": {},
   "outputs": [],
   "source": [
    "from sagemaker.predictor import csv_serializer"
   ]
  },
  {
   "cell_type": "markdown",
   "id": "3cc1a8be",
   "metadata": {},
   "source": [
    "deployメソッドで、推論エンドポイントをデプロイします。\n",
    "\n",
    "https://sagemaker.readthedocs.io/en/stable/api/training/estimators.html#sagemaker.estimator.EstimatorBase.deploy"
   ]
  },
  {
   "cell_type": "code",
   "execution_count": null,
   "id": "2eec5089",
   "metadata": {},
   "outputs": [],
   "source": [
    "predictor = est_lightgbm.deploy(1, 'ml.m4.xlarge', serializer=csv_serializer, wait=True)"
   ]
  },
  {
   "cell_type": "code",
   "execution_count": null,
   "id": "3538368a",
   "metadata": {},
   "outputs": [],
   "source": [
    "### 推論実行\n",
    "with open(local_test, 'r') as f:\n",
    "    payload = f.read().strip()\n",
    "\n",
    "predicted = predictor.predict(payload).decode('utf-8')\n",
    "print(predicted)"
   ]
  },
  {
   "cell_type": "markdown",
   "id": "e3f20cdb",
   "metadata": {},
   "source": [
    "# 3.Inference-toolkitの導入。実行ファイルを外部から指定する。Appサーバーまわりの制御はSageMakerの仕組みを用いる。\n",
    "\n",
    "自身で nginx, gunicorn, Flask の仕組みを構築することは、メンテナンスコストが発生します。\n",
    "Inference-toolkitを導入することで、すでに用意された環境を利用することができます。\n",
    "\n",
    "* Inference-Toolkitを導入する\n",
    "* ビルトインコンテナ + requirements.txt, inference.pyを利用する"
   ]
  },
  {
   "cell_type": "markdown",
   "id": "2d363cf2",
   "metadata": {},
   "source": [
    "本セクションでは、Inference-Toolkitを導入します。\n",
    "\n",
    "https://github.com/aws/sagemaker-inference-toolkit\n",
    "\n",
    "サンプルコード\n",
    "\n",
    "Complete Example\n",
    "Here is a complete example demonstrating usage of the SageMaker Inference Toolkit in your own container for deployment to a multi-model endpoint.\n",
    "\n",
    "https://github.com/aws/amazon-sagemaker-examples/tree/main/advanced_functionality/multi_model_bring_your_own"
   ]
  },
  {
   "cell_type": "code",
   "execution_count": null,
   "id": "5c9e85b0",
   "metadata": {},
   "outputs": [],
   "source": [
    "!pygmentize ./container_sminftoolkit/Dockerfile"
   ]
  },
  {
   "cell_type": "markdown",
   "id": "6c24f5d1",
   "metadata": {},
   "source": [
    "これは、以下に該当する。\n",
    "\n",
    "3.Implement a serving entrypoint, which starts the model server.\n",
    "\n",
    "\n",
    "https://github.com/aws/sagemaker-inference-toolkit/blob/master/src/sagemaker_inference/model_server.py\n",
    "\n",
    "start_model_server()は、引数指定しない場合、\n",
    "\n",
    "DEFAULT_HANDLER_SERVICE = default_handler_service.__name__\n",
    "\n",
    "を指定。これは、inference-toolkitのハンドラサービスである。\n",
    "\n",
    "https://github.com/aws/sagemaker-inference-toolkit/blob/master/src/sagemaker_inference/default_handler_service.py\n",
    "\n",
    "\n",
    "\n",
    "ハンドラサービスが、Transformer()を作り、そのなかで、推論ハンドラが作られている。\n",
    "\n",
    "DefaultHandlerService -> Transformer -> DefaultInferenceHandler\n",
    "\n",
    "https://github.com/aws/sagemaker-inference-toolkit/blob/3774c1a0fb4408cfa95333b75d6e30a376bffa52/src/sagemaker_inference/transformer.py\n"
   ]
  },
  {
   "cell_type": "code",
   "execution_count": null,
   "id": "2a7733b2",
   "metadata": {},
   "outputs": [],
   "source": [
    "!pygmentize ./container_sminftoolkit/dockerd-entrypoint.py"
   ]
  },
  {
   "cell_type": "markdown",
   "id": "f1e34990",
   "metadata": {},
   "source": [
    "start_model_server()は引数指定しない場合、\n",
    "inference-toolkitのTransform()が作られる。\n",
    "\n",
    "https://github.com/aws/sagemaker-inference-toolkit/blob/master/src/sagemaker_inference/model_server.py\n",
    "\n",
    "DEFAULT_HANDLER_SERVICE = default_handler_service.__name__\n",
    "\n",
    "より、\n",
    "\n",
    "https://github.com/aws/sagemaker-inference-toolkit/blob/master/src/sagemaker_inference/default_handler_service.py\n",
    "\n",
    "__init__にて、Trransformer()が実行\n",
    "\n",
    "https://github.com/aws/sagemaker-inference-toolkit/blob/master/src/sagemaker_inference/transformer.py\n",
    "\n",
    "Transform()において、inference-toolkitのDefaultInferenceHandlerが利用される。\n",
    "\n",
    "https://github.com/aws/sagemaker-inference-toolkit/blob/master/src/sagemaker_inference/default_inference_handler.py\n",
    "\n",
    "よって、このdockerd-entrypoint.pyが最小構成となる。"
   ]
  },
  {
   "cell_type": "markdown",
   "id": "2dd07e3d",
   "metadata": {},
   "source": [
    "## 解説\n",
    "ハンドラサービスと推論ハンドラがある。\n",
    "\n",
    "ハンドラサービスは、以下に該当する。\n",
    "\n",
    "2.Implement a handler service that is executed by the model server.\n",
    "\n",
    "モデルの推論ハンドラは、以下に該当する。\n",
    "\n",
    "1.Implement an inference handler, which is responsible for loading the model and providing input, predict, and output functions. \n",
    "\n",
    "\n",
    "2.のハンドラサービスから、1.の推論ハンドラがロードされる。推論ハンドラはinference-toolkitで用意したものを使ってもよい。"
   ]
  },
  {
   "cell_type": "code",
   "execution_count": null,
   "id": "b7a02a7d",
   "metadata": {},
   "outputs": [],
   "source": [
    "#!pygmentize ./container_sminftoolkit/model_handler.py ### 最小構成には不要"
   ]
  },
  {
   "cell_type": "code",
   "execution_count": null,
   "id": "698a300c",
   "metadata": {},
   "outputs": [],
   "source": [
    "%%sh\n",
    "\n",
    "# The name of our algorithm\n",
    "#algorithm_name=demo-sagemaker-multimodel\n",
    "algorithm_name=demo-sagemaker-inftoolkit\n",
    "\n",
    "#cd container\n",
    "cd container_sminftoolkit\n",
    "\n",
    "account=$(aws sts get-caller-identity --query Account --output text)\n",
    "\n",
    "# Get the region defined in the current configuration (default to us-west-2 if none defined)\n",
    "region=$(aws configure get region)\n",
    "region=${region:-us-west-2}\n",
    "\n",
    "fullname=\"${account}.dkr.ecr.${region}.amazonaws.com/${algorithm_name}:latest\"\n",
    "\n",
    "# If the repository doesn't exist in ECR, create it.\n",
    "aws ecr describe-repositories --repository-names \"${algorithm_name}\" > /dev/null 2>&1\n",
    "\n",
    "if [ $? -ne 0 ]\n",
    "then\n",
    "    aws ecr create-repository --repository-name \"${algorithm_name}\" > /dev/null\n",
    "fi\n",
    "\n",
    "# Get the login command from ECR and execute it directly\n",
    "$(aws ecr get-login --region ${region} --no-include-email)\n",
    "\n",
    "# Build the docker image locally with the image name and then push it to ECR\n",
    "# with the full name.\n",
    "\n",
    "docker build -q -t ${algorithm_name} .\n",
    "docker tag ${algorithm_name} ${fullname}\n",
    "\n",
    "docker push ${fullname}"
   ]
  },
  {
   "cell_type": "markdown",
   "id": "92a5f2d1",
   "metadata": {},
   "source": [
    "* dockerd-entrypoint.py が実行され、サーバーの起動を試みる。\n",
    "    * サーバー起動の際に必要はハンドラーは、odel-handler.pyに記載されている。\n",
    "    \n"
   ]
  },
  {
   "cell_type": "markdown",
   "id": "c35c8d4b",
   "metadata": {},
   "source": [
    "## ローカルにエンドポイントをデプロイ\n",
    "モデルは前のセクションで作成したLGBMモデル\n",
    "\n",
    "* ソースも指定する\n",
    "* LGBMはrequirements.txtでインストールする"
   ]
  },
  {
   "cell_type": "code",
   "execution_count": null,
   "id": "a537e5c8",
   "metadata": {},
   "outputs": [],
   "source": [
    "container_uri = f'{account_id}.dkr.ecr.{region_name}.amazonaws.com/demo-sagemaker-inftoolkit:latest'"
   ]
  },
  {
   "cell_type": "code",
   "execution_count": null,
   "id": "4554afa0",
   "metadata": {},
   "outputs": [],
   "source": [
    "container_uri"
   ]
  },
  {
   "cell_type": "code",
   "execution_count": null,
   "id": "da6c0cde",
   "metadata": {},
   "outputs": [],
   "source": [
    "### 2.8の学習ジョブで構築したモデルを利用する\n",
    "est_lightgbm.model_data"
   ]
  },
  {
   "cell_type": "code",
   "execution_count": null,
   "id": "a1d0f8b7",
   "metadata": {},
   "outputs": [],
   "source": [
    "!docker ps"
   ]
  },
  {
   "cell_type": "code",
   "execution_count": null,
   "id": "bbbb6233",
   "metadata": {},
   "outputs": [],
   "source": [
    "#全コンテナ停止\n",
    "!docker stop $(docker ps -q)"
   ]
  },
  {
   "cell_type": "code",
   "execution_count": null,
   "id": "ef87829d",
   "metadata": {},
   "outputs": [],
   "source": [
    "!docker ps"
   ]
  },
  {
   "cell_type": "code",
   "execution_count": null,
   "id": "b48f0716",
   "metadata": {},
   "outputs": [],
   "source": [
    "from sagemaker.predictor import RealTimePredictor\n",
    "\n",
    "lgb_model = sagemaker.model.Model(#est_xgb.image_uri, # XGBoostビルトインコンテナのURI\n",
    "                                  container_uri,\n",
    "                                  model_data=est_lightgbm.model_data, # ローカル学習で生成したモデルファイル\n",
    "                                  role=role,\n",
    "                                  predictor_cls=RealTimePredictor, # 推論するための識別子を指定\n",
    "                                  source_dir='./src_builtin_container_serve', # requirements.txt必要な場合\n",
    "                                  entry_point='inference.py' # source_dirを指定している場合、.pyファイルを指定する。\n",
    "                                  #entry_point='./src_builtin_container_serve/inference.py'\n",
    "                                 )"
   ]
  },
  {
   "cell_type": "code",
   "execution_count": null,
   "id": "e89d38a3",
   "metadata": {},
   "outputs": [],
   "source": [
    "predictor_lgb_model = lgb_model.deploy(initial_instance_count=1,\n",
    "                                       instance_type='local', \n",
    "                                       serializer=csv_serializer, ### string形式でSageMakerに渡す（認識してもらう）\n",
    "                                      )"
   ]
  },
  {
   "cell_type": "code",
   "execution_count": null,
   "id": "4bbaade8",
   "metadata": {},
   "outputs": [],
   "source": [
    "!docker ps"
   ]
  },
  {
   "cell_type": "code",
   "execution_count": null,
   "id": "fc3966c0",
   "metadata": {},
   "outputs": [],
   "source": [
    "#!docker stop f380dc891702"
   ]
  },
  {
   "cell_type": "code",
   "execution_count": null,
   "id": "53d91fbd",
   "metadata": {},
   "outputs": [],
   "source": [
    "#!docker ps"
   ]
  },
  {
   "cell_type": "markdown",
   "id": "00eef55e",
   "metadata": {},
   "source": [
    "## 推論実施"
   ]
  },
  {
   "cell_type": "code",
   "execution_count": null,
   "id": "9cfbd8f6",
   "metadata": {},
   "outputs": [],
   "source": [
    "### 推論実行\n",
    "with open(local_test, 'r') as f:\n",
    "    payload = f.read().strip()\n",
    "\n",
    "predicted = predictor_lgb_model.predict(payload).decode('utf-8')\n",
    "print('=' * 20)\n",
    "print(predicted)"
   ]
  },
  {
   "cell_type": "code",
   "execution_count": null,
   "id": "f4c2583b",
   "metadata": {},
   "outputs": [],
   "source": [
    "print(predicted)"
   ]
  },
  {
   "cell_type": "code",
   "execution_count": null,
   "id": "a83d7c5a",
   "metadata": {},
   "outputs": [],
   "source": [
    "type(predicted)"
   ]
  },
  {
   "cell_type": "markdown",
   "id": "a9cda8e6",
   "metadata": {},
   "source": [
    "## 返り値をstr以外で受け取りには\n",
    "Deserializerの説明"
   ]
  },
  {
   "cell_type": "markdown",
   "id": "79113451",
   "metadata": {},
   "source": [
    "# (optional) XGBoostコンテナで、LGBMの推論を実施する\n",
    "\n",
    "LGBMのカスタムコンテナも存在する\n",
    "< URL >\n",
    "    "
   ]
  },
  {
   "cell_type": "code",
   "execution_count": null,
   "id": "f18e01d8",
   "metadata": {},
   "outputs": [],
   "source": [
    "xgb_container_uri = sagemaker.image_uris.retrieve(\"xgboost\", region_name, \"1.5-1\")"
   ]
  },
  {
   "cell_type": "code",
   "execution_count": null,
   "id": "5c50462e",
   "metadata": {},
   "outputs": [],
   "source": [
    "xgb_container_uri"
   ]
  },
  {
   "cell_type": "code",
   "execution_count": null,
   "id": "9d4ff29d",
   "metadata": {},
   "outputs": [],
   "source": [
    "from sagemaker.predictor import RealTimePredictor\n",
    "\n",
    "lgb_model = sagemaker.model.Model(xgb_container_uri, # XGBoostビルトインコンテナのURI\n",
    "                                  model_data=est_lightgbm.model_data, # ローカル学習で生成したモデルファイル\n",
    "                                  role=role,\n",
    "                                  predictor_cls=RealTimePredictor, # 推論するための識別子を指定\n",
    "                                  source_dir='./src_builtin_container_serve', # requirements.txt必要な場合\n",
    "                                  entry_point='inference.py' # source_dirを指定している場合、.pyファイルを指定する。\n",
    "                                 )"
   ]
  },
  {
   "cell_type": "code",
   "execution_count": null,
   "id": "d6e151d2",
   "metadata": {},
   "outputs": [],
   "source": [
    "!docker ps"
   ]
  },
  {
   "cell_type": "code",
   "execution_count": null,
   "id": "aaa76704",
   "metadata": {},
   "outputs": [],
   "source": [
    "!docker stop $(docker ps -q)"
   ]
  },
  {
   "cell_type": "code",
   "execution_count": null,
   "id": "d5c621cb",
   "metadata": {},
   "outputs": [],
   "source": [
    "!docker ps"
   ]
  },
  {
   "cell_type": "code",
   "execution_count": null,
   "id": "727284fd",
   "metadata": {},
   "outputs": [],
   "source": [
    "predictor_lgb_model = lgb_model.deploy(initial_instance_count=1,\n",
    "                                       instance_type='local', \n",
    "                                       serializer=csv_serializer, ### string形式でSageMakerに渡す（認識してもらう）\n",
    "                                       #deserializer=None, \n",
    "                                      )"
   ]
  },
  {
   "cell_type": "code",
   "execution_count": null,
   "id": "e82a1751",
   "metadata": {},
   "outputs": [],
   "source": [
    "### 推論実行\n",
    "with open(local_test, 'r') as f:\n",
    "    payload = f.read().strip()\n",
    "\n",
    "predicted = predictor_lgb_model.predict(payload).decode('utf-8')\n",
    "print('=' * 20)\n",
    "print(predicted)"
   ]
  },
  {
   "cell_type": "code",
   "execution_count": null,
   "id": "35dc5755",
   "metadata": {},
   "outputs": [],
   "source": [
    "print(predicted)"
   ]
  },
  {
   "cell_type": "markdown",
   "id": "63b0737f",
   "metadata": {},
   "source": [
    "# END of Containts ======================="
   ]
  },
  {
   "cell_type": "markdown",
   "id": "0b924e94",
   "metadata": {},
   "source": [
    "# 後片付け"
   ]
  },
  {
   "cell_type": "code",
   "execution_count": null,
   "id": "b010e5b1",
   "metadata": {},
   "outputs": [],
   "source": []
  },
  {
   "cell_type": "code",
   "execution_count": null,
   "id": "144e5448",
   "metadata": {},
   "outputs": [],
   "source": []
  },
  {
   "cell_type": "code",
   "execution_count": null,
   "id": "0f2588f7",
   "metadata": {},
   "outputs": [],
   "source": []
  },
  {
   "cell_type": "markdown",
   "id": "bfcd0d23",
   "metadata": {},
   "source": [
    "# 参考"
   ]
  },
  {
   "cell_type": "code",
   "execution_count": null,
   "id": "cb6588ad",
   "metadata": {},
   "outputs": [],
   "source": []
  },
  {
   "cell_type": "code",
   "execution_count": null,
   "id": "229f25e6",
   "metadata": {},
   "outputs": [],
   "source": []
  },
  {
   "cell_type": "code",
   "execution_count": null,
   "id": "47a48134",
   "metadata": {},
   "outputs": [],
   "source": []
  },
  {
   "cell_type": "code",
   "execution_count": null,
   "id": "bd39a166",
   "metadata": {},
   "outputs": [],
   "source": []
  },
  {
   "cell_type": "code",
   "execution_count": null,
   "id": "c6d47fa4",
   "metadata": {},
   "outputs": [],
   "source": []
  },
  {
   "cell_type": "code",
   "execution_count": null,
   "id": "2ed77a10",
   "metadata": {},
   "outputs": [],
   "source": []
  },
  {
   "cell_type": "code",
   "execution_count": null,
   "id": "4372b1c3",
   "metadata": {},
   "outputs": [],
   "source": []
  },
  {
   "cell_type": "code",
   "execution_count": null,
   "id": "44fc4906",
   "metadata": {},
   "outputs": [],
   "source": []
  },
  {
   "cell_type": "code",
   "execution_count": null,
   "id": "b7db61d7",
   "metadata": {},
   "outputs": [],
   "source": []
  },
  {
   "cell_type": "code",
   "execution_count": null,
   "id": "5d216522",
   "metadata": {},
   "outputs": [],
   "source": []
  },
  {
   "cell_type": "code",
   "execution_count": null,
   "id": "7b821965",
   "metadata": {},
   "outputs": [],
   "source": []
  },
  {
   "cell_type": "code",
   "execution_count": null,
   "id": "897f9f00",
   "metadata": {},
   "outputs": [],
   "source": []
  },
  {
   "cell_type": "code",
   "execution_count": null,
   "id": "8cb43112",
   "metadata": {},
   "outputs": [],
   "source": []
  },
  {
   "cell_type": "code",
   "execution_count": null,
   "id": "07e593a2",
   "metadata": {},
   "outputs": [],
   "source": []
  },
  {
   "cell_type": "markdown",
   "id": "320c4b51",
   "metadata": {},
   "source": [
    "## （optional）4. カスタムコンテナを使わず、built-inコンテナのrequirement.txtにlightgbmを記載して実行する\n",
    "\n",
    "\n",
    "\n",
    "過去バージョン（1.3-3, 1.2-2, 1.2-1, 1.0-1)はこちら\n",
    "\n",
    "https://github.com/aws/sagemaker-xgboost-container/releases\n"
   ]
  },
  {
   "cell_type": "markdown",
   "id": "79072db5",
   "metadata": {},
   "source": [
    "## 4-2. 推論実施"
   ]
  },
  {
   "cell_type": "markdown",
   "id": "305042e5",
   "metadata": {},
   "source": [
    "### 4-2-1.デプロイ\n",
    "\n",
    "https://sagemaker.readthedocs.io/en/stable/api/training/estimators.html#sagemaker.estimator.EstimatorBase.deploy\n",
    "\n",
    "\n",
    "デプロイの際に、ソースコードを指定するにはどうしたらいいのか？\n",
    "\n",
    "https://www.youtube.com/watch?v=sngNd79GpmE&t=596s\n",
    "\n",
    "\n",
    "ポイント：あらためて、Estimatorを定義する必要がある。"
   ]
  },
  {
   "cell_type": "markdown",
   "id": "cedc5b45",
   "metadata": {},
   "source": [
    "### serve用のファイルは、.py かつ、作法に従う必要がある。\n",
    "\n",
    "MMSは.pyを扱うように設計されているため。\n",
    "\n",
    "https://sagemaker.readthedocs.io/en/stable/api/training/estimators.html#sagemaker.estimator.Estimator"
   ]
  },
  {
   "cell_type": "markdown",
   "id": "06f8f2fb",
   "metadata": {},
   "source": [
    "## エラー\n",
    "\n",
    "RuntimeError: Model /opt/ml/model/model.tar.gz cannot be loaded:\n",
    "\n",
    "\n",
    "6o0805unb3-algo-1-k8ugv | [2022-10-16 02:25:50 +0000] [19] [ERROR] Exception in worker process  \n",
    "6o0805unb3-algo-1-k8ugv | Traceback (most recent call last):  \n",
    "6o0805unb3-algo-1-k8ugv |   File \"/miniconda3/lib/python3.8/site-packages/sagemaker_xgboost_container/algorithm_mode/serve_utils.py\", line 175, in get_loaded_booster  \n",
    "6o0805unb3-algo-1-k8ugv |     booster = pkl.load(open(full_model_path, \"rb\"))  \n",
    "6o0805unb3-algo-1-k8ugv | _pickle.UnpicklingError: invalid load key, '\\x1f'.  "
   ]
  },
  {
   "cell_type": "markdown",
   "id": "9ca64947",
   "metadata": {},
   "source": [
    "## 原因\n",
    "lightgbm-regression-model.txtなので、pklでは読み込めない。\n",
    "\n",
    "モデルロードする関数を上書きするには？？（そもそもこれがやりたい）\n",
    "\n",
    "https://github.com/aws/sagemaker-xgboost-container/blob/master/docker/1.5-1/final/Dockerfile.cpu\n",
    "\n",
    "# Set SageMaker entrypoints\n",
    "ENV SAGEMAKER_TRAINING_MODULE sagemaker_xgboost_container.training:main  \n",
    "ENV SAGEMAKER_SERVING_MODULE sagemaker_xgboost_container.serving:main  \n",
    "\n",
    "\n",
    "まず、serving.main()が実行される"
   ]
  },
  {
   "cell_type": "markdown",
   "id": "7bcc947c",
   "metadata": {},
   "source": [
    "https://github.com/aws/sagemaker-xgboost-container/blob/master/src/sagemaker_xgboost_container/serving.py\n",
    "\n",
    "L143\n",
    "\n",
    "serving_env = env.ServingEnv()\n",
    "\n",
    "で、環境変数にパラメータが読み込まれる\n",
    "\n",
    "\n",
    "L147\n",
    "\n",
    "user_module = modules.import_module(serving_env.module_dir, serving_env.module_name)\n",
    "\n",
    "ここで、ユーザーのモジュールが読み込まれる。\n",
    "\n",
    "L18をみると、sagemaker_containers.beta.framework.modulesがモジュールのようだ。\n",
    "\n",
    "from sagemaker_containers.beta.framework import (\n",
    "    encoders,\n",
    "    env,\n",
    "    modules,\n",
    "    server,\n",
    "    transformer,\n",
    "    worker,\n",
    ")"
   ]
  },
  {
   "cell_type": "markdown",
   "id": "16ec4397",
   "metadata": {},
   "source": [
    "https://github.com/aws/sagemaker-containers/blob/master/src/sagemaker_containers/beta/framework/__init__.py\n",
    "\n",
    "sagemaker_containers.beta.frameworkはアーカイブされている。\n",
    "\n",
    "現在はこちら。initをみると\n",
    "\n",
    "https://github.com/aws/sagemaker-containers/blob/master/src/sagemaker_containers/_modules.py\n",
    "\n",
    "\n",
    "\n",
    "L258で、imortしている。\n",
    "\n",
    "module = importlib.import_module(name)"
   ]
  },
  {
   "cell_type": "markdown",
   "id": "a2145237",
   "metadata": {},
   "source": [
    "def import_module(uri, name=DEFAULT_MODULE_NAME, cache=None):  # type: (str, str, bool) -> module\n",
    "\n",
    "とあるように、DEFAULT_MODULE_NAMEが読み込まれるようだ\n",
    "\n",
    "\n"
   ]
  },
  {
   "cell_type": "code",
   "execution_count": null,
   "id": "d54fe969",
   "metadata": {},
   "outputs": [],
   "source": []
  },
  {
   "cell_type": "markdown",
   "id": "2571722c",
   "metadata": {},
   "source": [
    "\n",
    "https://github.com/aws/sagemaker-xgboost-container/blob/master/src/sagemaker_xgboost_container/serving.py\n",
    "\n",
    "L148,149: L147で読み込んだユーザーモジュールに上書きする\n",
    "\n",
    "user_module_transformer = _user_module_transformer(user_module)  \n",
    "user_module_transformer.initialize()  \n",
    "\n",
    "\n",
    "L116にあるように、model_fnなどのユーザー関数に上書きされる。\n",
    "\n",
    "\n",
    "def _user_module_transformer(user_module):  \n",
    "    model_fn = getattr(user_module, \"model_fn\", default_model_fn)  \n",
    "    input_fn = getattr(user_module, \"input_fn\", None)  \n",
    "    predict_fn = getattr(user_module, \"predict_fn\", None)  \n",
    "    output_fn = getattr(user_module, \"output_fn\", None)  \n",
    "    transform_fn = getattr(user_module, \"transform_fn\", None)  "
   ]
  },
  {
   "cell_type": "markdown",
   "id": "069bce97",
   "metadata": {},
   "source": [
    "## model_fnを定義したファイルが、importされているか？\n",
    "\n",
    "いま、そもそも環境変数に正しく情報渡せていない気がする。\n",
    "\n",
    "\n",
    "https://github.com/aws/sagemaker-containers/blob/master/src/sagemaker_containers/_modules.py\n",
    "\n",
    "L237より、\n",
    "\n",
    "def import_module(uri, name=DEFAULT_MODULE_NAME, cache=None):  # type: (str, str, bool) -> module\n",
    "\n",
    "第二引数に指定する必要がある。\n",
    "\n",
    "これを呼ぶのは、\n",
    "\n",
    "\n",
    "https://github.com/aws/sagemaker-xgboost-container/blob/master/src/sagemaker_xgboost_container/serving.py\n",
    "\n",
    "L147\n",
    "\n",
    "user_module = modules.import_module(serving_env.module_dir, serving_env.module_name)\n",
    "\n",
    "serving_env.module_name である。指定できているのか？\n",
    "\n",
    "\n",
    "L143より\n",
    "\n",
    "serving_env = env.ServingEnv()\n",
    "\n",
    "これは、以下のファイル。\n",
    "\n",
    "https://github.com/aws/sagemaker-containers/blob/master/src/sagemaker_containers/_env.py\n",
    "\n",
    "L862\n",
    "\n",
    "class ServingEnv(_Env):\n",
    "\n"
   ]
  },
  {
   "cell_type": "markdown",
   "id": "52c1ddd3",
   "metadata": {},
   "source": [
    "https://github.com/aws/sagemaker-containers/blob/master/src/sagemaker_containers/_env.py\n",
    "\n",
    "L329には、\n",
    "\n",
    "class _Env(_mapping.MappingMixin):\n",
    "\n",
    "\n",
    "module_name = os.environ.get(_params.USER_PROGRAM_ENV, None)\n",
    "\n",
    "とある。\n",
    "\n",
    "\n",
    "L595\n",
    "\n",
    "TrainingEnvには、\n",
    "\n",
    "        # override base class attributes  \n",
    "        if self._module_name is None:  \n",
    "            self._module_name = str(sagemaker_hyperparameters.get(_params.USER_PROGRAM_PARAM, None))  \n",
    "        self._user_entry_point = self._user_entry_point or sagemaker_hyperparameters.get(  \n",
    "            _params.USER_PROGRAM_PARAM  \n",
    "        )  \n",
    "        \n",
    "        \n",
    "        "
   ]
  },
  {
   "cell_type": "markdown",
   "id": "d7715dcb",
   "metadata": {},
   "source": [
    "## USER_PROGRAM_ENVに設定できればいい？\n",
    "\n",
    "\n",
    "https://github.com/aws/sagemaker-inference-toolkit/blob/master/src/sagemaker_inference/parameters.py\n",
    "\n",
    "\n",
    "L18\n",
    "\n",
    "USER_PROGRAM_ENV = \"SAGEMAKER_PROGRAM\"  # type: str\n",
    "\n",
    "SAGEMAKER_PROGRAMに設定できればいいようだ。\n",
    "\n",
    "ビルトインコンテナにはどうすれば設定できるのだろうか？？\n",
    "\n",
    "以下のYouTubeだと、boto3でEnvironment引数を使っている。\n",
    "\n",
    "https://youtu.be/sngNd79GpmE?t=780"
   ]
  },
  {
   "cell_type": "code",
   "execution_count": null,
   "id": "ad33f915",
   "metadata": {},
   "outputs": [],
   "source": []
  },
  {
   "cell_type": "markdown",
   "id": "ffd81b95",
   "metadata": {},
   "source": [
    "# デバッグのために、dockerイメージをプルして、中をみてみる。\n",
    "\n",
    "ビルトインコンテナの中身をみるには、どうすればいいのか？\n",
    "\n",
    "XGBoostの場合は、ローカルでbuildしていくようだ。\n",
    "\n",
    "https://github.com/aws/sagemaker-xgboost-container"
   ]
  },
  {
   "cell_type": "markdown",
   "id": "8f9ac5fa",
   "metadata": {},
   "source": [
    "# コンテナの中に入って確認する方法\n",
    "コンソールを立ち上げて、以下の流れで実行する\n",
    "\n",
    "\n",
    "ディレクトリ移動\n",
    " $ cd sagemaker-xgboost-container/\n",
    " \n",
    "baseコンテナをビルド\n",
    " $ docker build -t xgboost-container-base:1.5-1-cpu-py3 -f docker/1.5-1/base/Dockerfile.cpu .\n",
    "\n",
    "finalコンテナをビルド\n",
    " $ docker build -t preprod-xgboost-container:1.5-1-cpu-py3 -f docker/1.5-1/final/Dockerfile.cpu .\n",
    "\n",
    "構築されたイメージを確認\n",
    "$ docker image ls\n",
    "\n",
    "中に入って確認（コンテナのタグもつけて指定すること）\n",
    "$ docker run -it preprod-xgboost-container:1.5-1-cpu-py3 /bin/bash\n",
    "\n",
    "$ docker run -it 354813040037.dkr.ecr.ap-northeast-1.amazonaws.com/sagemaker-xgboost:1.5-1 /bin/bash  \n",
    "\n",
    "   "
   ]
  },
  {
   "cell_type": "markdown",
   "id": "df7d27b2",
   "metadata": {},
   "source": [
    "# コンテナの中に入り、 command serveを実行してみる"
   ]
  },
  {
   "cell_type": "code",
   "execution_count": null,
   "id": "819c7e05",
   "metadata": {},
   "outputs": [],
   "source": []
  },
  {
   "cell_type": "code",
   "execution_count": null,
   "id": "57b93b97",
   "metadata": {},
   "outputs": [],
   "source": []
  },
  {
   "cell_type": "markdown",
   "id": "2a88dc7f",
   "metadata": {},
   "source": [
    "# モデル利用ならうまくいくのではないか？-> OK\n",
    "\n",
    "\n",
    "YouTubeのリンク先ソースより\n",
    "\n",
    "https://github.com/aws-samples/aws-ml-jp/blob/main/sagemaker/sagemaker-inference/inference-tutorial/1_sklearn.ipynb\n",
    "\n"
   ]
  },
  {
   "cell_type": "markdown",
   "id": "c6f8e6b2",
   "metadata": {},
   "source": [
    "https://sagemaker.readthedocs.io/en/stable/api/inference/model.html#sagemaker.model.Model"
   ]
  },
  {
   "cell_type": "markdown",
   "id": "325146d4",
   "metadata": {},
   "source": [
    "デプロイ\n",
    "\n",
    "https://sagemaker.readthedocs.io/en/stable/api/inference/model.html#sagemaker.model.Model.deploy"
   ]
  },
  {
   "cell_type": "code",
   "execution_count": null,
   "id": "6c0f5e9a",
   "metadata": {},
   "outputs": [],
   "source": []
  },
  {
   "cell_type": "code",
   "execution_count": null,
   "id": "8cfcf39f",
   "metadata": {},
   "outputs": [],
   "source": []
  },
  {
   "cell_type": "code",
   "execution_count": null,
   "id": "7030284b",
   "metadata": {},
   "outputs": [],
   "source": []
  },
  {
   "cell_type": "code",
   "execution_count": null,
   "id": "35d816bc",
   "metadata": {},
   "outputs": [],
   "source": []
  },
  {
   "cell_type": "code",
   "execution_count": null,
   "id": "830135f8",
   "metadata": {},
   "outputs": [],
   "source": []
  },
  {
   "cell_type": "code",
   "execution_count": null,
   "id": "8bb1a7d0",
   "metadata": {},
   "outputs": [],
   "source": []
  },
  {
   "cell_type": "code",
   "execution_count": null,
   "id": "bfa62e31",
   "metadata": {},
   "outputs": [],
   "source": []
  },
  {
   "cell_type": "markdown",
   "id": "2cf1b9b4",
   "metadata": {},
   "source": [
    "ValueError: Estimator is not associated with a training job"
   ]
  },
  {
   "cell_type": "markdown",
   "id": "1137f500",
   "metadata": {},
   "source": [
    "# エラー　trainingjobとの紐付け\n",
    "\n",
    "https://stackoverflow.com/questions/63340328/how-to-define-a-sagemaker-estimator-object-using-a-pre-trained-model-and-then-de"
   ]
  },
  {
   "cell_type": "markdown",
   "id": "cb744ce4",
   "metadata": {},
   "source": [
    "# END of Containts ==============="
   ]
  },
  {
   "cell_type": "code",
   "execution_count": null,
   "id": "3a19f603",
   "metadata": {},
   "outputs": [],
   "source": []
  },
  {
   "cell_type": "code",
   "execution_count": null,
   "id": "d2cda7ee",
   "metadata": {},
   "outputs": [],
   "source": []
  },
  {
   "cell_type": "code",
   "execution_count": null,
   "id": "c0925043",
   "metadata": {},
   "outputs": [],
   "source": []
  },
  {
   "cell_type": "code",
   "execution_count": null,
   "id": "4b1a274d",
   "metadata": {},
   "outputs": [],
   "source": []
  },
  {
   "cell_type": "code",
   "execution_count": null,
   "id": "28ca8c11",
   "metadata": {},
   "outputs": [],
   "source": []
  },
  {
   "cell_type": "markdown",
   "id": "d2ba1486",
   "metadata": {},
   "source": [
    "# 5.後片付け\n",
    "予期せぬ課金を防ぐために、以下のリソースを削除します。\n",
    "\n",
    "* SageMaker 推論エンドポイント\n",
    "* ECR\n",
    "* S3\n",
    "* SageMakerノートブックインスタンス"
   ]
  },
  {
   "cell_type": "markdown",
   "id": "d2bcde77",
   "metadata": {},
   "source": [
    "# 参考\n",
    "* SageMaker のtrainingジョブを理解する\n",
    "    * https://github.com/aws-samples/aws-ml-jp/tree/main/sagemaker/sagemaker-traning/tutorial\n",
    "* SageMaker-Pytorth training Toolkit\n",
    "    * https://github.com/aws/sagemaker-pytorch-training-toolkit/\n",
    "* SageMaker-Pytorch Inference Toolkit\n",
    "    * https://github.com/aws/sagemaker-pytorch-inference-toolkit\n",
    "* SageMaker Inference Toolkit\n",
    "    * https://docs.aws.amazon.com/sagemaker/latest/dg/amazon-sagemaker-toolkits.html\n",
    "    * https://github.com/aws/sagemaker-inference-toolkit"
   ]
  },
  {
   "cell_type": "code",
   "execution_count": null,
   "id": "cb0c0d99",
   "metadata": {},
   "outputs": [],
   "source": []
  }
 ],
 "metadata": {
  "kernelspec": {
   "display_name": "conda_python3",
   "language": "python",
   "name": "conda_python3"
  },
  "language_info": {
   "codemirror_mode": {
    "name": "ipython",
    "version": 3
   },
   "file_extension": ".py",
   "mimetype": "text/x-python",
   "name": "python",
   "nbconvert_exporter": "python",
   "pygments_lexer": "ipython3",
   "version": "3.8.12"
  }
 },
 "nbformat": 4,
 "nbformat_minor": 5
}
