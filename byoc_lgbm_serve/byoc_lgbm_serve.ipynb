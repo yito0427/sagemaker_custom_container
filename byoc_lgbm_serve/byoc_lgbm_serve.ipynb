{
 "cells": [
  {
   "cell_type": "markdown",
   "id": "44eb0393",
   "metadata": {},
   "source": [
    "# LightGBMの推論用カスタムコンテナを構築し、SageMakerによる推論の仕組みを深く理解する"
   ]
  },
  {
   "cell_type": "markdown",
   "id": "8ab76c4a",
   "metadata": {},
   "source": [
    "## アジェンダ\n",
    "* パターン3のカスタムコンテナを作成\n",
    "    * 学習編で実施済み\n",
    "* パターン2のカスタムコンテナを作成：コンテナファイルを外部から指定する\n",
    "    * Inference-Toolkitと、MMSをインストールしたコンテナを作成\n",
    "* XGBoostビルトインコンテナで、LightBGMの推論を実施する\n",
    "    * requirements.txtを用意する\n",
    "    * inference.pyをお作用に従って作る"
   ]
  },
  {
   "cell_type": "markdown",
   "id": "5d70c877",
   "metadata": {},
   "source": [
    "# Lab : LightGBMのカスタムコンテナを通して、SageMakerの動作を理解する\n",
    "\n",
    "LightGBMがインストールされたカスタムコンテナを構築し、SageMaker Trainingジョブで学習を行います。\n",
    "カスタムコンテナの挙動を観察し、SageMakerの動作について理解を深めます。\n",
    "\n",
    "ノートブックは20分程度で実行できます。"
   ]
  },
  {
   "cell_type": "markdown",
   "id": "3201751e",
   "metadata": {},
   "source": [
    "# 0.実行環境確認\n",
    "本ノートブックは、SageMakerノートブックインスタンス上で動作確認しています。\n",
    "* インスタンスタイプ：ml.t3.medium\n",
    "* カーネル：conda_python3"
   ]
  },
  {
   "cell_type": "markdown",
   "id": "d8dffb16",
   "metadata": {},
   "source": [
    "## 0-1.pythonバージョン確認"
   ]
  },
  {
   "cell_type": "code",
   "execution_count": 1,
   "id": "11fc0b41",
   "metadata": {},
   "outputs": [
    {
     "data": {
      "text/plain": [
       "'3.8.12 | packaged by conda-forge | (default, Oct 12 2021, 21:59:51) \\n[GCC 9.4.0]'"
      ]
     },
     "execution_count": 1,
     "metadata": {},
     "output_type": "execute_result"
    }
   ],
   "source": [
    "#Pythonのバージョン情報\n",
    "import sys\n",
    "sys.version # 3.8.12"
   ]
  },
  {
   "cell_type": "code",
   "execution_count": 2,
   "id": "abbef323",
   "metadata": {},
   "outputs": [
    {
     "name": "stdout",
     "output_type": "stream",
     "text": [
      "Python 3.8.12\n"
     ]
    }
   ],
   "source": [
    "# Pythonのバージョン確認 (システムコマンド使用）\n",
    "!python -V # 3.8.12"
   ]
  },
  {
   "cell_type": "markdown",
   "id": "1b3840b0",
   "metadata": {},
   "source": [
    "## 0-2.SageMakerSDKバージョン確認\n",
    "\n",
    "Amazon SageMaker Python SDKは、Amazon SageMaker上で機械学習されたモデルをトレーニングおよびデプロイするためのオープンソースライブラリです。\n",
    "\n",
    "このSDKを使用すると、一般的な深層学習フレームワーク、Amazonが提供するアルゴリズム、またはSageMaker互換のDockerイメージに組み込まれた独自のアルゴリズムを使ってモデルをトレーニングおよびデプロイすることができます。\n",
    "\n",
    "* ドキュメント : https://sagemaker.readthedocs.io/en/stable/\n",
    "* GitHub : https://github.com/aws/sagemaker-python-sdk"
   ]
  },
  {
   "cell_type": "markdown",
   "id": "63483418",
   "metadata": {},
   "source": [
    "SageMakerSDK をインポートすると、バケットが作成されます。  \n",
    "sagemaker-＜region＞-＜account＞"
   ]
  },
  {
   "cell_type": "code",
   "execution_count": 3,
   "id": "02249133",
   "metadata": {},
   "outputs": [
    {
     "name": "stdout",
     "output_type": "stream",
     "text": [
      "Current SageMaker Python SDK Version =2.101.1\n"
     ]
    }
   ],
   "source": [
    "# SageMakerSDK のバージョン確認\n",
    "import sagemaker\n",
    "print('Current SageMaker Python SDK Version ={0}'.format(sagemaker.__version__)) # 2.110.0"
   ]
  },
  {
   "cell_type": "markdown",
   "id": "9bf189aa",
   "metadata": {},
   "source": [
    "# 1.データ準備\n",
    "\n",
    "学習、推論で利用するデータを準備します。\n",
    "\n",
    "scikit-learn付属の、ボストン住宅価格データセットを利用します。(注：バージョン1.2から除外されます）  \n",
    "https://scikit-learn.org/stable/modules/generated/sklearn.datasets.load_boston.html\n",
    "\n",
    "以下のスクリプトを参考にしています。\n",
    "\n",
    "https://github.com/aws-samples/amazon-sagemaker-local-mode/blob/main/lightgbm_bring_your_own_container_local_training_and_serving/lightgbm_bring_your_own_container_local_training_and_serving.py"
   ]
  },
  {
   "cell_type": "code",
   "execution_count": 4,
   "id": "b19f878f",
   "metadata": {},
   "outputs": [
    {
     "data": {
      "text/plain": [
       "'1.0.1'"
      ]
     },
     "execution_count": 4,
     "metadata": {},
     "output_type": "execute_result"
    }
   ],
   "source": [
    "import sklearn\n",
    "sklearn.__version__ # 1.0.1"
   ]
  },
  {
   "cell_type": "code",
   "execution_count": 5,
   "id": "e709e554",
   "metadata": {},
   "outputs": [
    {
     "data": {
      "text/plain": [
       "'1.3.4'"
      ]
     },
     "execution_count": 5,
     "metadata": {},
     "output_type": "execute_result"
    }
   ],
   "source": [
    "import pandas as pd\n",
    "pd.__version__ # 1.3.4"
   ]
  },
  {
   "cell_type": "markdown",
   "id": "cc328583",
   "metadata": {},
   "source": [
    "## 1-1. データロード"
   ]
  },
  {
   "cell_type": "code",
   "execution_count": 6,
   "id": "a130e80a",
   "metadata": {},
   "outputs": [],
   "source": [
    "from sklearn.datasets import load_boston\n",
    "from sklearn.model_selection import train_test_split"
   ]
  },
  {
   "cell_type": "code",
   "execution_count": 7,
   "id": "c1e387ed",
   "metadata": {},
   "outputs": [
    {
     "name": "stderr",
     "output_type": "stream",
     "text": [
      "/home/ec2-user/anaconda3/envs/python3/lib/python3.8/site-packages/sklearn/utils/deprecation.py:87: FutureWarning: Function load_boston is deprecated; `load_boston` is deprecated in 1.0 and will be removed in 1.2.\n",
      "\n",
      "    The Boston housing prices dataset has an ethical problem. You can refer to\n",
      "    the documentation of this function for further details.\n",
      "\n",
      "    The scikit-learn maintainers therefore strongly discourage the use of this\n",
      "    dataset unless the purpose of the code is to study and educate about\n",
      "    ethical issues in data science and machine learning.\n",
      "\n",
      "    In this special case, you can fetch the dataset from the original\n",
      "    source::\n",
      "\n",
      "        import pandas as pd\n",
      "        import numpy as np\n",
      "\n",
      "\n",
      "        data_url = \"http://lib.stat.cmu.edu/datasets/boston\"\n",
      "        raw_df = pd.read_csv(data_url, sep=\"\\s+\", skiprows=22, header=None)\n",
      "        data = np.hstack([raw_df.values[::2, :], raw_df.values[1::2, :2]])\n",
      "        target = raw_df.values[1::2, 2]\n",
      "\n",
      "    Alternative datasets include the California housing dataset (i.e.\n",
      "    :func:`~sklearn.datasets.fetch_california_housing`) and the Ames housing\n",
      "    dataset. You can load the datasets as follows::\n",
      "\n",
      "        from sklearn.datasets import fetch_california_housing\n",
      "        housing = fetch_california_housing()\n",
      "\n",
      "    for the California housing dataset and::\n",
      "\n",
      "        from sklearn.datasets import fetch_openml\n",
      "        housing = fetch_openml(name=\"house_prices\", as_frame=True)\n",
      "\n",
      "    for the Ames housing dataset.\n",
      "    \n",
      "  warnings.warn(msg, category=FutureWarning)\n"
     ]
    }
   ],
   "source": [
    "data = load_boston() # 1.2でデータセットがなくすという警告が出ますが動作に影響ありません"
   ]
  },
  {
   "cell_type": "markdown",
   "id": "392cf4cf",
   "metadata": {},
   "source": [
    "## 1-2. 特徴量生成（Feature Engineering）\n",
    "本ノートブックでは実施しません。そのままデータを利用します。"
   ]
  },
  {
   "cell_type": "markdown",
   "id": "78f70b1a",
   "metadata": {},
   "source": [
    "## 1-3. データ分割\n",
    "学習用（train）、評価用（validation）、テスト用（test）にデータを分割します。  \n",
    "train:val:test = 3(60%):1(20%):1(20%)に分割します。  "
   ]
  },
  {
   "cell_type": "code",
   "execution_count": 8,
   "id": "e8cd2565",
   "metadata": {},
   "outputs": [],
   "source": [
    "X_train, X_test, y_train, y_test = train_test_split(data.data, data.target, test_size=0.2, random_state=45)\n",
    "X_train, X_val, y_train, y_val = train_test_split(X_train, y_train, test_size=0.25, random_state=45)\n",
    "\n",
    "trainX = pd.DataFrame(X_train, columns=data.feature_names)\n",
    "trainX['target'] = y_train\n",
    "\n",
    "valX = pd.DataFrame(X_val, columns=data.feature_names)\n",
    "valX['target'] = y_val\n",
    "\n",
    "testX = pd.DataFrame(X_test, columns=data.feature_names)"
   ]
  },
  {
   "cell_type": "code",
   "execution_count": 9,
   "id": "d91d8d45",
   "metadata": {},
   "outputs": [
    {
     "data": {
      "text/html": [
       "<div>\n",
       "<style scoped>\n",
       "    .dataframe tbody tr th:only-of-type {\n",
       "        vertical-align: middle;\n",
       "    }\n",
       "\n",
       "    .dataframe tbody tr th {\n",
       "        vertical-align: top;\n",
       "    }\n",
       "\n",
       "    .dataframe thead th {\n",
       "        text-align: right;\n",
       "    }\n",
       "</style>\n",
       "<table border=\"1\" class=\"dataframe\">\n",
       "  <thead>\n",
       "    <tr style=\"text-align: right;\">\n",
       "      <th></th>\n",
       "      <th>CRIM</th>\n",
       "      <th>ZN</th>\n",
       "      <th>INDUS</th>\n",
       "      <th>CHAS</th>\n",
       "      <th>NOX</th>\n",
       "      <th>RM</th>\n",
       "      <th>AGE</th>\n",
       "      <th>DIS</th>\n",
       "      <th>RAD</th>\n",
       "      <th>TAX</th>\n",
       "      <th>PTRATIO</th>\n",
       "      <th>B</th>\n",
       "      <th>LSTAT</th>\n",
       "      <th>target</th>\n",
       "    </tr>\n",
       "  </thead>\n",
       "  <tbody>\n",
       "    <tr>\n",
       "      <th>0</th>\n",
       "      <td>0.08829</td>\n",
       "      <td>12.5</td>\n",
       "      <td>7.87</td>\n",
       "      <td>0.0</td>\n",
       "      <td>0.524</td>\n",
       "      <td>6.012</td>\n",
       "      <td>66.6</td>\n",
       "      <td>5.5605</td>\n",
       "      <td>5.0</td>\n",
       "      <td>311.0</td>\n",
       "      <td>15.2</td>\n",
       "      <td>395.60</td>\n",
       "      <td>12.43</td>\n",
       "      <td>22.9</td>\n",
       "    </tr>\n",
       "    <tr>\n",
       "      <th>1</th>\n",
       "      <td>0.33983</td>\n",
       "      <td>22.0</td>\n",
       "      <td>5.86</td>\n",
       "      <td>0.0</td>\n",
       "      <td>0.431</td>\n",
       "      <td>6.108</td>\n",
       "      <td>34.9</td>\n",
       "      <td>8.0555</td>\n",
       "      <td>7.0</td>\n",
       "      <td>330.0</td>\n",
       "      <td>19.1</td>\n",
       "      <td>390.18</td>\n",
       "      <td>9.16</td>\n",
       "      <td>24.3</td>\n",
       "    </tr>\n",
       "    <tr>\n",
       "      <th>2</th>\n",
       "      <td>0.10469</td>\n",
       "      <td>40.0</td>\n",
       "      <td>6.41</td>\n",
       "      <td>1.0</td>\n",
       "      <td>0.447</td>\n",
       "      <td>7.267</td>\n",
       "      <td>49.0</td>\n",
       "      <td>4.7872</td>\n",
       "      <td>4.0</td>\n",
       "      <td>254.0</td>\n",
       "      <td>17.6</td>\n",
       "      <td>389.25</td>\n",
       "      <td>6.05</td>\n",
       "      <td>33.2</td>\n",
       "    </tr>\n",
       "    <tr>\n",
       "      <th>3</th>\n",
       "      <td>6.80117</td>\n",
       "      <td>0.0</td>\n",
       "      <td>18.10</td>\n",
       "      <td>0.0</td>\n",
       "      <td>0.713</td>\n",
       "      <td>6.081</td>\n",
       "      <td>84.4</td>\n",
       "      <td>2.7175</td>\n",
       "      <td>24.0</td>\n",
       "      <td>666.0</td>\n",
       "      <td>20.2</td>\n",
       "      <td>396.90</td>\n",
       "      <td>14.70</td>\n",
       "      <td>20.0</td>\n",
       "    </tr>\n",
       "    <tr>\n",
       "      <th>4</th>\n",
       "      <td>1.35472</td>\n",
       "      <td>0.0</td>\n",
       "      <td>8.14</td>\n",
       "      <td>0.0</td>\n",
       "      <td>0.538</td>\n",
       "      <td>6.072</td>\n",
       "      <td>100.0</td>\n",
       "      <td>4.1750</td>\n",
       "      <td>4.0</td>\n",
       "      <td>307.0</td>\n",
       "      <td>21.0</td>\n",
       "      <td>376.73</td>\n",
       "      <td>13.04</td>\n",
       "      <td>14.5</td>\n",
       "    </tr>\n",
       "  </tbody>\n",
       "</table>\n",
       "</div>"
      ],
      "text/plain": [
       "      CRIM    ZN  INDUS  CHAS    NOX     RM    AGE     DIS   RAD    TAX  \\\n",
       "0  0.08829  12.5   7.87   0.0  0.524  6.012   66.6  5.5605   5.0  311.0   \n",
       "1  0.33983  22.0   5.86   0.0  0.431  6.108   34.9  8.0555   7.0  330.0   \n",
       "2  0.10469  40.0   6.41   1.0  0.447  7.267   49.0  4.7872   4.0  254.0   \n",
       "3  6.80117   0.0  18.10   0.0  0.713  6.081   84.4  2.7175  24.0  666.0   \n",
       "4  1.35472   0.0   8.14   0.0  0.538  6.072  100.0  4.1750   4.0  307.0   \n",
       "\n",
       "   PTRATIO       B  LSTAT  target  \n",
       "0     15.2  395.60  12.43    22.9  \n",
       "1     19.1  390.18   9.16    24.3  \n",
       "2     17.6  389.25   6.05    33.2  \n",
       "3     20.2  396.90  14.70    20.0  \n",
       "4     21.0  376.73  13.04    14.5  "
      ]
     },
     "execution_count": 9,
     "metadata": {},
     "output_type": "execute_result"
    }
   ],
   "source": [
    "# 確認\n",
    "trainX.head()"
   ]
  },
  {
   "cell_type": "code",
   "execution_count": 10,
   "id": "a9a78309",
   "metadata": {},
   "outputs": [
    {
     "data": {
      "text/html": [
       "<div>\n",
       "<style scoped>\n",
       "    .dataframe tbody tr th:only-of-type {\n",
       "        vertical-align: middle;\n",
       "    }\n",
       "\n",
       "    .dataframe tbody tr th {\n",
       "        vertical-align: top;\n",
       "    }\n",
       "\n",
       "    .dataframe thead th {\n",
       "        text-align: right;\n",
       "    }\n",
       "</style>\n",
       "<table border=\"1\" class=\"dataframe\">\n",
       "  <thead>\n",
       "    <tr style=\"text-align: right;\">\n",
       "      <th></th>\n",
       "      <th>CRIM</th>\n",
       "      <th>ZN</th>\n",
       "      <th>INDUS</th>\n",
       "      <th>CHAS</th>\n",
       "      <th>NOX</th>\n",
       "      <th>RM</th>\n",
       "      <th>AGE</th>\n",
       "      <th>DIS</th>\n",
       "      <th>RAD</th>\n",
       "      <th>TAX</th>\n",
       "      <th>PTRATIO</th>\n",
       "      <th>B</th>\n",
       "      <th>LSTAT</th>\n",
       "      <th>target</th>\n",
       "    </tr>\n",
       "  </thead>\n",
       "  <tbody>\n",
       "    <tr>\n",
       "      <th>0</th>\n",
       "      <td>0.03150</td>\n",
       "      <td>95.0</td>\n",
       "      <td>1.47</td>\n",
       "      <td>0.0</td>\n",
       "      <td>0.403</td>\n",
       "      <td>6.975</td>\n",
       "      <td>15.3</td>\n",
       "      <td>7.6534</td>\n",
       "      <td>3.0</td>\n",
       "      <td>402.0</td>\n",
       "      <td>17.0</td>\n",
       "      <td>396.90</td>\n",
       "      <td>4.56</td>\n",
       "      <td>34.9</td>\n",
       "    </tr>\n",
       "    <tr>\n",
       "      <th>1</th>\n",
       "      <td>0.51183</td>\n",
       "      <td>0.0</td>\n",
       "      <td>6.20</td>\n",
       "      <td>0.0</td>\n",
       "      <td>0.507</td>\n",
       "      <td>7.358</td>\n",
       "      <td>71.6</td>\n",
       "      <td>4.1480</td>\n",
       "      <td>8.0</td>\n",
       "      <td>307.0</td>\n",
       "      <td>17.4</td>\n",
       "      <td>390.07</td>\n",
       "      <td>4.73</td>\n",
       "      <td>31.5</td>\n",
       "    </tr>\n",
       "    <tr>\n",
       "      <th>2</th>\n",
       "      <td>19.60910</td>\n",
       "      <td>0.0</td>\n",
       "      <td>18.10</td>\n",
       "      <td>0.0</td>\n",
       "      <td>0.671</td>\n",
       "      <td>7.313</td>\n",
       "      <td>97.9</td>\n",
       "      <td>1.3163</td>\n",
       "      <td>24.0</td>\n",
       "      <td>666.0</td>\n",
       "      <td>20.2</td>\n",
       "      <td>396.90</td>\n",
       "      <td>13.44</td>\n",
       "      <td>15.0</td>\n",
       "    </tr>\n",
       "    <tr>\n",
       "      <th>3</th>\n",
       "      <td>0.95577</td>\n",
       "      <td>0.0</td>\n",
       "      <td>8.14</td>\n",
       "      <td>0.0</td>\n",
       "      <td>0.538</td>\n",
       "      <td>6.047</td>\n",
       "      <td>88.8</td>\n",
       "      <td>4.4534</td>\n",
       "      <td>4.0</td>\n",
       "      <td>307.0</td>\n",
       "      <td>21.0</td>\n",
       "      <td>306.38</td>\n",
       "      <td>17.28</td>\n",
       "      <td>14.8</td>\n",
       "    </tr>\n",
       "    <tr>\n",
       "      <th>4</th>\n",
       "      <td>0.09604</td>\n",
       "      <td>40.0</td>\n",
       "      <td>6.41</td>\n",
       "      <td>0.0</td>\n",
       "      <td>0.447</td>\n",
       "      <td>6.854</td>\n",
       "      <td>42.8</td>\n",
       "      <td>4.2673</td>\n",
       "      <td>4.0</td>\n",
       "      <td>254.0</td>\n",
       "      <td>17.6</td>\n",
       "      <td>396.90</td>\n",
       "      <td>2.98</td>\n",
       "      <td>32.0</td>\n",
       "    </tr>\n",
       "  </tbody>\n",
       "</table>\n",
       "</div>"
      ],
      "text/plain": [
       "       CRIM    ZN  INDUS  CHAS    NOX     RM   AGE     DIS   RAD    TAX  \\\n",
       "0   0.03150  95.0   1.47   0.0  0.403  6.975  15.3  7.6534   3.0  402.0   \n",
       "1   0.51183   0.0   6.20   0.0  0.507  7.358  71.6  4.1480   8.0  307.0   \n",
       "2  19.60910   0.0  18.10   0.0  0.671  7.313  97.9  1.3163  24.0  666.0   \n",
       "3   0.95577   0.0   8.14   0.0  0.538  6.047  88.8  4.4534   4.0  307.0   \n",
       "4   0.09604  40.0   6.41   0.0  0.447  6.854  42.8  4.2673   4.0  254.0   \n",
       "\n",
       "   PTRATIO       B  LSTAT  target  \n",
       "0     17.0  396.90   4.56    34.9  \n",
       "1     17.4  390.07   4.73    31.5  \n",
       "2     20.2  396.90  13.44    15.0  \n",
       "3     21.0  306.38  17.28    14.8  \n",
       "4     17.6  396.90   2.98    32.0  "
      ]
     },
     "execution_count": 10,
     "metadata": {},
     "output_type": "execute_result"
    }
   ],
   "source": [
    "# 確認\n",
    "valX.head()"
   ]
  },
  {
   "cell_type": "code",
   "execution_count": 11,
   "id": "a64baf60",
   "metadata": {},
   "outputs": [
    {
     "data": {
      "text/html": [
       "<div>\n",
       "<style scoped>\n",
       "    .dataframe tbody tr th:only-of-type {\n",
       "        vertical-align: middle;\n",
       "    }\n",
       "\n",
       "    .dataframe tbody tr th {\n",
       "        vertical-align: top;\n",
       "    }\n",
       "\n",
       "    .dataframe thead th {\n",
       "        text-align: right;\n",
       "    }\n",
       "</style>\n",
       "<table border=\"1\" class=\"dataframe\">\n",
       "  <thead>\n",
       "    <tr style=\"text-align: right;\">\n",
       "      <th></th>\n",
       "      <th>CRIM</th>\n",
       "      <th>ZN</th>\n",
       "      <th>INDUS</th>\n",
       "      <th>CHAS</th>\n",
       "      <th>NOX</th>\n",
       "      <th>RM</th>\n",
       "      <th>AGE</th>\n",
       "      <th>DIS</th>\n",
       "      <th>RAD</th>\n",
       "      <th>TAX</th>\n",
       "      <th>PTRATIO</th>\n",
       "      <th>B</th>\n",
       "      <th>LSTAT</th>\n",
       "    </tr>\n",
       "  </thead>\n",
       "  <tbody>\n",
       "    <tr>\n",
       "      <th>0</th>\n",
       "      <td>0.25387</td>\n",
       "      <td>0.0</td>\n",
       "      <td>6.91</td>\n",
       "      <td>0.0</td>\n",
       "      <td>0.4480</td>\n",
       "      <td>5.399</td>\n",
       "      <td>95.3</td>\n",
       "      <td>5.8700</td>\n",
       "      <td>3.0</td>\n",
       "      <td>233.0</td>\n",
       "      <td>17.9</td>\n",
       "      <td>396.90</td>\n",
       "      <td>30.81</td>\n",
       "    </tr>\n",
       "    <tr>\n",
       "      <th>1</th>\n",
       "      <td>0.01951</td>\n",
       "      <td>17.5</td>\n",
       "      <td>1.38</td>\n",
       "      <td>0.0</td>\n",
       "      <td>0.4161</td>\n",
       "      <td>7.104</td>\n",
       "      <td>59.5</td>\n",
       "      <td>9.2229</td>\n",
       "      <td>3.0</td>\n",
       "      <td>216.0</td>\n",
       "      <td>18.6</td>\n",
       "      <td>393.24</td>\n",
       "      <td>8.05</td>\n",
       "    </tr>\n",
       "    <tr>\n",
       "      <th>2</th>\n",
       "      <td>4.64689</td>\n",
       "      <td>0.0</td>\n",
       "      <td>18.10</td>\n",
       "      <td>0.0</td>\n",
       "      <td>0.6140</td>\n",
       "      <td>6.980</td>\n",
       "      <td>67.6</td>\n",
       "      <td>2.5329</td>\n",
       "      <td>24.0</td>\n",
       "      <td>666.0</td>\n",
       "      <td>20.2</td>\n",
       "      <td>374.68</td>\n",
       "      <td>11.66</td>\n",
       "    </tr>\n",
       "    <tr>\n",
       "      <th>3</th>\n",
       "      <td>3.67367</td>\n",
       "      <td>0.0</td>\n",
       "      <td>18.10</td>\n",
       "      <td>0.0</td>\n",
       "      <td>0.5830</td>\n",
       "      <td>6.312</td>\n",
       "      <td>51.9</td>\n",
       "      <td>3.9917</td>\n",
       "      <td>24.0</td>\n",
       "      <td>666.0</td>\n",
       "      <td>20.2</td>\n",
       "      <td>388.62</td>\n",
       "      <td>10.58</td>\n",
       "    </tr>\n",
       "    <tr>\n",
       "      <th>4</th>\n",
       "      <td>0.29819</td>\n",
       "      <td>0.0</td>\n",
       "      <td>6.20</td>\n",
       "      <td>0.0</td>\n",
       "      <td>0.5040</td>\n",
       "      <td>7.686</td>\n",
       "      <td>17.0</td>\n",
       "      <td>3.3751</td>\n",
       "      <td>8.0</td>\n",
       "      <td>307.0</td>\n",
       "      <td>17.4</td>\n",
       "      <td>377.51</td>\n",
       "      <td>3.92</td>\n",
       "    </tr>\n",
       "  </tbody>\n",
       "</table>\n",
       "</div>"
      ],
      "text/plain": [
       "      CRIM    ZN  INDUS  CHAS     NOX     RM   AGE     DIS   RAD    TAX  \\\n",
       "0  0.25387   0.0   6.91   0.0  0.4480  5.399  95.3  5.8700   3.0  233.0   \n",
       "1  0.01951  17.5   1.38   0.0  0.4161  7.104  59.5  9.2229   3.0  216.0   \n",
       "2  4.64689   0.0  18.10   0.0  0.6140  6.980  67.6  2.5329  24.0  666.0   \n",
       "3  3.67367   0.0  18.10   0.0  0.5830  6.312  51.9  3.9917  24.0  666.0   \n",
       "4  0.29819   0.0   6.20   0.0  0.5040  7.686  17.0  3.3751   8.0  307.0   \n",
       "\n",
       "   PTRATIO       B  LSTAT  \n",
       "0     17.9  396.90  30.81  \n",
       "1     18.6  393.24   8.05  \n",
       "2     20.2  374.68  11.66  \n",
       "3     20.2  388.62  10.58  \n",
       "4     17.4  377.51   3.92  "
      ]
     },
     "execution_count": 11,
     "metadata": {},
     "output_type": "execute_result"
    }
   ],
   "source": [
    "# 確認\n",
    "testX.head()"
   ]
  },
  {
   "cell_type": "code",
   "execution_count": 12,
   "id": "404ecaaf",
   "metadata": {},
   "outputs": [
    {
     "data": {
      "text/plain": [
       "array([14.4, 33. , 29.8, 21.2, 46.7])"
      ]
     },
     "execution_count": 12,
     "metadata": {},
     "output_type": "execute_result"
    }
   ],
   "source": [
    "# 確認\n",
    "y_test[0:5]"
   ]
  },
  {
   "cell_type": "markdown",
   "id": "f361fe48",
   "metadata": {},
   "source": [
    "## 1-4.データ保存\n",
    "ローカル、S3それぞれにデータを保存します。"
   ]
  },
  {
   "cell_type": "markdown",
   "id": "a792aa00",
   "metadata": {},
   "source": [
    "### 1-4-1.ローカルへ保存"
   ]
  },
  {
   "cell_type": "code",
   "execution_count": 13,
   "id": "35c06c98",
   "metadata": {},
   "outputs": [],
   "source": [
    "# ディレクトリ作成\n",
    "from pathlib import Path\n",
    "\n",
    "Path('./data/train').mkdir(parents=True, exist_ok=True)\n",
    "Path('./data/valid').mkdir(parents=True, exist_ok=True)\n",
    "Path('./data/test').mkdir(parents=True, exist_ok=True)"
   ]
  },
  {
   "cell_type": "code",
   "execution_count": 14,
   "id": "289d6e0c",
   "metadata": {},
   "outputs": [],
   "source": [
    "# ローカルへ保存\n",
    "local_train = './data/train/boston_train.csv'\n",
    "local_valid = './data/valid/boston_valid.csv'\n",
    "local_test = './data/test/boston_test.csv'\n",
    "\n",
    "trainX.to_csv(local_train, header=None, index=False)\n",
    "valX.to_csv(local_valid, header=None, index=False)\n",
    "testX.to_csv(local_test, header=None, index=False)"
   ]
  },
  {
   "cell_type": "markdown",
   "id": "7e539179",
   "metadata": {},
   "source": [
    "### 1-4-2.S3へ保存\n",
    "\n",
    "一意のバケット作成のために、sgemaker.Session().default_bucket()を利用します。\n",
    "\n",
    "https://sagemaker.readthedocs.io/en/stable/api/utility/session.html#sagemaker.session.Session\n",
    "\n",
    "sagemaker-＜region＞-＜accoutid＞　を取得することができます。"
   ]
  },
  {
   "cell_type": "code",
   "execution_count": 15,
   "id": "2f95eb88",
   "metadata": {},
   "outputs": [],
   "source": [
    "bucket_name = sagemaker.Session().default_bucket()\n",
    "region_name = sagemaker.Session().boto_region_name\n",
    "account_id =  sagemaker.Session().account_id()"
   ]
  },
  {
   "cell_type": "code",
   "execution_count": 16,
   "id": "d2678827",
   "metadata": {},
   "outputs": [
    {
     "name": "stdout",
     "output_type": "stream",
     "text": [
      "sagemaker-ap-northeast-1-805433377179\n",
      "ap-northeast-1\n",
      "805433377179\n"
     ]
    }
   ],
   "source": [
    "# 確認\n",
    "print(bucket_name)\n",
    "print(region_name)\n",
    "print(account_id)"
   ]
  },
  {
   "cell_type": "code",
   "execution_count": 17,
   "id": "eb144856",
   "metadata": {},
   "outputs": [],
   "source": [
    "# バケット作成(SageMakerSDKのインポート時作成されています。他のバケット作成時に利用ください)\n",
    "#import boto3\n",
    "\n",
    "#s3_resource = boto3.resource('s3')\n",
    "#s3_resource.create_bucket(Bucket=bucket_name, CreateBucketConfiguration={'LocationConstraint': region_name})"
   ]
  },
  {
   "cell_type": "code",
   "execution_count": 18,
   "id": "2fdabe80",
   "metadata": {},
   "outputs": [],
   "source": [
    "# S3へ保存\n",
    "train_s3 = sagemaker.s3.S3Uploader.upload('./data/train/boston_train.csv', f's3://{bucket_name}/demo_lightgbm/train')\n",
    "valid_s3 = sagemaker.s3.S3Uploader.upload('./data/valid/boston_valid.csv', f's3://{bucket_name}/demo_lightgbm/valid')"
   ]
  },
  {
   "cell_type": "markdown",
   "id": "924a8261",
   "metadata": {},
   "source": [
    "# 2.LightGBMカスタムコンテナの構築\n",
    "\n",
    "\n",
    "カスタムコンテナの作成には大きく分けて3つのパターンがあります。詳細は以下のブログを参考ください。\n",
    "\n",
    "https://aws.amazon.com/jp/blogs/news/sagemaker-custom-containers-pattern-training/\n",
    "\n",
    "SageMakerの動作を理解するためにパターン3のベースイメージ + カスタムレイヤー方式を採用します。"
   ]
  },
  {
   "cell_type": "markdown",
   "id": "3d4e0514",
   "metadata": {},
   "source": [
    "## 2-1. Dockerfileの確認\n",
    "\n",
    "資材はこちらのノートブックを参考に準備しています。\n",
    "\n",
    "https://github.com/aws-samples/amazon-sagemaker-local-mode/tree/main/lightgbm_bring_your_own_container_local_training_and_serving/container"
   ]
  },
  {
   "cell_type": "code",
   "execution_count": null,
   "id": "3e37f368",
   "metadata": {},
   "outputs": [],
   "source": [
    "!pygmentize ./container/Dockerfile"
   ]
  },
  {
   "cell_type": "markdown",
   "id": "ca01c2e1",
   "metadata": {},
   "source": [
    "## 2-2. dockerイメージの build & push\n",
    "\n",
    "ビルド&pushには7分ほどかかります。"
   ]
  },
  {
   "cell_type": "code",
   "execution_count": null,
   "id": "ea01a208",
   "metadata": {},
   "outputs": [],
   "source": [
    "%%sh\n",
    "\n",
    "# The name of our algorithm\n",
    "algorithm_name=sagemaker-lightgbm-regression\n",
    "\n",
    "cd container\n",
    "\n",
    "chmod +x lightgbm_regression/train\n",
    "chmod +x lightgbm_regression/serve\n",
    "\n",
    "account=$(aws sts get-caller-identity --query Account --output text)\n",
    "\n",
    "# Get the region defined in the current configuration (default to ap-northeast-1 if none defined)\n",
    "region=$(aws configure get region)\n",
    "region=${region:-ap-northeast-1}\n",
    "\n",
    "fullname=\"${account}.dkr.ecr.${region}.amazonaws.com/${algorithm_name}:latest\"\n",
    "\n",
    "# If the repository doesn't exist in ECR, create it.\n",
    "aws ecr describe-repositories --repository-names \"${algorithm_name}\" > /dev/null 2>&1\n",
    "\n",
    "if [ $? -ne 0 ]\n",
    "then\n",
    "    aws ecr create-repository --repository-name \"${algorithm_name}\" > /dev/null\n",
    "fi\n",
    "\n",
    "# Get the login command from ECR and execute it directly\n",
    "aws ecr get-login-password --region ${region}|docker login --username AWS --password-stdin ${fullname}\n",
    "\n",
    "# Build the docker image locally with the image name and then push it to ECR\n",
    "# with the full name.\n",
    "\n",
    "docker build -t ${algorithm_name} .\n",
    "docker tag ${algorithm_name} ${fullname}\n",
    "\n",
    "docker push ${fullname}"
   ]
  },
  {
   "cell_type": "markdown",
   "id": "e821701b",
   "metadata": {},
   "source": [
    "## 2-3. 学習前設定\n",
    "ECRでpushしたコンテナのURIを確認\n",
    "\n",
    "AWSコンソールでECRに移動し、作成したコンテナがあることを確認します。\n",
    "\n",
    "image URIを取得し、以下にはりつけます。"
   ]
  },
  {
   "cell_type": "code",
   "execution_count": 19,
   "id": "7dad5c42",
   "metadata": {},
   "outputs": [
    {
     "name": "stdout",
     "output_type": "stream",
     "text": [
      "sagemaker-ap-northeast-1-805433377179\n",
      "ap-northeast-1\n",
      "805433377179\n"
     ]
    }
   ],
   "source": [
    "# 確認\n",
    "print(bucket_name)\n",
    "print(region_name)\n",
    "print(account_id)"
   ]
  },
  {
   "cell_type": "code",
   "execution_count": 20,
   "id": "21216047",
   "metadata": {},
   "outputs": [],
   "source": [
    "image_uri = f'{account_id}.dkr.ecr.{region_name}.amazonaws.com/sagemaker-lightgbm-regression'"
   ]
  },
  {
   "cell_type": "code",
   "execution_count": 21,
   "id": "9505ff09",
   "metadata": {},
   "outputs": [
    {
     "data": {
      "text/plain": [
       "'805433377179.dkr.ecr.ap-northeast-1.amazonaws.com/sagemaker-lightgbm-regression'"
      ]
     },
     "execution_count": 21,
     "metadata": {},
     "output_type": "execute_result"
    }
   ],
   "source": [
    "# 確認\n",
    "image_uri"
   ]
  },
  {
   "cell_type": "code",
   "execution_count": 22,
   "id": "9a87c527",
   "metadata": {},
   "outputs": [],
   "source": [
    "hyperparameters={'boosting_type': 'gbdt',\n",
    "            'objective': 'regression',\n",
    "            'num_leaves': 31,\n",
    "            'learning_rate': 0.05,\n",
    "            'feature_fraction': 0.9,\n",
    "            'bagging_fraction': 0.8,\n",
    "            'bagging_freq': 5,\n",
    "            'verbose': 0}"
   ]
  },
  {
   "cell_type": "markdown",
   "id": "8044ae03",
   "metadata": {},
   "source": [
    "## 2-4.ローカル学習の実行\n",
    "ECRからビルドしたイメージを持ってきて、ローカルのdockerでビルドして、実行する"
   ]
  },
  {
   "cell_type": "code",
   "execution_count": null,
   "id": "f0817bed",
   "metadata": {},
   "outputs": [],
   "source": [
    "# ローカルファイルのパスを設定（S3パス指定も可）\n",
    "train_location = 'file://'+local_train\n",
    "valid_location = 'file://'+local_valid\n",
    "\n",
    "print(train_location)\n",
    "print(valid_location)"
   ]
  },
  {
   "cell_type": "code",
   "execution_count": 27,
   "id": "22b28fdb",
   "metadata": {},
   "outputs": [],
   "source": [
    "from sagemaker.estimator import Estimator"
   ]
  },
  {
   "cell_type": "code",
   "execution_count": 28,
   "id": "b2ce8b7d",
   "metadata": {},
   "outputs": [],
   "source": [
    "from sagemaker import get_execution_role\n",
    "\n",
    "role = get_execution_role()"
   ]
  },
  {
   "cell_type": "code",
   "execution_count": 29,
   "id": "d3580b87",
   "metadata": {},
   "outputs": [
    {
     "data": {
      "text/plain": [
       "'arn:aws:iam::805433377179:role/service-role/AmazonSageMaker-ExecutionRole-20220807T102095'"
      ]
     },
     "execution_count": 29,
     "metadata": {},
     "output_type": "execute_result"
    }
   ],
   "source": [
    "# 確認\n",
    "role"
   ]
  },
  {
   "cell_type": "markdown",
   "id": "9e04cc28",
   "metadata": {},
   "source": [
    "SageMakerのEstimatorを作成します。\n",
    "\n",
    "https://sagemaker.readthedocs.io/en/stable/api/training/estimators.html"
   ]
  },
  {
   "cell_type": "code",
   "execution_count": 30,
   "id": "4fd3548d",
   "metadata": {},
   "outputs": [],
   "source": [
    "local_lightgbm = Estimator(\n",
    "    image_uri,\n",
    "    role,\n",
    "    instance_count=1,\n",
    "    instance_type=\"local\",\n",
    "    hyperparameters=hyperparameters\n",
    "    )"
   ]
  },
  {
   "cell_type": "markdown",
   "id": "59e53f8a",
   "metadata": {},
   "source": [
    "fitメソッドで学習ジョブを発行します\n",
    "\n",
    "https://sagemaker.readthedocs.io/en/stable/api/training/estimators.html#sagemaker.estimator.EstimatorBase.fit"
   ]
  },
  {
   "cell_type": "code",
   "execution_count": null,
   "id": "03e2ac49",
   "metadata": {},
   "outputs": [],
   "source": [
    "local_lightgbm.fit({'train':train_location, 'validation': valid_location})"
   ]
  },
  {
   "cell_type": "markdown",
   "id": "76e77979",
   "metadata": {},
   "source": [
    "ローカルモードの学習結果は\n",
    "\n",
    "Amazon S3\n",
    "Buckets\n",
    "sagemaker-us-west-2-805433377179\n",
    "sagemaker-lightgbm-regression-2022-10-03-06-17-32-054/\n",
    "\n",
    "に出力されます。\n"
   ]
  },
  {
   "cell_type": "markdown",
   "id": "80282202",
   "metadata": {},
   "source": [
    "## 2-5.ローカルデプロイ\n",
    "\n",
    "serializer : インプットデータの形式を指定します。\n",
    "https://sagemaker.readthedocs.io/en/stable/v2.html"
   ]
  },
  {
   "cell_type": "code",
   "execution_count": null,
   "id": "d10b9197",
   "metadata": {},
   "outputs": [],
   "source": [
    "local_predictor = local_lightgbm.deploy(1, 'local', serializer=sagemaker.serializers.CSVSerializer()) "
   ]
  },
  {
   "cell_type": "code",
   "execution_count": null,
   "id": "fe4b3819",
   "metadata": {},
   "outputs": [],
   "source": [
    "!docker ps"
   ]
  },
  {
   "cell_type": "code",
   "execution_count": null,
   "id": "d1d43ae1",
   "metadata": {},
   "outputs": [],
   "source": [
    "# 起動中のコンテナを停止する場合\n",
    "#!docker stop XXXXXXXXXXX #XXXXXXXXXXXは CONtAINER ID\n",
    "#!docker ps"
   ]
  },
  {
   "cell_type": "markdown",
   "id": "233ca002",
   "metadata": {},
   "source": [
    "## 2-6.ローカルエンドポイントで推論実施"
   ]
  },
  {
   "cell_type": "code",
   "execution_count": null,
   "id": "17d3405b",
   "metadata": {},
   "outputs": [],
   "source": [
    "# 推論実行\n",
    "with open(local_test, 'r') as f:\n",
    "    payload = f.read().strip()\n",
    "\n",
    "predicted = local_predictor.predict(payload).decode('utf-8')\n",
    "print('=' * 20)\n",
    "print(predicted)"
   ]
  },
  {
   "cell_type": "markdown",
   "id": "83908e49",
   "metadata": {},
   "source": [
    "## 2-7.学習ジョブを発行\n",
    "次は、ローカルモードではなく、\n",
    "同じカスタムコンテナで、学習ジョブを実行します。"
   ]
  },
  {
   "cell_type": "code",
   "execution_count": null,
   "id": "d7ec0f86",
   "metadata": {},
   "outputs": [],
   "source": [
    "# 確認\n",
    "print(train_s3)\n",
    "print(valid_s3)"
   ]
  },
  {
   "cell_type": "code",
   "execution_count": null,
   "id": "54baeaed",
   "metadata": {},
   "outputs": [],
   "source": [
    "est_lightgbm = Estimator(\n",
    "    image_uri,\n",
    "    role,\n",
    "    instance_count=1,\n",
    "    instance_type=\"ml.m4.2xlarge\", # インスタンスタイプを指定\n",
    "    hyperparameters=hyperparameters)"
   ]
  },
  {
   "cell_type": "code",
   "execution_count": null,
   "id": "54135087",
   "metadata": {},
   "outputs": [],
   "source": [
    "est_lightgbm.fit({'train':train_s3, 'validation': valid_s3})"
   ]
  },
  {
   "cell_type": "markdown",
   "id": "d489ca32",
   "metadata": {},
   "source": [
    "学習には3分ほど時間がかかります。\n",
    "\n",
    "課金されるのは75秒ほどです。"
   ]
  },
  {
   "cell_type": "markdown",
   "id": "28ae400c",
   "metadata": {},
   "source": [
    "## 2-8.エンドポイントにデプロイ\n",
    "\n",
    "デプロイすると、\n",
    "SageMaker は docker run <image> serveを実行します。\n",
    "\n",
    "    \n",
    "デプロイには3分ほどかかります。"
   ]
  },
  {
   "cell_type": "code",
   "execution_count": 23,
   "id": "2621c67b",
   "metadata": {},
   "outputs": [],
   "source": [
    "from sagemaker.predictor import csv_serializer"
   ]
  },
  {
   "cell_type": "markdown",
   "id": "4f6b6ce3",
   "metadata": {},
   "source": [
    "deployメソッドで、推論エンドポイントをデプロイします。\n",
    "\n",
    "https://sagemaker.readthedocs.io/en/stable/api/training/estimators.html#sagemaker.estimator.EstimatorBase.deploy"
   ]
  },
  {
   "cell_type": "code",
   "execution_count": null,
   "id": "b9063931",
   "metadata": {},
   "outputs": [],
   "source": [
    "predictor = est_lightgbm.deploy(1, 'ml.m4.xlarge', serializer=csv_serializer, wait=True)"
   ]
  },
  {
   "cell_type": "code",
   "execution_count": null,
   "id": "44171cd8",
   "metadata": {},
   "outputs": [],
   "source": [
    "### 推論実行\n",
    "with open(local_test, 'r') as f:\n",
    "    payload = f.read().strip()\n",
    "\n",
    "predicted = predictor.predict(payload).decode('utf-8')\n",
    "print(predicted)"
   ]
  },
  {
   "cell_type": "markdown",
   "id": "66795a71",
   "metadata": {},
   "source": [
    "# 3. 実行ファイルを外部から指定する\n",
    "\n",
    "「2.LightGBMカスタムコンテナの構築」ではカスタムコンテナ内に学習起動スクリプトtrainを配置しましたが、\n",
    "ソースコードを修正するごとにコンテナを作り替える必要があります。\n",
    "\n",
    "保守性を上げるには、コンテナ（環境）とソースコードを分けた方がいい場合もあります。\n",
    "以下では外部からスクリプトファイルを指定する方法を紹介します。"
   ]
  },
  {
   "cell_type": "markdown",
   "id": "f51fbe64",
   "metadata": {},
   "source": [
    "## 3-0.SageMaker Training Toolkitとは\n",
    "外部からスクリプトを指定するためには、SageMaker Training Toolkitを導入します。\n",
    "\n",
    "https://github.com/aws/sagemaker-training-toolkit\n",
    "\n",
    "\n",
    "trainコマンドが  \n",
    "/opt/conca/bin/train  \n",
    "にインストールされます。  \n",
    "\n",
    "\n",
    "先程のdockerfileに追記します。\n",
    "資材からは、trainを除外しておきます。trainを含んだままの場合、\n",
    "docker run <image> train\n",
    "を実行したときに、カレントディレクトリのtrainスクリプトが実行されてしまい、training toolkitが導入した　trainコマンドが実行できないためです。"
   ]
  },
  {
   "cell_type": "markdown",
   "id": "c0d01098",
   "metadata": {},
   "source": [
    "## 3-1. Dockerfile確認"
   ]
  },
  {
   "cell_type": "code",
   "execution_count": null,
   "id": "9e67945e",
   "metadata": {},
   "outputs": [],
   "source": [
    "!pygmentize ./container_smtrtoolkit/Dockerfile"
   ]
  },
  {
   "cell_type": "markdown",
   "id": "87e33b71",
   "metadata": {},
   "source": [
    "## 3-2. build & push"
   ]
  },
  {
   "cell_type": "code",
   "execution_count": null,
   "id": "c60f264e",
   "metadata": {},
   "outputs": [],
   "source": [
    "%%sh\n",
    "\n",
    "# The name of our algorithm\n",
    "algorithm_name=sagemaker-toolkit\n",
    "\n",
    "#cd container\n",
    "cd container_smtrtoolkit ### 変更点\n",
    "\n",
    "#chmod +x lightgbm_regression/train ### 変更点\n",
    "chmod +x lightgbm_regression/serve\n",
    "\n",
    "account=$(aws sts get-caller-identity --query Account --output text)\n",
    "\n",
    "# Get the region defined in the current configuration (default to ap-northeast-1 if none defined)\n",
    "region=$(aws configure get region)\n",
    "region=${region:-ap-northeast-1}\n",
    "\n",
    "fullname=\"${account}.dkr.ecr.${region}.amazonaws.com/${algorithm_name}:latest\"\n",
    "\n",
    "# If the repository doesn't exist in ECR, create it.\n",
    "aws ecr describe-repositories --repository-names \"${algorithm_name}\" > /dev/null 2>&1\n",
    "\n",
    "if [ $? -ne 0 ]\n",
    "then\n",
    "    aws ecr create-repository --repository-name \"${algorithm_name}\" > /dev/null\n",
    "fi\n",
    "\n",
    "# Get the login command from ECR and execute it directly\n",
    "aws ecr get-login-password --region ${region}|docker login --username AWS --password-stdin ${fullname}\n",
    "\n",
    "# Build the docker image locally with the image name and then push it to ECR\n",
    "# with the full name.\n",
    "\n",
    "docker build -t ${algorithm_name} .\n",
    "docker tag ${algorithm_name} ${fullname}\n",
    "\n",
    "docker push ${fullname}\n"
   ]
  },
  {
   "cell_type": "markdown",
   "id": "81c7edf9",
   "metadata": {},
   "source": [
    "## 3-3.学習(ローカル)"
   ]
  },
  {
   "cell_type": "code",
   "execution_count": null,
   "id": "a1ea3f3c",
   "metadata": {},
   "outputs": [],
   "source": [
    "image_uri_toolkit = f'{account_id}.dkr.ecr.{region_name}.amazonaws.com/sagemaker-toolkit'"
   ]
  },
  {
   "cell_type": "code",
   "execution_count": null,
   "id": "9bb4cd64",
   "metadata": {},
   "outputs": [],
   "source": [
    "# 確認\n",
    "image_uri_toolkit"
   ]
  },
  {
   "cell_type": "code",
   "execution_count": null,
   "id": "98681f50",
   "metadata": {},
   "outputs": [],
   "source": [
    "est_lightgbm_toolkit = Estimator(\n",
    "    image_uri_toolkit,\n",
    "    role,\n",
    "    instance_count=1,\n",
    "    instance_type=\"local\",\n",
    "    hyperparameters=hyperparameters,\n",
    "    entry_point='./src/train_practice.py'\n",
    "    )"
   ]
  },
  {
   "cell_type": "code",
   "execution_count": null,
   "id": "b2f4257b",
   "metadata": {},
   "outputs": [],
   "source": [
    "est_lightgbm_toolkit.fit({'train':train_s3, 'validation': valid_s3})"
   ]
  },
  {
   "cell_type": "markdown",
   "id": "81aa00a1",
   "metadata": {},
   "source": [
    "ローカルモードで学習することができました。別のスクリプトを指定してみましょう。"
   ]
  },
  {
   "cell_type": "code",
   "execution_count": null,
   "id": "994cb0b1",
   "metadata": {},
   "outputs": [],
   "source": [
    "est_lightgbm_toolkit2 = Estimator(\n",
    "    image_uri_toolkit,\n",
    "    role,\n",
    "    instance_count=1,\n",
    "    instance_type=\"local\",\n",
    "    hyperparameters=hyperparameters,\n",
    "    #entry_point='./src/train_practice.py'\n",
    "    entry_point='./src/train_practice.sh' ### シェルスクリプトに変更\n",
    "    )"
   ]
  },
  {
   "cell_type": "code",
   "execution_count": null,
   "id": "be7f7d0d",
   "metadata": {},
   "outputs": [],
   "source": [
    "est_lightgbm_toolkit2.fit({'train':train_s3, 'validation': valid_s3})"
   ]
  },
  {
   "cell_type": "markdown",
   "id": "46b2a2f0",
   "metadata": {},
   "source": [
    "コンテナ外部から任意のファイルを実行することが確認できました。"
   ]
  },
  {
   "cell_type": "markdown",
   "id": "ae5d3101",
   "metadata": {},
   "source": [
    "## （optional）4. カスタムコンテナを使わず、built-inコンテナのrequirement.txtにlightgbmを記載して実行する\n",
    "\n",
    "\n",
    "\n",
    "過去バージョン（1.3-3, 1.2-2, 1.2-1, 1.0-1)はこちら\n",
    "\n",
    "https://github.com/aws/sagemaker-xgboost-container/releases\n"
   ]
  },
  {
   "cell_type": "code",
   "execution_count": 24,
   "id": "966c7d42",
   "metadata": {},
   "outputs": [],
   "source": [
    "container_uri = sagemaker.image_uris.retrieve(\"xgboost\", region_name, \"1.5-1\")"
   ]
  },
  {
   "cell_type": "code",
   "execution_count": 25,
   "id": "9ce52092",
   "metadata": {},
   "outputs": [
    {
     "data": {
      "text/plain": [
       "'354813040037.dkr.ecr.ap-northeast-1.amazonaws.com/sagemaker-xgboost:1.5-1'"
      ]
     },
     "execution_count": 25,
     "metadata": {},
     "output_type": "execute_result"
    }
   ],
   "source": [
    "container_uri"
   ]
  },
  {
   "cell_type": "code",
   "execution_count": 67,
   "id": "f968b33e",
   "metadata": {},
   "outputs": [],
   "source": [
    "est_xgb = Estimator(\n",
    "    container_uri, # xgboostのbuilt-inコンテナ\n",
    "    role,\n",
    "    instance_count=1,\n",
    "    instance_type=\"local\",\n",
    "    hyperparameters=hyperparameters,\n",
    "    source_dir='./src_builtin_container',\n",
    "    entry_point='train_practice.py'\n",
    "    )"
   ]
  },
  {
   "cell_type": "code",
   "execution_count": 68,
   "id": "3f8ecfa8",
   "metadata": {},
   "outputs": [
    {
     "data": {
      "text/plain": [
       "[1, 2, 3, 4, 5]"
      ]
     },
     "execution_count": 68,
     "metadata": {},
     "output_type": "execute_result"
    }
   ],
   "source": [
    "[1,2,3,4,5]"
   ]
  },
  {
   "cell_type": "code",
   "execution_count": 69,
   "id": "abbf46fe",
   "metadata": {},
   "outputs": [
    {
     "name": "stdout",
     "output_type": "stream",
     "text": [
      "Creating 46cx9f4qks-algo-1-cn0lk ... \n",
      "Creating 46cx9f4qks-algo-1-cn0lk ... done\n",
      "Attaching to 46cx9f4qks-algo-1-cn0lk\n",
      "\u001b[36m46cx9f4qks-algo-1-cn0lk |\u001b[0m [2022-10-15 06:58:32.707 ee3916c08eca:1 INFO utils.py:27] RULE_JOB_STOP_SIGNAL_FILENAME: None\n",
      "\u001b[36m46cx9f4qks-algo-1-cn0lk |\u001b[0m [2022-10-15:06:58:32:INFO] Imported framework sagemaker_xgboost_container.training\n",
      "\u001b[36m46cx9f4qks-algo-1-cn0lk |\u001b[0m [2022-10-15:06:58:32:INFO] Failed to parse hyperparameter boosting_type value gbdt to Json.\n",
      "\u001b[36m46cx9f4qks-algo-1-cn0lk |\u001b[0m Returning the value itself\n",
      "\u001b[36m46cx9f4qks-algo-1-cn0lk |\u001b[0m [2022-10-15:06:58:32:INFO] Failed to parse hyperparameter objective value regression to Json.\n",
      "\u001b[36m46cx9f4qks-algo-1-cn0lk |\u001b[0m Returning the value itself\n",
      "\u001b[36m46cx9f4qks-algo-1-cn0lk |\u001b[0m [2022-10-15:06:58:32:INFO] No GPUs detected (normal if no gpus installed)\n",
      "\u001b[36m46cx9f4qks-algo-1-cn0lk |\u001b[0m [2022-10-15:06:58:32:INFO] Invoking user training script.\n",
      "\u001b[36m46cx9f4qks-algo-1-cn0lk |\u001b[0m [2022-10-15:06:58:33:INFO] Module train_practice does not provide a setup.py. \n",
      "\u001b[36m46cx9f4qks-algo-1-cn0lk |\u001b[0m Generating setup.py\n",
      "\u001b[36m46cx9f4qks-algo-1-cn0lk |\u001b[0m [2022-10-15:06:58:33:INFO] Generating setup.cfg\n",
      "\u001b[36m46cx9f4qks-algo-1-cn0lk |\u001b[0m [2022-10-15:06:58:33:INFO] Generating MANIFEST.in\n",
      "\u001b[36m46cx9f4qks-algo-1-cn0lk |\u001b[0m [2022-10-15:06:58:33:INFO] Installing module with the following command:\n",
      "\u001b[36m46cx9f4qks-algo-1-cn0lk |\u001b[0m /miniconda3/bin/python3 -m pip install . -r requirements.txt\n",
      "\u001b[36m46cx9f4qks-algo-1-cn0lk |\u001b[0m Processing /opt/ml/code\n",
      "\u001b[36m46cx9f4qks-algo-1-cn0lk |\u001b[0m   Preparing metadata (setup.py) ... \u001b[?25ldone\n",
      "\u001b[36m46cx9f4qks-algo-1-cn0lk |\u001b[0m \u001b[?25hCollecting lightgbm\n",
      "\u001b[36m46cx9f4qks-algo-1-cn0lk |\u001b[0m   Downloading lightgbm-3.3.3-py3-none-manylinux1_x86_64.whl (2.0 MB)\n",
      "\u001b[2K     \u001b[90m━━━━━━━━━━━━━━━━━━━━━━━━━━━━━━━━━━━━━━━━\u001b[0m \u001b[32m2.0/2.0 MB\u001b[0m \u001b[31m60.0 MB/s\u001b[0m eta \u001b[36m0:00:00\u001b[0m31m?\u001b[0m eta \u001b[36m-:--:--\u001b[0m\n",
      "\u001b[36m46cx9f4qks-algo-1-cn0lk |\u001b[0m \u001b[?25hRequirement already satisfied: numpy in /miniconda3/lib/python3.8/site-packages (from lightgbm->-r requirements.txt (line 1)) (1.19.2)\n",
      "\u001b[36m46cx9f4qks-algo-1-cn0lk |\u001b[0m Requirement already satisfied: scikit-learn!=0.22.0 in /miniconda3/lib/python3.8/site-packages (from lightgbm->-r requirements.txt (line 1)) (0.24.1)\n",
      "\u001b[36m46cx9f4qks-algo-1-cn0lk |\u001b[0m Requirement already satisfied: scipy in /miniconda3/lib/python3.8/site-packages (from lightgbm->-r requirements.txt (line 1)) (1.6.2)\n",
      "\u001b[36m46cx9f4qks-algo-1-cn0lk |\u001b[0m Requirement already satisfied: wheel in /miniconda3/lib/python3.8/site-packages (from lightgbm->-r requirements.txt (line 1)) (0.36.2)\n",
      "\u001b[36m46cx9f4qks-algo-1-cn0lk |\u001b[0m Requirement already satisfied: joblib>=0.11 in /miniconda3/lib/python3.8/site-packages (from scikit-learn!=0.22.0->lightgbm->-r requirements.txt (line 1)) (1.2.0)\n",
      "\u001b[36m46cx9f4qks-algo-1-cn0lk |\u001b[0m Requirement already satisfied: threadpoolctl>=2.0.0 in /miniconda3/lib/python3.8/site-packages (from scikit-learn!=0.22.0->lightgbm->-r requirements.txt (line 1)) (3.1.0)\n",
      "\u001b[36m46cx9f4qks-algo-1-cn0lk |\u001b[0m Building wheels for collected packages: train-practice\n",
      "\u001b[36m46cx9f4qks-algo-1-cn0lk |\u001b[0m   Building wheel for train-practice (setup.py) ... \u001b[?25ldone\n",
      "\u001b[36m46cx9f4qks-algo-1-cn0lk |\u001b[0m \u001b[?25h  Created wheel for train-practice: filename=train_practice-1.0.0-py2.py3-none-any.whl size=12455 sha256=7dbb5ca19a2d4518a3806fa5ee9bd6bb70785c1f82453bb32411cb6d6e2b2aa1\n",
      "\u001b[36m46cx9f4qks-algo-1-cn0lk |\u001b[0m   Stored in directory: /home/model-server/tmp/pip-ephem-wheel-cache-mi4c01xc/wheels/f3/75/57/158162e9eab7af12b5c338c279b3a81f103b89d74eeb911c00\n",
      "\u001b[36m46cx9f4qks-algo-1-cn0lk |\u001b[0m Successfully built train-practice\n",
      "\u001b[36m46cx9f4qks-algo-1-cn0lk |\u001b[0m Installing collected packages: train-practice, lightgbm\n",
      "\u001b[36m46cx9f4qks-algo-1-cn0lk |\u001b[0m Successfully installed lightgbm-3.3.3 train-practice-1.0.0\n",
      "\u001b[36m46cx9f4qks-algo-1-cn0lk |\u001b[0m \u001b[33mWARNING: Running pip as the 'root' user can result in broken permissions and conflicting behaviour with the system package manager. It is recommended to use a virtual environment instead: https://pip.pypa.io/warnings/venv\u001b[0m\u001b[33m\n",
      "\u001b[36m46cx9f4qks-algo-1-cn0lk |\u001b[0m \u001b[0m[2022-10-15:06:58:34:INFO] Failed to parse hyperparameter boosting_type value gbdt to Json.\n",
      "\u001b[36m46cx9f4qks-algo-1-cn0lk |\u001b[0m Returning the value itself\n",
      "\u001b[36m46cx9f4qks-algo-1-cn0lk |\u001b[0m [2022-10-15:06:58:34:INFO] Failed to parse hyperparameter objective value regression to Json.\n",
      "\u001b[36m46cx9f4qks-algo-1-cn0lk |\u001b[0m Returning the value itself\n",
      "\u001b[36m46cx9f4qks-algo-1-cn0lk |\u001b[0m [2022-10-15:06:58:34:INFO] No GPUs detected (normal if no gpus installed)\n",
      "\u001b[36m46cx9f4qks-algo-1-cn0lk |\u001b[0m [2022-10-15:06:58:34:INFO] Invoking user script\n",
      "\u001b[36m46cx9f4qks-algo-1-cn0lk |\u001b[0m \n",
      "\u001b[36m46cx9f4qks-algo-1-cn0lk |\u001b[0m Training Env:\n",
      "\u001b[36m46cx9f4qks-algo-1-cn0lk |\u001b[0m \n",
      "\u001b[36m46cx9f4qks-algo-1-cn0lk |\u001b[0m {\n",
      "\u001b[36m46cx9f4qks-algo-1-cn0lk |\u001b[0m     \"additional_framework_parameters\": {},\n",
      "\u001b[36m46cx9f4qks-algo-1-cn0lk |\u001b[0m     \"channel_input_dirs\": {\n",
      "\u001b[36m46cx9f4qks-algo-1-cn0lk |\u001b[0m         \"train\": \"/opt/ml/input/data/train\",\n",
      "\u001b[36m46cx9f4qks-algo-1-cn0lk |\u001b[0m         \"validation\": \"/opt/ml/input/data/validation\"\n",
      "\u001b[36m46cx9f4qks-algo-1-cn0lk |\u001b[0m     },\n",
      "\u001b[36m46cx9f4qks-algo-1-cn0lk |\u001b[0m     \"current_host\": \"algo-1-cn0lk\",\n",
      "\u001b[36m46cx9f4qks-algo-1-cn0lk |\u001b[0m     \"framework_module\": \"sagemaker_xgboost_container.training:main\",\n",
      "\u001b[36m46cx9f4qks-algo-1-cn0lk |\u001b[0m     \"hosts\": [\n",
      "\u001b[36m46cx9f4qks-algo-1-cn0lk |\u001b[0m         \"algo-1-cn0lk\"\n",
      "\u001b[36m46cx9f4qks-algo-1-cn0lk |\u001b[0m     ],\n",
      "\u001b[36m46cx9f4qks-algo-1-cn0lk |\u001b[0m     \"hyperparameters\": {\n",
      "\u001b[36m46cx9f4qks-algo-1-cn0lk |\u001b[0m         \"boosting_type\": \"gbdt\",\n",
      "\u001b[36m46cx9f4qks-algo-1-cn0lk |\u001b[0m         \"objective\": \"regression\",\n",
      "\u001b[36m46cx9f4qks-algo-1-cn0lk |\u001b[0m         \"num_leaves\": 31,\n",
      "\u001b[36m46cx9f4qks-algo-1-cn0lk |\u001b[0m         \"learning_rate\": 0.05,\n",
      "\u001b[36m46cx9f4qks-algo-1-cn0lk |\u001b[0m         \"feature_fraction\": 0.9,\n",
      "\u001b[36m46cx9f4qks-algo-1-cn0lk |\u001b[0m         \"bagging_fraction\": 0.8,\n",
      "\u001b[36m46cx9f4qks-algo-1-cn0lk |\u001b[0m         \"bagging_freq\": 5,\n",
      "\u001b[36m46cx9f4qks-algo-1-cn0lk |\u001b[0m         \"verbose\": 0\n",
      "\u001b[36m46cx9f4qks-algo-1-cn0lk |\u001b[0m     },\n",
      "\u001b[36m46cx9f4qks-algo-1-cn0lk |\u001b[0m     \"input_config_dir\": \"/opt/ml/input/config\",\n",
      "\u001b[36m46cx9f4qks-algo-1-cn0lk |\u001b[0m     \"input_data_config\": {\n",
      "\u001b[36m46cx9f4qks-algo-1-cn0lk |\u001b[0m         \"train\": {\n",
      "\u001b[36m46cx9f4qks-algo-1-cn0lk |\u001b[0m             \"TrainingInputMode\": \"File\"\n",
      "\u001b[36m46cx9f4qks-algo-1-cn0lk |\u001b[0m         },\n",
      "\u001b[36m46cx9f4qks-algo-1-cn0lk |\u001b[0m         \"validation\": {\n",
      "\u001b[36m46cx9f4qks-algo-1-cn0lk |\u001b[0m             \"TrainingInputMode\": \"File\"\n",
      "\u001b[36m46cx9f4qks-algo-1-cn0lk |\u001b[0m         }\n",
      "\u001b[36m46cx9f4qks-algo-1-cn0lk |\u001b[0m     },\n",
      "\u001b[36m46cx9f4qks-algo-1-cn0lk |\u001b[0m     \"input_dir\": \"/opt/ml/input\",\n",
      "\u001b[36m46cx9f4qks-algo-1-cn0lk |\u001b[0m     \"is_master\": true,\n",
      "\u001b[36m46cx9f4qks-algo-1-cn0lk |\u001b[0m     \"job_name\": \"sagemaker-xgboost-2022-10-15-06-58-29-510\",\n",
      "\u001b[36m46cx9f4qks-algo-1-cn0lk |\u001b[0m     \"log_level\": 20,\n",
      "\u001b[36m46cx9f4qks-algo-1-cn0lk |\u001b[0m     \"master_hostname\": \"algo-1-cn0lk\",\n",
      "\u001b[36m46cx9f4qks-algo-1-cn0lk |\u001b[0m     \"model_dir\": \"/opt/ml/model\",\n",
      "\u001b[36m46cx9f4qks-algo-1-cn0lk |\u001b[0m     \"module_dir\": \"s3://sagemaker-ap-northeast-1-805433377179/sagemaker-xgboost-2022-10-15-06-58-29-510/source/sourcedir.tar.gz\",\n",
      "\u001b[36m46cx9f4qks-algo-1-cn0lk |\u001b[0m     \"module_name\": \"train_practice\",\n",
      "\u001b[36m46cx9f4qks-algo-1-cn0lk |\u001b[0m     \"network_interface_name\": \"eth0\",\n",
      "\u001b[36m46cx9f4qks-algo-1-cn0lk |\u001b[0m     \"num_cpus\": 2,\n",
      "\u001b[36m46cx9f4qks-algo-1-cn0lk |\u001b[0m     \"num_gpus\": 0,\n",
      "\u001b[36m46cx9f4qks-algo-1-cn0lk |\u001b[0m     \"output_data_dir\": \"/opt/ml/output/data\",\n",
      "\u001b[36m46cx9f4qks-algo-1-cn0lk |\u001b[0m     \"output_dir\": \"/opt/ml/output\",\n",
      "\u001b[36m46cx9f4qks-algo-1-cn0lk |\u001b[0m     \"output_intermediate_dir\": \"/opt/ml/output/intermediate\",\n",
      "\u001b[36m46cx9f4qks-algo-1-cn0lk |\u001b[0m     \"resource_config\": {\n",
      "\u001b[36m46cx9f4qks-algo-1-cn0lk |\u001b[0m         \"current_host\": \"algo-1-cn0lk\",\n",
      "\u001b[36m46cx9f4qks-algo-1-cn0lk |\u001b[0m         \"hosts\": [\n",
      "\u001b[36m46cx9f4qks-algo-1-cn0lk |\u001b[0m             \"algo-1-cn0lk\"\n",
      "\u001b[36m46cx9f4qks-algo-1-cn0lk |\u001b[0m         ]\n",
      "\u001b[36m46cx9f4qks-algo-1-cn0lk |\u001b[0m     },\n",
      "\u001b[36m46cx9f4qks-algo-1-cn0lk |\u001b[0m     \"user_entry_point\": \"train_practice.py\"\n",
      "\u001b[36m46cx9f4qks-algo-1-cn0lk |\u001b[0m }\n",
      "\u001b[36m46cx9f4qks-algo-1-cn0lk |\u001b[0m \n",
      "\u001b[36m46cx9f4qks-algo-1-cn0lk |\u001b[0m Environment variables:\n",
      "\u001b[36m46cx9f4qks-algo-1-cn0lk |\u001b[0m \n",
      "\u001b[36m46cx9f4qks-algo-1-cn0lk |\u001b[0m SM_HOSTS=[\"algo-1-cn0lk\"]\n",
      "\u001b[36m46cx9f4qks-algo-1-cn0lk |\u001b[0m SM_NETWORK_INTERFACE_NAME=eth0\n",
      "\u001b[36m46cx9f4qks-algo-1-cn0lk |\u001b[0m SM_HPS={\"bagging_fraction\":0.8,\"bagging_freq\":5,\"boosting_type\":\"gbdt\",\"feature_fraction\":0.9,\"learning_rate\":0.05,\"num_leaves\":31,\"objective\":\"regression\",\"verbose\":0}\n",
      "\u001b[36m46cx9f4qks-algo-1-cn0lk |\u001b[0m SM_USER_ENTRY_POINT=train_practice.py\n",
      "\u001b[36m46cx9f4qks-algo-1-cn0lk |\u001b[0m SM_FRAMEWORK_PARAMS={}\n",
      "\u001b[36m46cx9f4qks-algo-1-cn0lk |\u001b[0m SM_RESOURCE_CONFIG={\"current_host\":\"algo-1-cn0lk\",\"hosts\":[\"algo-1-cn0lk\"]}\n",
      "\u001b[36m46cx9f4qks-algo-1-cn0lk |\u001b[0m SM_INPUT_DATA_CONFIG={\"train\":{\"TrainingInputMode\":\"File\"},\"validation\":{\"TrainingInputMode\":\"File\"}}\n",
      "\u001b[36m46cx9f4qks-algo-1-cn0lk |\u001b[0m SM_OUTPUT_DATA_DIR=/opt/ml/output/data\n",
      "\u001b[36m46cx9f4qks-algo-1-cn0lk |\u001b[0m SM_CHANNELS=[\"train\",\"validation\"]\n",
      "\u001b[36m46cx9f4qks-algo-1-cn0lk |\u001b[0m SM_CURRENT_HOST=algo-1-cn0lk\n",
      "\u001b[36m46cx9f4qks-algo-1-cn0lk |\u001b[0m SM_MODULE_NAME=train_practice\n",
      "\u001b[36m46cx9f4qks-algo-1-cn0lk |\u001b[0m SM_LOG_LEVEL=20\n",
      "\u001b[36m46cx9f4qks-algo-1-cn0lk |\u001b[0m SM_FRAMEWORK_MODULE=sagemaker_xgboost_container.training:main\n",
      "\u001b[36m46cx9f4qks-algo-1-cn0lk |\u001b[0m SM_INPUT_DIR=/opt/ml/input\n",
      "\u001b[36m46cx9f4qks-algo-1-cn0lk |\u001b[0m SM_INPUT_CONFIG_DIR=/opt/ml/input/config\n",
      "\u001b[36m46cx9f4qks-algo-1-cn0lk |\u001b[0m SM_OUTPUT_DIR=/opt/ml/output\n",
      "\u001b[36m46cx9f4qks-algo-1-cn0lk |\u001b[0m SM_NUM_CPUS=2\n",
      "\u001b[36m46cx9f4qks-algo-1-cn0lk |\u001b[0m SM_NUM_GPUS=0\n",
      "\u001b[36m46cx9f4qks-algo-1-cn0lk |\u001b[0m SM_MODEL_DIR=/opt/ml/model\n",
      "\u001b[36m46cx9f4qks-algo-1-cn0lk |\u001b[0m SM_MODULE_DIR=s3://sagemaker-ap-northeast-1-805433377179/sagemaker-xgboost-2022-10-15-06-58-29-510/source/sourcedir.tar.gz\n",
      "\u001b[36m46cx9f4qks-algo-1-cn0lk |\u001b[0m SM_TRAINING_ENV={\"additional_framework_parameters\":{},\"channel_input_dirs\":{\"train\":\"/opt/ml/input/data/train\",\"validation\":\"/opt/ml/input/data/validation\"},\"current_host\":\"algo-1-cn0lk\",\"framework_module\":\"sagemaker_xgboost_container.training:main\",\"hosts\":[\"algo-1-cn0lk\"],\"hyperparameters\":{\"bagging_fraction\":0.8,\"bagging_freq\":5,\"boosting_type\":\"gbdt\",\"feature_fraction\":0.9,\"learning_rate\":0.05,\"num_leaves\":31,\"objective\":\"regression\",\"verbose\":0},\"input_config_dir\":\"/opt/ml/input/config\",\"input_data_config\":{\"train\":{\"TrainingInputMode\":\"File\"},\"validation\":{\"TrainingInputMode\":\"File\"}},\"input_dir\":\"/opt/ml/input\",\"is_master\":true,\"job_name\":\"sagemaker-xgboost-2022-10-15-06-58-29-510\",\"log_level\":20,\"master_hostname\":\"algo-1-cn0lk\",\"model_dir\":\"/opt/ml/model\",\"module_dir\":\"s3://sagemaker-ap-northeast-1-805433377179/sagemaker-xgboost-2022-10-15-06-58-29-510/source/sourcedir.tar.gz\",\"module_name\":\"train_practice\",\"network_interface_name\":\"eth0\",\"num_cpus\":2,\"num_gpus\":0,\"output_data_dir\":\"/opt/ml/output/data\",\"output_dir\":\"/opt/ml/output\",\"output_intermediate_dir\":\"/opt/ml/output/intermediate\",\"resource_config\":{\"current_host\":\"algo-1-cn0lk\",\"hosts\":[\"algo-1-cn0lk\"]},\"user_entry_point\":\"train_practice.py\"}\n",
      "\u001b[36m46cx9f4qks-algo-1-cn0lk |\u001b[0m SM_USER_ARGS=[\"--bagging_fraction\",\"0.8\",\"--bagging_freq\",\"5\",\"--boosting_type\",\"gbdt\",\"--feature_fraction\",\"0.9\",\"--learning_rate\",\"0.05\",\"--num_leaves\",\"31\",\"--objective\",\"regression\",\"--verbose\",\"0\"]\n",
      "\u001b[36m46cx9f4qks-algo-1-cn0lk |\u001b[0m SM_OUTPUT_INTERMEDIATE_DIR=/opt/ml/output/intermediate\n",
      "\u001b[36m46cx9f4qks-algo-1-cn0lk |\u001b[0m SM_CHANNEL_TRAIN=/opt/ml/input/data/train\n",
      "\u001b[36m46cx9f4qks-algo-1-cn0lk |\u001b[0m SM_CHANNEL_VALIDATION=/opt/ml/input/data/validation\n",
      "\u001b[36m46cx9f4qks-algo-1-cn0lk |\u001b[0m SM_HP_BOOSTING_TYPE=gbdt\n",
      "\u001b[36m46cx9f4qks-algo-1-cn0lk |\u001b[0m SM_HP_OBJECTIVE=regression\n",
      "\u001b[36m46cx9f4qks-algo-1-cn0lk |\u001b[0m SM_HP_NUM_LEAVES=31\n",
      "\u001b[36m46cx9f4qks-algo-1-cn0lk |\u001b[0m SM_HP_LEARNING_RATE=0.05\n",
      "\u001b[36m46cx9f4qks-algo-1-cn0lk |\u001b[0m SM_HP_FEATURE_FRACTION=0.9\n",
      "\u001b[36m46cx9f4qks-algo-1-cn0lk |\u001b[0m SM_HP_BAGGING_FRACTION=0.8\n",
      "\u001b[36m46cx9f4qks-algo-1-cn0lk |\u001b[0m SM_HP_BAGGING_FREQ=5\n",
      "\u001b[36m46cx9f4qks-algo-1-cn0lk |\u001b[0m SM_HP_VERBOSE=0\n",
      "\u001b[36m46cx9f4qks-algo-1-cn0lk |\u001b[0m PYTHONPATH=/miniconda3/bin:/:/miniconda3/lib/python/site-packages/xgboost/dmlc-core/tracker:/miniconda3/lib/python38.zip:/miniconda3/lib/python3.8:/miniconda3/lib/python3.8/lib-dynload:/miniconda3/lib/python3.8/site-packages\n",
      "\u001b[36m46cx9f4qks-algo-1-cn0lk |\u001b[0m \n",
      "\u001b[36m46cx9f4qks-algo-1-cn0lk |\u001b[0m Invoking script with the following command:\n",
      "\u001b[36m46cx9f4qks-algo-1-cn0lk |\u001b[0m \n",
      "\u001b[36m46cx9f4qks-algo-1-cn0lk |\u001b[0m /miniconda3/bin/python3 -m train_practice --bagging_fraction 0.8 --bagging_freq 5 --boosting_type gbdt --feature_fraction 0.9 --learning_rate 0.05 --num_leaves 31 --objective regression --verbose 0\n",
      "\u001b[36m46cx9f4qks-algo-1-cn0lk |\u001b[0m \n",
      "\u001b[36m46cx9f4qks-algo-1-cn0lk |\u001b[0m \n",
      "\u001b[36m46cx9f4qks-algo-1-cn0lk |\u001b[0m ===== congraturations! You understand how SageMaker Training Job Works!!! =====\n",
      "\u001b[36m46cx9f4qks-algo-1-cn0lk |\u001b[0m Starting the training.\n",
      "\u001b[36m46cx9f4qks-algo-1-cn0lk |\u001b[0m Reading hyperparameters data: /opt/ml/input/config/hyperparameters.json\n",
      "\u001b[36m46cx9f4qks-algo-1-cn0lk |\u001b[0m hyperparameters_data: {'boosting_type': 'gbdt', 'objective': 'regression', 'num_leaves': '31', 'learning_rate': '0.05', 'feature_fraction': '0.9', 'bagging_fraction': '0.8', 'bagging_freq': '5', 'verbose': '0', 'sagemaker_submit_directory': '\"s3://sagemaker-ap-northeast-1-805433377179/sagemaker-xgboost-2022-10-15-06-58-29-510/source/sourcedir.tar.gz\"', 'sagemaker_program': '\"train_practice.py\"', 'sagemaker_container_log_level': '20', 'sagemaker_job_name': '\"sagemaker-xgboost-2022-10-15-06-58-29-510\"', 'sagemaker_region': '\"ap-northeast-1\"'}\n",
      "\u001b[36m46cx9f4qks-algo-1-cn0lk |\u001b[0m Found train files: ['/opt/ml/input/data/train/boston_train.csv']\n",
      "\u001b[36m46cx9f4qks-algo-1-cn0lk |\u001b[0m Found validation files: ['/opt/ml/input/data/validation/boston_valid.csv']\n",
      "\u001b[36m46cx9f4qks-algo-1-cn0lk |\u001b[0m building training and validation datasets\n",
      "\u001b[36m46cx9f4qks-algo-1-cn0lk |\u001b[0m Starting training...\n",
      "\u001b[36m46cx9f4qks-algo-1-cn0lk |\u001b[0m /miniconda3/lib/python3.8/site-packages/lightgbm/engine.py:181: UserWarning: 'early_stopping_rounds' argument is deprecated and will be removed in a future release of LightGBM. Pass 'early_stopping()' callback via 'callbacks' argument instead.\n",
      "\u001b[36m46cx9f4qks-algo-1-cn0lk |\u001b[0m   _log_warning(\"'early_stopping_rounds' argument is deprecated and will be removed in a future release of LightGBM. \"\n",
      "\u001b[36m46cx9f4qks-algo-1-cn0lk |\u001b[0m [LightGBM] [Warning] Auto-choosing row-wise multi-threading, the overhead of testing was 0.000081 seconds.\n",
      "\u001b[36m46cx9f4qks-algo-1-cn0lk |\u001b[0m You can set `force_row_wise=true` to remove the overhead.\n",
      "\u001b[36m46cx9f4qks-algo-1-cn0lk |\u001b[0m And if memory is not enough, you can set `force_col_wise=true`.\n",
      "\u001b[36m46cx9f4qks-algo-1-cn0lk |\u001b[0m [LightGBM] [Warning] No further splits with positive gain, best gain: -inf\n",
      "\u001b[36m46cx9f4qks-algo-1-cn0lk |\u001b[0m [1]\tvalid_0's l2: 84.4849\n",
      "\u001b[36m46cx9f4qks-algo-1-cn0lk |\u001b[0m Training until validation scores don't improve for 5 rounds\n",
      "\u001b[36m46cx9f4qks-algo-1-cn0lk |\u001b[0m [LightGBM] [Warning] No further splits with positive gain, best gain: -inf\n",
      "\u001b[36m46cx9f4qks-algo-1-cn0lk |\u001b[0m [2]\tvalid_0's l2: 78.6995\n",
      "\u001b[36m46cx9f4qks-algo-1-cn0lk |\u001b[0m [LightGBM] [Warning] No further splits with positive gain, best gain: -inf\n",
      "\u001b[36m46cx9f4qks-algo-1-cn0lk |\u001b[0m [3]\tvalid_0's l2: 73.3733\n",
      "\u001b[36m46cx9f4qks-algo-1-cn0lk |\u001b[0m [LightGBM] [Warning] No further splits with positive gain, best gain: -inf\n",
      "\u001b[36m46cx9f4qks-algo-1-cn0lk |\u001b[0m [4]\tvalid_0's l2: 68.4066\n",
      "\u001b[36m46cx9f4qks-algo-1-cn0lk |\u001b[0m [LightGBM] [Warning] No further splits with positive gain, best gain: -inf\n",
      "\u001b[36m46cx9f4qks-algo-1-cn0lk |\u001b[0m [5]\tvalid_0's l2: 63.9675\n",
      "\u001b[36m46cx9f4qks-algo-1-cn0lk |\u001b[0m [LightGBM] [Warning] No further splits with positive gain, best gain: -inf\n",
      "\u001b[36m46cx9f4qks-algo-1-cn0lk |\u001b[0m [6]\tvalid_0's l2: 60.4495\n",
      "\u001b[36m46cx9f4qks-algo-1-cn0lk |\u001b[0m [LightGBM] [Warning] No further splits with positive gain, best gain: -inf\n",
      "\u001b[36m46cx9f4qks-algo-1-cn0lk |\u001b[0m [7]\tvalid_0's l2: 57.2702\n",
      "\u001b[36m46cx9f4qks-algo-1-cn0lk |\u001b[0m [LightGBM] [Warning] No further splits with positive gain, best gain: -inf\n",
      "\u001b[36m46cx9f4qks-algo-1-cn0lk |\u001b[0m [8]\tvalid_0's l2: 54.3096\n",
      "\u001b[36m46cx9f4qks-algo-1-cn0lk |\u001b[0m [LightGBM] [Warning] No further splits with positive gain, best gain: -inf\n",
      "\u001b[36m46cx9f4qks-algo-1-cn0lk |\u001b[0m [9]\tvalid_0's l2: 51.6438\n",
      "\u001b[36m46cx9f4qks-algo-1-cn0lk |\u001b[0m [LightGBM] [Warning] No further splits with positive gain, best gain: -inf\n",
      "\u001b[36m46cx9f4qks-algo-1-cn0lk |\u001b[0m [10]\tvalid_0's l2: 49.4106\n",
      "\u001b[36m46cx9f4qks-algo-1-cn0lk |\u001b[0m [LightGBM] [Warning] No further splits with positive gain, best gain: -inf\n",
      "\u001b[36m46cx9f4qks-algo-1-cn0lk |\u001b[0m [11]\tvalid_0's l2: 46.871\n",
      "\u001b[36m46cx9f4qks-algo-1-cn0lk |\u001b[0m [LightGBM] [Warning] No further splits with positive gain, best gain: -inf\n",
      "\u001b[36m46cx9f4qks-algo-1-cn0lk |\u001b[0m [12]\tvalid_0's l2: 44.4878\n",
      "\u001b[36m46cx9f4qks-algo-1-cn0lk |\u001b[0m [LightGBM] [Warning] No further splits with positive gain, best gain: -inf\n",
      "\u001b[36m46cx9f4qks-algo-1-cn0lk |\u001b[0m [13]\tvalid_0's l2: 42.2348\n",
      "\u001b[36m46cx9f4qks-algo-1-cn0lk |\u001b[0m [LightGBM] [Warning] No further splits with positive gain, best gain: -inf\n",
      "\u001b[36m46cx9f4qks-algo-1-cn0lk |\u001b[0m [14]\tvalid_0's l2: 40.2703\n",
      "\u001b[36m46cx9f4qks-algo-1-cn0lk |\u001b[0m [LightGBM] [Warning] No further splits with positive gain, best gain: -inf\n",
      "\u001b[36m46cx9f4qks-algo-1-cn0lk |\u001b[0m [15]\tvalid_0's l2: 38.4195\n",
      "\u001b[36m46cx9f4qks-algo-1-cn0lk |\u001b[0m [LightGBM] [Warning] No further splits with positive gain, best gain: -inf\n",
      "\u001b[36m46cx9f4qks-algo-1-cn0lk |\u001b[0m [16]\tvalid_0's l2: 36.6089\n",
      "\u001b[36m46cx9f4qks-algo-1-cn0lk |\u001b[0m [LightGBM] [Warning] No further splits with positive gain, best gain: -inf\n",
      "\u001b[36m46cx9f4qks-algo-1-cn0lk |\u001b[0m [17]\tvalid_0's l2: 34.9745\n",
      "\u001b[36m46cx9f4qks-algo-1-cn0lk |\u001b[0m [LightGBM] [Warning] No further splits with positive gain, best gain: -inf\n",
      "\u001b[36m46cx9f4qks-algo-1-cn0lk |\u001b[0m [18]\tvalid_0's l2: 33.5774\n",
      "\u001b[36m46cx9f4qks-algo-1-cn0lk |\u001b[0m [LightGBM] [Warning] No further splits with positive gain, best gain: -inf\n",
      "\u001b[36m46cx9f4qks-algo-1-cn0lk |\u001b[0m [19]\tvalid_0's l2: 32.1331\n",
      "\u001b[36m46cx9f4qks-algo-1-cn0lk |\u001b[0m [LightGBM] [Warning] No further splits with positive gain, best gain: -inf\n",
      "\u001b[36m46cx9f4qks-algo-1-cn0lk |\u001b[0m [20]\tvalid_0's l2: 30.8945\n",
      "\u001b[36m46cx9f4qks-algo-1-cn0lk |\u001b[0m Did not meet early stopping. Best iteration is:\n",
      "\u001b[36m46cx9f4qks-algo-1-cn0lk |\u001b[0m [20]\tvalid_0's l2: 30.8945\n",
      "\u001b[36m46cx9f4qks-algo-1-cn0lk |\u001b[0m saving model file to /opt/ml/model/lightgbm-regression-model.txt\n",
      "\u001b[36m46cx9f4qks-algo-1-cn0lk |\u001b[0m Training complete.\n",
      "\u001b[36m46cx9f4qks-algo-1-cn0lk exited with code 0\n",
      "\u001b[0mAborting on container exit...\n",
      "===== Job Complete =====\n"
     ]
    }
   ],
   "source": [
    "est_xgb.fit({'train':train_s3, 'validation': valid_s3})"
   ]
  },
  {
   "cell_type": "markdown",
   "id": "6cf5efe7",
   "metadata": {},
   "source": [
    "## 4-2. 推論実施"
   ]
  },
  {
   "cell_type": "markdown",
   "id": "2b744c4d",
   "metadata": {},
   "source": [
    "### 4-2-1.デプロイ\n",
    "\n",
    "https://sagemaker.readthedocs.io/en/stable/api/training/estimators.html#sagemaker.estimator.EstimatorBase.deploy\n",
    "\n",
    "\n",
    "デプロイの際に、ソースコードを指定するにはどうしたらいいのか？\n",
    "\n",
    "https://www.youtube.com/watch?v=sngNd79GpmE&t=596s\n",
    "\n",
    "\n",
    "ポイント：あらためて、Estimatorを定義する必要がある。"
   ]
  },
  {
   "cell_type": "code",
   "execution_count": 71,
   "id": "db3a0b78",
   "metadata": {},
   "outputs": [
    {
     "name": "stdout",
     "output_type": "stream",
     "text": [
      "<sagemaker.estimator.Estimator object at 0x7f78a46d48e0>\n",
      "sagemaker-xgboost\n",
      "None\n",
      "None\n",
      "code\n",
      "None\n",
      "None\n",
      "set()\n",
      "/opt/ml/input/data/code/sourcedir.tar.gz\n",
      "20\n",
      "None\n",
      "[]\n",
      "[]\n",
      "[]\n",
      "None\n",
      "False\n",
      "None\n",
      "False\n",
      "train_practice.py\n",
      "None\n",
      "None\n",
      "354813040037.dkr.ecr.ap-northeast-1.amazonaws.com/sagemaker-xgboost:1.5-1\n",
      "File\n",
      "1\n",
      "None\n",
      "s3://sagemaker-ap-northeast-1-805433377179/sagemaker-xgboost-2022-10-15-06-58-29-510/model.tar.gz\n"
     ]
    }
   ],
   "source": [
    "# 確認\n",
    "print(est_xgb)\n",
    "print(est_xgb.base_job_name)\n",
    "print(est_xgb.checkpoint_local_path)\n",
    "print(est_xgb.checkpoint_s3_uri)\n",
    "print(est_xgb.code_channel_name)\n",
    "print(est_xgb.code_location)\n",
    "print(est_xgb.code_uri)\n",
    "print(est_xgb.collection_configs)\n",
    "print(est_xgb.CONTAINER_CODE_CHANNEL_SOURCEDIR_PATH)\n",
    "print(est_xgb.container_log_level)\n",
    "print(est_xgb.debugger_hook_config)\n",
    "print(est_xgb.debugger_rule_configs)\n",
    "print(est_xgb.debugger_rules)\n",
    "print(est_xgb.dependencies)\n",
    "print(est_xgb.deploy_instance_type)\n",
    "print(est_xgb.disable_profiler)\n",
    "print(est_xgb.enable_sagemaker_metrics)\n",
    "print(est_xgb.encrypt_inter_container_traffic)\n",
    "print(est_xgb.entry_point)\n",
    "print(est_xgb.environment)\n",
    "print(est_xgb.git_config)\n",
    "print(est_xgb.image_uri)\n",
    "print(est_xgb.input_mode)\n",
    "print(est_xgb.instance_count)\n",
    "print(est_xgb.model_uri)\n",
    "print(est_xgb.model_data)\n"
   ]
  },
  {
   "cell_type": "markdown",
   "id": "daeedb8a",
   "metadata": {},
   "source": [
    "### serve用のファイルは、.py かつ、作法に従う必要がある。\n",
    "\n",
    "MMSは.pyを扱うように設計されているため。\n",
    "\n",
    "https://sagemaker.readthedocs.io/en/stable/api/training/estimators.html#sagemaker.estimator.Estimator"
   ]
  },
  {
   "cell_type": "code",
   "execution_count": null,
   "id": "03dfde4b",
   "metadata": {},
   "outputs": [
    {
     "name": "stdout",
     "output_type": "stream",
     "text": [
      "Attaching to pz2ljof9hn-algo-1-5ftd5\n",
      "\u001b[36mpz2ljof9hn-algo-1-5ftd5 |\u001b[0m [2022-10-15:06:59:32:INFO] No GPUs detected (normal if no gpus installed)\n",
      "\u001b[36mpz2ljof9hn-algo-1-5ftd5 |\u001b[0m [2022-10-15:06:59:32:INFO] No GPUs detected (normal if no gpus installed)\n",
      "\u001b[36mpz2ljof9hn-algo-1-5ftd5 |\u001b[0m [2022-10-15:06:59:32:INFO] nginx config: \n",
      "\u001b[36mpz2ljof9hn-algo-1-5ftd5 |\u001b[0m worker_processes auto;\n",
      "\u001b[36mpz2ljof9hn-algo-1-5ftd5 |\u001b[0m daemon off;\n",
      "\u001b[36mpz2ljof9hn-algo-1-5ftd5 |\u001b[0m pid /tmp/nginx.pid;\n",
      "\u001b[36mpz2ljof9hn-algo-1-5ftd5 |\u001b[0m error_log  /dev/stderr;\n",
      "\u001b[36mpz2ljof9hn-algo-1-5ftd5 |\u001b[0m \n",
      "\u001b[36mpz2ljof9hn-algo-1-5ftd5 |\u001b[0m worker_rlimit_nofile 4096;\n",
      "\u001b[36mpz2ljof9hn-algo-1-5ftd5 |\u001b[0m \n",
      "\u001b[36mpz2ljof9hn-algo-1-5ftd5 |\u001b[0m events {\n",
      "\u001b[36mpz2ljof9hn-algo-1-5ftd5 |\u001b[0m   worker_connections 2048;\n",
      "\u001b[36mpz2ljof9hn-algo-1-5ftd5 |\u001b[0m }\n",
      "\u001b[36mpz2ljof9hn-algo-1-5ftd5 |\u001b[0m \n",
      "\u001b[36mpz2ljof9hn-algo-1-5ftd5 |\u001b[0m http {\n",
      "\u001b[36mpz2ljof9hn-algo-1-5ftd5 |\u001b[0m   include /etc/nginx/mime.types;\n",
      "\u001b[36mpz2ljof9hn-algo-1-5ftd5 |\u001b[0m   default_type application/octet-stream;\n",
      "\u001b[36mpz2ljof9hn-algo-1-5ftd5 |\u001b[0m   access_log /dev/stdout combined;\n",
      "\u001b[36mpz2ljof9hn-algo-1-5ftd5 |\u001b[0m \n",
      "\u001b[36mpz2ljof9hn-algo-1-5ftd5 |\u001b[0m   upstream gunicorn {\n",
      "\u001b[36mpz2ljof9hn-algo-1-5ftd5 |\u001b[0m     server unix:/tmp/gunicorn.sock;\n",
      "\u001b[36mpz2ljof9hn-algo-1-5ftd5 |\u001b[0m   }\n",
      "\u001b[36mpz2ljof9hn-algo-1-5ftd5 |\u001b[0m \n",
      "\u001b[36mpz2ljof9hn-algo-1-5ftd5 |\u001b[0m   server {\n",
      "\u001b[36mpz2ljof9hn-algo-1-5ftd5 |\u001b[0m     listen 8080 deferred;\n",
      "\u001b[36mpz2ljof9hn-algo-1-5ftd5 |\u001b[0m     client_max_body_size 0;\n",
      "\u001b[36mpz2ljof9hn-algo-1-5ftd5 |\u001b[0m \n",
      "\u001b[36mpz2ljof9hn-algo-1-5ftd5 |\u001b[0m     keepalive_timeout 3;\n",
      "\u001b[36mpz2ljof9hn-algo-1-5ftd5 |\u001b[0m \n",
      "\u001b[36mpz2ljof9hn-algo-1-5ftd5 |\u001b[0m     location ~ ^/(ping|invocations|execution-parameters) {\n",
      "\u001b[36mpz2ljof9hn-algo-1-5ftd5 |\u001b[0m       proxy_set_header X-Forwarded-For $proxy_add_x_forwarded_for;\n",
      "\u001b[36mpz2ljof9hn-algo-1-5ftd5 |\u001b[0m       proxy_set_header Host $http_host;\n",
      "\u001b[36mpz2ljof9hn-algo-1-5ftd5 |\u001b[0m       proxy_redirect off;\n",
      "\u001b[36mpz2ljof9hn-algo-1-5ftd5 |\u001b[0m       proxy_read_timeout 60s;\n",
      "\u001b[36mpz2ljof9hn-algo-1-5ftd5 |\u001b[0m       proxy_pass http://gunicorn;\n",
      "\u001b[36mpz2ljof9hn-algo-1-5ftd5 |\u001b[0m     }\n",
      "\u001b[36mpz2ljof9hn-algo-1-5ftd5 |\u001b[0m \n",
      "\u001b[36mpz2ljof9hn-algo-1-5ftd5 |\u001b[0m     location / {\n",
      "\u001b[36mpz2ljof9hn-algo-1-5ftd5 |\u001b[0m       return 404 \"{}\";\n",
      "\u001b[36mpz2ljof9hn-algo-1-5ftd5 |\u001b[0m     }\n",
      "\u001b[36mpz2ljof9hn-algo-1-5ftd5 |\u001b[0m \n",
      "\u001b[36mpz2ljof9hn-algo-1-5ftd5 |\u001b[0m   }\n",
      "\u001b[36mpz2ljof9hn-algo-1-5ftd5 |\u001b[0m }\n",
      "\u001b[36mpz2ljof9hn-algo-1-5ftd5 |\u001b[0m \n",
      "\u001b[36mpz2ljof9hn-algo-1-5ftd5 |\u001b[0m \n",
      "\u001b[36mpz2ljof9hn-algo-1-5ftd5 |\u001b[0m [2022-10-15 06:59:32 +0000] [15] [INFO] Starting gunicorn 19.10.0\n",
      "\u001b[36mpz2ljof9hn-algo-1-5ftd5 |\u001b[0m [2022-10-15 06:59:32 +0000] [15] [INFO] Listening at: unix:/tmp/gunicorn.sock (15)\n",
      "\u001b[36mpz2ljof9hn-algo-1-5ftd5 |\u001b[0m [2022-10-15 06:59:32 +0000] [15] [INFO] Using worker: gevent\n",
      "\u001b[36mpz2ljof9hn-algo-1-5ftd5 |\u001b[0m /miniconda3/lib/python3.8/os.py:1023: RuntimeWarning: line buffering (buffering=1) isn't supported in binary mode, the default buffer size will be used\n",
      "\u001b[36mpz2ljof9hn-algo-1-5ftd5 |\u001b[0m   return io.open(fd, *args, **kwargs)\n",
      "\u001b[36mpz2ljof9hn-algo-1-5ftd5 |\u001b[0m [2022-10-15 06:59:32 +0000] [19] [INFO] Booting worker with pid: 19\n",
      "\u001b[36mpz2ljof9hn-algo-1-5ftd5 |\u001b[0m [2022-10-15 06:59:32 +0000] [20] [INFO] Booting worker with pid: 20\n",
      "\u001b[36mpz2ljof9hn-algo-1-5ftd5 |\u001b[0m [2022-10-15:06:59:34:INFO] No GPUs detected (normal if no gpus installed)\n",
      "\u001b[36mpz2ljof9hn-algo-1-5ftd5 |\u001b[0m [2022-10-15:06:59:34:INFO] Loading the model from /opt/ml/model/model.tar.gz\n",
      "\u001b[36mpz2ljof9hn-algo-1-5ftd5 |\u001b[0m [2022-10-15 06:59:34 +0000] [19] [ERROR] Exception in worker process\n",
      "\u001b[36mpz2ljof9hn-algo-1-5ftd5 |\u001b[0m Traceback (most recent call last):\n",
      "\u001b[36mpz2ljof9hn-algo-1-5ftd5 |\u001b[0m   File \"/miniconda3/lib/python3.8/site-packages/sagemaker_xgboost_container/algorithm_mode/serve_utils.py\", line 175, in get_loaded_booster\n",
      "\u001b[36mpz2ljof9hn-algo-1-5ftd5 |\u001b[0m     booster = pkl.load(open(full_model_path, \"rb\"))\n",
      "\u001b[36mpz2ljof9hn-algo-1-5ftd5 |\u001b[0m _pickle.UnpicklingError: invalid load key, '\\x1f'.\n",
      "\u001b[36mpz2ljof9hn-algo-1-5ftd5 |\u001b[0m \n",
      "\u001b[36mpz2ljof9hn-algo-1-5ftd5 |\u001b[0m During handling of the above exception, another exception occurred:\n",
      "\u001b[36mpz2ljof9hn-algo-1-5ftd5 |\u001b[0m \n",
      "\u001b[36mpz2ljof9hn-algo-1-5ftd5 |\u001b[0m Traceback (most recent call last):\n",
      "\u001b[36mpz2ljof9hn-algo-1-5ftd5 |\u001b[0m   File \"/miniconda3/lib/python3.8/site-packages/sagemaker_xgboost_container/algorithm_mode/serve_utils.py\", line 180, in get_loaded_booster\n",
      "\u001b[36mpz2ljof9hn-algo-1-5ftd5 |\u001b[0m     booster.load_model(full_model_path)\n",
      "\u001b[36mpz2ljof9hn-algo-1-5ftd5 |\u001b[0m   File \"/miniconda3/lib/python3.8/site-packages/xgboost/core.py\", line 2169, in load_model\n",
      "\u001b[36mpz2ljof9hn-algo-1-5ftd5 |\u001b[0m     _check_call(_LIB.XGBoosterLoadModel(\n",
      "\u001b[36mpz2ljof9hn-algo-1-5ftd5 |\u001b[0m   File \"/miniconda3/lib/python3.8/site-packages/xgboost/core.py\", line 218, in _check_call\n",
      "\u001b[36mpz2ljof9hn-algo-1-5ftd5 |\u001b[0m     raise XGBoostError(py_str(_LIB.XGBGetLastError()))\n",
      "\u001b[36mpz2ljof9hn-algo-1-5ftd5 |\u001b[0m xgboost.core.XGBoostError: std::bad_alloc\n",
      "\u001b[36mpz2ljof9hn-algo-1-5ftd5 |\u001b[0m \n",
      "\u001b[36mpz2ljof9hn-algo-1-5ftd5 |\u001b[0m During handling of the above exception, another exception occurred:\n",
      "\u001b[36mpz2ljof9hn-algo-1-5ftd5 |\u001b[0m \n",
      "\u001b[36mpz2ljof9hn-algo-1-5ftd5 |\u001b[0m Traceback (most recent call last):\n",
      "\u001b[36mpz2ljof9hn-algo-1-5ftd5 |\u001b[0m   File \"/miniconda3/lib/python3.8/site-packages/gunicorn/arbiter.py\", line 586, in spawn_worker\n",
      "\u001b[36mpz2ljof9hn-algo-1-5ftd5 |\u001b[0m     worker.init_process()\n",
      "\u001b[36mpz2ljof9hn-algo-1-5ftd5 |\u001b[0m   File \"/miniconda3/lib/python3.8/site-packages/gunicorn/workers/ggevent.py\", line 203, in init_process\n",
      "\u001b[36mpz2ljof9hn-algo-1-5ftd5 |\u001b[0m     super(GeventWorker, self).init_process()\n",
      "\u001b[36mpz2ljof9hn-algo-1-5ftd5 |\u001b[0m   File \"/miniconda3/lib/python3.8/site-packages/gunicorn/workers/base.py\", line 135, in init_process\n",
      "\u001b[36mpz2ljof9hn-algo-1-5ftd5 |\u001b[0m     self.load_wsgi()\n",
      "\u001b[36mpz2ljof9hn-algo-1-5ftd5 |\u001b[0m   File \"/miniconda3/lib/python3.8/site-packages/gunicorn/workers/base.py\", line 144, in load_wsgi\n",
      "\u001b[36mpz2ljof9hn-algo-1-5ftd5 |\u001b[0m     self.wsgi = self.app.wsgi()\n",
      "\u001b[36mpz2ljof9hn-algo-1-5ftd5 |\u001b[0m   File \"/miniconda3/lib/python3.8/site-packages/gunicorn/app/base.py\", line 67, in wsgi\n",
      "\u001b[36mpz2ljof9hn-algo-1-5ftd5 |\u001b[0m     self.callable = self.load()\n",
      "\u001b[36mpz2ljof9hn-algo-1-5ftd5 |\u001b[0m   File \"/miniconda3/lib/python3.8/site-packages/gunicorn/app/wsgiapp.py\", line 52, in load\n",
      "\u001b[36mpz2ljof9hn-algo-1-5ftd5 |\u001b[0m     return self.load_wsgiapp()\n",
      "\u001b[36mpz2ljof9hn-algo-1-5ftd5 |\u001b[0m   File \"/miniconda3/lib/python3.8/site-packages/gunicorn/app/wsgiapp.py\", line 41, in load_wsgiapp\n",
      "\u001b[36mpz2ljof9hn-algo-1-5ftd5 |\u001b[0m     return util.import_app(self.app_uri)\n",
      "\u001b[36mpz2ljof9hn-algo-1-5ftd5 |\u001b[0m   File \"/miniconda3/lib/python3.8/site-packages/gunicorn/util.py\", line 350, in import_app\n",
      "\u001b[36mpz2ljof9hn-algo-1-5ftd5 |\u001b[0m     __import__(module)\n",
      "\u001b[36mpz2ljof9hn-algo-1-5ftd5 |\u001b[0m   File \"/miniconda3/lib/python3.8/site-packages/sagemaker_xgboost_container/serving.py\", line 29, in <module>\n",
      "\u001b[36mpz2ljof9hn-algo-1-5ftd5 |\u001b[0m     from sagemaker_xgboost_container.algorithm_mode import serve\n",
      "\u001b[36mpz2ljof9hn-algo-1-5ftd5 |\u001b[0m   File \"/miniconda3/lib/python3.8/site-packages/sagemaker_xgboost_container/algorithm_mode/__init__.py\", line 23, in <module>\n",
      "\u001b[36mpz2ljof9hn-algo-1-5ftd5 |\u001b[0m     serve.load_model()\n",
      "\u001b[36mpz2ljof9hn-algo-1-5ftd5 |\u001b[0m   File \"/miniconda3/lib/python3.8/site-packages/sagemaker_xgboost_container/algorithm_mode/serve.py\", line 135, in load_model\n",
      "\u001b[36mpz2ljof9hn-algo-1-5ftd5 |\u001b[0m     return ScoringService.load_model(ensemble=serve_utils.is_ensemble_enabled())\n",
      "\u001b[36mpz2ljof9hn-algo-1-5ftd5 |\u001b[0m   File \"/miniconda3/lib/python3.8/site-packages/sagemaker_xgboost_container/algorithm_mode/serve.py\", line 71, in load_model\n",
      "\u001b[36mpz2ljof9hn-algo-1-5ftd5 |\u001b[0m     cls.booster, cls.format = serve_utils.get_loaded_booster(ScoringService.MODEL_PATH, ensemble)\n",
      "\u001b[36mpz2ljof9hn-algo-1-5ftd5 |\u001b[0m   File \"/miniconda3/lib/python3.8/site-packages/sagemaker_xgboost_container/algorithm_mode/serve_utils.py\", line 183, in get_loaded_booster\n",
      "\u001b[36mpz2ljof9hn-algo-1-5ftd5 |\u001b[0m     raise RuntimeError(\n",
      "\u001b[36mpz2ljof9hn-algo-1-5ftd5 |\u001b[0m RuntimeError: Model /opt/ml/model/model.tar.gz cannot be loaded:\n",
      "\u001b[36mpz2ljof9hn-algo-1-5ftd5 |\u001b[0m Pickle load error=invalid load key, '\\x1f'.\n",
      "\u001b[36mpz2ljof9hn-algo-1-5ftd5 |\u001b[0m XGB load model error=std::bad_alloc\n",
      "\u001b[36mpz2ljof9hn-algo-1-5ftd5 |\u001b[0m [2022-10-15 06:59:34 +0000] [19] [INFO] Worker exiting (pid: 19)\n",
      "\u001b[36mpz2ljof9hn-algo-1-5ftd5 |\u001b[0m [2022-10-15:06:59:34:INFO] No GPUs detected (normal if no gpus installed)\n",
      "\u001b[36mpz2ljof9hn-algo-1-5ftd5 |\u001b[0m [2022-10-15:06:59:34:INFO] Loading the model from /opt/ml/model/model.tar.gz\n",
      "\u001b[36mpz2ljof9hn-algo-1-5ftd5 |\u001b[0m [2022-10-15 06:59:34 +0000] [20] [ERROR] Exception in worker process\n",
      "\u001b[36mpz2ljof9hn-algo-1-5ftd5 |\u001b[0m Traceback (most recent call last):\n",
      "\u001b[36mpz2ljof9hn-algo-1-5ftd5 |\u001b[0m   File \"/miniconda3/lib/python3.8/site-packages/sagemaker_xgboost_container/algorithm_mode/serve_utils.py\", line 175, in get_loaded_booster\n",
      "\u001b[36mpz2ljof9hn-algo-1-5ftd5 |\u001b[0m     booster = pkl.load(open(full_model_path, \"rb\"))\n",
      "\u001b[36mpz2ljof9hn-algo-1-5ftd5 |\u001b[0m _pickle.UnpicklingError: invalid load key, '\\x1f'.\n",
      "\u001b[36mpz2ljof9hn-algo-1-5ftd5 |\u001b[0m \n",
      "\u001b[36mpz2ljof9hn-algo-1-5ftd5 |\u001b[0m During handling of the above exception, another exception occurred:\n",
      "\u001b[36mpz2ljof9hn-algo-1-5ftd5 |\u001b[0m \n",
      "\u001b[36mpz2ljof9hn-algo-1-5ftd5 |\u001b[0m Traceback (most recent call last):\n",
      "\u001b[36mpz2ljof9hn-algo-1-5ftd5 |\u001b[0m   File \"/miniconda3/lib/python3.8/site-packages/sagemaker_xgboost_container/algorithm_mode/serve_utils.py\", line 180, in get_loaded_booster\n",
      "\u001b[36mpz2ljof9hn-algo-1-5ftd5 |\u001b[0m     booster.load_model(full_model_path)\n",
      "\u001b[36mpz2ljof9hn-algo-1-5ftd5 |\u001b[0m   File \"/miniconda3/lib/python3.8/site-packages/xgboost/core.py\", line 2169, in load_model\n",
      "\u001b[36mpz2ljof9hn-algo-1-5ftd5 |\u001b[0m     _check_call(_LIB.XGBoosterLoadModel(\n",
      "\u001b[36mpz2ljof9hn-algo-1-5ftd5 |\u001b[0m   File \"/miniconda3/lib/python3.8/site-packages/xgboost/core.py\", line 218, in _check_call\n",
      "\u001b[36mpz2ljof9hn-algo-1-5ftd5 |\u001b[0m     raise XGBoostError(py_str(_LIB.XGBGetLastError()))\n",
      "\u001b[36mpz2ljof9hn-algo-1-5ftd5 |\u001b[0m xgboost.core.XGBoostError: std::bad_alloc\n",
      "\u001b[36mpz2ljof9hn-algo-1-5ftd5 |\u001b[0m \n",
      "\u001b[36mpz2ljof9hn-algo-1-5ftd5 |\u001b[0m During handling of the above exception, another exception occurred:\n",
      "\u001b[36mpz2ljof9hn-algo-1-5ftd5 |\u001b[0m \n",
      "\u001b[36mpz2ljof9hn-algo-1-5ftd5 |\u001b[0m Traceback (most recent call last):\n",
      "\u001b[36mpz2ljof9hn-algo-1-5ftd5 |\u001b[0m   File \"/miniconda3/lib/python3.8/site-packages/gunicorn/arbiter.py\", line 586, in spawn_worker\n",
      "\u001b[36mpz2ljof9hn-algo-1-5ftd5 |\u001b[0m     worker.init_process()\n",
      "\u001b[36mpz2ljof9hn-algo-1-5ftd5 |\u001b[0m   File \"/miniconda3/lib/python3.8/site-packages/gunicorn/workers/ggevent.py\", line 203, in init_process\n",
      "\u001b[36mpz2ljof9hn-algo-1-5ftd5 |\u001b[0m     super(GeventWorker, self).init_process()\n",
      "\u001b[36mpz2ljof9hn-algo-1-5ftd5 |\u001b[0m   File \"/miniconda3/lib/python3.8/site-packages/gunicorn/workers/base.py\", line 135, in init_process\n",
      "\u001b[36mpz2ljof9hn-algo-1-5ftd5 |\u001b[0m     self.load_wsgi()\n",
      "\u001b[36mpz2ljof9hn-algo-1-5ftd5 |\u001b[0m   File \"/miniconda3/lib/python3.8/site-packages/gunicorn/workers/base.py\", line 144, in load_wsgi\n",
      "\u001b[36mpz2ljof9hn-algo-1-5ftd5 |\u001b[0m     self.wsgi = self.app.wsgi()\n",
      "\u001b[36mpz2ljof9hn-algo-1-5ftd5 |\u001b[0m   File \"/miniconda3/lib/python3.8/site-packages/gunicorn/app/base.py\", line 67, in wsgi\n",
      "\u001b[36mpz2ljof9hn-algo-1-5ftd5 |\u001b[0m     self.callable = self.load()\n",
      "\u001b[36mpz2ljof9hn-algo-1-5ftd5 |\u001b[0m   File \"/miniconda3/lib/python3.8/site-packages/gunicorn/app/wsgiapp.py\", line 52, in load\n",
      "\u001b[36mpz2ljof9hn-algo-1-5ftd5 |\u001b[0m     return self.load_wsgiapp()\n",
      "\u001b[36mpz2ljof9hn-algo-1-5ftd5 |\u001b[0m   File \"/miniconda3/lib/python3.8/site-packages/gunicorn/app/wsgiapp.py\", line 41, in load_wsgiapp\n",
      "\u001b[36mpz2ljof9hn-algo-1-5ftd5 |\u001b[0m     return util.import_app(self.app_uri)\n",
      "\u001b[36mpz2ljof9hn-algo-1-5ftd5 |\u001b[0m   File \"/miniconda3/lib/python3.8/site-packages/gunicorn/util.py\", line 350, in import_app\n",
      "\u001b[36mpz2ljof9hn-algo-1-5ftd5 |\u001b[0m     __import__(module)\n",
      "\u001b[36mpz2ljof9hn-algo-1-5ftd5 |\u001b[0m   File \"/miniconda3/lib/python3.8/site-packages/sagemaker_xgboost_container/serving.py\", line 29, in <module>\n",
      "\u001b[36mpz2ljof9hn-algo-1-5ftd5 |\u001b[0m     from sagemaker_xgboost_container.algorithm_mode import serve\n",
      "\u001b[36mpz2ljof9hn-algo-1-5ftd5 |\u001b[0m   File \"/miniconda3/lib/python3.8/site-packages/sagemaker_xgboost_container/algorithm_mode/__init__.py\", line 23, in <module>\n",
      "\u001b[36mpz2ljof9hn-algo-1-5ftd5 |\u001b[0m     serve.load_model()\n",
      "\u001b[36mpz2ljof9hn-algo-1-5ftd5 |\u001b[0m   File \"/miniconda3/lib/python3.8/site-packages/sagemaker_xgboost_container/algorithm_mode/serve.py\", line 135, in load_model\n",
      "\u001b[36mpz2ljof9hn-algo-1-5ftd5 |\u001b[0m     return ScoringService.load_model(ensemble=serve_utils.is_ensemble_enabled())\n",
      "\u001b[36mpz2ljof9hn-algo-1-5ftd5 |\u001b[0m   File \"/miniconda3/lib/python3.8/site-packages/sagemaker_xgboost_container/algorithm_mode/serve.py\", line 71, in load_model\n",
      "\u001b[36mpz2ljof9hn-algo-1-5ftd5 |\u001b[0m     cls.booster, cls.format = serve_utils.get_loaded_booster(ScoringService.MODEL_PATH, ensemble)\n",
      "\u001b[36mpz2ljof9hn-algo-1-5ftd5 |\u001b[0m   File \"/miniconda3/lib/python3.8/site-packages/sagemaker_xgboost_container/algorithm_mode/serve_utils.py\", line 183, in get_loaded_booster\n",
      "\u001b[36mpz2ljof9hn-algo-1-5ftd5 |\u001b[0m     raise RuntimeError(\n",
      "\u001b[36mpz2ljof9hn-algo-1-5ftd5 |\u001b[0m RuntimeError: Model /opt/ml/model/model.tar.gz cannot be loaded:\n",
      "\u001b[36mpz2ljof9hn-algo-1-5ftd5 |\u001b[0m Pickle load error=invalid load key, '\\x1f'.\n",
      "\u001b[36mpz2ljof9hn-algo-1-5ftd5 |\u001b[0m XGB load model error=std::bad_alloc\n",
      "\u001b[36mpz2ljof9hn-algo-1-5ftd5 |\u001b[0m [2022-10-15 06:59:34 +0000] [20] [INFO] Worker exiting (pid: 20)\n",
      "\u001b[36mpz2ljof9hn-algo-1-5ftd5 |\u001b[0m [2022-10-15 06:59:34 +0000] [15] [INFO] Shutting down: Master\n",
      "\u001b[36mpz2ljof9hn-algo-1-5ftd5 |\u001b[0m [2022-10-15 06:59:34 +0000] [15] [INFO] Reason: Worker failed to boot.\n",
      "\u001b[36mpz2ljof9hn-algo-1-5ftd5 exited with code 0\n",
      "\u001b[0mAborting on container exit...\n"
     ]
    }
   ],
   "source": [
    "# デプロイ\n",
    "predictor_xgb = est_xgb.deploy(1, 'local', serializer=csv_serializer, wait=True)"
   ]
  },
  {
   "cell_type": "markdown",
   "id": "db623775",
   "metadata": {},
   "source": [
    "## エラー\n",
    "\n",
    "RuntimeError: Model /opt/ml/model/model.tar.gz cannot be loaded:"
   ]
  },
  {
   "cell_type": "code",
   "execution_count": null,
   "id": "370af82a",
   "metadata": {},
   "outputs": [],
   "source": []
  },
  {
   "cell_type": "code",
   "execution_count": null,
   "id": "2fe5b414",
   "metadata": {},
   "outputs": [],
   "source": []
  },
  {
   "cell_type": "code",
   "execution_count": null,
   "id": "ccc34f5f",
   "metadata": {},
   "outputs": [],
   "source": []
  },
  {
   "cell_type": "code",
   "execution_count": null,
   "id": "f9d1470d",
   "metadata": {},
   "outputs": [],
   "source": []
  },
  {
   "cell_type": "code",
   "execution_count": null,
   "id": "ea47e08d",
   "metadata": {},
   "outputs": [],
   "source": []
  },
  {
   "cell_type": "code",
   "execution_count": null,
   "id": "b8fadb34",
   "metadata": {},
   "outputs": [],
   "source": []
  },
  {
   "cell_type": "code",
   "execution_count": 59,
   "id": "b60671ad",
   "metadata": {},
   "outputs": [],
   "source": [
    "# 改めて、Estimatorを定義する\n",
    "est_xgb_serve = Estimator(\n",
    "    container_uri, # xgboostのbuilt-inコンテナ\n",
    "    role,\n",
    "    model_data=est_xgb.model_data, ### 学習で保存されたモデルのURI\n",
    "    instance_count=1,\n",
    "    instance_type=\"local\",\n",
    "    #hyperparameters=hyperparameters,\n",
    "    source_dir='./src_builtin_container_serve',\n",
    "    entry_point='serve.py' \n",
    "    )"
   ]
  },
  {
   "cell_type": "code",
   "execution_count": 60,
   "id": "ba777a97",
   "metadata": {},
   "outputs": [
    {
     "ename": "ValueError",
     "evalue": "Estimator is not associated with a training job",
     "output_type": "error",
     "traceback": [
      "\u001b[0;31m---------------------------------------------------------------------------\u001b[0m",
      "\u001b[0;31mValueError\u001b[0m                                Traceback (most recent call last)",
      "\u001b[0;32m/tmp/ipykernel_24809/293069366.py\u001b[0m in \u001b[0;36m<cell line: 2>\u001b[0;34m()\u001b[0m\n\u001b[1;32m      1\u001b[0m \u001b[0;31m# デプロイ\u001b[0m\u001b[0;34m\u001b[0m\u001b[0;34m\u001b[0m\u001b[0;34m\u001b[0m\u001b[0m\n\u001b[0;32m----> 2\u001b[0;31m \u001b[0mpredictor_xgb\u001b[0m \u001b[0;34m=\u001b[0m \u001b[0mest_xgb_serve\u001b[0m\u001b[0;34m.\u001b[0m\u001b[0mdeploy\u001b[0m\u001b[0;34m(\u001b[0m\u001b[0;36m1\u001b[0m\u001b[0;34m,\u001b[0m \u001b[0;34m'local'\u001b[0m\u001b[0;34m,\u001b[0m \u001b[0mserializer\u001b[0m\u001b[0;34m=\u001b[0m\u001b[0mcsv_serializer\u001b[0m\u001b[0;34m,\u001b[0m \u001b[0mwait\u001b[0m\u001b[0;34m=\u001b[0m\u001b[0;32mTrue\u001b[0m\u001b[0;34m)\u001b[0m\u001b[0;34m\u001b[0m\u001b[0;34m\u001b[0m\u001b[0m\n\u001b[0m",
      "\u001b[0;32m~/anaconda3/envs/python3/lib/python3.8/site-packages/sagemaker/estimator.py\u001b[0m in \u001b[0;36mdeploy\u001b[0;34m(self, initial_instance_count, instance_type, serializer, deserializer, accelerator_type, endpoint_name, use_compiled_model, wait, model_name, kms_key, data_capture_config, tags, serverless_inference_config, async_inference_config, **kwargs)\u001b[0m\n\u001b[1;32m   1277\u001b[0m         \u001b[0mremoved_kwargs\u001b[0m\u001b[0;34m(\u001b[0m\u001b[0;34m\"update_endpoint\"\u001b[0m\u001b[0;34m,\u001b[0m \u001b[0mkwargs\u001b[0m\u001b[0;34m)\u001b[0m\u001b[0;34m\u001b[0m\u001b[0;34m\u001b[0m\u001b[0m\n\u001b[1;32m   1278\u001b[0m         \u001b[0mis_serverless\u001b[0m \u001b[0;34m=\u001b[0m \u001b[0mserverless_inference_config\u001b[0m \u001b[0;32mis\u001b[0m \u001b[0;32mnot\u001b[0m \u001b[0;32mNone\u001b[0m\u001b[0;34m\u001b[0m\u001b[0;34m\u001b[0m\u001b[0m\n\u001b[0;32m-> 1279\u001b[0;31m         \u001b[0mself\u001b[0m\u001b[0;34m.\u001b[0m\u001b[0m_ensure_latest_training_job\u001b[0m\u001b[0;34m(\u001b[0m\u001b[0;34m)\u001b[0m\u001b[0;34m\u001b[0m\u001b[0;34m\u001b[0m\u001b[0m\n\u001b[0m\u001b[1;32m   1280\u001b[0m         \u001b[0mself\u001b[0m\u001b[0;34m.\u001b[0m\u001b[0m_ensure_base_job_name\u001b[0m\u001b[0;34m(\u001b[0m\u001b[0;34m)\u001b[0m\u001b[0;34m\u001b[0m\u001b[0;34m\u001b[0m\u001b[0m\n\u001b[1;32m   1281\u001b[0m \u001b[0;34m\u001b[0m\u001b[0m\n",
      "\u001b[0;32m~/anaconda3/envs/python3/lib/python3.8/site-packages/sagemaker/estimator.py\u001b[0m in \u001b[0;36m_ensure_latest_training_job\u001b[0;34m(self, error_message)\u001b[0m\n\u001b[1;32m   1726\u001b[0m         \u001b[0;34m\"\"\"Placeholder docstring\"\"\"\u001b[0m\u001b[0;34m\u001b[0m\u001b[0;34m\u001b[0m\u001b[0m\n\u001b[1;32m   1727\u001b[0m         \u001b[0;32mif\u001b[0m \u001b[0mself\u001b[0m\u001b[0;34m.\u001b[0m\u001b[0mlatest_training_job\u001b[0m \u001b[0;32mis\u001b[0m \u001b[0;32mNone\u001b[0m\u001b[0;34m:\u001b[0m\u001b[0;34m\u001b[0m\u001b[0;34m\u001b[0m\u001b[0m\n\u001b[0;32m-> 1728\u001b[0;31m             \u001b[0;32mraise\u001b[0m \u001b[0mValueError\u001b[0m\u001b[0;34m(\u001b[0m\u001b[0merror_message\u001b[0m\u001b[0;34m)\u001b[0m\u001b[0;34m\u001b[0m\u001b[0;34m\u001b[0m\u001b[0m\n\u001b[0m\u001b[1;32m   1729\u001b[0m \u001b[0;34m\u001b[0m\u001b[0m\n\u001b[1;32m   1730\u001b[0m     \u001b[0mdelete_endpoint\u001b[0m \u001b[0;34m=\u001b[0m \u001b[0mremoved_function\u001b[0m\u001b[0;34m(\u001b[0m\u001b[0;34m\"delete_endpoint\"\u001b[0m\u001b[0;34m)\u001b[0m\u001b[0;34m\u001b[0m\u001b[0;34m\u001b[0m\u001b[0m\n",
      "\u001b[0;31mValueError\u001b[0m: Estimator is not associated with a training job"
     ]
    }
   ],
   "source": [
    "# デプロイ\n",
    "predictor_xgb = est_xgb_serve.deploy(1, 'local', serializer=csv_serializer, wait=True)"
   ]
  },
  {
   "cell_type": "markdown",
   "id": "f5feff32",
   "metadata": {},
   "source": [
    "ValueError: Estimator is not associated with a training job"
   ]
  },
  {
   "cell_type": "markdown",
   "id": "0d5aacba",
   "metadata": {},
   "source": [
    "# エラー　trainingjobとの紐付け\n",
    "\n",
    "https://stackoverflow.com/questions/63340328/how-to-define-a-sagemaker-estimator-object-using-a-pre-trained-model-and-then-de"
   ]
  },
  {
   "cell_type": "code",
   "execution_count": null,
   "id": "5c6716fc",
   "metadata": {},
   "outputs": [],
   "source": [
    "est_xgb_serve2 = est_xgb_serve.attach(TrainingJobName)"
   ]
  },
  {
   "cell_type": "code",
   "execution_count": 57,
   "id": "ae557cee",
   "metadata": {},
   "outputs": [
    {
     "name": "stdout",
     "output_type": "stream",
     "text": [
      "CONTAINER ID   IMAGE     COMMAND   CREATED   STATUS    PORTS     NAMES\n"
     ]
    }
   ],
   "source": [
    "!docker ps"
   ]
  },
  {
   "cell_type": "code",
   "execution_count": 58,
   "id": "345b9f62",
   "metadata": {},
   "outputs": [
    {
     "ename": "NameError",
     "evalue": "name 'predictor_xgb' is not defined",
     "output_type": "error",
     "traceback": [
      "\u001b[0;31m---------------------------------------------------------------------------\u001b[0m",
      "\u001b[0;31mNameError\u001b[0m                                 Traceback (most recent call last)",
      "\u001b[0;32m/tmp/ipykernel_24809/1101507847.py\u001b[0m in \u001b[0;36m<cell line: 5>\u001b[0;34m()\u001b[0m\n\u001b[1;32m      3\u001b[0m     \u001b[0mpayload\u001b[0m \u001b[0;34m=\u001b[0m \u001b[0mf\u001b[0m\u001b[0;34m.\u001b[0m\u001b[0mread\u001b[0m\u001b[0;34m(\u001b[0m\u001b[0;34m)\u001b[0m\u001b[0;34m.\u001b[0m\u001b[0mstrip\u001b[0m\u001b[0;34m(\u001b[0m\u001b[0;34m)\u001b[0m\u001b[0;34m\u001b[0m\u001b[0;34m\u001b[0m\u001b[0m\n\u001b[1;32m      4\u001b[0m \u001b[0;34m\u001b[0m\u001b[0m\n\u001b[0;32m----> 5\u001b[0;31m \u001b[0mpredicted\u001b[0m \u001b[0;34m=\u001b[0m \u001b[0mpredictor_xgb\u001b[0m\u001b[0;34m.\u001b[0m\u001b[0mpredict\u001b[0m\u001b[0;34m(\u001b[0m\u001b[0mpayload\u001b[0m\u001b[0;34m)\u001b[0m\u001b[0;34m.\u001b[0m\u001b[0mdecode\u001b[0m\u001b[0;34m(\u001b[0m\u001b[0;34m'utf-8'\u001b[0m\u001b[0;34m)\u001b[0m\u001b[0;34m\u001b[0m\u001b[0;34m\u001b[0m\u001b[0m\n\u001b[0m\u001b[1;32m      6\u001b[0m \u001b[0mprint\u001b[0m\u001b[0;34m(\u001b[0m\u001b[0mpredicted\u001b[0m\u001b[0;34m)\u001b[0m\u001b[0;34m\u001b[0m\u001b[0;34m\u001b[0m\u001b[0m\n",
      "\u001b[0;31mNameError\u001b[0m: name 'predictor_xgb' is not defined"
     ]
    }
   ],
   "source": [
    "### 推論実行\n",
    "with open(local_test, 'r') as f:\n",
    "    payload = f.read().strip()\n",
    "\n",
    "predicted = predictor_xgb.predict(payload).decode('utf-8')\n",
    "print(predicted)"
   ]
  },
  {
   "cell_type": "markdown",
   "id": "e842149d",
   "metadata": {},
   "source": [
    "# END of Containts ==============="
   ]
  },
  {
   "cell_type": "code",
   "execution_count": null,
   "id": "35565b57",
   "metadata": {},
   "outputs": [],
   "source": []
  },
  {
   "cell_type": "code",
   "execution_count": null,
   "id": "047a57db",
   "metadata": {},
   "outputs": [],
   "source": []
  },
  {
   "cell_type": "code",
   "execution_count": null,
   "id": "459ad695",
   "metadata": {},
   "outputs": [],
   "source": []
  },
  {
   "cell_type": "code",
   "execution_count": null,
   "id": "71d4f054",
   "metadata": {},
   "outputs": [],
   "source": []
  },
  {
   "cell_type": "code",
   "execution_count": null,
   "id": "64d7dbe2",
   "metadata": {},
   "outputs": [],
   "source": []
  },
  {
   "cell_type": "markdown",
   "id": "2673fb6f",
   "metadata": {},
   "source": [
    "# 5.後片付け\n",
    "予期せぬ課金を防ぐために、以下のリソースを削除します。\n",
    "\n",
    "* SageMaker 推論エンドポイント\n",
    "* ECR\n",
    "* S3\n",
    "* SageMakerノートブックインスタンス"
   ]
  },
  {
   "cell_type": "markdown",
   "id": "39587877",
   "metadata": {},
   "source": [
    "# 参考\n",
    "* SageMaker のtrainingジョブを理解する\n",
    "    * https://github.com/aws-samples/aws-ml-jp/tree/main/sagemaker/sagemaker-traning/tutorial\n",
    "* SageMaker-Pytorth training Toolkit\n",
    "    * https://github.com/aws/sagemaker-pytorch-training-toolkit/\n",
    "* SageMaker-Pytorch Inference Toolkit\n",
    "    * https://github.com/aws/sagemaker-pytorch-inference-toolkit\n",
    "* SageMaker Inference Toolkit\n",
    "    * https://docs.aws.amazon.com/sagemaker/latest/dg/amazon-sagemaker-toolkits.html\n",
    "    * https://github.com/aws/sagemaker-inference-toolkit"
   ]
  },
  {
   "cell_type": "code",
   "execution_count": null,
   "id": "a86e384f",
   "metadata": {},
   "outputs": [],
   "source": []
  }
 ],
 "metadata": {
  "kernelspec": {
   "display_name": "conda_python3",
   "language": "python",
   "name": "conda_python3"
  },
  "language_info": {
   "codemirror_mode": {
    "name": "ipython",
    "version": 3
   },
   "file_extension": ".py",
   "mimetype": "text/x-python",
   "name": "python",
   "nbconvert_exporter": "python",
   "pygments_lexer": "ipython3",
   "version": "3.8.12"
  }
 },
 "nbformat": 4,
 "nbformat_minor": 5
}
