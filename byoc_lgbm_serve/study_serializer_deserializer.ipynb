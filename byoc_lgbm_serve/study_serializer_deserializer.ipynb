{
 "cells": [
  {
   "cell_type": "markdown",
   "id": "2cd93ba4",
   "metadata": {},
   "source": [
    "# SageMakerのserializerとdeserializerを理解する\n",
    "\n",
    "Serializerは、推論エンドポイントに対して、シリアライズされたデータと、CONTENT_TYPEを提供します。\n",
    "\n",
    "このノートブックでは、推論エンドポイントにNumpyArrayとCSV形式でのリクエストを想定して、\n",
    "NumpyArrayデータとCSVデータがどのようにシリアライズされるか、どのようにデシリアライズされるかを学びます。\n",
    "\n",
    "SageMakerのシリアライズ/デシリアライズの仕組みを知ることで、より推論の仕組みを深く理解します。\n",
    "\n",
    "ノートブックは20分程度で実行できます。"
   ]
  },
  {
   "cell_type": "markdown",
   "id": "19c0bdd6",
   "metadata": {},
   "source": [
    "## SageMakerの仕組み（仮説）\n",
    "\n",
    "* SageMakerのコントロールプレーン（サーバ）がある。\n",
    "    * それは、pingを打って各推論エンドポイントが動いてるかヘルスチェックして、把握している。\n",
    "    \n",
    "* 推論エンドポイントへは、.predict()(SageMakerSDKの場合) or invoke_endpoint()(boto3の場合）でデータを投げる\n",
    "    * predictも結局はinvoke_endpoint()している\n",
    "\n",
    "https://github.com/aws/sagemaker-python-sdk/blob/885423c26ce7288283bbca7d9c1c53c4d0ccf103/src/sagemaker/predictor.py#L123\n",
    "\n",
    "\n",
    "invoke_endpoint()すると、SageMakerに推論先(同じエンドポイントでも、variantごとにインスタンスタイプを持っているので、別IPアドレスのはず。同じvariantでも複数のインスタンスを持ち、それらも別IPのはず）を聞きに行き、返された宛先のエンドポイントにデータを投げていると予想。\n",
    "* endpointやvariantを指定しているので、SageMakerに場所を聞く必要があると予想。SageMakerはDNSのような役割をする。\n",
    "    * これにより、variantsへのロードバランスをSageMakerが行える。（AutoScaleはSageMakerではなく、他の機構が行なっているはず）\n",
    "* SageMakerから帰ってきた宛先に/invocationを投げる。推論エンドポイントは/invocationに返答する。\n",
    "\n",
    "invoke_endpoint()の前の、Predictorクラス作成の時に、SerializerとDeserializerを指定している。\n",
    "つまり、データ投げる前のクライアント側でシリアライズして、エンドポイントに投げる。\n",
    "エンドポイントからの応答（推論結果）は、シリアルデータでクライアントに返ってくる。\n",
    "デシリアライズをクライアント側で実施する。\n",
    "\n",
    "\n",
    "シリアライザ、デシリアライザは、Estimatorクラスのdeploy()の時に設定します。\n",
    "\n",
    "https://sagemaker.readthedocs.io/en/stable/api/training/estimators.html#sagemaker.estimator.EstimatorBase.deploy\n",
    "\n",
    "Modelクラスによる既存のモデル読み込みからのdeploy()\n",
    "\n",
    "https://sagemaker.readthedocs.io/en/stable/api/inference/model.html#sagemaker.model.Model.deploy\n",
    "\n"
   ]
  },
  {
   "cell_type": "markdown",
   "id": "885dfccb",
   "metadata": {},
   "source": [
    "# 1. Serializerの理解\n",
    "シリアライズはクライアント側で実行され、シリアライズされたデータは推論エンドポイントにinvokeされます。\n",
    "\n",
    "Serializerのコードは、GitHubで確認することができます。\n",
    "\n",
    "GitHubのソースコード\n",
    "\n",
    "https://github.com/aws/sagemaker-python-sdk/blob/master/src/sagemaker/serializers.py\n",
    "\n",
    "\n",
    "input形式は様々\n",
    "\n",
    "outputはシリアライザで指定したクラスによる"
   ]
  },
  {
   "cell_type": "markdown",
   "id": "6d627f2a",
   "metadata": {},
   "source": [
    "## 1-1. データ準備"
   ]
  },
  {
   "cell_type": "code",
   "execution_count": 1,
   "id": "fd7de233",
   "metadata": {},
   "outputs": [],
   "source": [
    "import numpy as np"
   ]
  },
  {
   "cell_type": "code",
   "execution_count": 2,
   "id": "a451488b",
   "metadata": {},
   "outputs": [],
   "source": [
    "# ndarray型の推論エンドポイントへのインプットデータ\n",
    "data_ndarr = np.array([[0.25387,0.0,6.91,0.0,0.4480,5.399,95.3,5.8700,3.0,233.0,17.9,396.90,30.81],\n",
    "                       [0.01951,17.5,1.38,0.0,0.4161,7.104,59.5,9.2229,3.0,216.0,18.6,393.24,8.05],\n",
    "                       [4.64689,0.0,18.1,0.0,0.614,6.98,67.6,2.5329,24.0,666.0,20.2,374.68,11.66]])\n",
    "\n",
    "# string型の推論エンドポイントへのインプットデータ\n",
    "data_str = '0.25387,0.0,6.91,0.0,0.448,5.399,95.3,5.87,3.0,233.0,17.9,396.9,30.81\\n0.01951,17.5,1.38,0.0,0.4161,7.104,59.5,9.2229,3.0,216.0,18.6,393.24,8.05\\n4.64689,0.0,18.1,0.0,0.614,6.98,67.6,2.5329,24.0,666.0,20.2,374.68,11.66'\n"
   ]
  },
  {
   "cell_type": "code",
   "execution_count": 3,
   "id": "ff32eb64",
   "metadata": {},
   "outputs": [
    {
     "name": "stdout",
     "output_type": "stream",
     "text": [
      "<class 'numpy.ndarray'>\n",
      "==================================================\n",
      "[[2.53870e-01 0.00000e+00 6.91000e+00 0.00000e+00 4.48000e-01 5.39900e+00\n",
      "  9.53000e+01 5.87000e+00 3.00000e+00 2.33000e+02 1.79000e+01 3.96900e+02\n",
      "  3.08100e+01]\n",
      " [1.95100e-02 1.75000e+01 1.38000e+00 0.00000e+00 4.16100e-01 7.10400e+00\n",
      "  5.95000e+01 9.22290e+00 3.00000e+00 2.16000e+02 1.86000e+01 3.93240e+02\n",
      "  8.05000e+00]\n",
      " [4.64689e+00 0.00000e+00 1.81000e+01 0.00000e+00 6.14000e-01 6.98000e+00\n",
      "  6.76000e+01 2.53290e+00 2.40000e+01 6.66000e+02 2.02000e+01 3.74680e+02\n",
      "  1.16600e+01]]\n",
      "==================================================\n"
     ]
    },
    {
     "data": {
      "text/plain": [
       "array([[2.53870e-01, 0.00000e+00, 6.91000e+00, 0.00000e+00, 4.48000e-01,\n",
       "        5.39900e+00, 9.53000e+01, 5.87000e+00, 3.00000e+00, 2.33000e+02,\n",
       "        1.79000e+01, 3.96900e+02, 3.08100e+01],\n",
       "       [1.95100e-02, 1.75000e+01, 1.38000e+00, 0.00000e+00, 4.16100e-01,\n",
       "        7.10400e+00, 5.95000e+01, 9.22290e+00, 3.00000e+00, 2.16000e+02,\n",
       "        1.86000e+01, 3.93240e+02, 8.05000e+00],\n",
       "       [4.64689e+00, 0.00000e+00, 1.81000e+01, 0.00000e+00, 6.14000e-01,\n",
       "        6.98000e+00, 6.76000e+01, 2.53290e+00, 2.40000e+01, 6.66000e+02,\n",
       "        2.02000e+01, 3.74680e+02, 1.16600e+01]])"
      ]
     },
     "execution_count": 3,
     "metadata": {},
     "output_type": "execute_result"
    }
   ],
   "source": [
    "# 確認\n",
    "print(type(data_ndarr))\n",
    "print('=' * 50)\n",
    "print(data_ndarr)\n",
    "print('=' * 50)\n",
    "data_ndarr"
   ]
  },
  {
   "cell_type": "code",
   "execution_count": 5,
   "id": "e8b69588",
   "metadata": {},
   "outputs": [
    {
     "name": "stdout",
     "output_type": "stream",
     "text": [
      "<class 'str'>\n",
      "==================================================\n",
      "0.25387,0.0,6.91,0.0,0.448,5.399,95.3,5.87,3.0,233.0,17.9,396.9,30.81\n",
      "0.01951,17.5,1.38,0.0,0.4161,7.104,59.5,9.2229,3.0,216.0,18.6,393.24,8.05\n",
      "4.64689,0.0,18.1,0.0,0.614,6.98,67.6,2.5329,24.0,666.0,20.2,374.68,11.66\n",
      "==================================================\n"
     ]
    },
    {
     "data": {
      "text/plain": [
       "'0.25387,0.0,6.91,0.0,0.448,5.399,95.3,5.87,3.0,233.0,17.9,396.9,30.81\\n0.01951,17.5,1.38,0.0,0.4161,7.104,59.5,9.2229,3.0,216.0,18.6,393.24,8.05\\n4.64689,0.0,18.1,0.0,0.614,6.98,67.6,2.5329,24.0,666.0,20.2,374.68,11.66'"
      ]
     },
     "execution_count": 5,
     "metadata": {},
     "output_type": "execute_result"
    }
   ],
   "source": [
    "# 確認\n",
    "print(type(data_str))\n",
    "print('=' * 50)\n",
    "print(data_str)\n",
    "print('=' * 50)\n",
    "data_str"
   ]
  },
  {
   "cell_type": "code",
   "execution_count": 8,
   "id": "e69288ba",
   "metadata": {},
   "outputs": [],
   "source": [
    "# 推論実行で使っていたコード\n",
    "#with open(local_test, 'r') as f:\n",
    "#    payload = f.read().strip()\n",
    "#    print(type(payload))\n",
    "#    print(payload)\n",
    "#print('=' * 20)\n",
    "#payload"
   ]
  },
  {
   "cell_type": "markdown",
   "id": "0f2cc9e8",
   "metadata": {},
   "source": [
    "いろいろなシリアライザ\n",
    "\n",
    "https://sagemaker.readthedocs.io/en/stable/api/inference/serializers.html\n"
   ]
  },
  {
   "cell_type": "markdown",
   "id": "f8a432b5",
   "metadata": {},
   "source": [
    "## 1.2 ndarray型のデータをシリアライザに適用する"
   ]
  },
  {
   "cell_type": "code",
   "execution_count": 12,
   "id": "89def121",
   "metadata": {},
   "outputs": [],
   "source": [
    "from sagemaker.serializers import CSVSerializer\n",
    "from sagemaker.serializers import NumpySerializer"
   ]
  },
  {
   "cell_type": "code",
   "execution_count": 14,
   "id": "ccc64025",
   "metadata": {},
   "outputs": [
    {
     "name": "stdout",
     "output_type": "stream",
     "text": [
      "text/csv\n",
      "application/x-npy\n"
     ]
    }
   ],
   "source": [
    "print(CSVSerializer().content_type)\n",
    "print(NumpySerializer().content_type)"
   ]
  },
  {
   "cell_type": "markdown",
   "id": "fc54fb53",
   "metadata": {},
   "source": [
    "### 1-2-1. CSVSerializerでシリアライズする"
   ]
  },
  {
   "cell_type": "code",
   "execution_count": 15,
   "id": "d46aaf86",
   "metadata": {},
   "outputs": [
    {
     "name": "stdout",
     "output_type": "stream",
     "text": [
      "<class 'str'>\n",
      "==================================================\n",
      "0.25387,0.0,6.91,0.0,0.448,5.399,95.3,5.87,3.0,233.0,17.9,396.9,30.81\n",
      "0.01951,17.5,1.38,0.0,0.4161,7.104,59.5,9.2229,3.0,216.0,18.6,393.24,8.05\n",
      "4.64689,0.0,18.1,0.0,0.614,6.98,67.6,2.5329,24.0,666.0,20.2,374.68,11.66\n",
      "==================================================\n"
     ]
    },
    {
     "data": {
      "text/plain": [
       "'0.25387,0.0,6.91,0.0,0.448,5.399,95.3,5.87,3.0,233.0,17.9,396.9,30.81\\n0.01951,17.5,1.38,0.0,0.4161,7.104,59.5,9.2229,3.0,216.0,18.6,393.24,8.05\\n4.64689,0.0,18.1,0.0,0.614,6.98,67.6,2.5329,24.0,666.0,20.2,374.68,11.66'"
      ]
     },
     "execution_count": 15,
     "metadata": {},
     "output_type": "execute_result"
    }
   ],
   "source": [
    "serialized = CSVSerializer().serialize(data_ndarr)\n",
    "\n",
    "# 確認\n",
    "print(type(serialized))\n",
    "print('=' * 50)\n",
    "print(serialized)\n",
    "print('=' * 50)\n",
    "serialized"
   ]
  },
  {
   "cell_type": "markdown",
   "id": "77e443f3",
   "metadata": {},
   "source": [
    "### 1-2-2. NumpySerializerでシリアライズする"
   ]
  },
  {
   "cell_type": "code",
   "execution_count": 18,
   "id": "c1604b4c",
   "metadata": {},
   "outputs": [
    {
     "name": "stdout",
     "output_type": "stream",
     "text": [
      "<class 'bytes'>\n",
      "==================================================\n",
      "b'\\x93NUMPY\\x01\\x00v\\x00{\\'descr\\': \\'<f8\\', \\'fortran_order\\': False, \\'shape\\': (3, 13), }                                                         \\n\\x8f\\xdf\\xdb\\xf4g?\\xd0?\\x00\\x00\\x00\\x00\\x00\\x00\\x00\\x00\\xa4p=\\n\\xd7\\xa3\\x1b@\\x00\\x00\\x00\\x00\\x00\\x00\\x00\\x00y\\xe9&1\\x08\\xac\\xdc?\\x7fj\\xbct\\x93\\x98\\x15@33333\\xd3W@{\\x14\\xaeG\\xe1z\\x17@\\x00\\x00\\x00\\x00\\x00\\x00\\x08@\\x00\\x00\\x00\\x00\\x00 m@fffff\\xe61@fffff\\xcex@\\x8f\\xc2\\xf5(\\\\\\xcf>@\\x98\\xa3\\xc7\\xefm\\xfa\\x93?\\x00\\x00\\x00\\x00\\x00\\x801@\\x14\\xaeG\\xe1z\\x14\\xf6?\\x00\\x00\\x00\\x00\\x00\\x00\\x00\\x00\\xfee\\xf7\\xe4a\\xa1\\xda?\\xd1\"\\xdb\\xf9~j\\x1c@\\x00\\x00\\x00\\x00\\x00\\xc0M@\\x8a\\x8e\\xe4\\xf2\\x1fr\"@\\x00\\x00\\x00\\x00\\x00\\x00\\x08@\\x00\\x00\\x00\\x00\\x00\\x00k@\\x9a\\x99\\x99\\x99\\x99\\x992@\\xa4p=\\n\\xd7\\x93x@\\x9a\\x99\\x99\\x99\\x99\\x19 @\\x11p\\x08Uj\\x96\\x12@\\x00\\x00\\x00\\x00\\x00\\x00\\x00\\x00\\x9a\\x99\\x99\\x99\\x99\\x192@\\x00\\x00\\x00\\x00\\x00\\x00\\x00\\x00\\xd9\\xce\\xf7S\\xe3\\xa5\\xe3?\\xecQ\\xb8\\x1e\\x85\\xeb\\x1b@fffff\\xe6P@\\xa5N@\\x13aC\\x04@\\x00\\x00\\x00\\x00\\x00\\x008@\\x00\\x00\\x00\\x00\\x00\\xd0\\x84@3333334@{\\x14\\xaeG\\xe1jw@R\\xb8\\x1e\\x85\\xebQ\\'@'\n",
      "==================================================\n"
     ]
    },
    {
     "data": {
      "text/plain": [
       "b'\\x93NUMPY\\x01\\x00v\\x00{\\'descr\\': \\'<f8\\', \\'fortran_order\\': False, \\'shape\\': (3, 13), }                                                         \\n\\x8f\\xdf\\xdb\\xf4g?\\xd0?\\x00\\x00\\x00\\x00\\x00\\x00\\x00\\x00\\xa4p=\\n\\xd7\\xa3\\x1b@\\x00\\x00\\x00\\x00\\x00\\x00\\x00\\x00y\\xe9&1\\x08\\xac\\xdc?\\x7fj\\xbct\\x93\\x98\\x15@33333\\xd3W@{\\x14\\xaeG\\xe1z\\x17@\\x00\\x00\\x00\\x00\\x00\\x00\\x08@\\x00\\x00\\x00\\x00\\x00 m@fffff\\xe61@fffff\\xcex@\\x8f\\xc2\\xf5(\\\\\\xcf>@\\x98\\xa3\\xc7\\xefm\\xfa\\x93?\\x00\\x00\\x00\\x00\\x00\\x801@\\x14\\xaeG\\xe1z\\x14\\xf6?\\x00\\x00\\x00\\x00\\x00\\x00\\x00\\x00\\xfee\\xf7\\xe4a\\xa1\\xda?\\xd1\"\\xdb\\xf9~j\\x1c@\\x00\\x00\\x00\\x00\\x00\\xc0M@\\x8a\\x8e\\xe4\\xf2\\x1fr\"@\\x00\\x00\\x00\\x00\\x00\\x00\\x08@\\x00\\x00\\x00\\x00\\x00\\x00k@\\x9a\\x99\\x99\\x99\\x99\\x992@\\xa4p=\\n\\xd7\\x93x@\\x9a\\x99\\x99\\x99\\x99\\x19 @\\x11p\\x08Uj\\x96\\x12@\\x00\\x00\\x00\\x00\\x00\\x00\\x00\\x00\\x9a\\x99\\x99\\x99\\x99\\x192@\\x00\\x00\\x00\\x00\\x00\\x00\\x00\\x00\\xd9\\xce\\xf7S\\xe3\\xa5\\xe3?\\xecQ\\xb8\\x1e\\x85\\xeb\\x1b@fffff\\xe6P@\\xa5N@\\x13aC\\x04@\\x00\\x00\\x00\\x00\\x00\\x008@\\x00\\x00\\x00\\x00\\x00\\xd0\\x84@3333334@{\\x14\\xaeG\\xe1jw@R\\xb8\\x1e\\x85\\xebQ\\'@'"
      ]
     },
     "execution_count": 18,
     "metadata": {},
     "output_type": "execute_result"
    }
   ],
   "source": [
    "serialized = NumpySerializer().serialize(data_ndarr)\n",
    "\n",
    "# 確認\n",
    "print(type(serialized))\n",
    "print('=' * 50)\n",
    "print(serialized)\n",
    "print('=' * 50)\n",
    "serialized"
   ]
  },
  {
   "cell_type": "markdown",
   "id": "8711aa0b",
   "metadata": {},
   "source": [
    "## 1.3 string型のデータをシリアライザに適用する"
   ]
  },
  {
   "cell_type": "markdown",
   "id": "7d14eee5",
   "metadata": {},
   "source": [
    "### 1-3-1. CSVSerializerでシリアライズする"
   ]
  },
  {
   "cell_type": "code",
   "execution_count": 19,
   "id": "f2af4949",
   "metadata": {},
   "outputs": [
    {
     "name": "stdout",
     "output_type": "stream",
     "text": [
      "<class 'str'>\n",
      "==================================================\n",
      "0.25387,0.0,6.91,0.0,0.448,5.399,95.3,5.87,3.0,233.0,17.9,396.9,30.81\n",
      "0.01951,17.5,1.38,0.0,0.4161,7.104,59.5,9.2229,3.0,216.0,18.6,393.24,8.05\n",
      "4.64689,0.0,18.1,0.0,0.614,6.98,67.6,2.5329,24.0,666.0,20.2,374.68,11.66\n",
      "==================================================\n"
     ]
    },
    {
     "data": {
      "text/plain": [
       "'0.25387,0.0,6.91,0.0,0.448,5.399,95.3,5.87,3.0,233.0,17.9,396.9,30.81\\n0.01951,17.5,1.38,0.0,0.4161,7.104,59.5,9.2229,3.0,216.0,18.6,393.24,8.05\\n4.64689,0.0,18.1,0.0,0.614,6.98,67.6,2.5329,24.0,666.0,20.2,374.68,11.66'"
      ]
     },
     "execution_count": 19,
     "metadata": {},
     "output_type": "execute_result"
    }
   ],
   "source": [
    "serialized = CSVSerializer().serialize(data_str)\n",
    "\n",
    "# 確認\n",
    "print(type(serialized))\n",
    "print('=' * 50)\n",
    "print(serialized)\n",
    "print('=' * 50)\n",
    "serialized"
   ]
  },
  {
   "cell_type": "markdown",
   "id": "fbf45927",
   "metadata": {},
   "source": [
    "### 1-3-2. NumpySerializerでシリアライズする"
   ]
  },
  {
   "cell_type": "code",
   "execution_count": 20,
   "id": "a48ec68b",
   "metadata": {},
   "outputs": [
    {
     "name": "stdout",
     "output_type": "stream",
     "text": [
      "<class 'bytes'>\n",
      "==================================================\n",
      "b\"\\x93NUMPY\\x01\\x00v\\x00{'descr': '<U216', 'fortran_order': False, 'shape': (), }                                                            \\n0\\x00\\x00\\x00.\\x00\\x00\\x002\\x00\\x00\\x005\\x00\\x00\\x003\\x00\\x00\\x008\\x00\\x00\\x007\\x00\\x00\\x00,\\x00\\x00\\x000\\x00\\x00\\x00.\\x00\\x00\\x000\\x00\\x00\\x00,\\x00\\x00\\x006\\x00\\x00\\x00.\\x00\\x00\\x009\\x00\\x00\\x001\\x00\\x00\\x00,\\x00\\x00\\x000\\x00\\x00\\x00.\\x00\\x00\\x000\\x00\\x00\\x00,\\x00\\x00\\x000\\x00\\x00\\x00.\\x00\\x00\\x004\\x00\\x00\\x004\\x00\\x00\\x008\\x00\\x00\\x00,\\x00\\x00\\x005\\x00\\x00\\x00.\\x00\\x00\\x003\\x00\\x00\\x009\\x00\\x00\\x009\\x00\\x00\\x00,\\x00\\x00\\x009\\x00\\x00\\x005\\x00\\x00\\x00.\\x00\\x00\\x003\\x00\\x00\\x00,\\x00\\x00\\x005\\x00\\x00\\x00.\\x00\\x00\\x008\\x00\\x00\\x007\\x00\\x00\\x00,\\x00\\x00\\x003\\x00\\x00\\x00.\\x00\\x00\\x000\\x00\\x00\\x00,\\x00\\x00\\x002\\x00\\x00\\x003\\x00\\x00\\x003\\x00\\x00\\x00.\\x00\\x00\\x000\\x00\\x00\\x00,\\x00\\x00\\x001\\x00\\x00\\x007\\x00\\x00\\x00.\\x00\\x00\\x009\\x00\\x00\\x00,\\x00\\x00\\x003\\x00\\x00\\x009\\x00\\x00\\x006\\x00\\x00\\x00.\\x00\\x00\\x009\\x00\\x00\\x00,\\x00\\x00\\x003\\x00\\x00\\x000\\x00\\x00\\x00.\\x00\\x00\\x008\\x00\\x00\\x001\\x00\\x00\\x00\\n\\x00\\x00\\x000\\x00\\x00\\x00.\\x00\\x00\\x000\\x00\\x00\\x001\\x00\\x00\\x009\\x00\\x00\\x005\\x00\\x00\\x001\\x00\\x00\\x00,\\x00\\x00\\x001\\x00\\x00\\x007\\x00\\x00\\x00.\\x00\\x00\\x005\\x00\\x00\\x00,\\x00\\x00\\x001\\x00\\x00\\x00.\\x00\\x00\\x003\\x00\\x00\\x008\\x00\\x00\\x00,\\x00\\x00\\x000\\x00\\x00\\x00.\\x00\\x00\\x000\\x00\\x00\\x00,\\x00\\x00\\x000\\x00\\x00\\x00.\\x00\\x00\\x004\\x00\\x00\\x001\\x00\\x00\\x006\\x00\\x00\\x001\\x00\\x00\\x00,\\x00\\x00\\x007\\x00\\x00\\x00.\\x00\\x00\\x001\\x00\\x00\\x000\\x00\\x00\\x004\\x00\\x00\\x00,\\x00\\x00\\x005\\x00\\x00\\x009\\x00\\x00\\x00.\\x00\\x00\\x005\\x00\\x00\\x00,\\x00\\x00\\x009\\x00\\x00\\x00.\\x00\\x00\\x002\\x00\\x00\\x002\\x00\\x00\\x002\\x00\\x00\\x009\\x00\\x00\\x00,\\x00\\x00\\x003\\x00\\x00\\x00.\\x00\\x00\\x000\\x00\\x00\\x00,\\x00\\x00\\x002\\x00\\x00\\x001\\x00\\x00\\x006\\x00\\x00\\x00.\\x00\\x00\\x000\\x00\\x00\\x00,\\x00\\x00\\x001\\x00\\x00\\x008\\x00\\x00\\x00.\\x00\\x00\\x006\\x00\\x00\\x00,\\x00\\x00\\x003\\x00\\x00\\x009\\x00\\x00\\x003\\x00\\x00\\x00.\\x00\\x00\\x002\\x00\\x00\\x004\\x00\\x00\\x00,\\x00\\x00\\x008\\x00\\x00\\x00.\\x00\\x00\\x000\\x00\\x00\\x005\\x00\\x00\\x00\\n\\x00\\x00\\x004\\x00\\x00\\x00.\\x00\\x00\\x006\\x00\\x00\\x004\\x00\\x00\\x006\\x00\\x00\\x008\\x00\\x00\\x009\\x00\\x00\\x00,\\x00\\x00\\x000\\x00\\x00\\x00.\\x00\\x00\\x000\\x00\\x00\\x00,\\x00\\x00\\x001\\x00\\x00\\x008\\x00\\x00\\x00.\\x00\\x00\\x001\\x00\\x00\\x00,\\x00\\x00\\x000\\x00\\x00\\x00.\\x00\\x00\\x000\\x00\\x00\\x00,\\x00\\x00\\x000\\x00\\x00\\x00.\\x00\\x00\\x006\\x00\\x00\\x001\\x00\\x00\\x004\\x00\\x00\\x00,\\x00\\x00\\x006\\x00\\x00\\x00.\\x00\\x00\\x009\\x00\\x00\\x008\\x00\\x00\\x00,\\x00\\x00\\x006\\x00\\x00\\x007\\x00\\x00\\x00.\\x00\\x00\\x006\\x00\\x00\\x00,\\x00\\x00\\x002\\x00\\x00\\x00.\\x00\\x00\\x005\\x00\\x00\\x003\\x00\\x00\\x002\\x00\\x00\\x009\\x00\\x00\\x00,\\x00\\x00\\x002\\x00\\x00\\x004\\x00\\x00\\x00.\\x00\\x00\\x000\\x00\\x00\\x00,\\x00\\x00\\x006\\x00\\x00\\x006\\x00\\x00\\x006\\x00\\x00\\x00.\\x00\\x00\\x000\\x00\\x00\\x00,\\x00\\x00\\x002\\x00\\x00\\x000\\x00\\x00\\x00.\\x00\\x00\\x002\\x00\\x00\\x00,\\x00\\x00\\x003\\x00\\x00\\x007\\x00\\x00\\x004\\x00\\x00\\x00.\\x00\\x00\\x006\\x00\\x00\\x008\\x00\\x00\\x00,\\x00\\x00\\x001\\x00\\x00\\x001\\x00\\x00\\x00.\\x00\\x00\\x006\\x00\\x00\\x006\\x00\\x00\\x00\"\n",
      "==================================================\n"
     ]
    },
    {
     "data": {
      "text/plain": [
       "b\"\\x93NUMPY\\x01\\x00v\\x00{'descr': '<U216', 'fortran_order': False, 'shape': (), }                                                            \\n0\\x00\\x00\\x00.\\x00\\x00\\x002\\x00\\x00\\x005\\x00\\x00\\x003\\x00\\x00\\x008\\x00\\x00\\x007\\x00\\x00\\x00,\\x00\\x00\\x000\\x00\\x00\\x00.\\x00\\x00\\x000\\x00\\x00\\x00,\\x00\\x00\\x006\\x00\\x00\\x00.\\x00\\x00\\x009\\x00\\x00\\x001\\x00\\x00\\x00,\\x00\\x00\\x000\\x00\\x00\\x00.\\x00\\x00\\x000\\x00\\x00\\x00,\\x00\\x00\\x000\\x00\\x00\\x00.\\x00\\x00\\x004\\x00\\x00\\x004\\x00\\x00\\x008\\x00\\x00\\x00,\\x00\\x00\\x005\\x00\\x00\\x00.\\x00\\x00\\x003\\x00\\x00\\x009\\x00\\x00\\x009\\x00\\x00\\x00,\\x00\\x00\\x009\\x00\\x00\\x005\\x00\\x00\\x00.\\x00\\x00\\x003\\x00\\x00\\x00,\\x00\\x00\\x005\\x00\\x00\\x00.\\x00\\x00\\x008\\x00\\x00\\x007\\x00\\x00\\x00,\\x00\\x00\\x003\\x00\\x00\\x00.\\x00\\x00\\x000\\x00\\x00\\x00,\\x00\\x00\\x002\\x00\\x00\\x003\\x00\\x00\\x003\\x00\\x00\\x00.\\x00\\x00\\x000\\x00\\x00\\x00,\\x00\\x00\\x001\\x00\\x00\\x007\\x00\\x00\\x00.\\x00\\x00\\x009\\x00\\x00\\x00,\\x00\\x00\\x003\\x00\\x00\\x009\\x00\\x00\\x006\\x00\\x00\\x00.\\x00\\x00\\x009\\x00\\x00\\x00,\\x00\\x00\\x003\\x00\\x00\\x000\\x00\\x00\\x00.\\x00\\x00\\x008\\x00\\x00\\x001\\x00\\x00\\x00\\n\\x00\\x00\\x000\\x00\\x00\\x00.\\x00\\x00\\x000\\x00\\x00\\x001\\x00\\x00\\x009\\x00\\x00\\x005\\x00\\x00\\x001\\x00\\x00\\x00,\\x00\\x00\\x001\\x00\\x00\\x007\\x00\\x00\\x00.\\x00\\x00\\x005\\x00\\x00\\x00,\\x00\\x00\\x001\\x00\\x00\\x00.\\x00\\x00\\x003\\x00\\x00\\x008\\x00\\x00\\x00,\\x00\\x00\\x000\\x00\\x00\\x00.\\x00\\x00\\x000\\x00\\x00\\x00,\\x00\\x00\\x000\\x00\\x00\\x00.\\x00\\x00\\x004\\x00\\x00\\x001\\x00\\x00\\x006\\x00\\x00\\x001\\x00\\x00\\x00,\\x00\\x00\\x007\\x00\\x00\\x00.\\x00\\x00\\x001\\x00\\x00\\x000\\x00\\x00\\x004\\x00\\x00\\x00,\\x00\\x00\\x005\\x00\\x00\\x009\\x00\\x00\\x00.\\x00\\x00\\x005\\x00\\x00\\x00,\\x00\\x00\\x009\\x00\\x00\\x00.\\x00\\x00\\x002\\x00\\x00\\x002\\x00\\x00\\x002\\x00\\x00\\x009\\x00\\x00\\x00,\\x00\\x00\\x003\\x00\\x00\\x00.\\x00\\x00\\x000\\x00\\x00\\x00,\\x00\\x00\\x002\\x00\\x00\\x001\\x00\\x00\\x006\\x00\\x00\\x00.\\x00\\x00\\x000\\x00\\x00\\x00,\\x00\\x00\\x001\\x00\\x00\\x008\\x00\\x00\\x00.\\x00\\x00\\x006\\x00\\x00\\x00,\\x00\\x00\\x003\\x00\\x00\\x009\\x00\\x00\\x003\\x00\\x00\\x00.\\x00\\x00\\x002\\x00\\x00\\x004\\x00\\x00\\x00,\\x00\\x00\\x008\\x00\\x00\\x00.\\x00\\x00\\x000\\x00\\x00\\x005\\x00\\x00\\x00\\n\\x00\\x00\\x004\\x00\\x00\\x00.\\x00\\x00\\x006\\x00\\x00\\x004\\x00\\x00\\x006\\x00\\x00\\x008\\x00\\x00\\x009\\x00\\x00\\x00,\\x00\\x00\\x000\\x00\\x00\\x00.\\x00\\x00\\x000\\x00\\x00\\x00,\\x00\\x00\\x001\\x00\\x00\\x008\\x00\\x00\\x00.\\x00\\x00\\x001\\x00\\x00\\x00,\\x00\\x00\\x000\\x00\\x00\\x00.\\x00\\x00\\x000\\x00\\x00\\x00,\\x00\\x00\\x000\\x00\\x00\\x00.\\x00\\x00\\x006\\x00\\x00\\x001\\x00\\x00\\x004\\x00\\x00\\x00,\\x00\\x00\\x006\\x00\\x00\\x00.\\x00\\x00\\x009\\x00\\x00\\x008\\x00\\x00\\x00,\\x00\\x00\\x006\\x00\\x00\\x007\\x00\\x00\\x00.\\x00\\x00\\x006\\x00\\x00\\x00,\\x00\\x00\\x002\\x00\\x00\\x00.\\x00\\x00\\x005\\x00\\x00\\x003\\x00\\x00\\x002\\x00\\x00\\x009\\x00\\x00\\x00,\\x00\\x00\\x002\\x00\\x00\\x004\\x00\\x00\\x00.\\x00\\x00\\x000\\x00\\x00\\x00,\\x00\\x00\\x006\\x00\\x00\\x006\\x00\\x00\\x006\\x00\\x00\\x00.\\x00\\x00\\x000\\x00\\x00\\x00,\\x00\\x00\\x002\\x00\\x00\\x000\\x00\\x00\\x00.\\x00\\x00\\x002\\x00\\x00\\x00,\\x00\\x00\\x003\\x00\\x00\\x007\\x00\\x00\\x004\\x00\\x00\\x00.\\x00\\x00\\x006\\x00\\x00\\x008\\x00\\x00\\x00,\\x00\\x00\\x001\\x00\\x00\\x001\\x00\\x00\\x00.\\x00\\x00\\x006\\x00\\x00\\x006\\x00\\x00\\x00\""
      ]
     },
     "execution_count": 20,
     "metadata": {},
     "output_type": "execute_result"
    }
   ],
   "source": [
    "serialized = NumpySerializer().serialize(data_str)\n",
    "\n",
    "# 確認\n",
    "print(type(serialized))\n",
    "print('=' * 50)\n",
    "print(serialized)\n",
    "print('=' * 50)\n",
    "serialized"
   ]
  },
  {
   "cell_type": "code",
   "execution_count": null,
   "id": "7879dea7",
   "metadata": {},
   "outputs": [],
   "source": []
  },
  {
   "cell_type": "code",
   "execution_count": null,
   "id": "7ffc3d3b",
   "metadata": {},
   "outputs": [],
   "source": []
  },
  {
   "cell_type": "markdown",
   "id": "b63bcd1f",
   "metadata": {},
   "source": [
    "SageMakerの動き\n",
    "* クライアント側でデータがシリアライズされる。シリアルデータを推論エンドポイントに送る。\n",
    "* ====== SageMaker 内部 ==========\n",
    "* 推論エンドポイントは、シリアル化されたデータを受け取る\n",
    "* SageMakerのコードで、デシリアライズする。\n",
    "* input_fn実行\n",
    "* predict_fn実行\n",
    "* output_fn実行\n",
    "* データをシリアライズする。\n",
    "* クライアントに送信\n",
    "* ====== SageMaker 内部 ==========\n",
    "* クライアント側で、デシリアライズする。"
   ]
  },
  {
   "cell_type": "code",
   "execution_count": null,
   "id": "de5f06d3",
   "metadata": {},
   "outputs": [],
   "source": [
    "### str型のCSVフォーマットをJSONフォーマットにシリアライズする場合\n",
    "from sagemaker.serializers import JSONSerializer\n",
    "serialized = JSONSerializer().serialize(data_str)\n",
    "\n",
    "# 確認\n",
    "print(type(serialized))\n",
    "print('=' * 50)\n",
    "print(serialized)\n",
    "print('=' * 50)\n",
    "serialized"
   ]
  },
  {
   "cell_type": "code",
   "execution_count": null,
   "id": "589a6043",
   "metadata": {},
   "outputs": [],
   "source": [
    "### str型のCSVフォーマットをシリアライズする場合\n",
    "from sagemaker.serializers import CSVSerializer\n",
    "serialized = CSVSerializer().serialize(data_str)\n",
    "\n",
    "# 確認\n",
    "print(type(serialized))\n",
    "print('=' * 50)\n",
    "print(serialized)\n",
    "print('=' * 50)\n",
    "serialized"
   ]
  },
  {
   "cell_type": "markdown",
   "id": "e9e8810e",
   "metadata": {},
   "source": [
    "# 2.デシリアライズの確認\n",
    "クライアントは、推論エンドポイントからシリアルデータを受け取りますので、それをクライアント側でデシリアライズします。\n",
    "\n",
    "デシリアライザは推論エンドポイントからの返答（シリアルデータ）をデシリアライズすることと、ACCEPTが設定されており、推論エンドポイントからどの形式でデータを受領するかを定義できます。これは、output_fn()での出力と合わせる必要があります。\n",
    "\n",
    "\n",
    "GitHubのソースコード\n",
    "\n",
    "https://github.com/aws/sagemaker-python-sdk/blob/master/src/sagemaker/deserializers.py\n",
    "\n",
    "\n",
    "inputは、推論エンドポイントから受信したシリアルデータ。形式はJSONやndarray\n",
    "\n",
    "outputは、クラスで指定した形式（JSON, ndarray, pandasなど）\n"
   ]
  },
  {
   "cell_type": "markdown",
   "id": "336009e8",
   "metadata": {},
   "source": [
    "LightGBMは推論結果をndarray型で出力するので、ndarray型をシリアライズして、クライアントに渡すことを想定する。"
   ]
  },
  {
   "cell_type": "code",
   "execution_count": null,
   "id": "636cae37",
   "metadata": {},
   "outputs": [],
   "source": [
    "from sagemaker.deserializers import PandasDeserializer\n",
    "from sagemaker.deserializers import JSONDeserializer\n",
    "from sagemaker.deserializers import NumpyDeserializer"
   ]
  },
  {
   "cell_type": "code",
   "execution_count": null,
   "id": "867d0b72",
   "metadata": {},
   "outputs": [],
   "source": [
    "print(PandasDeserializer().ACCEPT)\n",
    "print(JSONDeserializer().ACCEPT)\n",
    "print(NumpyDeserializer().ACCEPT)"
   ]
  },
  {
   "cell_type": "code",
   "execution_count": null,
   "id": "cb7f54a7",
   "metadata": {},
   "outputs": [],
   "source": [
    "import botocore\n",
    "import json\n",
    "from io import BytesIO"
   ]
  },
  {
   "cell_type": "code",
   "execution_count": null,
   "id": "029ef6f0",
   "metadata": {},
   "outputs": [],
   "source": [
    "# 返却したいオブジェクト\n",
    "body_json = {\n",
    "    \"aaa\": 3,\n",
    "    \"bbb\": [\n",
    "        {\n",
    "            \"ccc\": \"ddd\"\n",
    "        }\n",
    "    ]\n",
    "}\n",
    "\n",
    "# エンコード。(encode()はデフォルトでutf-8。)\n",
    "body_encoded = json.dumps(body_json).encode()\n",
    "\n",
    "# StreamingBodyへ整形する。\n",
    "body = botocore.response.StreamingBody(BytesIO(body_encoded),len(body_encoded))"
   ]
  },
  {
   "cell_type": "code",
   "execution_count": null,
   "id": "53de02d6",
   "metadata": {},
   "outputs": [],
   "source": [
    "PandasDeserializer().ACCEPT"
   ]
  },
  {
   "cell_type": "code",
   "execution_count": null,
   "id": "b3231dba",
   "metadata": {},
   "outputs": [],
   "source": [
    "deserialized = PandasDeserializer().deserialize(body, 'text/csv')"
   ]
  },
  {
   "cell_type": "code",
   "execution_count": null,
   "id": "460897f3",
   "metadata": {},
   "outputs": [],
   "source": [
    "print(type(deserialized))\n",
    "print('='*30)\n",
    "print(deserialized)\n",
    "print('='*30)\n",
    "deserialized"
   ]
  },
  {
   "cell_type": "code",
   "execution_count": null,
   "id": "39678e52",
   "metadata": {},
   "outputs": [],
   "source": [
    "# StreamingBodyへ整形する。\n",
    "body = botocore.response.StreamingBody(BytesIO(body_encoded),len(body_encoded))"
   ]
  },
  {
   "cell_type": "code",
   "execution_count": null,
   "id": "e72f69f8",
   "metadata": {},
   "outputs": [],
   "source": [
    "deserialized2 = PandasDeserializer().deserialize(body, 'application/json') ### JSONがdeserializerのインプット"
   ]
  },
  {
   "cell_type": "code",
   "execution_count": null,
   "id": "a034130f",
   "metadata": {},
   "outputs": [],
   "source": [
    "print(type(deserialized2))\n",
    "print('='*30)\n",
    "print(deserialized2)\n",
    "print('='*30)\n",
    "deserialized2"
   ]
  },
  {
   "cell_type": "code",
   "execution_count": null,
   "id": "5d339b7d",
   "metadata": {},
   "outputs": [],
   "source": []
  },
  {
   "cell_type": "code",
   "execution_count": null,
   "id": "b4e3c4f8",
   "metadata": {},
   "outputs": [],
   "source": []
  },
  {
   "cell_type": "code",
   "execution_count": null,
   "id": "5a9e117e",
   "metadata": {},
   "outputs": [],
   "source": [
    "from sagemaker.deserializers import NumpyDeserializer"
   ]
  },
  {
   "cell_type": "code",
   "execution_count": null,
   "id": "64c7c189",
   "metadata": {},
   "outputs": [],
   "source": [
    "body_ndarr = np.array([\n",
    "                       19.95642073217597,\n",
    "                       27.844891841022335,\n",
    "                       23.747437427003455\n",
    "                      ])"
   ]
  },
  {
   "cell_type": "code",
   "execution_count": null,
   "id": "96c434a7",
   "metadata": {},
   "outputs": [],
   "source": [
    "# エンコード。(encode()はデフォルトでutf-8。)\n",
    "#body_encoded = json.dumps(body_json).encode()\n",
    "#body_encoded2 = body_nparr.tobytes()\n",
    "body_encoded2 = body_ndarr.dumps()\n",
    "\n",
    "# StreamingBodyへ整形する。\n",
    "#body = botocore.response.StreamingBody(BytesIO(body_encoded),len(body_encoded))\n",
    "body2 = botocore.response.StreamingBody(BytesIO(body_encoded2),len(body_encoded2))\n",
    "\n",
    "#deserialized = NumpyDeserializer().deserialize(body, 'application/json') ### JSONがdeserializerのインプット\n",
    "deserialized = NumpyDeserializer().deserialize(body2, 'application/x-npy') ### JSONがdeserializerのインプット"
   ]
  },
  {
   "cell_type": "code",
   "execution_count": null,
   "id": "36c16262",
   "metadata": {},
   "outputs": [],
   "source": [
    "print(body_nparr)\n",
    "print(deserialized)\n",
    "print(type(deserialized))\n",
    "print('='*30)\n",
    "print(deserialized)\n",
    "print('='*30)\n",
    "deserialized"
   ]
  },
  {
   "cell_type": "code",
   "execution_count": null,
   "id": "aa6a6751",
   "metadata": {},
   "outputs": [],
   "source": []
  },
  {
   "cell_type": "code",
   "execution_count": null,
   "id": "040375c4",
   "metadata": {},
   "outputs": [],
   "source": []
  },
  {
   "cell_type": "code",
   "execution_count": null,
   "id": "a427c671",
   "metadata": {},
   "outputs": [],
   "source": [
    "from sagemaker.deserializers import NumpyDeserializer\n",
    "\n",
    "# 返却したいオブジェクト\n",
    "body_json = {\n",
    "    \"aaa\": 3,\n",
    "    \"bbb\": [\n",
    "        {\n",
    "            \"ccc\": \"ddd\"\n",
    "        }\n",
    "    ]\n",
    "}\n",
    "body_nparr = np.array([\n",
    "                        19.95642073217597,\n",
    "                        27.844891841022335,\n",
    "                        23.747437427003455\n",
    "                        ])\n",
    "\n",
    "# エンコード。(encode()はデフォルトでutf-8。)\n",
    "body_encoded = json.dumps(body_json).encode()\n",
    "body_encoded2 = body_nparr.tobytes()\n",
    "\n",
    "# StreamingBodyへ整形する。\n",
    "body = botocore.response.StreamingBody(BytesIO(body_encoded),len(body_encoded))\n",
    "body2 = botocore.response.StreamingBody(BytesIO(body_encoded2),len(body_encoded2))\n",
    "\n",
    "#deserialized = NumpyDeserializer().deserialize(body, 'application/json') ### JSONがdeserializerのインプット\n",
    "deserialized = NumpyDeserializer().deserialize(body2, 'application/x-npy') ### JSONがdeserializerのインプット\n",
    "\n",
    "print(type(deserialized))\n",
    "print('='*30)\n",
    "print(deserialized)\n",
    "print('='*30)\n",
    "deserialized"
   ]
  },
  {
   "cell_type": "code",
   "execution_count": null,
   "id": "4a9ac737",
   "metadata": {},
   "outputs": [],
   "source": [
    "print(type(body_encoded))\n",
    "print(body_encoded)\n",
    "\n",
    "print(type(body))\n",
    "print(body)\n",
    "\n",
    "\n",
    "print(type(body_nparr))\n",
    "print(body_nparr)\n",
    "\n",
    "print(type(body_encoded2))\n",
    "print(body_encoded2)\n",
    "\n",
    "print(type(body2))\n",
    "print(body2)"
   ]
  },
  {
   "cell_type": "code",
   "execution_count": null,
   "id": "b67106ad",
   "metadata": {},
   "outputs": [],
   "source": []
  },
  {
   "cell_type": "markdown",
   "id": "b06b8f4b",
   "metadata": {},
   "source": [
    "# 参考\n",
    "\n",
    "botocore.response\n",
    "\n",
    "https://botocore.amazonaws.com/v1/documentation/api/latest/reference/response.html\n",
    "\n",
    "raw_streamを入力する必要がある。\n",
    "\n",
    "\n",
    "バイナリ I/O\n",
    "https://docs.python.org/ja/3/library/io.html#binary-i-o\n",
    "\n",
    "\n",
    "BytesIO はインメモリーのバイナリストリームです:\n",
    "\n",
    "f = io.BytesIO(b\"some initial binary data: \\x00\\x01\")"
   ]
  },
  {
   "cell_type": "code",
   "execution_count": null,
   "id": "0d8a2850",
   "metadata": {},
   "outputs": [],
   "source": [
    "from sagemaker.deserializers import NumpyDeserializer\n",
    "\n",
    "\n",
    "# StreamingBodyへ整形する。\n",
    "body = botocore.response.StreamingBody(BytesIO(b'{\"hogehoge\":1}'),len(b'{\"hogehoge\":1}'))\n",
    "\n",
    "deserialized = NumpyDeserializer().deserialize(body, 'application/json') ### JSONがdeserializerのインプット\n",
    "#deserialized = NumpyDeserializer().deserialize(body, 'application/x-npy') ### JSONがdeserializerのインプット\n",
    "\n",
    "print(type(deserialized))\n",
    "print('='*30)\n",
    "print(deserialized)\n",
    "print('='*30)\n",
    "deserialized"
   ]
  },
  {
   "cell_type": "code",
   "execution_count": null,
   "id": "f46d650c",
   "metadata": {},
   "outputs": [],
   "source": [
    "from sagemaker.deserializers import NumpyDeserializer\n",
    "\n",
    "# StreamingBodyへ整形する。\n",
    "body = botocore.response.StreamingBody(BytesIO(b'{\"hogehoge\":1}'),len(b'{\"hogehoge\":1}'))\n",
    "\n",
    "deserialized = NumpyDeserializer().deserialize(body, 'application/x-npy') ### ndarrayがdeserializerのインプット\n",
    "\n",
    "print(type(deserialized))\n",
    "print('='*30)\n",
    "print(deserialized)\n",
    "print('='*30)\n",
    "deserialized"
   ]
  },
  {
   "cell_type": "code",
   "execution_count": null,
   "id": "2a148acf",
   "metadata": {},
   "outputs": [],
   "source": [
    "body_nparr = np.array([\n",
    "                        19.95642073217597,\n",
    "                        27.844891841022335,\n",
    "                        23.747437427003455\n",
    "                        ])"
   ]
  },
  {
   "cell_type": "code",
   "execution_count": null,
   "id": "368bc130",
   "metadata": {},
   "outputs": [],
   "source": [
    "# np.load(io.BytesIO(stream.read()), allow_pickle=self.allow_pickle)　が動かないとエラー\n",
    "\n",
    "np.load(BytesIO(b'[1,1,1]'), allow_pickle='allow_pickle') # np.load()でエラー発生"
   ]
  },
  {
   "cell_type": "code",
   "execution_count": null,
   "id": "1e4d5c55",
   "metadata": {},
   "outputs": [],
   "source": [
    "body_nparr = np.array([\n",
    "                        19.95642073217597,\n",
    "                        27.844891841022335,\n",
    "                        23.747437427003455\n",
    "                        ])"
   ]
  },
  {
   "cell_type": "code",
   "execution_count": null,
   "id": "190664c6",
   "metadata": {},
   "outputs": [],
   "source": [
    "body_nparr"
   ]
  },
  {
   "cell_type": "code",
   "execution_count": null,
   "id": "fa08d5f4",
   "metadata": {},
   "outputs": [],
   "source": [
    "np.save('hoge', body_nparr)"
   ]
  },
  {
   "cell_type": "code",
   "execution_count": null,
   "id": "b916b432",
   "metadata": {},
   "outputs": [],
   "source": [
    "body = botocore.response.StreamingBody(b'{\"hogehoge\":1}',len(b'{\"hogehoge\":1}'))"
   ]
  },
  {
   "cell_type": "code",
   "execution_count": null,
   "id": "92fca2d6",
   "metadata": {},
   "outputs": [],
   "source": [
    "body.read()"
   ]
  },
  {
   "cell_type": "code",
   "execution_count": null,
   "id": "60f7e3b1",
   "metadata": {},
   "outputs": [],
   "source": [
    "body.seek()"
   ]
  },
  {
   "cell_type": "code",
   "execution_count": null,
   "id": "04c4effc",
   "metadata": {},
   "outputs": [],
   "source": [
    "BytesIO(b'{\"hogehoge\":1}')"
   ]
  },
  {
   "cell_type": "code",
   "execution_count": null,
   "id": "f5a54e75",
   "metadata": {},
   "outputs": [],
   "source": []
  },
  {
   "cell_type": "markdown",
   "id": "50252884",
   "metadata": {},
   "source": [
    "\n",
    "nupy.load()\n",
    "\n",
    "https://numpy.org/doc/stable/reference/generated/numpy.load.html\n",
    "\n",
    "The file to read. File-like objects must support the seek() and read() methods and must always be opened in binary mode. "
   ]
  },
  {
   "cell_type": "code",
   "execution_count": null,
   "id": "6def77b7",
   "metadata": {},
   "outputs": [],
   "source": [
    "BytesIO(b'[1,1,1]').seek(50000)"
   ]
  },
  {
   "cell_type": "code",
   "execution_count": null,
   "id": "d6cd67f0",
   "metadata": {},
   "outputs": [],
   "source": [
    "BytesIO(b'[1,1,1]').read(10000)"
   ]
  },
  {
   "cell_type": "markdown",
   "id": "1599b857",
   "metadata": {},
   "source": [
    "BytesIOはseekもreadもできる。"
   ]
  },
  {
   "cell_type": "code",
   "execution_count": null,
   "id": "7f61af13",
   "metadata": {},
   "outputs": [],
   "source": [
    "np.load(BytesIO(b' a'), allow_pickle=True) # np.load()でエラー発生"
   ]
  },
  {
   "cell_type": "markdown",
   "id": "b1f93649",
   "metadata": {},
   "source": [
    "b'aaaa'のバイト列がいけてないのか？pickleであることを示す文字列がない？で、seek()で失敗している？？\n",
    "\n",
    "\n",
    "中身が想定しているものではないのかも\n",
    "https://teratail.com/questions/302899\n",
    "\n",
    "ファイルがおかしい場合にエラーとなっている事例のようだ\n"
   ]
  },
  {
   "cell_type": "code",
   "execution_count": null,
   "id": "737b335c",
   "metadata": {},
   "outputs": [],
   "source": [
    "np.load(BytesIO(body_nparr.dumps()), allow_pickle=True) # np.load()でエラー発生"
   ]
  },
  {
   "cell_type": "markdown",
   "id": "176925f7",
   "metadata": {},
   "source": [
    "# 解答\n",
    "numpyのndarrayを、ファイルではなく、pickle文字列に変換する必要がある。\n",
    "そのために、numpy.ndarray.dumps()を使う\n",
    "\n",
    "https://numpy.org/doc/stable/reference/generated/numpy.ndarray.dumps.html"
   ]
  },
  {
   "cell_type": "code",
   "execution_count": null,
   "id": "844385da",
   "metadata": {},
   "outputs": [],
   "source": [
    "np.load(BytesIO(body_nparr.dumps()), allow_pickle=True) # np.load()でエラー発生\n",
    "\n",
    "### こうすることで、doby_nparrがpickleのstringに変換され、BytesIO()によってseek()もread()もできるストリーム（file_alike)に変換される。\n",
    "### np.load()でこれを読み込むことができる。"
   ]
  },
  {
   "cell_type": "code",
   "execution_count": null,
   "id": "98044bdc",
   "metadata": {},
   "outputs": [],
   "source": []
  },
  {
   "cell_type": "code",
   "execution_count": null,
   "id": "5e5e7fed",
   "metadata": {},
   "outputs": [],
   "source": [
    "body_nparr = np.array([\n",
    "                        19.95642073217597,\n",
    "                        27.844891841022335,\n",
    "                        23.747437427003455\n",
    "                        ])"
   ]
  },
  {
   "cell_type": "code",
   "execution_count": null,
   "id": "d8cafa1e",
   "metadata": {},
   "outputs": [],
   "source": [
    "body_nparr.tobytes()"
   ]
  },
  {
   "cell_type": "code",
   "execution_count": null,
   "id": "44dc0070",
   "metadata": {},
   "outputs": [],
   "source": []
  },
  {
   "cell_type": "code",
   "execution_count": null,
   "id": "3e275c5e",
   "metadata": {},
   "outputs": [],
   "source": []
  },
  {
   "cell_type": "code",
   "execution_count": null,
   "id": "2a3800cf",
   "metadata": {},
   "outputs": [],
   "source": []
  },
  {
   "cell_type": "code",
   "execution_count": null,
   "id": "d70c9fc8",
   "metadata": {},
   "outputs": [],
   "source": []
  },
  {
   "cell_type": "code",
   "execution_count": null,
   "id": "1bb26e49",
   "metadata": {},
   "outputs": [],
   "source": []
  },
  {
   "cell_type": "code",
   "execution_count": null,
   "id": "6b4c3349",
   "metadata": {},
   "outputs": [],
   "source": []
  }
 ],
 "metadata": {
  "kernelspec": {
   "display_name": "conda_python3",
   "language": "python",
   "name": "conda_python3"
  },
  "language_info": {
   "codemirror_mode": {
    "name": "ipython",
    "version": 3
   },
   "file_extension": ".py",
   "mimetype": "text/x-python",
   "name": "python",
   "nbconvert_exporter": "python",
   "pygments_lexer": "ipython3",
   "version": "3.8.12"
  }
 },
 "nbformat": 4,
 "nbformat_minor": 5
}
