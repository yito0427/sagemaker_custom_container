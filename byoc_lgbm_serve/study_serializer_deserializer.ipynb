{
 "cells": [
  {
   "cell_type": "markdown",
   "id": "1fb8b349",
   "metadata": {},
   "source": [
    "# SageMakerのSerializerとDeserializerを理解する\n",
    "\n",
    "このノートブックでは、推論エンドポイントにNumpyArrayとCSV形式でのリクエストを想定して、\n",
    "NumpyArrayデータとCSVデータがどのようにシリアライズされるか、どのようにデシリアライズされるかを学びます。\n",
    "\n",
    "SageMakerのシリアライズ/デシリアライズの仕組みを知ることで、より推論の仕組みを深く理解します。\n",
    "\n",
    "ノートブックは1分程度で実行できます。"
   ]
  },
  {
   "cell_type": "markdown",
   "id": "337c8989",
   "metadata": {},
   "source": [
    "## SageMakerの動作\n",
    "\n",
    "詳しくは、BlackBelt動画をご覧ください：https://www.youtube.com/watch?v=sngNd79GpmE\n",
    "\n",
    "* クライアント側でデータがシリアライズされる。シリアルデータを推論エンドポイントに送る。\n",
    "* ====== SageMaker 内部 ==========\n",
    "* 推論エンドポイントは、シリアル化されたデータを受け取る\n",
    "* SageMakerのコードで、デシリアライズする。\n",
    "* input_fn実行\n",
    "* predict_fn実行\n",
    "* output_fn実行\n",
    "* データをシリアライズする。\n",
    "* クライアントに送信\n",
    "* ====== SageMaker 内部 ==========\n",
    "* クライアント側で、デシリアライズする。"
   ]
  },
  {
   "cell_type": "markdown",
   "id": "eea790df",
   "metadata": {},
   "source": [
    "# 1. Serializerの理解\n",
    "\n",
    "Serializerは、推論エンドポイントに対して、シリアライズしたデータと、CONTENT_TYPEを提供します。\n",
    "\n",
    "Serializerのコードは、GitHubで確認することができます。\n",
    "\n",
    "https://github.com/aws/sagemaker-python-sdk/blob/master/src/sagemaker/serializers.py\n",
    "\n",
    "ドキュメント：https://sagemaker.readthedocs.io/en/stable/api/inference/serializers.html\n",
    "\n",
    "\n",
    "input形式は様々\n",
    "\n",
    "output形式はSerializerで指定したクラスに依存"
   ]
  },
  {
   "cell_type": "markdown",
   "id": "a93a469e",
   "metadata": {},
   "source": [
    "## 1-1. データ準備\n",
    "\n",
    "Serializerを通すデータとして、以下のパターンを試します。\n",
    "\n",
    "* ndarray型\n",
    "* string型"
   ]
  },
  {
   "cell_type": "code",
   "execution_count": 1,
   "id": "5ace1c51",
   "metadata": {},
   "outputs": [],
   "source": [
    "import numpy as np"
   ]
  },
  {
   "cell_type": "code",
   "execution_count": 2,
   "id": "a636d585",
   "metadata": {},
   "outputs": [],
   "source": [
    "# ndarray型の推論エンドポイントへのインプットデータ\n",
    "data_ndarr = np.array([[0.25387,0.0,6.91,0.0,0.4480,5.399,95.3,5.8700,3.0,233.0,17.9,396.90,30.81],\n",
    "                       [0.01951,17.5,1.38,0.0,0.4161,7.104,59.5,9.2229,3.0,216.0,18.6,393.24,8.05],\n",
    "                       [4.64689,0.0,18.1,0.0,0.614,6.98,67.6,2.5329,24.0,666.0,20.2,374.68,11.66]])\n",
    "\n",
    "# string型の推論エンドポイントへのインプットデータ\n",
    "data_str = '0.25387,0.0,6.91,0.0,0.448,5.399,95.3,5.87,3.0,233.0,17.9,396.9,30.81\\n0.01951,17.5,1.38,0.0,0.4161,7.104,59.5,9.2229,3.0,216.0,18.6,393.24,8.05\\n4.64689,0.0,18.1,0.0,0.614,6.98,67.6,2.5329,24.0,666.0,20.2,374.68,11.66'\n"
   ]
  },
  {
   "cell_type": "code",
   "execution_count": 3,
   "id": "ac0091fa",
   "metadata": {},
   "outputs": [
    {
     "name": "stdout",
     "output_type": "stream",
     "text": [
      "<class 'numpy.ndarray'>\n",
      "==================================================\n",
      "[[2.53870e-01 0.00000e+00 6.91000e+00 0.00000e+00 4.48000e-01 5.39900e+00\n",
      "  9.53000e+01 5.87000e+00 3.00000e+00 2.33000e+02 1.79000e+01 3.96900e+02\n",
      "  3.08100e+01]\n",
      " [1.95100e-02 1.75000e+01 1.38000e+00 0.00000e+00 4.16100e-01 7.10400e+00\n",
      "  5.95000e+01 9.22290e+00 3.00000e+00 2.16000e+02 1.86000e+01 3.93240e+02\n",
      "  8.05000e+00]\n",
      " [4.64689e+00 0.00000e+00 1.81000e+01 0.00000e+00 6.14000e-01 6.98000e+00\n",
      "  6.76000e+01 2.53290e+00 2.40000e+01 6.66000e+02 2.02000e+01 3.74680e+02\n",
      "  1.16600e+01]]\n",
      "==================================================\n"
     ]
    },
    {
     "data": {
      "text/plain": [
       "array([[2.53870e-01, 0.00000e+00, 6.91000e+00, 0.00000e+00, 4.48000e-01,\n",
       "        5.39900e+00, 9.53000e+01, 5.87000e+00, 3.00000e+00, 2.33000e+02,\n",
       "        1.79000e+01, 3.96900e+02, 3.08100e+01],\n",
       "       [1.95100e-02, 1.75000e+01, 1.38000e+00, 0.00000e+00, 4.16100e-01,\n",
       "        7.10400e+00, 5.95000e+01, 9.22290e+00, 3.00000e+00, 2.16000e+02,\n",
       "        1.86000e+01, 3.93240e+02, 8.05000e+00],\n",
       "       [4.64689e+00, 0.00000e+00, 1.81000e+01, 0.00000e+00, 6.14000e-01,\n",
       "        6.98000e+00, 6.76000e+01, 2.53290e+00, 2.40000e+01, 6.66000e+02,\n",
       "        2.02000e+01, 3.74680e+02, 1.16600e+01]])"
      ]
     },
     "execution_count": 3,
     "metadata": {},
     "output_type": "execute_result"
    }
   ],
   "source": [
    "# 確認\n",
    "print(type(data_ndarr))\n",
    "print('=' * 50)\n",
    "print(data_ndarr)\n",
    "print('=' * 50)\n",
    "data_ndarr"
   ]
  },
  {
   "cell_type": "code",
   "execution_count": 4,
   "id": "59603251",
   "metadata": {},
   "outputs": [
    {
     "name": "stdout",
     "output_type": "stream",
     "text": [
      "<class 'str'>\n",
      "==================================================\n",
      "0.25387,0.0,6.91,0.0,0.448,5.399,95.3,5.87,3.0,233.0,17.9,396.9,30.81\n",
      "0.01951,17.5,1.38,0.0,0.4161,7.104,59.5,9.2229,3.0,216.0,18.6,393.24,8.05\n",
      "4.64689,0.0,18.1,0.0,0.614,6.98,67.6,2.5329,24.0,666.0,20.2,374.68,11.66\n",
      "==================================================\n"
     ]
    },
    {
     "data": {
      "text/plain": [
       "'0.25387,0.0,6.91,0.0,0.448,5.399,95.3,5.87,3.0,233.0,17.9,396.9,30.81\\n0.01951,17.5,1.38,0.0,0.4161,7.104,59.5,9.2229,3.0,216.0,18.6,393.24,8.05\\n4.64689,0.0,18.1,0.0,0.614,6.98,67.6,2.5329,24.0,666.0,20.2,374.68,11.66'"
      ]
     },
     "execution_count": 4,
     "metadata": {},
     "output_type": "execute_result"
    }
   ],
   "source": [
    "# 確認\n",
    "print(type(data_str))\n",
    "print('=' * 50)\n",
    "print(data_str)\n",
    "print('=' * 50)\n",
    "data_str"
   ]
  },
  {
   "cell_type": "code",
   "execution_count": 5,
   "id": "894ebc4e",
   "metadata": {},
   "outputs": [],
   "source": [
    "# 参考：推論実行で使っていたコード\n",
    "#with open(local_test, 'r') as f:\n",
    "#    payload = f.read().strip()\n",
    "#    print(type(payload))\n",
    "#    print(payload)\n",
    "#print('=' * 20)\n",
    "#payload"
   ]
  },
  {
   "cell_type": "markdown",
   "id": "aa87aa67",
   "metadata": {},
   "source": [
    "## 1-2. ndarray型のデータをSerializerに適用する"
   ]
  },
  {
   "cell_type": "code",
   "execution_count": 6,
   "id": "5945191b",
   "metadata": {},
   "outputs": [],
   "source": [
    "from sagemaker.serializers import CSVSerializer\n",
    "from sagemaker.serializers import NumpySerializer\n",
    "from sagemaker.serializers import JSONSerializer"
   ]
  },
  {
   "cell_type": "code",
   "execution_count": 7,
   "id": "f24a5bc2",
   "metadata": {},
   "outputs": [
    {
     "name": "stdout",
     "output_type": "stream",
     "text": [
      "text/csv\n",
      "application/x-npy\n",
      "application/json\n"
     ]
    }
   ],
   "source": [
    "# Serializerのデフォルト CONTENT_TYPE を確認\n",
    "print(CSVSerializer().content_type)\n",
    "print(NumpySerializer().content_type)\n",
    "print(JSONSerializer().content_type)"
   ]
  },
  {
   "cell_type": "markdown",
   "id": "52105058",
   "metadata": {},
   "source": [
    "### 1-2-1. CSVSerializerでシリアライズする"
   ]
  },
  {
   "cell_type": "code",
   "execution_count": 8,
   "id": "2ec53c69",
   "metadata": {},
   "outputs": [
    {
     "name": "stdout",
     "output_type": "stream",
     "text": [
      "<class 'str'>\n",
      "==================================================\n",
      "0.25387,0.0,6.91,0.0,0.448,5.399,95.3,5.87,3.0,233.0,17.9,396.9,30.81\n",
      "0.01951,17.5,1.38,0.0,0.4161,7.104,59.5,9.2229,3.0,216.0,18.6,393.24,8.05\n",
      "4.64689,0.0,18.1,0.0,0.614,6.98,67.6,2.5329,24.0,666.0,20.2,374.68,11.66\n",
      "==================================================\n"
     ]
    },
    {
     "data": {
      "text/plain": [
       "'0.25387,0.0,6.91,0.0,0.448,5.399,95.3,5.87,3.0,233.0,17.9,396.9,30.81\\n0.01951,17.5,1.38,0.0,0.4161,7.104,59.5,9.2229,3.0,216.0,18.6,393.24,8.05\\n4.64689,0.0,18.1,0.0,0.614,6.98,67.6,2.5329,24.0,666.0,20.2,374.68,11.66'"
      ]
     },
     "execution_count": 8,
     "metadata": {},
     "output_type": "execute_result"
    }
   ],
   "source": [
    "serialized = CSVSerializer().serialize(data_ndarr)\n",
    "\n",
    "# 確認\n",
    "print(type(serialized))\n",
    "print('=' * 50)\n",
    "print(serialized)\n",
    "print('=' * 50)\n",
    "serialized"
   ]
  },
  {
   "cell_type": "markdown",
   "id": "be822c36",
   "metadata": {},
   "source": [
    "### 1-2-2. NumpySerializerでシリアライズする"
   ]
  },
  {
   "cell_type": "code",
   "execution_count": 9,
   "id": "f3840dd1",
   "metadata": {},
   "outputs": [
    {
     "name": "stdout",
     "output_type": "stream",
     "text": [
      "<class 'bytes'>\n",
      "==================================================\n",
      "b'\\x93NUMPY\\x01\\x00v\\x00{\\'descr\\': \\'<f8\\', \\'fortran_order\\': False, \\'shape\\': (3, 13), }                                                         \\n\\x8f\\xdf\\xdb\\xf4g?\\xd0?\\x00\\x00\\x00\\x00\\x00\\x00\\x00\\x00\\xa4p=\\n\\xd7\\xa3\\x1b@\\x00\\x00\\x00\\x00\\x00\\x00\\x00\\x00y\\xe9&1\\x08\\xac\\xdc?\\x7fj\\xbct\\x93\\x98\\x15@33333\\xd3W@{\\x14\\xaeG\\xe1z\\x17@\\x00\\x00\\x00\\x00\\x00\\x00\\x08@\\x00\\x00\\x00\\x00\\x00 m@fffff\\xe61@fffff\\xcex@\\x8f\\xc2\\xf5(\\\\\\xcf>@\\x98\\xa3\\xc7\\xefm\\xfa\\x93?\\x00\\x00\\x00\\x00\\x00\\x801@\\x14\\xaeG\\xe1z\\x14\\xf6?\\x00\\x00\\x00\\x00\\x00\\x00\\x00\\x00\\xfee\\xf7\\xe4a\\xa1\\xda?\\xd1\"\\xdb\\xf9~j\\x1c@\\x00\\x00\\x00\\x00\\x00\\xc0M@\\x8a\\x8e\\xe4\\xf2\\x1fr\"@\\x00\\x00\\x00\\x00\\x00\\x00\\x08@\\x00\\x00\\x00\\x00\\x00\\x00k@\\x9a\\x99\\x99\\x99\\x99\\x992@\\xa4p=\\n\\xd7\\x93x@\\x9a\\x99\\x99\\x99\\x99\\x19 @\\x11p\\x08Uj\\x96\\x12@\\x00\\x00\\x00\\x00\\x00\\x00\\x00\\x00\\x9a\\x99\\x99\\x99\\x99\\x192@\\x00\\x00\\x00\\x00\\x00\\x00\\x00\\x00\\xd9\\xce\\xf7S\\xe3\\xa5\\xe3?\\xecQ\\xb8\\x1e\\x85\\xeb\\x1b@fffff\\xe6P@\\xa5N@\\x13aC\\x04@\\x00\\x00\\x00\\x00\\x00\\x008@\\x00\\x00\\x00\\x00\\x00\\xd0\\x84@3333334@{\\x14\\xaeG\\xe1jw@R\\xb8\\x1e\\x85\\xebQ\\'@'\n",
      "==================================================\n"
     ]
    },
    {
     "data": {
      "text/plain": [
       "b'\\x93NUMPY\\x01\\x00v\\x00{\\'descr\\': \\'<f8\\', \\'fortran_order\\': False, \\'shape\\': (3, 13), }                                                         \\n\\x8f\\xdf\\xdb\\xf4g?\\xd0?\\x00\\x00\\x00\\x00\\x00\\x00\\x00\\x00\\xa4p=\\n\\xd7\\xa3\\x1b@\\x00\\x00\\x00\\x00\\x00\\x00\\x00\\x00y\\xe9&1\\x08\\xac\\xdc?\\x7fj\\xbct\\x93\\x98\\x15@33333\\xd3W@{\\x14\\xaeG\\xe1z\\x17@\\x00\\x00\\x00\\x00\\x00\\x00\\x08@\\x00\\x00\\x00\\x00\\x00 m@fffff\\xe61@fffff\\xcex@\\x8f\\xc2\\xf5(\\\\\\xcf>@\\x98\\xa3\\xc7\\xefm\\xfa\\x93?\\x00\\x00\\x00\\x00\\x00\\x801@\\x14\\xaeG\\xe1z\\x14\\xf6?\\x00\\x00\\x00\\x00\\x00\\x00\\x00\\x00\\xfee\\xf7\\xe4a\\xa1\\xda?\\xd1\"\\xdb\\xf9~j\\x1c@\\x00\\x00\\x00\\x00\\x00\\xc0M@\\x8a\\x8e\\xe4\\xf2\\x1fr\"@\\x00\\x00\\x00\\x00\\x00\\x00\\x08@\\x00\\x00\\x00\\x00\\x00\\x00k@\\x9a\\x99\\x99\\x99\\x99\\x992@\\xa4p=\\n\\xd7\\x93x@\\x9a\\x99\\x99\\x99\\x99\\x19 @\\x11p\\x08Uj\\x96\\x12@\\x00\\x00\\x00\\x00\\x00\\x00\\x00\\x00\\x9a\\x99\\x99\\x99\\x99\\x192@\\x00\\x00\\x00\\x00\\x00\\x00\\x00\\x00\\xd9\\xce\\xf7S\\xe3\\xa5\\xe3?\\xecQ\\xb8\\x1e\\x85\\xeb\\x1b@fffff\\xe6P@\\xa5N@\\x13aC\\x04@\\x00\\x00\\x00\\x00\\x00\\x008@\\x00\\x00\\x00\\x00\\x00\\xd0\\x84@3333334@{\\x14\\xaeG\\xe1jw@R\\xb8\\x1e\\x85\\xebQ\\'@'"
      ]
     },
     "execution_count": 9,
     "metadata": {},
     "output_type": "execute_result"
    }
   ],
   "source": [
    "serialized = NumpySerializer().serialize(data_ndarr)\n",
    "\n",
    "# 確認\n",
    "print(type(serialized))\n",
    "print('=' * 50)\n",
    "print(serialized)\n",
    "print('=' * 50)\n",
    "serialized"
   ]
  },
  {
   "cell_type": "markdown",
   "id": "865754fb",
   "metadata": {},
   "source": [
    "## 1-2-3. JSONSerializerでシリアライズする"
   ]
  },
  {
   "cell_type": "code",
   "execution_count": 10,
   "id": "92349391",
   "metadata": {},
   "outputs": [
    {
     "name": "stdout",
     "output_type": "stream",
     "text": [
      "<class 'str'>\n",
      "==================================================\n",
      "[[0.25387, 0.0, 6.91, 0.0, 0.448, 5.399, 95.3, 5.87, 3.0, 233.0, 17.9, 396.9, 30.81], [0.01951, 17.5, 1.38, 0.0, 0.4161, 7.104, 59.5, 9.2229, 3.0, 216.0, 18.6, 393.24, 8.05], [4.64689, 0.0, 18.1, 0.0, 0.614, 6.98, 67.6, 2.5329, 24.0, 666.0, 20.2, 374.68, 11.66]]\n",
      "==================================================\n"
     ]
    },
    {
     "data": {
      "text/plain": [
       "'[[0.25387, 0.0, 6.91, 0.0, 0.448, 5.399, 95.3, 5.87, 3.0, 233.0, 17.9, 396.9, 30.81], [0.01951, 17.5, 1.38, 0.0, 0.4161, 7.104, 59.5, 9.2229, 3.0, 216.0, 18.6, 393.24, 8.05], [4.64689, 0.0, 18.1, 0.0, 0.614, 6.98, 67.6, 2.5329, 24.0, 666.0, 20.2, 374.68, 11.66]]'"
      ]
     },
     "execution_count": 10,
     "metadata": {},
     "output_type": "execute_result"
    }
   ],
   "source": [
    "serialized = JSONSerializer().serialize(data_ndarr)\n",
    "\n",
    "# 確認\n",
    "print(type(serialized))\n",
    "print('=' * 50)\n",
    "print(serialized)\n",
    "print('=' * 50)\n",
    "serialized"
   ]
  },
  {
   "cell_type": "markdown",
   "id": "51b0c481",
   "metadata": {},
   "source": [
    "## 1.3 string型のデータをシリアライザに適用する"
   ]
  },
  {
   "cell_type": "markdown",
   "id": "8962b82a",
   "metadata": {},
   "source": [
    "### 1-3-1. CSVSerializerでシリアライズする"
   ]
  },
  {
   "cell_type": "code",
   "execution_count": 11,
   "id": "e0f0d6e9",
   "metadata": {},
   "outputs": [
    {
     "name": "stdout",
     "output_type": "stream",
     "text": [
      "<class 'str'>\n",
      "==================================================\n",
      "0.25387,0.0,6.91,0.0,0.448,5.399,95.3,5.87,3.0,233.0,17.9,396.9,30.81\n",
      "0.01951,17.5,1.38,0.0,0.4161,7.104,59.5,9.2229,3.0,216.0,18.6,393.24,8.05\n",
      "4.64689,0.0,18.1,0.0,0.614,6.98,67.6,2.5329,24.0,666.0,20.2,374.68,11.66\n",
      "==================================================\n"
     ]
    },
    {
     "data": {
      "text/plain": [
       "'0.25387,0.0,6.91,0.0,0.448,5.399,95.3,5.87,3.0,233.0,17.9,396.9,30.81\\n0.01951,17.5,1.38,0.0,0.4161,7.104,59.5,9.2229,3.0,216.0,18.6,393.24,8.05\\n4.64689,0.0,18.1,0.0,0.614,6.98,67.6,2.5329,24.0,666.0,20.2,374.68,11.66'"
      ]
     },
     "execution_count": 11,
     "metadata": {},
     "output_type": "execute_result"
    }
   ],
   "source": [
    "serialized = CSVSerializer().serialize(data_str)\n",
    "\n",
    "# 確認\n",
    "print(type(serialized))\n",
    "print('=' * 50)\n",
    "print(serialized)\n",
    "print('=' * 50)\n",
    "serialized"
   ]
  },
  {
   "cell_type": "markdown",
   "id": "ee6fd06c",
   "metadata": {},
   "source": [
    "### 1-3-2. NumpySerializerでシリアライズする"
   ]
  },
  {
   "cell_type": "code",
   "execution_count": 12,
   "id": "b492a9fd",
   "metadata": {},
   "outputs": [
    {
     "name": "stdout",
     "output_type": "stream",
     "text": [
      "<class 'bytes'>\n",
      "==================================================\n",
      "b\"\\x93NUMPY\\x01\\x00v\\x00{'descr': '<U216', 'fortran_order': False, 'shape': (), }                                                            \\n0\\x00\\x00\\x00.\\x00\\x00\\x002\\x00\\x00\\x005\\x00\\x00\\x003\\x00\\x00\\x008\\x00\\x00\\x007\\x00\\x00\\x00,\\x00\\x00\\x000\\x00\\x00\\x00.\\x00\\x00\\x000\\x00\\x00\\x00,\\x00\\x00\\x006\\x00\\x00\\x00.\\x00\\x00\\x009\\x00\\x00\\x001\\x00\\x00\\x00,\\x00\\x00\\x000\\x00\\x00\\x00.\\x00\\x00\\x000\\x00\\x00\\x00,\\x00\\x00\\x000\\x00\\x00\\x00.\\x00\\x00\\x004\\x00\\x00\\x004\\x00\\x00\\x008\\x00\\x00\\x00,\\x00\\x00\\x005\\x00\\x00\\x00.\\x00\\x00\\x003\\x00\\x00\\x009\\x00\\x00\\x009\\x00\\x00\\x00,\\x00\\x00\\x009\\x00\\x00\\x005\\x00\\x00\\x00.\\x00\\x00\\x003\\x00\\x00\\x00,\\x00\\x00\\x005\\x00\\x00\\x00.\\x00\\x00\\x008\\x00\\x00\\x007\\x00\\x00\\x00,\\x00\\x00\\x003\\x00\\x00\\x00.\\x00\\x00\\x000\\x00\\x00\\x00,\\x00\\x00\\x002\\x00\\x00\\x003\\x00\\x00\\x003\\x00\\x00\\x00.\\x00\\x00\\x000\\x00\\x00\\x00,\\x00\\x00\\x001\\x00\\x00\\x007\\x00\\x00\\x00.\\x00\\x00\\x009\\x00\\x00\\x00,\\x00\\x00\\x003\\x00\\x00\\x009\\x00\\x00\\x006\\x00\\x00\\x00.\\x00\\x00\\x009\\x00\\x00\\x00,\\x00\\x00\\x003\\x00\\x00\\x000\\x00\\x00\\x00.\\x00\\x00\\x008\\x00\\x00\\x001\\x00\\x00\\x00\\n\\x00\\x00\\x000\\x00\\x00\\x00.\\x00\\x00\\x000\\x00\\x00\\x001\\x00\\x00\\x009\\x00\\x00\\x005\\x00\\x00\\x001\\x00\\x00\\x00,\\x00\\x00\\x001\\x00\\x00\\x007\\x00\\x00\\x00.\\x00\\x00\\x005\\x00\\x00\\x00,\\x00\\x00\\x001\\x00\\x00\\x00.\\x00\\x00\\x003\\x00\\x00\\x008\\x00\\x00\\x00,\\x00\\x00\\x000\\x00\\x00\\x00.\\x00\\x00\\x000\\x00\\x00\\x00,\\x00\\x00\\x000\\x00\\x00\\x00.\\x00\\x00\\x004\\x00\\x00\\x001\\x00\\x00\\x006\\x00\\x00\\x001\\x00\\x00\\x00,\\x00\\x00\\x007\\x00\\x00\\x00.\\x00\\x00\\x001\\x00\\x00\\x000\\x00\\x00\\x004\\x00\\x00\\x00,\\x00\\x00\\x005\\x00\\x00\\x009\\x00\\x00\\x00.\\x00\\x00\\x005\\x00\\x00\\x00,\\x00\\x00\\x009\\x00\\x00\\x00.\\x00\\x00\\x002\\x00\\x00\\x002\\x00\\x00\\x002\\x00\\x00\\x009\\x00\\x00\\x00,\\x00\\x00\\x003\\x00\\x00\\x00.\\x00\\x00\\x000\\x00\\x00\\x00,\\x00\\x00\\x002\\x00\\x00\\x001\\x00\\x00\\x006\\x00\\x00\\x00.\\x00\\x00\\x000\\x00\\x00\\x00,\\x00\\x00\\x001\\x00\\x00\\x008\\x00\\x00\\x00.\\x00\\x00\\x006\\x00\\x00\\x00,\\x00\\x00\\x003\\x00\\x00\\x009\\x00\\x00\\x003\\x00\\x00\\x00.\\x00\\x00\\x002\\x00\\x00\\x004\\x00\\x00\\x00,\\x00\\x00\\x008\\x00\\x00\\x00.\\x00\\x00\\x000\\x00\\x00\\x005\\x00\\x00\\x00\\n\\x00\\x00\\x004\\x00\\x00\\x00.\\x00\\x00\\x006\\x00\\x00\\x004\\x00\\x00\\x006\\x00\\x00\\x008\\x00\\x00\\x009\\x00\\x00\\x00,\\x00\\x00\\x000\\x00\\x00\\x00.\\x00\\x00\\x000\\x00\\x00\\x00,\\x00\\x00\\x001\\x00\\x00\\x008\\x00\\x00\\x00.\\x00\\x00\\x001\\x00\\x00\\x00,\\x00\\x00\\x000\\x00\\x00\\x00.\\x00\\x00\\x000\\x00\\x00\\x00,\\x00\\x00\\x000\\x00\\x00\\x00.\\x00\\x00\\x006\\x00\\x00\\x001\\x00\\x00\\x004\\x00\\x00\\x00,\\x00\\x00\\x006\\x00\\x00\\x00.\\x00\\x00\\x009\\x00\\x00\\x008\\x00\\x00\\x00,\\x00\\x00\\x006\\x00\\x00\\x007\\x00\\x00\\x00.\\x00\\x00\\x006\\x00\\x00\\x00,\\x00\\x00\\x002\\x00\\x00\\x00.\\x00\\x00\\x005\\x00\\x00\\x003\\x00\\x00\\x002\\x00\\x00\\x009\\x00\\x00\\x00,\\x00\\x00\\x002\\x00\\x00\\x004\\x00\\x00\\x00.\\x00\\x00\\x000\\x00\\x00\\x00,\\x00\\x00\\x006\\x00\\x00\\x006\\x00\\x00\\x006\\x00\\x00\\x00.\\x00\\x00\\x000\\x00\\x00\\x00,\\x00\\x00\\x002\\x00\\x00\\x000\\x00\\x00\\x00.\\x00\\x00\\x002\\x00\\x00\\x00,\\x00\\x00\\x003\\x00\\x00\\x007\\x00\\x00\\x004\\x00\\x00\\x00.\\x00\\x00\\x006\\x00\\x00\\x008\\x00\\x00\\x00,\\x00\\x00\\x001\\x00\\x00\\x001\\x00\\x00\\x00.\\x00\\x00\\x006\\x00\\x00\\x006\\x00\\x00\\x00\"\n",
      "==================================================\n"
     ]
    },
    {
     "data": {
      "text/plain": [
       "b\"\\x93NUMPY\\x01\\x00v\\x00{'descr': '<U216', 'fortran_order': False, 'shape': (), }                                                            \\n0\\x00\\x00\\x00.\\x00\\x00\\x002\\x00\\x00\\x005\\x00\\x00\\x003\\x00\\x00\\x008\\x00\\x00\\x007\\x00\\x00\\x00,\\x00\\x00\\x000\\x00\\x00\\x00.\\x00\\x00\\x000\\x00\\x00\\x00,\\x00\\x00\\x006\\x00\\x00\\x00.\\x00\\x00\\x009\\x00\\x00\\x001\\x00\\x00\\x00,\\x00\\x00\\x000\\x00\\x00\\x00.\\x00\\x00\\x000\\x00\\x00\\x00,\\x00\\x00\\x000\\x00\\x00\\x00.\\x00\\x00\\x004\\x00\\x00\\x004\\x00\\x00\\x008\\x00\\x00\\x00,\\x00\\x00\\x005\\x00\\x00\\x00.\\x00\\x00\\x003\\x00\\x00\\x009\\x00\\x00\\x009\\x00\\x00\\x00,\\x00\\x00\\x009\\x00\\x00\\x005\\x00\\x00\\x00.\\x00\\x00\\x003\\x00\\x00\\x00,\\x00\\x00\\x005\\x00\\x00\\x00.\\x00\\x00\\x008\\x00\\x00\\x007\\x00\\x00\\x00,\\x00\\x00\\x003\\x00\\x00\\x00.\\x00\\x00\\x000\\x00\\x00\\x00,\\x00\\x00\\x002\\x00\\x00\\x003\\x00\\x00\\x003\\x00\\x00\\x00.\\x00\\x00\\x000\\x00\\x00\\x00,\\x00\\x00\\x001\\x00\\x00\\x007\\x00\\x00\\x00.\\x00\\x00\\x009\\x00\\x00\\x00,\\x00\\x00\\x003\\x00\\x00\\x009\\x00\\x00\\x006\\x00\\x00\\x00.\\x00\\x00\\x009\\x00\\x00\\x00,\\x00\\x00\\x003\\x00\\x00\\x000\\x00\\x00\\x00.\\x00\\x00\\x008\\x00\\x00\\x001\\x00\\x00\\x00\\n\\x00\\x00\\x000\\x00\\x00\\x00.\\x00\\x00\\x000\\x00\\x00\\x001\\x00\\x00\\x009\\x00\\x00\\x005\\x00\\x00\\x001\\x00\\x00\\x00,\\x00\\x00\\x001\\x00\\x00\\x007\\x00\\x00\\x00.\\x00\\x00\\x005\\x00\\x00\\x00,\\x00\\x00\\x001\\x00\\x00\\x00.\\x00\\x00\\x003\\x00\\x00\\x008\\x00\\x00\\x00,\\x00\\x00\\x000\\x00\\x00\\x00.\\x00\\x00\\x000\\x00\\x00\\x00,\\x00\\x00\\x000\\x00\\x00\\x00.\\x00\\x00\\x004\\x00\\x00\\x001\\x00\\x00\\x006\\x00\\x00\\x001\\x00\\x00\\x00,\\x00\\x00\\x007\\x00\\x00\\x00.\\x00\\x00\\x001\\x00\\x00\\x000\\x00\\x00\\x004\\x00\\x00\\x00,\\x00\\x00\\x005\\x00\\x00\\x009\\x00\\x00\\x00.\\x00\\x00\\x005\\x00\\x00\\x00,\\x00\\x00\\x009\\x00\\x00\\x00.\\x00\\x00\\x002\\x00\\x00\\x002\\x00\\x00\\x002\\x00\\x00\\x009\\x00\\x00\\x00,\\x00\\x00\\x003\\x00\\x00\\x00.\\x00\\x00\\x000\\x00\\x00\\x00,\\x00\\x00\\x002\\x00\\x00\\x001\\x00\\x00\\x006\\x00\\x00\\x00.\\x00\\x00\\x000\\x00\\x00\\x00,\\x00\\x00\\x001\\x00\\x00\\x008\\x00\\x00\\x00.\\x00\\x00\\x006\\x00\\x00\\x00,\\x00\\x00\\x003\\x00\\x00\\x009\\x00\\x00\\x003\\x00\\x00\\x00.\\x00\\x00\\x002\\x00\\x00\\x004\\x00\\x00\\x00,\\x00\\x00\\x008\\x00\\x00\\x00.\\x00\\x00\\x000\\x00\\x00\\x005\\x00\\x00\\x00\\n\\x00\\x00\\x004\\x00\\x00\\x00.\\x00\\x00\\x006\\x00\\x00\\x004\\x00\\x00\\x006\\x00\\x00\\x008\\x00\\x00\\x009\\x00\\x00\\x00,\\x00\\x00\\x000\\x00\\x00\\x00.\\x00\\x00\\x000\\x00\\x00\\x00,\\x00\\x00\\x001\\x00\\x00\\x008\\x00\\x00\\x00.\\x00\\x00\\x001\\x00\\x00\\x00,\\x00\\x00\\x000\\x00\\x00\\x00.\\x00\\x00\\x000\\x00\\x00\\x00,\\x00\\x00\\x000\\x00\\x00\\x00.\\x00\\x00\\x006\\x00\\x00\\x001\\x00\\x00\\x004\\x00\\x00\\x00,\\x00\\x00\\x006\\x00\\x00\\x00.\\x00\\x00\\x009\\x00\\x00\\x008\\x00\\x00\\x00,\\x00\\x00\\x006\\x00\\x00\\x007\\x00\\x00\\x00.\\x00\\x00\\x006\\x00\\x00\\x00,\\x00\\x00\\x002\\x00\\x00\\x00.\\x00\\x00\\x005\\x00\\x00\\x003\\x00\\x00\\x002\\x00\\x00\\x009\\x00\\x00\\x00,\\x00\\x00\\x002\\x00\\x00\\x004\\x00\\x00\\x00.\\x00\\x00\\x000\\x00\\x00\\x00,\\x00\\x00\\x006\\x00\\x00\\x006\\x00\\x00\\x006\\x00\\x00\\x00.\\x00\\x00\\x000\\x00\\x00\\x00,\\x00\\x00\\x002\\x00\\x00\\x000\\x00\\x00\\x00.\\x00\\x00\\x002\\x00\\x00\\x00,\\x00\\x00\\x003\\x00\\x00\\x007\\x00\\x00\\x004\\x00\\x00\\x00.\\x00\\x00\\x006\\x00\\x00\\x008\\x00\\x00\\x00,\\x00\\x00\\x001\\x00\\x00\\x001\\x00\\x00\\x00.\\x00\\x00\\x006\\x00\\x00\\x006\\x00\\x00\\x00\""
      ]
     },
     "execution_count": 12,
     "metadata": {},
     "output_type": "execute_result"
    }
   ],
   "source": [
    "serialized = NumpySerializer().serialize(data_str)\n",
    "\n",
    "# 確認\n",
    "print(type(serialized))\n",
    "print('=' * 50)\n",
    "print(serialized)\n",
    "print('=' * 50)\n",
    "serialized"
   ]
  },
  {
   "cell_type": "markdown",
   "id": "cb1dbf6e",
   "metadata": {},
   "source": [
    "## 1-3-3. JSONSerializerでシリアライズする"
   ]
  },
  {
   "cell_type": "code",
   "execution_count": 13,
   "id": "4ea9563a",
   "metadata": {},
   "outputs": [
    {
     "name": "stdout",
     "output_type": "stream",
     "text": [
      "<class 'str'>\n",
      "==================================================\n",
      "\"0.25387,0.0,6.91,0.0,0.448,5.399,95.3,5.87,3.0,233.0,17.9,396.9,30.81\\n0.01951,17.5,1.38,0.0,0.4161,7.104,59.5,9.2229,3.0,216.0,18.6,393.24,8.05\\n4.64689,0.0,18.1,0.0,0.614,6.98,67.6,2.5329,24.0,666.0,20.2,374.68,11.66\"\n",
      "==================================================\n"
     ]
    },
    {
     "data": {
      "text/plain": [
       "'\"0.25387,0.0,6.91,0.0,0.448,5.399,95.3,5.87,3.0,233.0,17.9,396.9,30.81\\\\n0.01951,17.5,1.38,0.0,0.4161,7.104,59.5,9.2229,3.0,216.0,18.6,393.24,8.05\\\\n4.64689,0.0,18.1,0.0,0.614,6.98,67.6,2.5329,24.0,666.0,20.2,374.68,11.66\"'"
      ]
     },
     "execution_count": 13,
     "metadata": {},
     "output_type": "execute_result"
    }
   ],
   "source": [
    "serialized = JSONSerializer().serialize(data_str)\n",
    "\n",
    "# 確認\n",
    "print(type(serialized))\n",
    "print('=' * 50)\n",
    "print(serialized)\n",
    "print('=' * 50)\n",
    "serialized"
   ]
  },
  {
   "cell_type": "markdown",
   "id": "7060bb4b",
   "metadata": {},
   "source": [
    "# 2. Deserializerの理解\n",
    "Deserializerは、推論エンドポイントからの応答（シリアルデータ）をデシリアライズすることと、ACCEPTが設定されており、推論エンドポイントからどの形式でデータを受領するかを定義できます。これは、output_fn()での出力と合わせる必要があります。\n",
    "\n",
    "\n",
    "GitHubのソースコード\n",
    "\n",
    "https://github.com/aws/sagemaker-python-sdk/blob/master/src/sagemaker/deserializers.py\n",
    "\n",
    "ドキュメント：https://sagemaker.readthedocs.io/en/stable/api/inference/deserializers.html\n",
    "\n",
    "inputは、推論エンドポイントから受信したシリアルデータ。形式はJSONやndarray\n",
    "\n",
    "outputは、クラスで指定した形式（JSON, ndarray, pandasなど）\n"
   ]
  },
  {
   "cell_type": "markdown",
   "id": "781a337d",
   "metadata": {},
   "source": [
    "LightGBMは推論結果をndarray型で出力するので、ndarray型をシリアライズして、クライアントに渡すことを想定する。"
   ]
  },
  {
   "cell_type": "markdown",
   "id": "5e51bf70",
   "metadata": {},
   "source": [
    "## 2-1. データ準備\n",
    "\n",
    "Deserializerを通すデータとして、以下のパターンを試します。\n",
    "\n",
    "* ndarray型\n",
    "* json型"
   ]
  },
  {
   "cell_type": "code",
   "execution_count": 14,
   "id": "9fcaf0e6",
   "metadata": {},
   "outputs": [],
   "source": [
    "# 返却したいオブジェクト:ndarray型\n",
    "body_ndarr = np.array([\n",
    "                       19.95642073217597,\n",
    "                       27.844891841022335,\n",
    "                       23.747437427003455\n",
    "                      ])\n",
    "\n",
    "# 返却したいオブジェクト:JSON\n",
    "body_json = {\n",
    "    \"1\": 19.95642073217597,\n",
    "    \"2\": 27.844891841022335,\n",
    "    \"3\": 23.747437427003455\n",
    "}"
   ]
  },
  {
   "cell_type": "code",
   "execution_count": 15,
   "id": "77926abe",
   "metadata": {},
   "outputs": [
    {
     "data": {
      "text/plain": [
       "array([19.95642073, 27.84489184, 23.74743743])"
      ]
     },
     "execution_count": 15,
     "metadata": {},
     "output_type": "execute_result"
    }
   ],
   "source": [
    "# 確認\n",
    "body_ndarr"
   ]
  },
  {
   "cell_type": "code",
   "execution_count": 16,
   "id": "7338ea29",
   "metadata": {},
   "outputs": [
    {
     "data": {
      "text/plain": [
       "{'1': 19.95642073217597, '2': 27.844891841022335, '3': 23.747437427003455}"
      ]
     },
     "execution_count": 16,
     "metadata": {},
     "output_type": "execute_result"
    }
   ],
   "source": [
    "# 確認\n",
    "body_json"
   ]
  },
  {
   "cell_type": "markdown",
   "id": "03428442",
   "metadata": {},
   "source": [
    "## 2-2. ndarray型のデータをDeserializerに適用する\n",
    "\n",
    "ndarray型のデータは、NumpyDeserializerでDeserializeすることができます\n",
    "\n",
    "https://sagemaker.readthedocs.io/en/stable/api/inference/deserializers.html#sagemaker.deserializers.NumpyDeserializer\n",
    "\n",
    "Deserialize a stream of data in .npy or UTF-8 CSV/JSON format to a numpy array."
   ]
  },
  {
   "cell_type": "code",
   "execution_count": 17,
   "id": "ad1f3fd2",
   "metadata": {},
   "outputs": [],
   "source": [
    "from sagemaker.deserializers import PandasDeserializer\n",
    "from sagemaker.deserializers import JSONDeserializer\n",
    "from sagemaker.deserializers import NumpyDeserializer"
   ]
  },
  {
   "cell_type": "code",
   "execution_count": 18,
   "id": "08132448",
   "metadata": {},
   "outputs": [
    {
     "name": "stdout",
     "output_type": "stream",
     "text": [
      "('text/csv', 'application/json')\n",
      "('application/json',)\n",
      "('application/x-npy',)\n"
     ]
    }
   ],
   "source": [
    "# Deserializerのデフォルト ACCEPT を確認\n",
    "print(PandasDeserializer().ACCEPT)\n",
    "print(JSONDeserializer().ACCEPT)\n",
    "print(NumpyDeserializer().ACCEPT)"
   ]
  },
  {
   "cell_type": "code",
   "execution_count": 19,
   "id": "4517c4aa",
   "metadata": {},
   "outputs": [],
   "source": [
    "import botocore\n",
    "import json\n",
    "from io import BytesIO"
   ]
  },
  {
   "cell_type": "markdown",
   "id": "953b1374",
   "metadata": {},
   "source": [
    "### 2-2-1. NumpyDeserializerでDeserializeする"
   ]
  },
  {
   "cell_type": "code",
   "execution_count": 20,
   "id": "a86d8f4f",
   "metadata": {},
   "outputs": [
    {
     "name": "stdout",
     "output_type": "stream",
     "text": [
      "<class 'numpy.ndarray'>\n",
      "==============================\n",
      "[19.95642073 27.84489184 23.74743743]\n",
      "==============================\n"
     ]
    },
    {
     "data": {
      "text/plain": [
       "array([19.95642073, 27.84489184, 23.74743743])"
      ]
     },
     "execution_count": 20,
     "metadata": {},
     "output_type": "execute_result"
    }
   ],
   "source": [
    "# シリアライズデータを作成\n",
    "body_ndarr_stream = botocore.response.StreamingBody(BytesIO(body_ndarr.dumps()),len(body_ndarr.dumps()))\n",
    "\n",
    "# デシリアライズ\n",
    "deserialized = NumpyDeserializer().deserialize(body_ndarr_stream, 'application/x-npy')\n",
    "\n",
    "# 確認\n",
    "print(type(deserialized))\n",
    "print('='*30)\n",
    "print(deserialized)\n",
    "print('='*30)\n",
    "deserialized"
   ]
  },
  {
   "cell_type": "markdown",
   "id": "348c0457",
   "metadata": {},
   "source": [
    "## 2-3. JSON型のデータをDeserializerに適用する"
   ]
  },
  {
   "cell_type": "markdown",
   "id": "4eba87eb",
   "metadata": {},
   "source": [
    "### 2-3-1. PandasDeserializerでDeserializeする"
   ]
  },
  {
   "cell_type": "code",
   "execution_count": 21,
   "id": "f6e484b4",
   "metadata": {},
   "outputs": [
    {
     "name": "stdout",
     "output_type": "stream",
     "text": [
      "<class 'pandas.core.frame.DataFrame'>\n",
      "==============================\n",
      "Empty DataFrame\n",
      "Columns: [{\"1\": 19.95642073217597,  \"2\": 27.844891841022335,  \"3\": 23.747437427003455}]\n",
      "Index: []\n",
      "==============================\n"
     ]
    },
    {
     "data": {
      "text/html": [
       "<div>\n",
       "<style scoped>\n",
       "    .dataframe tbody tr th:only-of-type {\n",
       "        vertical-align: middle;\n",
       "    }\n",
       "\n",
       "    .dataframe tbody tr th {\n",
       "        vertical-align: top;\n",
       "    }\n",
       "\n",
       "    .dataframe thead th {\n",
       "        text-align: right;\n",
       "    }\n",
       "</style>\n",
       "<table border=\"1\" class=\"dataframe\">\n",
       "  <thead>\n",
       "    <tr style=\"text-align: right;\">\n",
       "      <th></th>\n",
       "      <th>{\"1\": 19.95642073217597</th>\n",
       "      <th>\"2\": 27.844891841022335</th>\n",
       "      <th>\"3\": 23.747437427003455}</th>\n",
       "    </tr>\n",
       "  </thead>\n",
       "  <tbody>\n",
       "  </tbody>\n",
       "</table>\n",
       "</div>"
      ],
      "text/plain": [
       "Empty DataFrame\n",
       "Columns: [{\"1\": 19.95642073217597,  \"2\": 27.844891841022335,  \"3\": 23.747437427003455}]\n",
       "Index: []"
      ]
     },
     "execution_count": 21,
     "metadata": {},
     "output_type": "execute_result"
    }
   ],
   "source": [
    "# エンコード。(encode()はデフォルトでutf-8。)\n",
    "body_json_encoded = json.dumps(body_json).encode()\n",
    "\n",
    "# StreamingBodyへ整形する。\n",
    "body_json_stream = botocore.response.StreamingBody(BytesIO(body_json_encoded),len(body_json_encoded))\n",
    "\n",
    "# デシリアライズ\n",
    "deserialized = PandasDeserializer().deserialize(body_json_stream, 'text/csv')\n",
    "\n",
    "# 確認\n",
    "print(type(deserialized))\n",
    "print('='*30)\n",
    "print(deserialized)\n",
    "print('='*30)\n",
    "deserialized"
   ]
  },
  {
   "cell_type": "markdown",
   "id": "e6a81afc",
   "metadata": {},
   "source": [
    "### 2-3-2. JSONDeserializerでDeserializeする"
   ]
  },
  {
   "cell_type": "code",
   "execution_count": 22,
   "id": "d9c228f7",
   "metadata": {},
   "outputs": [
    {
     "name": "stdout",
     "output_type": "stream",
     "text": [
      "<class 'dict'>\n",
      "==============================\n",
      "{'1': 19.95642073217597, '2': 27.844891841022335, '3': 23.747437427003455}\n",
      "==============================\n"
     ]
    },
    {
     "data": {
      "text/plain": [
       "{'1': 19.95642073217597, '2': 27.844891841022335, '3': 23.747437427003455}"
      ]
     },
     "execution_count": 22,
     "metadata": {},
     "output_type": "execute_result"
    }
   ],
   "source": [
    "# エンコード(encode()はデフォルトでutf-8)\n",
    "body_json_encoded = json.dumps(body_json).encode()\n",
    "\n",
    "# StreamingBodyへ整形する。\n",
    "body_json_stream = botocore.response.StreamingBody(BytesIO(body_json_encoded),len(body_json_encoded))\n",
    "\n",
    "# デシリアライズ\n",
    "deserialized = JSONDeserializer().deserialize(body_json_stream, 'text/csv')\n",
    "\n",
    "# 確認\n",
    "print(type(deserialized))\n",
    "print('='*30)\n",
    "print(deserialized)\n",
    "print('='*30)\n",
    "deserialized"
   ]
  },
  {
   "cell_type": "markdown",
   "id": "87cdcab2",
   "metadata": {},
   "source": [
    "### 2-3-3. NumpyDeserializerでDeserializeする"
   ]
  },
  {
   "cell_type": "code",
   "execution_count": 23,
   "id": "2fbefcc5",
   "metadata": {},
   "outputs": [
    {
     "name": "stdout",
     "output_type": "stream",
     "text": [
      "<class 'numpy.ndarray'>\n",
      "==============================\n",
      "['{\"1\": 19.95642073217597' ' \"2\": 27.844891841022335'\n",
      " ' \"3\": 23.747437427003455}']\n",
      "==============================\n"
     ]
    },
    {
     "data": {
      "text/plain": [
       "array(['{\"1\": 19.95642073217597', ' \"2\": 27.844891841022335',\n",
       "       ' \"3\": 23.747437427003455}'], dtype='<U25')"
      ]
     },
     "execution_count": 23,
     "metadata": {},
     "output_type": "execute_result"
    }
   ],
   "source": [
    "# エンコード(encode()はデフォルトでutf-8)\n",
    "body_json_encoded = json.dumps(body_json).encode()\n",
    "\n",
    "# StreamingBodyへ整形する。\n",
    "body_json_stream = botocore.response.StreamingBody(BytesIO(body_json_encoded),len(body_json_encoded))\n",
    "\n",
    "# デシリアライズ\n",
    "deserialized = NumpyDeserializer(dtype='str').deserialize(body_json_stream, 'text/csv')\n",
    "\n",
    "# 確認\n",
    "print(type(deserialized))\n",
    "print('='*30)\n",
    "print(deserialized)\n",
    "print('='*30)\n",
    "deserialized"
   ]
  },
  {
   "cell_type": "markdown",
   "id": "f3d4e87c",
   "metadata": {},
   "source": [
    "# END OF CONTAINTS =========="
   ]
  },
  {
   "cell_type": "markdown",
   "id": "034238a3",
   "metadata": {},
   "source": [
    "# 参考\n",
    "\n",
    "botocore.response\n",
    "\n",
    "https://botocore.amazonaws.com/v1/documentation/api/latest/reference/response.html\n",
    "\n",
    "raw_streamを入力する必要がある。\n",
    "\n",
    "\n",
    "バイナリ I/O\n",
    "https://docs.python.org/ja/3/library/io.html#binary-i-o\n",
    "\n",
    "\n",
    "BytesIO はインメモリーのバイナリストリームです:\n",
    "\n",
    "f = io.BytesIO(b\"some initial binary data: \\x00\\x01\")"
   ]
  },
  {
   "cell_type": "markdown",
   "id": "408240c1",
   "metadata": {},
   "source": [
    "BytesIOはseekもreadもできる。"
   ]
  }
 ],
 "metadata": {
  "kernelspec": {
   "display_name": "conda_python3",
   "language": "python",
   "name": "conda_python3"
  },
  "language_info": {
   "codemirror_mode": {
    "name": "ipython",
    "version": 3
   },
   "file_extension": ".py",
   "mimetype": "text/x-python",
   "name": "python",
   "nbconvert_exporter": "python",
   "pygments_lexer": "ipython3",
   "version": "3.8.12"
  }
 },
 "nbformat": 4,
 "nbformat_minor": 5
}
